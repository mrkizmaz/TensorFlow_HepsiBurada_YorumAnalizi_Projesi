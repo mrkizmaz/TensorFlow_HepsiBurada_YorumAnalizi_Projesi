{
 "cells": [
  {
   "cell_type": "code",
   "execution_count": 1,
   "metadata": {},
   "outputs": [],
   "source": [
    "import urllib\n",
    "import json\n",
    "import re\n",
    "import io\n",
    "import requests\n",
    "import urllib.request"
   ]
  },
  {
   "cell_type": "code",
   "execution_count": 2,
   "metadata": {},
   "outputs": [],
   "source": [
    "menu = ['1722', '1711', '1723', '1715']"
   ]
  },
  {
   "cell_type": "code",
   "execution_count": 3,
   "metadata": {},
   "outputs": [
    {
     "name": "stdout",
     "output_type": "stream",
     "text": [
      "İşlemler başarıyla tamamlandı...\n",
      "İşlemler başarıyla tamamlandı...\n",
      "İşlemler başarıyla tamamlandı...\n",
      "İşlemler başarıyla tamamlandı...\n"
     ]
    }
   ],
   "source": [
    "kategoriler = []\n",
    "\n",
    "for i in menu:\n",
    "    url = 'https://www.hepsiburada.com/navigation/' + i\n",
    "    headers = {'User-Agent': 'Mozilla/5.0'}\n",
    "    session_obj = requests.Session()\n",
    "    \n",
    "    try:\n",
    "        response = session_obj.get(url, headers = headers).json()\n",
    "        kategori1 = []\n",
    "        kategori2 = []\n",
    "        kategori3 = []\n",
    "        kategori4 = []\n",
    "        for item in response['items']:\n",
    "            for child in item['children']:\n",
    "                #print(child['title'])\n",
    "                if child['url']:\n",
    "                    kategori1.append(child['url'])\n",
    "                for child2 in child['children']:\n",
    "                    if child2['url']:\n",
    "                        kategori2.append(child2['url'])\n",
    "                    for child3 in child2['children']:\n",
    "                        if child3['url']:\n",
    "                            kategori3.append(child3['url'])\n",
    "                        for child4 in child3['children']:\n",
    "                            if child4['url']:\n",
    "                                kategori4.append(child4['url'].split('?')[0])\n",
    "        kategoriler.append(kategori1)\n",
    "        kategoriler.append(kategori2)\n",
    "        kategoriler.append(kategori3)\n",
    "        kategoriler.append(kategori4)\n",
    "        print('İşlemler başarıyla tamamlandı...')\n",
    "    except:\n",
    "        print(\"Bir hata olustu.\")"
   ]
  },
  {
   "cell_type": "code",
   "execution_count": 4,
   "metadata": {},
   "outputs": [],
   "source": [
    "kategoriler_liste = []\n",
    "for kategori in kategoriler:\n",
    "    for i in kategori:\n",
    "        kategoriler_liste.append(i.split('?')[0])"
   ]
  },
  {
   "cell_type": "code",
   "execution_count": 5,
   "metadata": {},
   "outputs": [],
   "source": [
    "with open('kategoriler_listesi.txt', 'w') as file:\n",
    "    for line in kategoriler_liste:\n",
    "        file.write(line + '\\n')"
   ]
  }
 ],
 "metadata": {
  "kernelspec": {
   "display_name": "Python 3 (ipykernel)",
   "language": "python",
   "name": "python3"
  },
  "language_info": {
   "codemirror_mode": {
    "name": "ipython",
    "version": 3
   },
   "file_extension": ".py",
   "mimetype": "text/x-python",
   "name": "python",
   "nbconvert_exporter": "python",
   "pygments_lexer": "ipython3",
   "version": "3.8.10"
  }
 },
 "nbformat": 4,
 "nbformat_minor": 4
}
