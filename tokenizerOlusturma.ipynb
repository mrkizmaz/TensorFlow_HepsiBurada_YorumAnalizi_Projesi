{
 "cells": [
  {
   "cell_type": "code",
   "execution_count": 2,
   "id": "c05ef9b6-b9b7-4e58-a72b-0a835ec14cf0",
   "metadata": {},
   "outputs": [],
   "source": [
    "import tensorflow as tf\n",
    "import pandas as pd"
   ]
  },
  {
   "cell_type": "code",
   "execution_count": 3,
   "id": "43ad5dcf-ae03-48a6-8d63-3a50a0e48765",
   "metadata": {},
   "outputs": [],
   "source": [
    "df = pd.read_csv('butunYorumlarSon.csv')"
   ]
  },
  {
   "cell_type": "code",
   "execution_count": 4,
   "id": "ceccc4e1-a43d-4089-8a2a-741762ac59c6",
   "metadata": {},
   "outputs": [
    {
     "name": "stdout",
     "output_type": "stream",
     "text": [
      "<class 'pandas.core.frame.DataFrame'>\n",
      "RangeIndex: 15381 entries, 0 to 15380\n",
      "Data columns (total 5 columns):\n",
      " #   Column      Non-Null Count  Dtype \n",
      "---  ------      --------------  ----- \n",
      " 0   Unnamed: 0  15381 non-null  int64 \n",
      " 1   tarih       15381 non-null  object\n",
      " 2   puan        15381 non-null  int64 \n",
      " 3   yorum       15381 non-null  object\n",
      " 4   yeni_yorum  15372 non-null  object\n",
      "dtypes: int64(2), object(3)\n",
      "memory usage: 600.9+ KB\n"
     ]
    }
   ],
   "source": [
    "df.info()"
   ]
  },
  {
   "cell_type": "code",
   "execution_count": 5,
   "id": "c9049b2d-bce2-4ccf-b162-d95f973193f3",
   "metadata": {},
   "outputs": [],
   "source": [
    "df = df.dropna()"
   ]
  },
  {
   "cell_type": "code",
   "execution_count": 6,
   "id": "d2c13cb6-4de5-4c97-9d04-1aacaa17be32",
   "metadata": {},
   "outputs": [
    {
     "name": "stdout",
     "output_type": "stream",
     "text": [
      "<class 'pandas.core.frame.DataFrame'>\n",
      "Int64Index: 15372 entries, 0 to 15380\n",
      "Data columns (total 5 columns):\n",
      " #   Column      Non-Null Count  Dtype \n",
      "---  ------      --------------  ----- \n",
      " 0   Unnamed: 0  15372 non-null  int64 \n",
      " 1   tarih       15372 non-null  object\n",
      " 2   puan        15372 non-null  int64 \n",
      " 3   yorum       15372 non-null  object\n",
      " 4   yeni_yorum  15372 non-null  object\n",
      "dtypes: int64(2), object(3)\n",
      "memory usage: 720.6+ KB\n"
     ]
    }
   ],
   "source": [
    "df.info()"
   ]
  },
  {
   "cell_type": "code",
   "execution_count": 7,
   "id": "3d6bda25-f4ab-4aa6-b71d-f4d532d3c980",
   "metadata": {},
   "outputs": [
    {
     "data": {
      "text/html": [
       "<div>\n",
       "<style scoped>\n",
       "    .dataframe tbody tr th:only-of-type {\n",
       "        vertical-align: middle;\n",
       "    }\n",
       "\n",
       "    .dataframe tbody tr th {\n",
       "        vertical-align: top;\n",
       "    }\n",
       "\n",
       "    .dataframe thead th {\n",
       "        text-align: right;\n",
       "    }\n",
       "</style>\n",
       "<table border=\"1\" class=\"dataframe\">\n",
       "  <thead>\n",
       "    <tr style=\"text-align: right;\">\n",
       "      <th></th>\n",
       "      <th>Unnamed: 0</th>\n",
       "      <th>tarih</th>\n",
       "      <th>puan</th>\n",
       "      <th>yorum</th>\n",
       "      <th>yeni_yorum</th>\n",
       "    </tr>\n",
       "  </thead>\n",
       "  <tbody>\n",
       "    <tr>\n",
       "      <th>0</th>\n",
       "      <td>0</td>\n",
       "      <td>2022-03-16</td>\n",
       "      <td>4</td>\n",
       "      <td>paketleme koyduğum fotoğraftaki gibi güzeldi, ...</td>\n",
       "      <td>paketleme koyduğum fotoğraftaki güzeldi ürün b...</td>\n",
       "    </tr>\n",
       "    <tr>\n",
       "      <th>1</th>\n",
       "      <td>1</td>\n",
       "      <td>2022-05-09</td>\n",
       "      <td>4</td>\n",
       "      <td>Ürünün paketlemesi çok iyiydi. Kartlara gelice...</td>\n",
       "      <td>ürünün paketlemesi iyiydi kartlara gelicek olu...</td>\n",
       "    </tr>\n",
       "    <tr>\n",
       "      <th>2</th>\n",
       "      <td>2</td>\n",
       "      <td>2022-05-12</td>\n",
       "      <td>5</td>\n",
       "      <td>Kaliteli kağıt. Yeni olduğu için biraz kaygan....</td>\n",
       "      <td>kaliteli kağıt yeni olduğu biraz kaygan iyi pa...</td>\n",
       "    </tr>\n",
       "    <tr>\n",
       "      <th>3</th>\n",
       "      <td>3</td>\n",
       "      <td>2022-03-08</td>\n",
       "      <td>5</td>\n",
       "      <td>standardin uzerinde bir kalitede, uzun sure oy...</td>\n",
       "      <td>standardin uzerinde bir kalitede uzun sure oyn...</td>\n",
       "    </tr>\n",
       "    <tr>\n",
       "      <th>4</th>\n",
       "      <td>4</td>\n",
       "      <td>2022-03-16</td>\n",
       "      <td>5</td>\n",
       "      <td>Çok hızlı. Süper ürün</td>\n",
       "      <td>hızlı süper ürün</td>\n",
       "    </tr>\n",
       "  </tbody>\n",
       "</table>\n",
       "</div>"
      ],
      "text/plain": [
       "   Unnamed: 0       tarih  puan  \\\n",
       "0           0  2022-03-16     4   \n",
       "1           1  2022-05-09     4   \n",
       "2           2  2022-05-12     5   \n",
       "3           3  2022-03-08     5   \n",
       "4           4  2022-03-16     5   \n",
       "\n",
       "                                               yorum  \\\n",
       "0  paketleme koyduğum fotoğraftaki gibi güzeldi, ...   \n",
       "1  Ürünün paketlemesi çok iyiydi. Kartlara gelice...   \n",
       "2  Kaliteli kağıt. Yeni olduğu için biraz kaygan....   \n",
       "3  standardin uzerinde bir kalitede, uzun sure oy...   \n",
       "4                              Çok hızlı. Süper ürün   \n",
       "\n",
       "                                          yeni_yorum  \n",
       "0  paketleme koyduğum fotoğraftaki güzeldi ürün b...  \n",
       "1  ürünün paketlemesi iyiydi kartlara gelicek olu...  \n",
       "2  kaliteli kağıt yeni olduğu biraz kaygan iyi pa...  \n",
       "3  standardin uzerinde bir kalitede uzun sure oyn...  \n",
       "4                                   hızlı süper ürün  "
      ]
     },
     "execution_count": 7,
     "metadata": {},
     "output_type": "execute_result"
    }
   ],
   "source": [
    "df.head()"
   ]
  },
  {
   "cell_type": "code",
   "execution_count": 8,
   "id": "b3857b0d-2079-4684-a306-9b1476d67e6c",
   "metadata": {},
   "outputs": [],
   "source": [
    "tokenizer = tf.keras.preprocessing.text.Tokenizer(\n",
    "    num_words=None,\n",
    "    filters='!\"#$%&()*+,-./:;<=>?@[\\\\]^_`{|}~\\t\\n',\n",
    "    lower=True,\n",
    "    split=' ',\n",
    "    char_level=False,\n",
    "    oov_token=None)"
   ]
  },
  {
   "cell_type": "code",
   "execution_count": 9,
   "id": "c8e489ee-b544-4d52-9ba1-4eed5af3f102",
   "metadata": {},
   "outputs": [],
   "source": [
    "yorumlar = df['yeni_yorum'].values.tolist()"
   ]
  },
  {
   "cell_type": "code",
   "execution_count": 10,
   "id": "83663224-12ae-485c-b655-c26ce69b358a",
   "metadata": {},
   "outputs": [
    {
     "data": {
      "text/plain": [
       "['paketleme koyduğum fotoğraftaki güzeldi ürün biraz kaygan yeni olduğu içindir sanırım an güzel duruyor fp ürünü',\n",
       " 'ürünün paketlemesi iyiydi kartlara gelicek olursak kağıt yerine plastik bir malzemeden yapılmış biraz kaygan elinize aldığınızda belli ediyor plastik olduğu',\n",
       " 'kaliteli kağıt yeni olduğu biraz kaygan iyi paketlemeyle bir gün sonra elime ulaştı teşekkürler',\n",
       " 'standardin uzerinde bir kalitede uzun sure oynanilabilecek deste arayanlara tavsiyedir fp urunu',\n",
       " 'hızlı süper ürün',\n",
       " 'kalite mükemmel piyon terfisi verilen ekstra vezirler düşünceli keçeler yanında gönderilen üstüne kale çizili tahta parçası beni mutlu etti tahta kaliteli malzeme verilen boyutlar birebir kuşkunuz varsa kalmasın',\n",
       " 'kargo kısa sürede geldiözenli paketleme yapılmıştıtaşlar büyük ağır istediğimiz gibialtlarında kaymasını önlemek keçe vartahtası büyük parlak tahta kenarlarının keskinliği biraz alınsa iyi olurdu',\n",
       " 'kargo hasarlı gelse iyi paketlenmiş olması sebebiyle hasarsız atlattık köşelere ek paketleme yapılmış sağ olsunlar satranç takimi iyi büyük boyutlarda esktra vezirlerinin olması guzel fiyat performansı iyi',\n",
       " 'yedek vezirleriyle birlikte harika br takım kargolaması iyiydi bin tl vermeye gerek yok iyi almışız güvenle alabilirsiniz',\n",
       " 'ürün güzel beyaz taşları beyaz değil krem gönderselerdi güzel olacaktı taşların ağırlığı sesi duruşu felan güzel']"
      ]
     },
     "execution_count": 10,
     "metadata": {},
     "output_type": "execute_result"
    }
   ],
   "source": [
    "yorumlar[0:10]"
   ]
  },
  {
   "cell_type": "code",
   "execution_count": 17,
   "id": "de4dcf6f-1c64-42bb-af9a-ab61bf720107",
   "metadata": {},
   "outputs": [],
   "source": [
    "tokenizer.fit_on_texts(yorumlar)"
   ]
  },
  {
   "cell_type": "code",
   "execution_count": 18,
   "id": "d4e814be-c95d-4f9f-8b61-070dcc796537",
   "metadata": {},
   "outputs": [],
   "source": [
    "import pickle\n",
    "with open('tokenizer.pickle', 'wb') as handle:\n",
    "    pickle.dump(tokenizer, handle, protocol = pickle.HIGHEST_PROTOCOL)"
   ]
  },
  {
   "cell_type": "code",
   "execution_count": null,
   "id": "abac6564-da67-4bd3-b326-e9d08a766ac6",
   "metadata": {},
   "outputs": [],
   "source": []
  },
  {
   "cell_type": "code",
   "execution_count": 12,
   "id": "ef89ccc4-5594-499c-8a39-b9dc132974d5",
   "metadata": {},
   "outputs": [],
   "source": [
    "from itertools import islice\n",
    "\n",
    "def take(n, iterable):\n",
    "    return islice(iterable, n)"
   ]
  },
  {
   "cell_type": "code",
   "execution_count": 13,
   "id": "72d1a8ed-2adb-4f6a-b067-12ca1c3db677",
   "metadata": {},
   "outputs": [
    {
     "data": {
      "text/plain": [
       "dict_items"
      ]
     },
     "execution_count": 13,
     "metadata": {},
     "output_type": "execute_result"
    }
   ],
   "source": [
    "type(tokenizer.word_index.items())"
   ]
  },
  {
   "cell_type": "code",
   "execution_count": 14,
   "id": "314d866a-2940-4d51-9762-245267724a81",
   "metadata": {},
   "outputs": [],
   "source": [
    "n_items = take(10000, tokenizer.word_index.items())"
   ]
  },
  {
   "cell_type": "code",
   "execution_count": 15,
   "id": "8eb3a0c1-a645-465d-b59d-f2574afa5099",
   "metadata": {},
   "outputs": [
    {
     "data": {
      "text/plain": [
       "<itertools.islice at 0x7f99ec0f9310>"
      ]
     },
     "execution_count": 15,
     "metadata": {},
     "output_type": "execute_result"
    }
   ],
   "source": [
    "n_items"
   ]
  },
  {
   "cell_type": "code",
   "execution_count": 19,
   "id": "d784b3e0-c350-451d-8f77-1c098c9b7237",
   "metadata": {},
   "outputs": [],
   "source": [
    "# print(str(dict(n_items)))"
   ]
  },
  {
   "cell_type": "code",
   "execution_count": null,
   "id": "56c2b521-9a65-492b-b881-346c02bad529",
   "metadata": {},
   "outputs": [],
   "source": []
  }
 ],
 "metadata": {
  "kernelspec": {
   "display_name": "Python 3 (ipykernel)",
   "language": "python",
   "name": "python3"
  },
  "language_info": {
   "codemirror_mode": {
    "name": "ipython",
    "version": 3
   },
   "file_extension": ".py",
   "mimetype": "text/x-python",
   "name": "python",
   "nbconvert_exporter": "python",
   "pygments_lexer": "ipython3",
   "version": "3.8.10"
  }
 },
 "nbformat": 4,
 "nbformat_minor": 5
}
