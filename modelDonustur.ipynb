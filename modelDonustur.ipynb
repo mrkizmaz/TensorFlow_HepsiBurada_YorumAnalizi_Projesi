{
 "cells": [
  {
   "cell_type": "code",
   "execution_count": 15,
   "id": "558b460b-6247-4bbc-b547-855d8e1662b6",
   "metadata": {},
   "outputs": [],
   "source": [
    "import numpy as np\n",
    "import pandas as pd\n",
    "import json\n",
    "\n",
    "import tensorflowjs as tfjs\n",
    "# from tensorflow.python.keras.models import load_model\n",
    "from keras.models import load_model"
   ]
  },
  {
   "cell_type": "code",
   "execution_count": 3,
   "id": "ec00a537-278d-4ea9-8e8f-818029616d9c",
   "metadata": {},
   "outputs": [],
   "source": [
    "yeni_model = load_model('15may22.h5')"
   ]
  },
  {
   "cell_type": "code",
   "execution_count": 4,
   "id": "7bb4520a-4baf-4727-92df-2e8c59511146",
   "metadata": {},
   "outputs": [],
   "source": [
    "with open('tokenizer.json') as json_dosyasi:\n",
    "    json_tokenizer = json.load(json_dosyasi)"
   ]
  },
  {
   "cell_type": "code",
   "execution_count": 5,
   "id": "4cb9aabe-14bc-4a1d-868a-cd8332087d72",
   "metadata": {},
   "outputs": [
    {
     "data": {
      "text/plain": [
       "183"
      ]
     },
     "execution_count": 5,
     "metadata": {},
     "output_type": "execute_result"
    }
   ],
   "source": [
    "json_tokenizer['süper']"
   ]
  },
  {
   "cell_type": "code",
   "execution_count": 6,
   "id": "86baa609-5fae-4070-9cd8-ba04286fa70d",
   "metadata": {},
   "outputs": [],
   "source": [
    "def tokenlestir(yorumListesi):\n",
    "    y_yorumlar = []\n",
    "    for yorum in yorumListesi:\n",
    "        y_yorum = []\n",
    "        for kelime in yorum.split():\n",
    "            if (len(y_yorum) < 50 and kelime in json_tokenizer):\n",
    "                y_yorum.append(json_tokenizer[kelime])\n",
    "                \n",
    "        if (len(y_yorum) < 50):\n",
    "            sifirlar = list(np.zeros(50 - len(y_yorum), dtype = int))\n",
    "            y_yorum = sifirlar + y_yorum\n",
    "            \n",
    "        y_yorumlar.append(y_yorum)\n",
    "    return np.array(y_yorumlar, dtype = np.dtype(np.int32))"
   ]
  },
  {
   "cell_type": "code",
   "execution_count": 7,
   "id": "3e4ae509-12f1-46c3-b8b7-504e487f9bc8",
   "metadata": {},
   "outputs": [],
   "source": [
    "text1 = \"bu ürün çok iyi herkese tavsiye ederim\"\n",
    "text2 = \"kargo çok hızlı aynı gün elime geçti\"\n",
    "text3 = \"büyük bir hayal kırıklığı yaşadım bu ürün bu markaya yakışmamış\"\n",
    "text4 = \"gitar kursuna yeni başladım. ne almalıyım diye bakınırken Hepsiburada da bu ürünü gördüm. fiyatı ve hediyeleri ile birlikte çok iyi fiyat. siyah olmasıda benim için ayrı güzel.\"\n",
    "text5 = \"tasarımı harika ancak kargo çok geç geldi ve ürün açılmıştı tavsiye etmem\"\n",
    "text6 = \"hiç resimde gösterildiği gibi değil\"\n",
    "text7 = \"kötü yorumlar gözümü korkutmuştu ancak hiçbir sorun yaşamadım teşekkürler\"\n",
    "text8 = \"hiç bu kadar kötü bir satıcıya denk gelmemiştim ürünü geri iade ediyorum\"\n",
    "text9 = \"tam bir fiyat performans ürünü\"\n",
    "text10 = \"beklediğim gibi çıkmadı\"\n",
    "yazilar = [text1, text2, text3, text4, text5, text6, text7, text8, text9, text10]"
   ]
  },
  {
   "cell_type": "code",
   "execution_count": 8,
   "id": "0c63bacb-66bd-4136-af48-7ed5346e889f",
   "metadata": {},
   "outputs": [],
   "source": [
    "deneme_kume = tokenlestir(yazilar)"
   ]
  },
  {
   "cell_type": "code",
   "execution_count": 9,
   "id": "97f65b16-f10f-49d0-987d-356886b03bf1",
   "metadata": {},
   "outputs": [],
   "source": [
    "yeni_sonuc = yeni_model.predict(deneme_kume)"
   ]
  },
  {
   "cell_type": "code",
   "execution_count": 10,
   "id": "be855322-5be4-4f59-83b3-78204353bdc6",
   "metadata": {},
   "outputs": [
    {
     "data": {
      "text/plain": [
       "array([[0.9938488 ],\n",
       "       [0.99385595],\n",
       "       [0.02145937],\n",
       "       [0.99389243],\n",
       "       [0.9908788 ],\n",
       "       [0.21928486],\n",
       "       [0.9215251 ],\n",
       "       [0.38137335],\n",
       "       [0.9938058 ],\n",
       "       [0.39489505]], dtype=float32)"
      ]
     },
     "execution_count": 10,
     "metadata": {},
     "output_type": "execute_result"
    }
   ],
   "source": [
    "yeni_sonuc"
   ]
  },
  {
   "cell_type": "code",
   "execution_count": 11,
   "id": "faf671ac-2fb1-468c-9a66-29a936aceed9",
   "metadata": {},
   "outputs": [
    {
     "data": {
      "text/plain": [
       "' array([[0.9938488 ],\\n       [0.99385595],\\n       [0.02145937],\\n       [0.99389243],\\n       [0.9908788 ],\\n       [0.21928486],\\n       [0.9215251 ],\\n       [0.38137335],\\n       [0.9938058 ],\\n       [0.39489505]], dtype=float32) '"
      ]
     },
     "execution_count": 11,
     "metadata": {},
     "output_type": "execute_result"
    }
   ],
   "source": [
    "\"\"\" array([[0.9938488 ],\n",
    "       [0.99385595],\n",
    "       [0.02145937],\n",
    "       [0.99389243],\n",
    "       [0.9908788 ],\n",
    "       [0.21928486],\n",
    "       [0.9215251 ],\n",
    "       [0.38137335],\n",
    "       [0.9938058 ],\n",
    "       [0.39489505]], dtype=float32) \"\"\""
   ]
  },
  {
   "cell_type": "markdown",
   "id": "992d3511-5915-4865-8066-da7c64d3335b",
   "metadata": {},
   "source": [
    "* sonuclar aynı!"
   ]
  },
  {
   "cell_type": "code",
   "execution_count": 16,
   "id": "09b12c80-8f90-48f6-bc09-3f4a8da7c814",
   "metadata": {},
   "outputs": [],
   "source": [
    "# yeni modeli kaydetme\n",
    "tfjs.converters.save_keras_model(yeni_model, './json_model/')"
   ]
  },
  {
   "cell_type": "code",
   "execution_count": null,
   "id": "737fbb8c-66e3-401d-8448-a86b7334b18f",
   "metadata": {},
   "outputs": [],
   "source": []
  }
 ],
 "metadata": {
  "kernelspec": {
   "display_name": "Python 3 (ipykernel)",
   "language": "python",
   "name": "python3"
  },
  "language_info": {
   "codemirror_mode": {
    "name": "ipython",
    "version": 3
   },
   "file_extension": ".py",
   "mimetype": "text/x-python",
   "name": "python",
   "nbconvert_exporter": "python",
   "pygments_lexer": "ipython3",
   "version": "3.8.10"
  }
 },
 "nbformat": 4,
 "nbformat_minor": 5
}
