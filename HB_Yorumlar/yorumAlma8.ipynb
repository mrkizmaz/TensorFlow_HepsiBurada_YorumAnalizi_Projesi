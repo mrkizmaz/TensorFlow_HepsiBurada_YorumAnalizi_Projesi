{
 "cells": [
  {
   "cell_type": "code",
   "execution_count": 1,
   "id": "d40e53e9-eb1d-4106-9fc6-60bc456e6066",
   "metadata": {},
   "outputs": [
    {
     "name": "stdout",
     "output_type": "stream",
     "text": [
      "İşlemler yapılandırılıyor. Lütfen bekleyiniz...\n",
      "Tüm işlemler başarılı bir şekilde tamamlandı.\n"
     ]
    }
   ],
   "source": [
    "# 3500-4000 arası ürünün yorumlarını alma islemi\n",
    "\n",
    "import re \n",
    "import requests\n",
    "import json\n",
    "import pandas as pd\n",
    "import numpy as np\n",
    "import time\n",
    "\n",
    "urunler = []\n",
    "with open(\"urunler.txt\", mode='r', encoding='utf-8') as file:\n",
    "    for line in file.readlines():\n",
    "        line = line.split('\\n')[0]\n",
    "        urunler.append(line)\n",
    "\n",
    "url = 'https://www.hepsiburada.com'\n",
    "headers = {'User-Agent': 'Mozilla/5.0'}\n",
    "\n",
    "text = '<span class=\"hermes-ReviewCard-module-3fj8Y\" itemProp=\"datePublished\" content=\"(.*?)\">(.*?)<span itemProp=\"description\">(.*?)</span>(.*?)<span itemProp=\"ratingValue\" content=\"(.*?)\">'\n",
    "\n",
    "tarihler = []\n",
    "yorumlar = []\n",
    "puanlar = []\n",
    "sayfaSayisi = 1 \n",
    "\n",
    "try:\n",
    "    print(\"İşlemler yapılandırılıyor. Lütfen bekleyiniz...\")\n",
    "    \n",
    "    for urun in urunler[3500:4000]:\n",
    "        yeniUrl = url + urun + '-yorumlari'\n",
    "    \n",
    "        for sayfa in range(sayfaSayisi):\n",
    "\n",
    "            yeniUrl2 = yeniUrl + '?sayfa=' + str(sayfa + 1)\n",
    "            session = requests.Session()\n",
    "            response = session.get(yeniUrl2, headers = headers).text\n",
    "\n",
    "            genelArama = re.findall(text, response, re.MULTILINE | re.DOTALL)\n",
    "\n",
    "            if len(genelArama) > 0:\n",
    "                \n",
    "                for i in genelArama:\n",
    "                    tarihler.append(i[0])\n",
    "                    yorumlar.append(i[2])\n",
    "                    puanlar.append(i[4])\n",
    "                \n",
    "    time.sleep(3)\n",
    "    print('Tüm işlemler başarılı bir şekilde tamamlandı.')\n",
    "except:\n",
    "    print(\"Bir hata oluştu. Hatayı kontrol ediniz!\")"
   ]
  },
  {
   "cell_type": "code",
   "execution_count": 2,
   "id": "13f6f2bf-8c42-479d-80b0-298ab8e62975",
   "metadata": {},
   "outputs": [
    {
     "data": {
      "text/plain": [
       "(4365, 4365, 4365)"
      ]
     },
     "execution_count": 2,
     "metadata": {},
     "output_type": "execute_result"
    }
   ],
   "source": [
    "len(tarihler), len(puanlar), len(yorumlar)"
   ]
  },
  {
   "cell_type": "code",
   "execution_count": 3,
   "id": "85c839a7-efdd-4c2c-aaf1-b7a8863f4e3b",
   "metadata": {},
   "outputs": [
    {
     "data": {
      "text/plain": [
       "['Sorunsuz ulaştı teşekkürler',\n",
       " 'Beklediğim gibi güzel',\n",
       " 'Uygun fiyat ve hızlı kargolama işimizi kolaylaştırdı. Bol kazançlar dilerim.',\n",
       " 'fiyatına göre gayet iyi. pahalı modellerden almaya gerek yok.',\n",
       " 'Çok iyi']"
      ]
     },
     "execution_count": 3,
     "metadata": {},
     "output_type": "execute_result"
    }
   ],
   "source": [
    "yorumlar[0:5]"
   ]
  },
  {
   "cell_type": "code",
   "execution_count": 4,
   "id": "23dcbed9-eb49-4a61-a0b5-edff720a0c60",
   "metadata": {},
   "outputs": [
    {
     "data": {
      "text/plain": [
       "['2022-04-09', '2022-02-19', '2021-08-16', '2021-10-19', '2022-03-23']"
      ]
     },
     "execution_count": 4,
     "metadata": {},
     "output_type": "execute_result"
    }
   ],
   "source": [
    "tarihler[0:5]"
   ]
  },
  {
   "cell_type": "code",
   "execution_count": 5,
   "id": "c43db05a-66ad-4eb1-b267-70251714639b",
   "metadata": {},
   "outputs": [
    {
     "data": {
      "text/plain": [
       "['5', '5', '5', '5', '5']"
      ]
     },
     "execution_count": 5,
     "metadata": {},
     "output_type": "execute_result"
    }
   ],
   "source": [
    "puanlar[0:5]"
   ]
  },
  {
   "cell_type": "code",
   "execution_count": 6,
   "id": "e811f193-9040-4f8b-af25-054c07a57a8f",
   "metadata": {},
   "outputs": [],
   "source": [
    "df = pd.DataFrame({'tarih':tarihler, 'puan':puanlar, 'yorum':yorumlar})"
   ]
  },
  {
   "cell_type": "code",
   "execution_count": 7,
   "id": "5f705336-0aa4-468c-8ba4-bccb0182ed57",
   "metadata": {},
   "outputs": [
    {
     "data": {
      "text/html": [
       "<div>\n",
       "<style scoped>\n",
       "    .dataframe tbody tr th:only-of-type {\n",
       "        vertical-align: middle;\n",
       "    }\n",
       "\n",
       "    .dataframe tbody tr th {\n",
       "        vertical-align: top;\n",
       "    }\n",
       "\n",
       "    .dataframe thead th {\n",
       "        text-align: right;\n",
       "    }\n",
       "</style>\n",
       "<table border=\"1\" class=\"dataframe\">\n",
       "  <thead>\n",
       "    <tr style=\"text-align: right;\">\n",
       "      <th></th>\n",
       "      <th>tarih</th>\n",
       "      <th>puan</th>\n",
       "      <th>yorum</th>\n",
       "    </tr>\n",
       "  </thead>\n",
       "  <tbody>\n",
       "    <tr>\n",
       "      <th>0</th>\n",
       "      <td>2022-04-09</td>\n",
       "      <td>5</td>\n",
       "      <td>Sorunsuz ulaştı teşekkürler</td>\n",
       "    </tr>\n",
       "    <tr>\n",
       "      <th>1</th>\n",
       "      <td>2022-02-19</td>\n",
       "      <td>5</td>\n",
       "      <td>Beklediğim gibi güzel</td>\n",
       "    </tr>\n",
       "    <tr>\n",
       "      <th>2</th>\n",
       "      <td>2021-08-16</td>\n",
       "      <td>5</td>\n",
       "      <td>Uygun fiyat ve hızlı kargolama işimizi kolayla...</td>\n",
       "    </tr>\n",
       "    <tr>\n",
       "      <th>3</th>\n",
       "      <td>2021-10-19</td>\n",
       "      <td>5</td>\n",
       "      <td>fiyatına göre gayet iyi. pahalı modellerden al...</td>\n",
       "    </tr>\n",
       "    <tr>\n",
       "      <th>4</th>\n",
       "      <td>2022-03-23</td>\n",
       "      <td>5</td>\n",
       "      <td>Çok iyi</td>\n",
       "    </tr>\n",
       "  </tbody>\n",
       "</table>\n",
       "</div>"
      ],
      "text/plain": [
       "        tarih puan                                              yorum\n",
       "0  2022-04-09    5                        Sorunsuz ulaştı teşekkürler\n",
       "1  2022-02-19    5                              Beklediğim gibi güzel\n",
       "2  2021-08-16    5  Uygun fiyat ve hızlı kargolama işimizi kolayla...\n",
       "3  2021-10-19    5  fiyatına göre gayet iyi. pahalı modellerden al...\n",
       "4  2022-03-23    5                                            Çok iyi"
      ]
     },
     "execution_count": 7,
     "metadata": {},
     "output_type": "execute_result"
    }
   ],
   "source": [
    "df.head()"
   ]
  },
  {
   "cell_type": "code",
   "execution_count": 8,
   "id": "105b8f8f-ac3e-4b40-bc40-ad08f77ed055",
   "metadata": {},
   "outputs": [
    {
     "name": "stdout",
     "output_type": "stream",
     "text": [
      "<class 'pandas.core.frame.DataFrame'>\n",
      "RangeIndex: 4365 entries, 0 to 4364\n",
      "Data columns (total 3 columns):\n",
      " #   Column  Non-Null Count  Dtype \n",
      "---  ------  --------------  ----- \n",
      " 0   tarih   4365 non-null   object\n",
      " 1   puan    4365 non-null   object\n",
      " 2   yorum   4365 non-null   object\n",
      "dtypes: object(3)\n",
      "memory usage: 102.4+ KB\n"
     ]
    }
   ],
   "source": [
    "df.info()"
   ]
  },
  {
   "cell_type": "code",
   "execution_count": 9,
   "id": "495505c9-5be7-4c00-b1e6-79f959cef5b7",
   "metadata": {},
   "outputs": [
    {
     "data": {
      "text/plain": [
       "5    3579\n",
       "4     554\n",
       "3     138\n",
       "1      73\n",
       "2      21\n",
       "Name: puan, dtype: int64"
      ]
     },
     "execution_count": 9,
     "metadata": {},
     "output_type": "execute_result"
    }
   ],
   "source": [
    "df.puan.value_counts()"
   ]
  },
  {
   "cell_type": "code",
   "execution_count": null,
   "id": "29d952dc-1d4a-4710-9cfb-8add6705cf6c",
   "metadata": {},
   "outputs": [],
   "source": []
  },
  {
   "cell_type": "code",
   "execution_count": 10,
   "id": "9adfb262-e75f-47aa-9eca-2f0a1e32eb61",
   "metadata": {},
   "outputs": [],
   "source": [
    "from pathlib import Path  \n",
    "filepath = Path('hb_yorumlar8.csv')  \n",
    "df.to_csv(filepath, index = False, sep = ',')"
   ]
  },
  {
   "cell_type": "code",
   "execution_count": null,
   "id": "5f18ea12-7442-4f28-b5fd-ecc5109aac37",
   "metadata": {},
   "outputs": [],
   "source": []
  }
 ],
 "metadata": {
  "kernelspec": {
   "display_name": "Python 3 (ipykernel)",
   "language": "python",
   "name": "python3"
  },
  "language_info": {
   "codemirror_mode": {
    "name": "ipython",
    "version": 3
   },
   "file_extension": ".py",
   "mimetype": "text/x-python",
   "name": "python",
   "nbconvert_exporter": "python",
   "pygments_lexer": "ipython3",
   "version": "3.8.10"
  }
 },
 "nbformat": 4,
 "nbformat_minor": 5
}
