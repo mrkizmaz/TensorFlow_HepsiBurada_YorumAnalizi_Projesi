{
 "cells": [
  {
   "cell_type": "code",
   "execution_count": 1,
   "id": "223c6170-2fc8-4b15-93bd-8aeb54c716a9",
   "metadata": {},
   "outputs": [],
   "source": [
    "# 500-1000 arası ürünün yorumlarını alma islemi"
   ]
  },
  {
   "cell_type": "code",
   "execution_count": 2,
   "id": "5847795f-5483-4947-b36b-06b6d9f05496",
   "metadata": {},
   "outputs": [],
   "source": [
    "import re \n",
    "import requests\n",
    "import json\n",
    "import pandas as pd\n",
    "import numpy as np\n",
    "import time"
   ]
  },
  {
   "cell_type": "code",
   "execution_count": 3,
   "id": "f25f0519-fd44-49ef-94a1-623cd10a1a2c",
   "metadata": {},
   "outputs": [],
   "source": [
    "urunler = []\n",
    "with open(\"urunler.txt\", mode='r', encoding='utf-8') as file:\n",
    "    for line in file.readlines():\n",
    "        line = line.split('\\n')[0]\n",
    "        urunler.append(line)"
   ]
  },
  {
   "cell_type": "code",
   "execution_count": 4,
   "id": "02dac21c-210f-4d40-be81-83b5c1d607ee",
   "metadata": {},
   "outputs": [
    {
     "data": {
      "text/plain": [
       "['/yaklasan-kasirga-levent-gultekin-p-HBCV000022GJU2',\n",
       " '/enkaz-altindakiler-ciltli-beyza-alkoc-p-HBCV000023XJ69',\n",
       " '/60-li-yillarda-turkiye-sazli-cazli-sozluk-derya-bengi-p-HBCV00001PV7QW',\n",
       " '/billy-summers-stephen-king-p-HBCV000022O9A1',\n",
       " '/enkaz-altindakiler-beyza-alkoc-p-HBCV000023XJ6B']"
      ]
     },
     "execution_count": 4,
     "metadata": {},
     "output_type": "execute_result"
    }
   ],
   "source": [
    "urunler[0:5]"
   ]
  },
  {
   "cell_type": "code",
   "execution_count": 5,
   "id": "d441b935-5ab8-43f2-846f-286d5b47c5fc",
   "metadata": {},
   "outputs": [
    {
     "data": {
      "text/plain": [
       "17260"
      ]
     },
     "execution_count": 5,
     "metadata": {},
     "output_type": "execute_result"
    }
   ],
   "source": [
    "len(urunler)"
   ]
  },
  {
   "cell_type": "code",
   "execution_count": 6,
   "id": "fb1a7a0c-fc53-49fd-883f-8586b456682c",
   "metadata": {},
   "outputs": [],
   "source": [
    "url = 'https://www.hepsiburada.com'\n",
    "headers = {'User-Agent': 'Mozilla/5.0'}"
   ]
  },
  {
   "cell_type": "code",
   "execution_count": 7,
   "id": "ce555fa0-0257-4e64-88d2-9594ccde6ba0",
   "metadata": {},
   "outputs": [],
   "source": [
    "yorumAra = '<span itemProp=\"description\">(.*?)</span>'\n",
    "tarihAra = '<span class=\"hermes-ReviewCard-module-3fj8Y\" itemProp=\"datePublished\" content=\"(.*?)\">'\n",
    "dereceAra = '<span itemProp=\"ratingValue\" content=\"(.*?)\"></span>'\n",
    "sayfalimitiAra = '<span class=\"hermes-PageHolder-module-1QoWq\">(.*?)</span>'"
   ]
  },
  {
   "cell_type": "code",
   "execution_count": null,
   "id": "4b6ff6d5-37c5-4875-8977-1160e81aaead",
   "metadata": {},
   "outputs": [],
   "source": []
  },
  {
   "cell_type": "code",
   "execution_count": 8,
   "id": "babd6a05-f6cb-4d6d-a049-1187c4966334",
   "metadata": {},
   "outputs": [
    {
     "name": "stdout",
     "output_type": "stream",
     "text": [
      "İşlemler yapılandırılıyor. Lütfen bekleyiniz...\n",
      "Tüm işlemler başarılı bir şekilde tamamlandı.\n"
     ]
    }
   ],
   "source": [
    "yorumlar = []\n",
    "tarihler = []\n",
    "dereceler = []\n",
    "sayfaSayisi = 1 \n",
    "\n",
    "try:\n",
    "    print(\"İşlemler yapılandırılıyor. Lütfen bekleyiniz...\")\n",
    "    \n",
    "    for urun in urunler[500:1000]:\n",
    "        yeniUrl = url + urun + '-yorumlari'\n",
    "    \n",
    "        for sayfa in range(sayfaSayisi):\n",
    "\n",
    "            yeniUrl2 = yeniUrl + '?sayfa=' + str(sayfa + 1)\n",
    "            session = requests.Session()\n",
    "            response = session.get(yeniUrl2, headers = headers).text\n",
    "\n",
    "            yorum_al = re.findall(yorumAra, response, re.MULTILINE | re.DOTALL)\n",
    "            tarih_al = re.findall(tarihAra, response)\n",
    "            derece_al = re.findall(dereceAra, response)\n",
    "\n",
    "            if len(yorum_al) > 0:\n",
    "                \n",
    "                yorumlar.append(yorum_al)\n",
    "                tarihler.append(tarih_al)\n",
    "                dereceler.append(derece_al)\n",
    "\n",
    "    print('Tüm işlemler başarılı bir şekilde tamamlandı.')\n",
    "except:\n",
    "    print(\"Bir hata oluştu. Hatayı kontrol ediniz!\")"
   ]
  },
  {
   "cell_type": "code",
   "execution_count": 9,
   "id": "87c9eba6-71be-4b1b-b1b6-7a91fbb12be8",
   "metadata": {},
   "outputs": [
    {
     "data": {
      "text/plain": [
       "(393, 393, 393)"
      ]
     },
     "execution_count": 9,
     "metadata": {},
     "output_type": "execute_result"
    }
   ],
   "source": [
    "len(yorumlar), len(tarihler), len(dereceler)"
   ]
  },
  {
   "cell_type": "code",
   "execution_count": 10,
   "id": "757992d9-f4a0-4681-bc4a-22e31c064802",
   "metadata": {},
   "outputs": [
    {
     "data": {
      "text/plain": [
       "[['Ürün bir gün sonra elime ulaştı. Çok güzel sesi/tınısı olan bir gitar. Boyuna göre gayet yüksek bir sese sahip. Taşınırken herhangi bir hasar görmemiş çok güzel paketlenmiş. Kesinlikle tavsiye ediyorum.',\n",
       "  'Başlangıç için güzel gitar',\n",
       "  'Gitarın sesi tonu mükemmel akorunu yapınca muhteşem net bir ses veriyor alacak olanlara kesinlikle tavsiye ederim, yanında verilen kılıfı diğer mağzalarınki gibi kalitesiz değil çok güzel kaliteli bir kılıfla göndermişler yanında birde stagg pena çıktı memnun kaldım. İnternetten almaya korkuyorsanız kesinlikle tercihiniz kaysar müzik olsun gerek uygun fiyat gerek gönderi paketleme kalitesi, kargocular istesede kıramazlar o derece güzel paketlenmiş. Kendilerine çok teşekkür ediyorum.',\n",
       "  'Öncelikle çok tedirgin bir şekilde siparişimi verdim. Acaba iyi gelir mi , kargoda kırılır mı diye korkuyordum ama harika bir şekilde paketlenmiş olarak geldi.Bir tane çizik bile yoktu.Gitarda hiçbir kusur yok  sesi müthiş.Fiyat performans bir gitar arıyorsanız eğer tavsiye ederim.Tam anlamı ile  B-A-Y-I-L-D-I-M !',\n",
       "  'Gitar bu fiyata muaazam ve Kaysar müzik gitarı bir bebeği korurcasına öyle güzel paketlemiş ki helal olsun kılıf da çok güzel süngerli, bu hizmet anlayışını görmek gurur verdi, hem gitarı hem de satıcıyı fazlasıyla tavsiye ederim',\n",
       "  'Gitar fiyatına göre çok iyi başlangıç ve orta seviyelerde alınabilecek bir gitar yanında gelen kılıf 5 para etmez adı kılıf sadece yanında 2 farklı ölçüde pena ve 1 adet alyan anahtarı var 1 yıldız kılıftan kestim ama gitara lafım yok',\n",
       "  'Muhteşemmm bir ürün ya kesinlikle pişman olmayacaksınız. Çok güzel paketlenmişti ve 1 günde elime ulaştı. Asla mağdur olmayacaksınız gözünüz kapalı sipariş verin derim',\n",
       "  'müthiş bi gitar aldığıma o kadar değdi ki harika bi şekilde paketlenmiş asla hasar yok ufacık çizik bile olmamış',\n",
       "  'Ürün cok güzel kalitesini belli ediyor. Çok özenle paketlenmiş. Kutusunda ambalajinda ve kılıfının icinde geliyor. Fiyatini hak ediyor.',\n",
       "  'Gitar muhteşem satıcı alırken çok yardımcı oldu kendisine tekrardan teşekkür ederim gönül rahatlığıyla Empathy&#039;den alabirsiniz harika'],\n",
       " ['Başlangıç için gayet iyi bir ürün. Jack ve fişi takıp çalacak şekilde hazır geldi. Paketleme çok iyiydi, çift kat koliyle sağlam ve eksiksiz geldi. Kesinlikle tavsiye ederim.',\n",
       "  'oğlum için aldım. çok iyi'],\n",
       " ['Arkadaşlar eğer almak istiyorsanız düşünmeden alın kargo çok hızlı 2 gün sürdü sürmedi paketleme süper adamlara tek kelime ile helal olsun diyorum',\n",
       "  'Ürün sipariş ettiğim günden 3 gün sonra elime ulaştı. Paketleme özenle yapılmıştı. Paketleme konusunda içiniz rahat olsun. Gitarın sesine gelecek olursak, entonasyon problemi yok. 12. Perdeler ve açık perdeler doğru notaları veriyor. Bass sesleri tok. Ama tiz sesleri çok daha iyi veren bir gitar. Daha önce kullanma fırsatı bulduğum Fender CD100-CE gitarı kadar iyi ve tok bass sesi vermiyor. Daha metalik bir sesi var. Gitarın rezonansı gayet iyi. Titreşimi kucağınızda hissedebiliyorsunuz. Gitarın önemli bir eksisi var. Üst eşikte EADG tellerinde cızırtı oluyor. Bunun olmaması için imkanınız varsa gitarı internetten sipariş vermemenizi öneririm. Test ederek almanız en iyisi olur.',\n",
       "  'merhabalar, bu gitarın endonezya fabrikasında son 2 yıldır klavyesinde gül ağacıyla birlikte merbau ağacı stok durumuna göre rastgele kullanılmaktaydı. yani eskisi gibi sırf gül ağacından yapılmıyor. son 6 aydır da sadece merbau ağacı kullanılıyor (internet sitesinde de görebilirsiniz) tınısında değişiklik olup olmadığını bilemiyorum ama muhtemelen yeni seri olduğu için bunlarda merbau ağacından. anlamak için klavyeyi incelerseniz eğer kahverengi klavyede küçük siyah nokta/çizgiler varsa merbau, koyu kahverenginin üstünde kırmızı uzun geçişler varsa gül ağacıdır. Bilgi amacıyla paylaşılmıştır.',\n",
       "  'Gitarın teslimat süresini uzun göstermelerine rağmen 2 günde geldi paketleme çok iyiydi ürün kalitesi başlangıç-orta seviye için inanılmaz derecede iyi sesi çok iyi veriyor orjinal cort kılıfıyla gelmeside büyük bir artı tabii ki. Gönül rahatlığıyla alıp kullanabilirsiniz',\n",
       "  'Ürün sipariş vedikten sonraki gün elime ulaştı. Kargolanma ve paketlemesi gayet iyiydi. Hepsiburada satıcılı olarak aldım.\\nGitar ile alakalı olarak zaten buradaysanız iyice araştırmışsınızdır. Ben gayet memnunum fiyat performans olarak değerlendirildiğinde güzel tercih.',\n",
       "  'Gitar gerçekten başlangıç için çok güzel. Diğer sitelerde daha fazla fiyata stokta kalmıyor burda stokta görürseniz gecikmeden alın derim. Orjinal cort kılıfıyla geldi. Hiçbir sorun yaşamadım.',\n",
       "  'uzun süre gitar araştırmaktan kafayı yedim ve en son canıma tak etti hiç düşünmeden bunu sipariş verdim. pişman olmadım orta seviye bir akustik gitar gibi duruyor. kasa ağırlığı normale göre biraz daha hafif. yanında orijinal cort kılıfı gönderiyorlar. paket içinde sap ayarı alyanı ve yedek eşik mevcut. düzgün paketleyip göndermişler kutuda hiç hasar yoktu.',\n",
       "  'Gitar gerçekten bu parayı hak ediyor ve alınabilecek en iyi gitar diyebilirim. Klavye çok rahat tellerin perdeye yakınlığı çok iyi eli yormuyor gönül rahatlığı ile alınabilir.',\n",
       "  'Müzikaletlerimarketine teşekkür ederim çok ilgilendiler.Gitara gelicek olursam başlangıç ve orta seviye için çok güzel bir gitar.Malzeme kalitesi olsun tınısı olsun gerçekten insanı cezbediyor.Yanında verilen çanta da çok güzel koruyan bir çanta olduğunu düşünüyorum.',\n",
       "  'Gitar çok hafif daha önce takamine kullandım onun yanında kucağımda yastık tutuyormuşum gibi,klavyesi rahat. Gitarı görerek çalarak alamadım, yorumlara ve video incelemelerine baktım, daha iyi bir ses ve performans bekledim. Nihayetinde çokta ucuz değil. Üzerindeki teller çok başarılı değil gibi. Alacak arkadaşların imkanları varsa görerek almalarını öneririm. Ürünü Timpany Müzik ten aldım, aynı gün kargoladılar sağlam geldi.Ufak bi yanlışlık olmuş ama hemen ilgilendiler. Sonuç olarak alınabilir kullanılabilir bir gitar güzel işlerde çıkartır, imkanı olan aynı fiyatlardaki gitarları eline alıp çalarak alsın.'],\n",
       " ['Ürün sorunsuz bir şekilde ulaştı. Çok güzel paketlenmişti. Satıcıya teşekkür ederim. Rengi beklediğimden farklı geldi. Sunburst renginin orta kısmına benziyor. Kaliteli ve güzel bir gitar.',\n",
       "  'Ürün sorunsuz bir şekilde bana ulaştı.Fiyatının hakkını veren bu aralıktaki en iyi gitarlardan.Almayı düşünenlerin hiç şüphesi olmasın.Mağazaya teşekkürlerimi sunuyorum.👏',\n",
       "  'Bu gitarı alalı 3 ay kadar oluyor ama keşke zamanında iade etmeye vaktim ve fırsatım olsaydı, bir dünya şeyle boğuşuyordum, pişmanım. Biraz canım sıkkın gitar konusunda. Geldiğinde perdeler kısmen paslıydı ve klavye siyahtı. Normalde VC304lerin klavyesi siyah değil. Üstünden zaman geçtiği için bazı sorunları size kanıtlayamayacağım çünkü 3 aydır kullanıyorsunuz bu zaman içinde olmuştur diyebilirsiniz ama dün de tellerimi değiştirdikten sonra iyice rahatsız olmaya başladım artık. Ürünlerinize dikkat edin lütfen. İyi bir gitar olmasının yanında görüntüsü de çok hoşuma gittiği için almıştım. Ürünü size tedarik edene mi sorarsınız ne yaparsınız bilmiyorum artık. Gitarı aldığım gün parlak bir ses gelmiyordu, tellerle alakalıdır dedim ama telleri değiştirdim, Pro Arte taktım hatta ama durum aynı. Kullanmaya inat ettim ama memnun olamadım. Gitar yine de aldığım gibi duruyor.',\n",
       "  'her şey harika! teşekkür ederim',\n",
       "  'Müthiş ilk gitarım çalmak çok rahat klavyesi olsun kalitesi olsun çok iyi kesinlikle tavsiye ederim.',\n",
       "  'Ambalaj güzel Kargo zamanında malzeme de herhangi bir şey yok Teşekkürler',\n",
       "  '29 Eylül akşamı 8 civarı sipariş verdim, 1 Ekim 4 civarı elime ulaştı hızlı geldi diyebilirim 1.5gün ideal bence. Hatta 2 Ekim yazıyordu 1 Ekim&#039;de geldi. Naturel olanı aldım ama gelen renk biraz daha koyu resimdekinden. Gayet güzel paketlenmiş en dışta kalın naylon sonra karton kutu sonra valencia gitar çuvalı mı ne desem o vardı .d ardından da kılıf içinde gitar çizik felan dahi yok. Gayet rahat gitar çok hafif yeni başlayanlardanım sevdim bayağı. Dediğim gibi tek sorun naturel renk değil daha koyu Valencia 204 e benziyor ama daha açık bir renk de. Modeli vc304 onda sorun yok ama resimdeki gibi renkte gelse daha memnun olurdum',\n",
       "  'Gitarın çerçevesinde bazı çizikler vardı. Ancak gitarın sesi fiyatına göre çok iyi. Öneririm.',\n",
       "  'Natural rengini de kullanmıştım. Fiyatına göre harika bir performansı var bence. Ses tonları, doygunluğu, gür sesi, klavye rahatlığı ve genel olarak malzeme kalitesi ile harika bir gitar. Mat cilası, ağacın damarlı yapısını da ortaya çıkarmakta. Son olarak normalde ses kalitesini muhafaza etmek adına genelde gitarlarımda natural rengi tercih etmek ile birlikte bu sefer ASB rengi tercih ettim ve iyi ki de etmişim. Gönül rahatlığı ile tercih edebilirsiniz. Kullanılan boya tekniği ve mat cilası ile herhangi bir kayıp hissetmedim ses kalitesinde. Tam bir F/P ürünü. Fiyatı efsane de inmişken kaçırmayın derim yazıyordum ama şuan benim aldığım fiyat 100TL. artmış :) Yine de kur dalgaları ve artışlarını göz önüne alırsak güncel fiyatında dahi kesinlikle tercih edebilirsiniz. Sağlık ve müzikle dolu günler.\\n\\nNot: Kargomun güçlü paketlenmesi, hızlı gelmesi ve eksiksiz tam kutu olarak bana ulaşması için teşekkürler Hepsiburada.',\n",
       "  'Merhaba ,\\nÜrünü sipariş etmem ile elime ulaşması 1,5 gün sürdü ki farklı şehirlerdeydik . Ürün başarılı , yeni başlangıç yapanlara kesinlikle tavsiye ederim'],\n",
       " ['Gitarın görüntüsü çok güzel. Başlangıç için fiyat performans ürünü. Tremolo kolu demonte geliyor. Manyetikler güzel. Hızlı kargolandı ertesi gün geldi. Güzel paketlenmiş. Satıcıya teşekkür ediyorum.',\n",
       "  'Kılıfı, kablosu, askısıyla birlikte ve gayet güzel paketlenmiş bir şekilde gönderildi. Yorum için ses kartımın gelmesini bekledim. Gayet güzel tonları var. Gitarda yeni değilim ama ilk defa elektro gitar sahibi oldum ve şunu söyleyebilirim, kesinlikle başlangıç/orta seviye için gayet ideal bir gitar. Görsel işçiliği de çok hoşuma gidiyor. Almayı düşünen varsa şimdiden hayırlı olsun :)',\n",
       "  'Gitar güçlü sesler konusunda çok iyi, strat gibi temiz tonda çalınamıyor elbette. Rengi mat siyah ve harika görünüyor, kendim aldık diye demiyorum ama gördüğüm en havalı gitarlardan birisi. Hava değişiminden kolay etkileniyor. Yanında tremolo kolu ayrı olarak gönderilmiş, isteyen kendisi takar. Pena güzel ama çanta çok kötü, içinde gitarı taşımak cidden zor oluyor ama iş görüyor. Önemli olan gitar zaten ve ben yeni başlayan birisi olarak gitarı çok sevdim, rock ve metal türlerinde sizi üzmez bence ve clean tonu çok iyi olmasa da idare ediyor beni.',\n",
       "  'Kargo gerçekten hızlı ve sağlam geldi paketin içerisinden herşey eksiksiz çıktı ve ürünümde herhangi sorun göremedim yaklaşık 2 yıldırda kullanıyorum başarılı bir ürün yeni başlayacaklara tavsiye edebilirim',\n",
       "  'Ürünü eksiksiz ve sorunsuz teslim aldık',\n",
       "  'bu fiyat için gayet güzel bir gitar bir sıkıntı yok kargodaki karışıklık nedeni ile bir gün geç teslim alsam da pena çiziklerinden koruma amaçlı bir katman olsaydı iyi olabilirdi birde koruma kılıfı çok kötü biraz daha kaliteli olabilirdi',\n",
       "  'Gitar gayet iyi ancak yanında askı ve kablosu gelmedi',\n",
       "  'Herşey güzel gitar on numara. Gelmeyen garanti bekgesi ve fatura için gitardan puan kırmak istemedim. Mail olarak göndereceklerini söylediler. Umarım gelir',\n",
       "  'Fiyat aralığında en iyisi, 1 günde kargo geldi, teşekkürler.',\n",
       "  'Ürün ortalama seviye parasına göre çok iyi, paketleme çok iyiydi sorunsuz geldi kaysarmüzik&#039;e teşşekkür ederim']]"
      ]
     },
     "execution_count": 10,
     "metadata": {},
     "output_type": "execute_result"
    }
   ],
   "source": [
    "yorumlar[0:5]"
   ]
  },
  {
   "cell_type": "code",
   "execution_count": 11,
   "id": "fb15c235-ac5b-461c-9190-100d0c4c2ada",
   "metadata": {},
   "outputs": [
    {
     "data": {
      "text/plain": [
       "[['2020-09-26',\n",
       "  '2022-01-19',\n",
       "  '2020-08-21',\n",
       "  '2021-01-21',\n",
       "  '2020-08-31',\n",
       "  '2020-11-18',\n",
       "  '2020-09-03',\n",
       "  '2020-06-01',\n",
       "  '2019-11-07',\n",
       "  '2021-01-23'],\n",
       " ['2022-02-21', '2022-02-01', '2022-04-22', '2022-04-22', '2022-03-28']]"
      ]
     },
     "execution_count": 11,
     "metadata": {},
     "output_type": "execute_result"
    }
   ],
   "source": [
    "tarihler[0:2]"
   ]
  },
  {
   "cell_type": "code",
   "execution_count": 12,
   "id": "5e3ccfb1-2fb2-4ccc-8258-1d5eaba8b355",
   "metadata": {},
   "outputs": [
    {
     "data": {
      "text/plain": [
       "[['5', '4', '5', '5', '5', '4', '5', '5', '5', '5'],\n",
       " ['5', '5', '5', '5', '4'],\n",
       " ['5', '4', '5', '5', '5', '5', '5', '5', '5', '3'],\n",
       " ['5', '5', '3', '5', '5', '5', '5', '4', '5', '5'],\n",
       " ['5', '5', '5', '5', '5', '5', '4', '5', '5', '5']]"
      ]
     },
     "execution_count": 12,
     "metadata": {},
     "output_type": "execute_result"
    }
   ],
   "source": [
    "dereceler[0:5]"
   ]
  },
  {
   "cell_type": "code",
   "execution_count": 13,
   "id": "e866df9e-9ecb-485c-809d-23bae7dd6ca2",
   "metadata": {},
   "outputs": [],
   "source": [
    "tumYorumlar = []\n",
    "tumTarihler = []\n",
    "tumDereceler = []"
   ]
  },
  {
   "cell_type": "code",
   "execution_count": 14,
   "id": "c43d1e44-273a-4dcf-afd8-2b856e481c39",
   "metadata": {},
   "outputs": [],
   "source": [
    "for i,j,k in zip(yorumlar, tarihler, dereceler):\n",
    "    for a in zip(i, j, k):\n",
    "        tumYorumlar.append(a[0])\n",
    "        tumTarihler.append(a[1])\n",
    "        tumDereceler.append(a[2])"
   ]
  },
  {
   "cell_type": "code",
   "execution_count": 15,
   "id": "ccfbcc2c-455d-452d-8596-b56ba8775816",
   "metadata": {},
   "outputs": [],
   "source": [
    "df = pd.DataFrame({'tarih':tumTarihler, 'derece':tumDereceler, 'yorum':tumYorumlar})"
   ]
  },
  {
   "cell_type": "code",
   "execution_count": 16,
   "id": "c37d777e-68b5-44e4-a1e8-0485fa3c0e8b",
   "metadata": {},
   "outputs": [
    {
     "data": {
      "text/html": [
       "<div>\n",
       "<style scoped>\n",
       "    .dataframe tbody tr th:only-of-type {\n",
       "        vertical-align: middle;\n",
       "    }\n",
       "\n",
       "    .dataframe tbody tr th {\n",
       "        vertical-align: top;\n",
       "    }\n",
       "\n",
       "    .dataframe thead th {\n",
       "        text-align: right;\n",
       "    }\n",
       "</style>\n",
       "<table border=\"1\" class=\"dataframe\">\n",
       "  <thead>\n",
       "    <tr style=\"text-align: right;\">\n",
       "      <th></th>\n",
       "      <th>tarih</th>\n",
       "      <th>derece</th>\n",
       "      <th>yorum</th>\n",
       "    </tr>\n",
       "  </thead>\n",
       "  <tbody>\n",
       "    <tr>\n",
       "      <th>0</th>\n",
       "      <td>2020-09-26</td>\n",
       "      <td>5</td>\n",
       "      <td>Ürün bir gün sonra elime ulaştı. Çok güzel ses...</td>\n",
       "    </tr>\n",
       "    <tr>\n",
       "      <th>1</th>\n",
       "      <td>2022-01-19</td>\n",
       "      <td>4</td>\n",
       "      <td>Başlangıç için güzel gitar</td>\n",
       "    </tr>\n",
       "    <tr>\n",
       "      <th>2</th>\n",
       "      <td>2020-08-21</td>\n",
       "      <td>5</td>\n",
       "      <td>Gitarın sesi tonu mükemmel akorunu yapınca muh...</td>\n",
       "    </tr>\n",
       "    <tr>\n",
       "      <th>3</th>\n",
       "      <td>2021-01-21</td>\n",
       "      <td>5</td>\n",
       "      <td>Öncelikle çok tedirgin bir şekilde siparişimi ...</td>\n",
       "    </tr>\n",
       "    <tr>\n",
       "      <th>4</th>\n",
       "      <td>2020-08-31</td>\n",
       "      <td>5</td>\n",
       "      <td>Gitar bu fiyata muaazam ve Kaysar müzik gitarı...</td>\n",
       "    </tr>\n",
       "  </tbody>\n",
       "</table>\n",
       "</div>"
      ],
      "text/plain": [
       "        tarih derece                                              yorum\n",
       "0  2020-09-26      5  Ürün bir gün sonra elime ulaştı. Çok güzel ses...\n",
       "1  2022-01-19      4                         Başlangıç için güzel gitar\n",
       "2  2020-08-21      5  Gitarın sesi tonu mükemmel akorunu yapınca muh...\n",
       "3  2021-01-21      5  Öncelikle çok tedirgin bir şekilde siparişimi ...\n",
       "4  2020-08-31      5  Gitar bu fiyata muaazam ve Kaysar müzik gitarı..."
      ]
     },
     "execution_count": 16,
     "metadata": {},
     "output_type": "execute_result"
    }
   ],
   "source": [
    "df.head()"
   ]
  },
  {
   "cell_type": "code",
   "execution_count": 17,
   "id": "808f5630-6d21-4971-94ab-4a8f030e232e",
   "metadata": {},
   "outputs": [
    {
     "name": "stdout",
     "output_type": "stream",
     "text": [
      "<class 'pandas.core.frame.DataFrame'>\n",
      "RangeIndex: 2851 entries, 0 to 2850\n",
      "Data columns (total 3 columns):\n",
      " #   Column  Non-Null Count  Dtype \n",
      "---  ------  --------------  ----- \n",
      " 0   tarih   2851 non-null   object\n",
      " 1   derece  2851 non-null   object\n",
      " 2   yorum   2851 non-null   object\n",
      "dtypes: object(3)\n",
      "memory usage: 66.9+ KB\n"
     ]
    }
   ],
   "source": [
    "df.info()"
   ]
  },
  {
   "cell_type": "code",
   "execution_count": 18,
   "id": "aed71ee9-6689-4d8b-82ba-1f7db058dd99",
   "metadata": {},
   "outputs": [
    {
     "data": {
      "text/plain": [
       "5    2314\n",
       "4     352\n",
       "3      91\n",
       "1      75\n",
       "2      19\n",
       "Name: derece, dtype: int64"
      ]
     },
     "execution_count": 18,
     "metadata": {},
     "output_type": "execute_result"
    }
   ],
   "source": [
    "df.derece.value_counts()"
   ]
  },
  {
   "cell_type": "code",
   "execution_count": null,
   "id": "8e567045-f412-4c7c-922a-d9f1dfec172c",
   "metadata": {},
   "outputs": [],
   "source": []
  },
  {
   "cell_type": "code",
   "execution_count": 19,
   "id": "aea600ce-5344-463a-9439-2f79d9ab4648",
   "metadata": {},
   "outputs": [],
   "source": [
    "from pathlib import Path  \n",
    "filepath = Path('HB_Yorumlar/hb_yorumlar2.csv')  \n",
    "df.to_csv(filepath, index = False, sep = ',')"
   ]
  },
  {
   "cell_type": "code",
   "execution_count": null,
   "id": "5c6128b5-da65-41a5-bf48-9637c6563f8a",
   "metadata": {},
   "outputs": [],
   "source": []
  },
  {
   "cell_type": "code",
   "execution_count": null,
   "id": "536ce853-d334-445c-bbb9-56d3dd55fb55",
   "metadata": {},
   "outputs": [],
   "source": []
  },
  {
   "cell_type": "code",
   "execution_count": null,
   "id": "33291d21-9c89-4308-b0d7-63f058e035c8",
   "metadata": {},
   "outputs": [],
   "source": []
  }
 ],
 "metadata": {
  "kernelspec": {
   "display_name": "Python 3 (ipykernel)",
   "language": "python",
   "name": "python3"
  },
  "language_info": {
   "codemirror_mode": {
    "name": "ipython",
    "version": 3
   },
   "file_extension": ".py",
   "mimetype": "text/x-python",
   "name": "python",
   "nbconvert_exporter": "python",
   "pygments_lexer": "ipython3",
   "version": "3.8.10"
  }
 },
 "nbformat": 4,
 "nbformat_minor": 5
}
