{
 "cells": [
  {
   "cell_type": "code",
   "execution_count": 1,
   "id": "5c7ba0fa-b533-4f10-ad94-efd0552cd50b",
   "metadata": {},
   "outputs": [
    {
     "name": "stdout",
     "output_type": "stream",
     "text": [
      "İşlemler yapılandırılıyor. Lütfen bekleyiniz...\n",
      "Tüm işlemler başarılı bir şekilde tamamlandı.\n"
     ]
    }
   ],
   "source": [
    "# 1000-1500 arası ürünün yorumlarını alma islemi\n",
    "\n",
    "import re \n",
    "import requests\n",
    "import json\n",
    "import pandas as pd\n",
    "import numpy as np\n",
    "import time\n",
    "\n",
    "urunler = []\n",
    "with open(\"urunler.txt\", mode='r', encoding='utf-8') as file:\n",
    "    for line in file.readlines():\n",
    "        line = line.split('\\n')[0]\n",
    "        urunler.append(line)\n",
    "\n",
    "url = 'https://www.hepsiburada.com'\n",
    "headers = {'User-Agent': 'Mozilla/5.0'}\n",
    "\n",
    "yorumAra = '<span itemProp=\"description\">(.*?)</span>'\n",
    "tarihAra = '<span class=\"hermes-ReviewCard-module-3fj8Y\" itemProp=\"datePublished\" content=\"(.*?)\">'\n",
    "dereceAra = '<span itemProp=\"ratingValue\" content=\"(.*?)\"></span>'\n",
    "sayfalimitiAra = '<span class=\"hermes-PageHolder-module-1QoWq\">(.*?)</span>'\n",
    "\n",
    "yorumlar = []\n",
    "tarihler = []\n",
    "dereceler = []\n",
    "sayfaSayisi = 1 \n",
    "\n",
    "try:\n",
    "    print(\"İşlemler yapılandırılıyor. Lütfen bekleyiniz...\")\n",
    "    \n",
    "    for urun in urunler[1000:1500]:\n",
    "        yeniUrl = url + urun + '-yorumlari'\n",
    "    \n",
    "        for sayfa in range(sayfaSayisi):\n",
    "\n",
    "            yeniUrl2 = yeniUrl + '?sayfa=' + str(sayfa + 1)\n",
    "            session = requests.Session()\n",
    "            response = session.get(yeniUrl2, headers = headers).text\n",
    "\n",
    "            yorum_al = re.findall(yorumAra, response, re.MULTILINE | re.DOTALL)\n",
    "            tarih_al = re.findall(tarihAra, response)\n",
    "            derece_al = re.findall(dereceAra, response)\n",
    "\n",
    "            if len(yorum_al) > 0:\n",
    "                \n",
    "                yorumlar.append(yorum_al)\n",
    "                tarihler.append(tarih_al)\n",
    "                dereceler.append(derece_al)\n",
    "\n",
    "    print('Tüm işlemler başarılı bir şekilde tamamlandı.')\n",
    "except:\n",
    "    print(\"Bir hata oluştu. Hatayı kontrol ediniz!\")"
   ]
  },
  {
   "cell_type": "code",
   "execution_count": 2,
   "id": "cbd69e32-3ca0-4c18-8df7-9f8f49cb5cb3",
   "metadata": {},
   "outputs": [],
   "source": [
    "tumYorumlar = []\n",
    "tumTarihler = []\n",
    "tumDereceler = []\n",
    "\n",
    "for i,j,k in zip(yorumlar, tarihler, dereceler):\n",
    "    for a in zip(i, j, k):\n",
    "        tumYorumlar.append(a[0])\n",
    "        tumTarihler.append(a[1])\n",
    "        tumDereceler.append(a[2])"
   ]
  },
  {
   "cell_type": "code",
   "execution_count": null,
   "id": "ab1988e2-5afb-4745-bc81-f1068e5ae57c",
   "metadata": {},
   "outputs": [],
   "source": []
  },
  {
   "cell_type": "code",
   "execution_count": 3,
   "id": "27453c3a-8bc1-484f-a682-06aa46c970f6",
   "metadata": {},
   "outputs": [],
   "source": [
    "df = pd.DataFrame({'tarih':tumTarihler, 'derece':tumDereceler, 'yorum':tumYorumlar})"
   ]
  },
  {
   "cell_type": "code",
   "execution_count": 4,
   "id": "4bc46035-35ac-4a2b-8ff7-e46fc21b0b67",
   "metadata": {},
   "outputs": [
    {
     "data": {
      "text/html": [
       "<div>\n",
       "<style scoped>\n",
       "    .dataframe tbody tr th:only-of-type {\n",
       "        vertical-align: middle;\n",
       "    }\n",
       "\n",
       "    .dataframe tbody tr th {\n",
       "        vertical-align: top;\n",
       "    }\n",
       "\n",
       "    .dataframe thead th {\n",
       "        text-align: right;\n",
       "    }\n",
       "</style>\n",
       "<table border=\"1\" class=\"dataframe\">\n",
       "  <thead>\n",
       "    <tr style=\"text-align: right;\">\n",
       "      <th></th>\n",
       "      <th>tarih</th>\n",
       "      <th>derece</th>\n",
       "      <th>yorum</th>\n",
       "    </tr>\n",
       "  </thead>\n",
       "  <tbody>\n",
       "    <tr>\n",
       "      <th>0</th>\n",
       "      <td>2022-03-16</td>\n",
       "      <td>4</td>\n",
       "      <td>paketleme koyduğum fotoğraftaki gibi güzeldi, ...</td>\n",
       "    </tr>\n",
       "    <tr>\n",
       "      <th>1</th>\n",
       "      <td>2022-05-09</td>\n",
       "      <td>4</td>\n",
       "      <td>Ürünün paketlemesi çok iyiydi. Kartlara gelice...</td>\n",
       "    </tr>\n",
       "    <tr>\n",
       "      <th>2</th>\n",
       "      <td>2022-03-08</td>\n",
       "      <td>5</td>\n",
       "      <td>standardin uzerinde bir kalitede, uzun sure oy...</td>\n",
       "    </tr>\n",
       "    <tr>\n",
       "      <th>3</th>\n",
       "      <td>2022-03-16</td>\n",
       "      <td>5</td>\n",
       "      <td>Çok hızlı. Süper ürün</td>\n",
       "    </tr>\n",
       "    <tr>\n",
       "      <th>4</th>\n",
       "      <td>2022-04-09</td>\n",
       "      <td>5</td>\n",
       "      <td>Kalite mükemmel. Piyon terfisi için verilen ek...</td>\n",
       "    </tr>\n",
       "  </tbody>\n",
       "</table>\n",
       "</div>"
      ],
      "text/plain": [
       "        tarih derece                                              yorum\n",
       "0  2022-03-16      4  paketleme koyduğum fotoğraftaki gibi güzeldi, ...\n",
       "1  2022-05-09      4  Ürünün paketlemesi çok iyiydi. Kartlara gelice...\n",
       "2  2022-03-08      5  standardin uzerinde bir kalitede, uzun sure oy...\n",
       "3  2022-03-16      5                              Çok hızlı. Süper ürün\n",
       "4  2022-04-09      5  Kalite mükemmel. Piyon terfisi için verilen ek..."
      ]
     },
     "execution_count": 4,
     "metadata": {},
     "output_type": "execute_result"
    }
   ],
   "source": [
    "df.head()"
   ]
  },
  {
   "cell_type": "code",
   "execution_count": 5,
   "id": "70d8db10-4f54-4e38-9416-64cbfe72f380",
   "metadata": {},
   "outputs": [],
   "source": [
    "from pathlib import Path  \n",
    "filepath = Path('HB_Yorumlar/hb_yorumlar3.csv')  \n",
    "df.to_csv(filepath, index = False, sep = ',')"
   ]
  },
  {
   "cell_type": "code",
   "execution_count": null,
   "id": "29995c27-4ff8-4bd7-b8e2-595c7e2acc10",
   "metadata": {},
   "outputs": [],
   "source": []
  }
 ],
 "metadata": {
  "kernelspec": {
   "display_name": "Python 3 (ipykernel)",
   "language": "python",
   "name": "python3"
  },
  "language_info": {
   "codemirror_mode": {
    "name": "ipython",
    "version": 3
   },
   "file_extension": ".py",
   "mimetype": "text/x-python",
   "name": "python",
   "nbconvert_exporter": "python",
   "pygments_lexer": "ipython3",
   "version": "3.8.10"
  }
 },
 "nbformat": 4,
 "nbformat_minor": 5
}
