{
 "cells": [
  {
   "cell_type": "code",
   "execution_count": 1,
   "id": "b8d53d8f-eb98-4f56-8ade-dff78ea18017",
   "metadata": {},
   "outputs": [],
   "source": [
    "import re \n",
    "import requests\n",
    "import json\n",
    "import pandas as pd\n",
    "import numpy as np\n",
    "import time"
   ]
  },
  {
   "cell_type": "code",
   "execution_count": 2,
   "id": "79471a62-8a03-420b-b416-c22c8255b32e",
   "metadata": {},
   "outputs": [],
   "source": [
    "urunler = []\n",
    "with open(\"urunler.txt\", mode='r', encoding='utf-8') as file:\n",
    "    for line in file.readlines():\n",
    "        line = line.split('\\n')[0]\n",
    "        urunler.append(line)"
   ]
  },
  {
   "cell_type": "code",
   "execution_count": 3,
   "id": "9381e107-1f7d-40e9-8769-0270dd36d1c4",
   "metadata": {},
   "outputs": [
    {
     "data": {
      "text/plain": [
       "['/yaklasan-kasirga-levent-gultekin-p-HBCV000022GJU2',\n",
       " '/enkaz-altindakiler-ciltli-beyza-alkoc-p-HBCV000023XJ69',\n",
       " '/60-li-yillarda-turkiye-sazli-cazli-sozluk-derya-bengi-p-HBCV00001PV7QW',\n",
       " '/billy-summers-stephen-king-p-HBCV000022O9A1',\n",
       " '/enkaz-altindakiler-beyza-alkoc-p-HBCV000023XJ6B']"
      ]
     },
     "execution_count": 3,
     "metadata": {},
     "output_type": "execute_result"
    }
   ],
   "source": [
    "urunler[0:5]"
   ]
  },
  {
   "cell_type": "code",
   "execution_count": 4,
   "id": "22f91f9b-11fd-4f03-a881-800e73b30b9c",
   "metadata": {},
   "outputs": [
    {
     "data": {
      "text/plain": [
       "17260"
      ]
     },
     "execution_count": 4,
     "metadata": {},
     "output_type": "execute_result"
    }
   ],
   "source": [
    "len(urunler)"
   ]
  },
  {
   "cell_type": "code",
   "execution_count": 5,
   "id": "f62e7297-cb89-4c5f-8429-aaced9e68e2a",
   "metadata": {},
   "outputs": [],
   "source": [
    "url = 'https://www.hepsiburada.com'\n",
    "headers = {'User-Agent': 'Mozilla/5.0'}"
   ]
  },
  {
   "cell_type": "code",
   "execution_count": 6,
   "id": "354fb21b-675a-4b28-99a1-7de872814ca9",
   "metadata": {},
   "outputs": [],
   "source": [
    "yorumAra = '<span itemProp=\"description\">(.*?)</span>'\n",
    "tarihAra = '<span class=\"hermes-ReviewCard-module-3fj8Y\" itemProp=\"datePublished\" content=\"(.*?)\">'\n",
    "dereceAra = '<span itemProp=\"ratingValue\" content=\"(.*?)\"></span>'\n",
    "sayfalimitiAra = '<span class=\"hermes-PageHolder-module-1QoWq\">(.*?)</span>'"
   ]
  },
  {
   "cell_type": "code",
   "execution_count": null,
   "id": "9cc6df43-437d-46fd-b159-a162c6f11f3b",
   "metadata": {},
   "outputs": [],
   "source": []
  },
  {
   "cell_type": "code",
   "execution_count": 7,
   "id": "b8a3498c-cc5f-4644-a5e9-e5796d7c2ff4",
   "metadata": {},
   "outputs": [
    {
     "name": "stdout",
     "output_type": "stream",
     "text": [
      "İşlemler yapılandırılıyor. Lütfen bekleyiniz...\n",
      "Tüm işlemler başarılı bir şekilde tamamlandı.\n"
     ]
    }
   ],
   "source": [
    "# ilk 500 ürünün yorumlarını alma islemi\n",
    "yorumlar = []\n",
    "tarihler = []\n",
    "dereceler = []\n",
    "sayfaSayisi = 1 \n",
    "\n",
    "try:\n",
    "    print(\"İşlemler yapılandırılıyor. Lütfen bekleyiniz...\")\n",
    "    \n",
    "    for urun in urunler[0:500]:\n",
    "        yeniUrl = url + urun + '-yorumlari'\n",
    "    \n",
    "        for sayfa in range(sayfaSayisi):\n",
    "\n",
    "            yeniUrl2 = yeniUrl + '?sayfa=' + str(sayfa + 1)\n",
    "            session = requests.Session()\n",
    "            response = session.get(yeniUrl2, headers = headers).text\n",
    "\n",
    "            yorum_al = re.findall(yorumAra, response, re.MULTILINE | re.DOTALL)\n",
    "            tarih_al = re.findall(tarihAra, response)\n",
    "            derece_al = re.findall(dereceAra, response)\n",
    "\n",
    "            if len(yorum_al) > 0:\n",
    "                \n",
    "                yorumlar.append(yorum_al)\n",
    "                tarihler.append(tarih_al)\n",
    "                dereceler.append(derece_al)\n",
    "\n",
    "    print('Tüm işlemler başarılı bir şekilde tamamlandı.')\n",
    "except:\n",
    "    print(\"Bir hata oluştu. Hatayı kontrol ediniz!\")"
   ]
  },
  {
   "cell_type": "code",
   "execution_count": 8,
   "id": "06fae669-e562-4044-a652-0010f210ca60",
   "metadata": {},
   "outputs": [
    {
     "data": {
      "text/plain": [
       "(436, 436, 436)"
      ]
     },
     "execution_count": 8,
     "metadata": {},
     "output_type": "execute_result"
    }
   ],
   "source": [
    "len(yorumlar), len(tarihler), len(dereceler)"
   ]
  },
  {
   "cell_type": "code",
   "execution_count": 9,
   "id": "d23cfbff-b06d-48d4-82d3-935455318ea4",
   "metadata": {},
   "outputs": [
    {
     "data": {
      "text/plain": [
       "[['Güzel bir anlatımı var, henüz başındayım inşallah sonunda da aynı fikirde olurum.',\n",
       "  'Süreci özetlerken; bazı konuları ıskalamış olduğunu düşünmekle birlikte, severek ve ilgiyle okuyorum. Tespitlerinin çoğuna katılıyorum. Konuşma ve yazma üslubu oldukça samimi ve akıcı. Okunmasını tavsiye ederim. Bazı yerlerin altını çizip, bu tespitleri arkadaşlarımla da paylaşmayı düşünüyorum.',\n",
       "  'Guzel tespıtler var. Yazarın yayınlarını ızleyenler ıcın anlattıklarından cok farklı degıl ama yazılı belgeye dokmus olması deneyımlerını ve fıkırlerını bence degerlı, desteklenmelı, alınmalı, okutulmalı'],\n",
       " ['Ürün hasarsız bir şekilde geldi hiçbir yerinde hasar vs yok',\n",
       "  'Cildi çok güzel. Ön siparişten aldığım için biraz bekledim ama sonra hızlı geldi. Hasarsız. Daha önce wattpadte okumuştum ve basılınca da almak istedim. Bütün ayraçlarıda çıktı.',\n",
       "  'Kızım için aldım.Poster ve ayraçları eksiksiz geldi.Kargo hızı mükemmel.',\n",
       "  'Kargolama süreci uzun sürsede beklemeye değerdi hasarsız teslim aldım',\n",
       "  'Çok ilgi çekici',\n",
       "  'Kızım için aldım, Beyza Koç un kitaplarını çok beğeniyor',\n",
       "  'Hızlı kargo doğru ürün.',\n",
       "  '1 günde hasarsız bir şekilde teslim edildi',\n",
       "  'harika  geldi kitap harika',\n",
       "  'Güzel kargo başarılı satıcı teşekkürler'],\n",
       " ['Her zamanki gibi yalnızca kargo poşetine koyup gönderdikleri için kitabım hasarlı geldi, değişimle uğraşmak istemediğim için bir şey yapmadım. Boş yere 1 hafta daha beklemem gerekecekti. Çoğu kişi de bu şekilde uğraşmıyor. Sanırım bunu bildikleri için bu konuda hiçbir şey yapmamaya devam ediyorlar.',\n",
       "  'Bir hayranı olarak polisiye tarzında olsa da sevdim bitmek üzere ama spoiler vermiyorum. Polisiye tarzı sevenlere öneririm.',\n",
       "  'Muhteşem paketleme ile hızlıca geldi. Hemen okumaya başladım. Hasarsızdı.',\n",
       "  'Henüz okumadım ama içerik yazarla alakalı değerlendirmedir zaten. Ben alışverişten memnun kaldım',\n",
       "  'King bu yüzyılın edebiyat mucizesidir',\n",
       "  'Çok hızlı ve sorunsuz bir şekilde geldi. En kısa sürede okutacağım ❤️',\n",
       "  'Hızlı ve hasarsız bir teslimattı.',\n",
       "  'Hasarsız geldi.',\n",
       "  'Ertesi gün elime ulaştı teşekkür ederim'],\n",
       " ['Ürün elime sorunsuz ulaştı teşekkürler :)',\n",
       "  'Güvenilir satıcı',\n",
       "  'Hızlı kargo hızlı teslimat teşekkür ederim',\n",
       "  '1 günde elime ulaştı. Hızlı gönderim.tavsiye ederim',\n",
       "  'Ürün elime çok iyi ulaştı teşekkürler',\n",
       "  'Hızlı ve özenli paketleme için teşekkürler'],\n",
       " ['Kitap kalitesi beklentimi karşıladı.\\nFiyat-içerik olarak uygun\\nTeşekkürler Hepsiburada. Çok memnun kaldım.\\n4-5 yaz kiz çocuklarının ilgisini çekebilecek güzel resimleri olan bir bir kitap.',\n",
       "  'Çocuklar için anlaşılabilir bir dille yazılmış. Bayıldım.',\n",
       "  'Başarılı',\n",
       "  'İçeriği güzel ancak kitaplar çok ince ve çok az sayfası var, beklentinin biraz altında kaldı. Firmaya hediyesi için teşekkür ederim.',\n",
       "  'Düşündüğüm tarzda bir set değil. Daha çok kelimeler var. Her kitap sonunda soru cevap tarzında birşey yapilsaymis daha güzel olurdu.']]"
      ]
     },
     "execution_count": 9,
     "metadata": {},
     "output_type": "execute_result"
    }
   ],
   "source": [
    "yorumlar[0:5]"
   ]
  },
  {
   "cell_type": "code",
   "execution_count": 10,
   "id": "415a00a7-49e8-477a-b15b-d587970bddb5",
   "metadata": {},
   "outputs": [
    {
     "data": {
      "text/plain": [
       "[['2022-05-09',\n",
       "  '2022-04-28',\n",
       "  '2022-05-05',\n",
       "  '2022-04-20',\n",
       "  '2022-04-25',\n",
       "  '2022-04-25',\n",
       "  '2022-04-25',\n",
       "  '2022-04-28',\n",
       "  '2022-04-29',\n",
       "  '2022-04-29'],\n",
       " ['2022-05-01',\n",
       "  '2022-05-05',\n",
       "  '2022-04-29',\n",
       "  '2022-04-28',\n",
       "  '2022-05-02',\n",
       "  '2022-05-02',\n",
       "  '2022-05-07',\n",
       "  '2022-05-07',\n",
       "  '2022-05-07',\n",
       "  '2022-05-08']]"
      ]
     },
     "execution_count": 10,
     "metadata": {},
     "output_type": "execute_result"
    }
   ],
   "source": [
    "tarihler[0:2]"
   ]
  },
  {
   "cell_type": "code",
   "execution_count": 11,
   "id": "6f4db0f4-0b4a-42c8-a03d-d05591bf4ba6",
   "metadata": {},
   "outputs": [
    {
     "data": {
      "text/plain": [
       "[['5', '5', '5', '5', '5', '5', '5', '5', '5', '5'],\n",
       " ['5', '5', '5', '5', '5', '5', '5', '5', '5', '5'],\n",
       " ['5', '5', '5', '5', '5', '5', '5', '5', '5', '5'],\n",
       " ['5', '5', '5', '5', '5', '5', '5', '5', '5', '5'],\n",
       " ['5', '5', '5', '4', '4', '5', '4', '4', '1']]"
      ]
     },
     "execution_count": 11,
     "metadata": {},
     "output_type": "execute_result"
    }
   ],
   "source": [
    "dereceler[0:5]"
   ]
  },
  {
   "cell_type": "code",
   "execution_count": 12,
   "id": "03ba107c-0cb7-4f1f-8e58-a9563eb14014",
   "metadata": {},
   "outputs": [],
   "source": [
    "tumYorumlar = []\n",
    "tumTarihler = []\n",
    "tumDereceler = []"
   ]
  },
  {
   "cell_type": "code",
   "execution_count": 13,
   "id": "e8ca6175-7d61-4e9b-ab18-816b22f6392b",
   "metadata": {},
   "outputs": [],
   "source": [
    "for i,j,k in zip(yorumlar, tarihler, dereceler):\n",
    "    for a in zip(i, j, k):\n",
    "        tumYorumlar.append(a[0])\n",
    "        tumTarihler.append(a[1])\n",
    "        tumDereceler.append(a[2])"
   ]
  },
  {
   "cell_type": "code",
   "execution_count": 14,
   "id": "ececed22-cc77-47ae-9097-001845c1a3ec",
   "metadata": {},
   "outputs": [],
   "source": [
    "df = pd.DataFrame({'tarih':tumTarihler, 'derece':tumDereceler, 'yorum':tumYorumlar})"
   ]
  },
  {
   "cell_type": "code",
   "execution_count": 15,
   "id": "b5f60018-15e0-405a-9b99-e86f58706d70",
   "metadata": {},
   "outputs": [
    {
     "data": {
      "text/html": [
       "<div>\n",
       "<style scoped>\n",
       "    .dataframe tbody tr th:only-of-type {\n",
       "        vertical-align: middle;\n",
       "    }\n",
       "\n",
       "    .dataframe tbody tr th {\n",
       "        vertical-align: top;\n",
       "    }\n",
       "\n",
       "    .dataframe thead th {\n",
       "        text-align: right;\n",
       "    }\n",
       "</style>\n",
       "<table border=\"1\" class=\"dataframe\">\n",
       "  <thead>\n",
       "    <tr style=\"text-align: right;\">\n",
       "      <th></th>\n",
       "      <th>tarih</th>\n",
       "      <th>derece</th>\n",
       "      <th>yorum</th>\n",
       "    </tr>\n",
       "  </thead>\n",
       "  <tbody>\n",
       "    <tr>\n",
       "      <th>0</th>\n",
       "      <td>2022-05-09</td>\n",
       "      <td>5</td>\n",
       "      <td>Güzel bir anlatımı var, henüz başındayım inşal...</td>\n",
       "    </tr>\n",
       "    <tr>\n",
       "      <th>1</th>\n",
       "      <td>2022-04-28</td>\n",
       "      <td>5</td>\n",
       "      <td>Süreci özetlerken; bazı konuları ıskalamış old...</td>\n",
       "    </tr>\n",
       "    <tr>\n",
       "      <th>2</th>\n",
       "      <td>2022-05-05</td>\n",
       "      <td>5</td>\n",
       "      <td>Guzel tespıtler var. Yazarın yayınlarını ızley...</td>\n",
       "    </tr>\n",
       "    <tr>\n",
       "      <th>3</th>\n",
       "      <td>2022-05-01</td>\n",
       "      <td>5</td>\n",
       "      <td>Ürün hasarsız bir şekilde geldi hiçbir yerinde...</td>\n",
       "    </tr>\n",
       "    <tr>\n",
       "      <th>4</th>\n",
       "      <td>2022-05-05</td>\n",
       "      <td>5</td>\n",
       "      <td>Cildi çok güzel. Ön siparişten aldığım için bi...</td>\n",
       "    </tr>\n",
       "  </tbody>\n",
       "</table>\n",
       "</div>"
      ],
      "text/plain": [
       "        tarih derece                                              yorum\n",
       "0  2022-05-09      5  Güzel bir anlatımı var, henüz başındayım inşal...\n",
       "1  2022-04-28      5  Süreci özetlerken; bazı konuları ıskalamış old...\n",
       "2  2022-05-05      5  Guzel tespıtler var. Yazarın yayınlarını ızley...\n",
       "3  2022-05-01      5  Ürün hasarsız bir şekilde geldi hiçbir yerinde...\n",
       "4  2022-05-05      5  Cildi çok güzel. Ön siparişten aldığım için bi..."
      ]
     },
     "execution_count": 15,
     "metadata": {},
     "output_type": "execute_result"
    }
   ],
   "source": [
    "df.head()"
   ]
  },
  {
   "cell_type": "code",
   "execution_count": 19,
   "id": "76e28781-f97e-4083-8165-892ca79e6042",
   "metadata": {},
   "outputs": [],
   "source": [
    "from pathlib import Path  \n",
    "filepath = Path('HB_Yorumlar/hb_yorumlar1.csv')  \n",
    "df.to_csv(filepath, index = False, sep = ',')"
   ]
  },
  {
   "cell_type": "code",
   "execution_count": 20,
   "id": "e70911d5-0ba4-4a9c-8018-0e25c215ce72",
   "metadata": {},
   "outputs": [
    {
     "name": "stdout",
     "output_type": "stream",
     "text": [
      "<class 'pandas.core.frame.DataFrame'>\n",
      "RangeIndex: 3615 entries, 0 to 3614\n",
      "Data columns (total 3 columns):\n",
      " #   Column  Non-Null Count  Dtype \n",
      "---  ------  --------------  ----- \n",
      " 0   tarih   3615 non-null   object\n",
      " 1   derece  3615 non-null   object\n",
      " 2   yorum   3615 non-null   object\n",
      "dtypes: object(3)\n",
      "memory usage: 84.9+ KB\n"
     ]
    }
   ],
   "source": [
    "df.info()"
   ]
  },
  {
   "cell_type": "code",
   "execution_count": 26,
   "id": "879ab748-0589-472f-9fd2-24eb1d8660de",
   "metadata": {},
   "outputs": [
    {
     "data": {
      "text/plain": [
       "5    3156\n",
       "4     278\n",
       "3      81\n",
       "1      76\n",
       "2      24\n",
       "Name: derece, dtype: int64"
      ]
     },
     "execution_count": 26,
     "metadata": {},
     "output_type": "execute_result"
    }
   ],
   "source": [
    "df.derece.value_counts()"
   ]
  },
  {
   "cell_type": "code",
   "execution_count": null,
   "id": "ccd97039-9c65-4c46-9b66-db6c0f081679",
   "metadata": {},
   "outputs": [],
   "source": []
  }
 ],
 "metadata": {
  "kernelspec": {
   "display_name": "Python 3 (ipykernel)",
   "language": "python",
   "name": "python3"
  },
  "language_info": {
   "codemirror_mode": {
    "name": "ipython",
    "version": 3
   },
   "file_extension": ".py",
   "mimetype": "text/x-python",
   "name": "python",
   "nbconvert_exporter": "python",
   "pygments_lexer": "ipython3",
   "version": "3.8.10"
  }
 },
 "nbformat": 4,
 "nbformat_minor": 5
}
