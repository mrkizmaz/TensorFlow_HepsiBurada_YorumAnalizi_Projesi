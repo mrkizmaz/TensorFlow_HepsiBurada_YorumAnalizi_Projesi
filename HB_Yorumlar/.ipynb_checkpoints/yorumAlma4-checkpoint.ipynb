{
 "cells": [
  {
   "cell_type": "code",
   "execution_count": 1,
   "id": "7666db3c-cdf7-4c0f-92de-2917353c24c3",
   "metadata": {},
   "outputs": [
    {
     "name": "stdout",
     "output_type": "stream",
     "text": [
      "İşlemler yapılandırılıyor. Lütfen bekleyiniz...\n",
      "Tüm işlemler başarılı bir şekilde tamamlandı.\n"
     ]
    }
   ],
   "source": [
    "# 1500-2000 arası ürünün yorumlarını alma islemi\n",
    "\n",
    "import re \n",
    "import requests\n",
    "import json\n",
    "import pandas as pd\n",
    "import numpy as np\n",
    "import time\n",
    "\n",
    "urunler = []\n",
    "with open(\"urunler.txt\", mode='r', encoding='utf-8') as file:\n",
    "    for line in file.readlines():\n",
    "        line = line.split('\\n')[0]\n",
    "        urunler.append(line)\n",
    "\n",
    "url = 'https://www.hepsiburada.com'\n",
    "headers = {'User-Agent': 'Mozilla/5.0'}\n",
    "\n",
    "yorumAra = '<span itemProp=\"description\">(.*?)</span>'\n",
    "tarihAra = '<span class=\"hermes-ReviewCard-module-3fj8Y\" itemProp=\"datePublished\" content=\"(.*?)\">'\n",
    "dereceAra = '<span itemProp=\"ratingValue\" content=\"(.*?)\"></span>'\n",
    "sayfalimitiAra = '<span class=\"hermes-PageHolder-module-1QoWq\">(.*?)</span>'\n",
    "\n",
    "yorumlar = []\n",
    "tarihler = []\n",
    "dereceler = []\n",
    "sayfaSayisi = 1 \n",
    "\n",
    "try:\n",
    "    print(\"İşlemler yapılandırılıyor. Lütfen bekleyiniz...\")\n",
    "    \n",
    "    for urun in urunler[1500:2000]:\n",
    "        yeniUrl = url + urun + '-yorumlari'\n",
    "    \n",
    "        for sayfa in range(sayfaSayisi):\n",
    "\n",
    "            yeniUrl2 = yeniUrl + '?sayfa=' + str(sayfa + 1)\n",
    "            session = requests.Session()\n",
    "            response = session.get(yeniUrl2, headers = headers).text\n",
    "\n",
    "            yorum_al = re.findall(yorumAra, response, re.MULTILINE | re.DOTALL)\n",
    "            tarih_al = re.findall(tarihAra, response)\n",
    "            derece_al = re.findall(dereceAra, response)\n",
    "\n",
    "            if len(yorum_al) > 0:\n",
    "                \n",
    "                yorumlar.append(yorum_al)\n",
    "                tarihler.append(tarih_al)\n",
    "                dereceler.append(derece_al)\n",
    "\n",
    "    print('Tüm işlemler başarılı bir şekilde tamamlandı.')\n",
    "except:\n",
    "    print(\"Bir hata oluştu. Hatayı kontrol ediniz!\")"
   ]
  },
  {
   "cell_type": "code",
   "execution_count": null,
   "id": "ee1a7cbb-96e6-4c4b-81ea-2f4da4d44ff1",
   "metadata": {},
   "outputs": [],
   "source": []
  },
  {
   "cell_type": "code",
   "execution_count": 3,
   "id": "c1054546-f992-402c-b14d-9db49778fd28",
   "metadata": {},
   "outputs": [],
   "source": [
    "tumYorumlar = []\n",
    "tumTarihler = []\n",
    "tumDereceler = []\n",
    "\n",
    "for i,j,k in zip(yorumlar, tarihler, dereceler):\n",
    "    for a in zip(i, j, k):\n",
    "        tumYorumlar.append(a[0])\n",
    "        tumTarihler.append(a[1])\n",
    "        tumDereceler.append(a[2])"
   ]
  },
  {
   "cell_type": "code",
   "execution_count": 4,
   "id": "cb078bdd-6a42-4fb2-ae2b-5b54fc83fcb6",
   "metadata": {},
   "outputs": [],
   "source": [
    "df = pd.DataFrame({'tarih':tumTarihler, 'derece':tumDereceler, 'yorum':tumYorumlar})"
   ]
  },
  {
   "cell_type": "code",
   "execution_count": 5,
   "id": "41757ac6-09b7-40f4-8052-fb5c8c104c32",
   "metadata": {},
   "outputs": [
    {
     "data": {
      "text/html": [
       "<div>\n",
       "<style scoped>\n",
       "    .dataframe tbody tr th:only-of-type {\n",
       "        vertical-align: middle;\n",
       "    }\n",
       "\n",
       "    .dataframe tbody tr th {\n",
       "        vertical-align: top;\n",
       "    }\n",
       "\n",
       "    .dataframe thead th {\n",
       "        text-align: right;\n",
       "    }\n",
       "</style>\n",
       "<table border=\"1\" class=\"dataframe\">\n",
       "  <thead>\n",
       "    <tr style=\"text-align: right;\">\n",
       "      <th></th>\n",
       "      <th>tarih</th>\n",
       "      <th>derece</th>\n",
       "      <th>yorum</th>\n",
       "    </tr>\n",
       "  </thead>\n",
       "  <tbody>\n",
       "    <tr>\n",
       "      <th>0</th>\n",
       "      <td>2022-04-25</td>\n",
       "      <td>5</td>\n",
       "      <td>Gayet güzel bir ürün hızlı teslimat hemen çözm...</td>\n",
       "    </tr>\n",
       "    <tr>\n",
       "      <th>1</th>\n",
       "      <td>2022-01-18</td>\n",
       "      <td>5</td>\n",
       "      <td>Teşekkürler hızlı kargo hepsi burada farkı</td>\n",
       "    </tr>\n",
       "    <tr>\n",
       "      <th>2</th>\n",
       "      <td>2022-02-03</td>\n",
       "      <td>5</td>\n",
       "      <td>Çok iyi hazırlanmış denemeler</td>\n",
       "    </tr>\n",
       "    <tr>\n",
       "      <th>3</th>\n",
       "      <td>2022-04-24</td>\n",
       "      <td>5</td>\n",
       "      <td>Benim hocam yayınları harika</td>\n",
       "    </tr>\n",
       "    <tr>\n",
       "      <th>4</th>\n",
       "      <td>2022-04-11</td>\n",
       "      <td>5</td>\n",
       "      <td>Herkesin sınava girmeden önce çözmesini tavsiy...</td>\n",
       "    </tr>\n",
       "  </tbody>\n",
       "</table>\n",
       "</div>"
      ],
      "text/plain": [
       "        tarih derece                                              yorum\n",
       "0  2022-04-25      5  Gayet güzel bir ürün hızlı teslimat hemen çözm...\n",
       "1  2022-01-18      5         Teşekkürler hızlı kargo hepsi burada farkı\n",
       "2  2022-02-03      5                      Çok iyi hazırlanmış denemeler\n",
       "3  2022-04-24      5                       Benim hocam yayınları harika\n",
       "4  2022-04-11      5  Herkesin sınava girmeden önce çözmesini tavsiy..."
      ]
     },
     "execution_count": 5,
     "metadata": {},
     "output_type": "execute_result"
    }
   ],
   "source": [
    "df.head()"
   ]
  },
  {
   "cell_type": "code",
   "execution_count": 6,
   "id": "f6c27085-e38d-440a-b676-0dad3b0af49f",
   "metadata": {},
   "outputs": [
    {
     "name": "stdout",
     "output_type": "stream",
     "text": [
      "<class 'pandas.core.frame.DataFrame'>\n",
      "RangeIndex: 3307 entries, 0 to 3306\n",
      "Data columns (total 3 columns):\n",
      " #   Column  Non-Null Count  Dtype \n",
      "---  ------  --------------  ----- \n",
      " 0   tarih   3307 non-null   object\n",
      " 1   derece  3307 non-null   object\n",
      " 2   yorum   3307 non-null   object\n",
      "dtypes: object(3)\n",
      "memory usage: 77.6+ KB\n"
     ]
    }
   ],
   "source": [
    "df.info()"
   ]
  },
  {
   "cell_type": "code",
   "execution_count": 8,
   "id": "53d3ac22-26f5-4743-95dd-1e2e2204f3e0",
   "metadata": {},
   "outputs": [],
   "source": [
    "from pathlib import Path  \n",
    "filepath = Path('HB_Yorumlar/hb_yorumlar4.csv')  \n",
    "df.to_csv(filepath, index = False, sep = ',')"
   ]
  },
  {
   "cell_type": "code",
   "execution_count": null,
   "id": "88c42a14-d925-4b29-93fa-8f407e3d497e",
   "metadata": {},
   "outputs": [],
   "source": []
  }
 ],
 "metadata": {
  "kernelspec": {
   "display_name": "Python 3 (ipykernel)",
   "language": "python",
   "name": "python3"
  },
  "language_info": {
   "codemirror_mode": {
    "name": "ipython",
    "version": 3
   },
   "file_extension": ".py",
   "mimetype": "text/x-python",
   "name": "python",
   "nbconvert_exporter": "python",
   "pygments_lexer": "ipython3",
   "version": "3.8.10"
  }
 },
 "nbformat": 4,
 "nbformat_minor": 5
}
