{
 "cells": [
  {
   "cell_type": "code",
   "execution_count": 1,
   "id": "223c6170-2fc8-4b15-93bd-8aeb54c716a9",
   "metadata": {},
   "outputs": [
    {
     "name": "stdout",
     "output_type": "stream",
     "text": [
      "İşlemler yapılandırılıyor. Lütfen bekleyiniz...\n",
      "Tüm işlemler başarılı bir şekilde tamamlandı.\n"
     ]
    }
   ],
   "source": [
    "# 500-1000 arası ürünün yorumlarını alma islemi\n",
    "\n",
    "import re \n",
    "import requests\n",
    "import json\n",
    "import pandas as pd\n",
    "import numpy as np\n",
    "import time\n",
    "\n",
    "urunler = []\n",
    "with open(\"urunler.txt\", mode='r', encoding='utf-8') as file:\n",
    "    for line in file.readlines():\n",
    "        line = line.split('\\n')[0]\n",
    "        urunler.append(line)\n",
    "\n",
    "url = 'https://www.hepsiburada.com'\n",
    "headers = {'User-Agent': 'Mozilla/5.0'}\n",
    "\n",
    "text = '<span class=\"hermes-ReviewCard-module-3fj8Y\" itemProp=\"datePublished\" content=\"(.*?)\">(.*?)<span itemProp=\"description\">(.*?)</span>(.*?)<span itemProp=\"ratingValue\" content=\"(.*?)\">'\n",
    "\n",
    "tarihler = []\n",
    "yorumlar = []\n",
    "puanlar = []\n",
    "sayfaSayisi = 1 \n",
    "\n",
    "try:\n",
    "    print(\"İşlemler yapılandırılıyor. Lütfen bekleyiniz...\")\n",
    "    \n",
    "    for urun in urunler[500:1000]:\n",
    "        yeniUrl = url + urun + '-yorumlari'\n",
    "    \n",
    "        for sayfa in range(sayfaSayisi):\n",
    "\n",
    "            yeniUrl2 = yeniUrl + '?sayfa=' + str(sayfa + 1)\n",
    "            session = requests.Session()\n",
    "            response = session.get(yeniUrl2, headers = headers).text\n",
    "\n",
    "            genelArama = re.findall(text, response, re.MULTILINE | re.DOTALL)\n",
    "\n",
    "            if len(genelArama) > 0:\n",
    "                \n",
    "                for i in genelArama:\n",
    "                    tarihler.append(i[0])\n",
    "                    yorumlar.append(i[2])\n",
    "                    puanlar.append(i[4])\n",
    "                \n",
    "    time.sleep(3)\n",
    "    print('Tüm işlemler başarılı bir şekilde tamamlandı.')\n",
    "except:\n",
    "    print(\"Bir hata oluştu. Hatayı kontrol ediniz!\")"
   ]
  },
  {
   "cell_type": "code",
   "execution_count": 2,
   "id": "87c9eba6-71be-4b1b-b1b6-7a91fbb12be8",
   "metadata": {},
   "outputs": [
    {
     "data": {
      "text/plain": [
       "(2862, 2862, 2862)"
      ]
     },
     "execution_count": 2,
     "metadata": {},
     "output_type": "execute_result"
    }
   ],
   "source": [
    "len(tarihler), len(puanlar), len(yorumlar)"
   ]
  },
  {
   "cell_type": "code",
   "execution_count": 3,
   "id": "757992d9-f4a0-4681-bc4a-22e31c064802",
   "metadata": {},
   "outputs": [
    {
     "data": {
      "text/plain": [
       "['Ürün bir gün sonra elime ulaştı. Çok güzel sesi/tınısı olan bir gitar. Boyuna göre gayet yüksek bir sese sahip. Taşınırken herhangi bir hasar görmemiş çok güzel paketlenmiş. Kesinlikle tavsiye ediyorum.',\n",
       " 'Başlangıç için güzel gitar',\n",
       " 'Gitarın sesi tonu mükemmel akorunu yapınca muhteşem net bir ses veriyor alacak olanlara kesinlikle tavsiye ederim, yanında verilen kılıfı diğer mağzalarınki gibi kalitesiz değil çok güzel kaliteli bir kılıfla göndermişler yanında birde stagg pena çıktı memnun kaldım. İnternetten almaya korkuyorsanız kesinlikle tercihiniz kaysar müzik olsun gerek uygun fiyat gerek gönderi paketleme kalitesi, kargocular istesede kıramazlar o derece güzel paketlenmiş. Kendilerine çok teşekkür ediyorum.',\n",
       " 'Öncelikle çok tedirgin bir şekilde siparişimi verdim. Acaba iyi gelir mi , kargoda kırılır mı diye korkuyordum ama harika bir şekilde paketlenmiş olarak geldi.Bir tane çizik bile yoktu.Gitarda hiçbir kusur yok  sesi müthiş.Fiyat performans bir gitar arıyorsanız eğer tavsiye ederim.Tam anlamı ile  B-A-Y-I-L-D-I-M !',\n",
       " 'Gitar bu fiyata muaazam ve Kaysar müzik gitarı bir bebeği korurcasına öyle güzel paketlemiş ki helal olsun kılıf da çok güzel süngerli, bu hizmet anlayışını görmek gurur verdi, hem gitarı hem de satıcıyı fazlasıyla tavsiye ederim']"
      ]
     },
     "execution_count": 3,
     "metadata": {},
     "output_type": "execute_result"
    }
   ],
   "source": [
    "yorumlar[0:5]"
   ]
  },
  {
   "cell_type": "code",
   "execution_count": 4,
   "id": "fb15c235-ac5b-461c-9190-100d0c4c2ada",
   "metadata": {},
   "outputs": [
    {
     "data": {
      "text/plain": [
       "['2020-09-26', '2022-01-19']"
      ]
     },
     "execution_count": 4,
     "metadata": {},
     "output_type": "execute_result"
    }
   ],
   "source": [
    "tarihler[0:2]"
   ]
  },
  {
   "cell_type": "code",
   "execution_count": 5,
   "id": "5e3ccfb1-2fb2-4ccc-8258-1d5eaba8b355",
   "metadata": {},
   "outputs": [
    {
     "data": {
      "text/plain": [
       "['5', '4', '5', '5', '5']"
      ]
     },
     "execution_count": 5,
     "metadata": {},
     "output_type": "execute_result"
    }
   ],
   "source": [
    "puanlar[0:5]"
   ]
  },
  {
   "cell_type": "code",
   "execution_count": 6,
   "id": "ccfbcc2c-455d-452d-8596-b56ba8775816",
   "metadata": {},
   "outputs": [],
   "source": [
    "df = pd.DataFrame({'tarih':tarihler, 'puan':puanlar, 'yorum':yorumlar})"
   ]
  },
  {
   "cell_type": "code",
   "execution_count": 7,
   "id": "c37d777e-68b5-44e4-a1e8-0485fa3c0e8b",
   "metadata": {},
   "outputs": [
    {
     "data": {
      "text/html": [
       "<div>\n",
       "<style scoped>\n",
       "    .dataframe tbody tr th:only-of-type {\n",
       "        vertical-align: middle;\n",
       "    }\n",
       "\n",
       "    .dataframe tbody tr th {\n",
       "        vertical-align: top;\n",
       "    }\n",
       "\n",
       "    .dataframe thead th {\n",
       "        text-align: right;\n",
       "    }\n",
       "</style>\n",
       "<table border=\"1\" class=\"dataframe\">\n",
       "  <thead>\n",
       "    <tr style=\"text-align: right;\">\n",
       "      <th></th>\n",
       "      <th>tarih</th>\n",
       "      <th>puan</th>\n",
       "      <th>yorum</th>\n",
       "    </tr>\n",
       "  </thead>\n",
       "  <tbody>\n",
       "    <tr>\n",
       "      <th>0</th>\n",
       "      <td>2020-09-26</td>\n",
       "      <td>5</td>\n",
       "      <td>Ürün bir gün sonra elime ulaştı. Çok güzel ses...</td>\n",
       "    </tr>\n",
       "    <tr>\n",
       "      <th>1</th>\n",
       "      <td>2022-01-19</td>\n",
       "      <td>4</td>\n",
       "      <td>Başlangıç için güzel gitar</td>\n",
       "    </tr>\n",
       "    <tr>\n",
       "      <th>2</th>\n",
       "      <td>2020-08-21</td>\n",
       "      <td>5</td>\n",
       "      <td>Gitarın sesi tonu mükemmel akorunu yapınca muh...</td>\n",
       "    </tr>\n",
       "    <tr>\n",
       "      <th>3</th>\n",
       "      <td>2021-01-21</td>\n",
       "      <td>5</td>\n",
       "      <td>Öncelikle çok tedirgin bir şekilde siparişimi ...</td>\n",
       "    </tr>\n",
       "    <tr>\n",
       "      <th>4</th>\n",
       "      <td>2020-08-31</td>\n",
       "      <td>5</td>\n",
       "      <td>Gitar bu fiyata muaazam ve Kaysar müzik gitarı...</td>\n",
       "    </tr>\n",
       "  </tbody>\n",
       "</table>\n",
       "</div>"
      ],
      "text/plain": [
       "        tarih puan                                              yorum\n",
       "0  2020-09-26    5  Ürün bir gün sonra elime ulaştı. Çok güzel ses...\n",
       "1  2022-01-19    4                         Başlangıç için güzel gitar\n",
       "2  2020-08-21    5  Gitarın sesi tonu mükemmel akorunu yapınca muh...\n",
       "3  2021-01-21    5  Öncelikle çok tedirgin bir şekilde siparişimi ...\n",
       "4  2020-08-31    5  Gitar bu fiyata muaazam ve Kaysar müzik gitarı..."
      ]
     },
     "execution_count": 7,
     "metadata": {},
     "output_type": "execute_result"
    }
   ],
   "source": [
    "df.head()"
   ]
  },
  {
   "cell_type": "code",
   "execution_count": 8,
   "id": "808f5630-6d21-4971-94ab-4a8f030e232e",
   "metadata": {},
   "outputs": [
    {
     "name": "stdout",
     "output_type": "stream",
     "text": [
      "<class 'pandas.core.frame.DataFrame'>\n",
      "RangeIndex: 2862 entries, 0 to 2861\n",
      "Data columns (total 3 columns):\n",
      " #   Column  Non-Null Count  Dtype \n",
      "---  ------  --------------  ----- \n",
      " 0   tarih   2862 non-null   object\n",
      " 1   puan    2862 non-null   object\n",
      " 2   yorum   2862 non-null   object\n",
      "dtypes: object(3)\n",
      "memory usage: 67.2+ KB\n"
     ]
    }
   ],
   "source": [
    "df.info()"
   ]
  },
  {
   "cell_type": "code",
   "execution_count": 9,
   "id": "eb08d3b3-555b-481c-ae41-8817aac7c6bd",
   "metadata": {},
   "outputs": [
    {
     "data": {
      "text/plain": [
       "5    2321\n",
       "4     351\n",
       "3      92\n",
       "1      78\n",
       "2      20\n",
       "Name: puan, dtype: int64"
      ]
     },
     "execution_count": 9,
     "metadata": {},
     "output_type": "execute_result"
    }
   ],
   "source": [
    "df.puan.value_counts()"
   ]
  },
  {
   "cell_type": "code",
   "execution_count": null,
   "id": "8e567045-f412-4c7c-922a-d9f1dfec172c",
   "metadata": {},
   "outputs": [],
   "source": []
  },
  {
   "cell_type": "code",
   "execution_count": 10,
   "id": "aea600ce-5344-463a-9439-2f79d9ab4648",
   "metadata": {},
   "outputs": [],
   "source": [
    "from pathlib import Path  \n",
    "filepath = Path('hb_yorumlar2.csv')  \n",
    "df.to_csv(filepath, index = False, sep = ',')"
   ]
  },
  {
   "cell_type": "code",
   "execution_count": null,
   "id": "17206aed-e10e-4658-998a-8a0bc822f585",
   "metadata": {},
   "outputs": [],
   "source": []
  }
 ],
 "metadata": {
  "kernelspec": {
   "display_name": "Python 3 (ipykernel)",
   "language": "python",
   "name": "python3"
  },
  "language_info": {
   "codemirror_mode": {
    "name": "ipython",
    "version": 3
   },
   "file_extension": ".py",
   "mimetype": "text/x-python",
   "name": "python",
   "nbconvert_exporter": "python",
   "pygments_lexer": "ipython3",
   "version": "3.8.10"
  }
 },
 "nbformat": 4,
 "nbformat_minor": 5
}
