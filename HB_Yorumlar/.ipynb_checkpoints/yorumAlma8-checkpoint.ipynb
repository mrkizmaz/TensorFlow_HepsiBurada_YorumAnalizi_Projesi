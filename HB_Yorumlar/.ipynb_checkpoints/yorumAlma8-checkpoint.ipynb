{
 "cells": [
  {
   "cell_type": "code",
   "execution_count": 1,
   "id": "e0ebd8f7-5c71-400f-8b4f-81eb7e5295ff",
   "metadata": {},
   "outputs": [
    {
     "name": "stdout",
     "output_type": "stream",
     "text": [
      "İşlemler yapılandırılıyor. Lütfen bekleyiniz...\n",
      "Tüm işlemler başarılı bir şekilde tamamlandı.\n"
     ]
    }
   ],
   "source": [
    "# 3500-4000 arası ürünün yorumlarını alma islemi\n",
    "\n",
    "import re \n",
    "import requests\n",
    "import json\n",
    "import pandas as pd\n",
    "import numpy as np\n",
    "import time\n",
    "\n",
    "urunler = []\n",
    "with open(\"urunler.txt\", mode='r', encoding='utf-8') as file:\n",
    "    for line in file.readlines():\n",
    "        line = line.split('\\n')[0]\n",
    "        urunler.append(line)\n",
    "\n",
    "url = 'https://www.hepsiburada.com'\n",
    "headers = {'User-Agent': 'Mozilla/5.0'}\n",
    "\n",
    "yorumAra = '<span itemProp=\"description\">(.*?)</span>'\n",
    "tarihAra = '<span class=\"hermes-ReviewCard-module-3fj8Y\" itemProp=\"datePublished\" content=\"(.*?)\">'\n",
    "dereceAra = '<span itemProp=\"ratingValue\" content=\"(.*?)\"></span>'\n",
    "sayfalimitiAra = '<span class=\"hermes-PageHolder-module-1QoWq\">(.*?)</span>'\n",
    "\n",
    "yorumlar = []\n",
    "tarihler = []\n",
    "dereceler = []\n",
    "sayfaSayisi = 1 \n",
    "\n",
    "try:\n",
    "    print(\"İşlemler yapılandırılıyor. Lütfen bekleyiniz...\")\n",
    "    \n",
    "    for urun in urunler[3500:4000]:\n",
    "        yeniUrl = url + urun + '-yorumlari'\n",
    "    \n",
    "        for sayfa in range(sayfaSayisi):\n",
    "\n",
    "            yeniUrl2 = yeniUrl + '?sayfa=' + str(sayfa + 1)\n",
    "            session = requests.Session()\n",
    "            response = session.get(yeniUrl2, headers = headers).text\n",
    "\n",
    "            yorum_al = re.findall(yorumAra, response, re.MULTILINE | re.DOTALL)\n",
    "            tarih_al = re.findall(tarihAra, response)\n",
    "            derece_al = re.findall(dereceAra, response)\n",
    "\n",
    "            if len(yorum_al) > 0:\n",
    "                \n",
    "                yorumlar.append(yorum_al)\n",
    "                tarihler.append(tarih_al)\n",
    "                dereceler.append(derece_al)\n",
    "    \n",
    "    time.sleep(3)\n",
    "    print('Tüm işlemler başarılı bir şekilde tamamlandı.')\n",
    "except:\n",
    "    print(\"Bir hata oluştu. Hatayı kontrol ediniz!\")"
   ]
  },
  {
   "cell_type": "code",
   "execution_count": 2,
   "id": "c37b00bb-50c8-47de-aed3-34295fdf93b7",
   "metadata": {},
   "outputs": [],
   "source": [
    "tumYorumlar = []\n",
    "tumTarihler = []\n",
    "tumDereceler = []\n",
    "\n",
    "for i,j,k in zip(yorumlar, tarihler, dereceler):\n",
    "    for a in zip(i, j, k):\n",
    "        tumYorumlar.append(a[0])\n",
    "        tumTarihler.append(a[1])\n",
    "        tumDereceler.append(a[2])"
   ]
  },
  {
   "cell_type": "code",
   "execution_count": 3,
   "id": "62fed814-6254-48ae-bdfa-68a563228483",
   "metadata": {},
   "outputs": [],
   "source": [
    "df = pd.DataFrame({'tarih':tumTarihler, 'derece':tumDereceler, 'yorum':tumYorumlar})"
   ]
  },
  {
   "cell_type": "code",
   "execution_count": 4,
   "id": "368485ed-2b72-44e7-be4c-f75e9106a432",
   "metadata": {},
   "outputs": [
    {
     "data": {
      "text/html": [
       "<div>\n",
       "<style scoped>\n",
       "    .dataframe tbody tr th:only-of-type {\n",
       "        vertical-align: middle;\n",
       "    }\n",
       "\n",
       "    .dataframe tbody tr th {\n",
       "        vertical-align: top;\n",
       "    }\n",
       "\n",
       "    .dataframe thead th {\n",
       "        text-align: right;\n",
       "    }\n",
       "</style>\n",
       "<table border=\"1\" class=\"dataframe\">\n",
       "  <thead>\n",
       "    <tr style=\"text-align: right;\">\n",
       "      <th></th>\n",
       "      <th>tarih</th>\n",
       "      <th>derece</th>\n",
       "      <th>yorum</th>\n",
       "    </tr>\n",
       "  </thead>\n",
       "  <tbody>\n",
       "    <tr>\n",
       "      <th>0</th>\n",
       "      <td>2022-04-09</td>\n",
       "      <td>5</td>\n",
       "      <td>Sorunsuz ulaştı teşekkürler</td>\n",
       "    </tr>\n",
       "    <tr>\n",
       "      <th>1</th>\n",
       "      <td>2022-02-19</td>\n",
       "      <td>5</td>\n",
       "      <td>Beklediğim gibi güzel</td>\n",
       "    </tr>\n",
       "    <tr>\n",
       "      <th>2</th>\n",
       "      <td>2021-08-16</td>\n",
       "      <td>5</td>\n",
       "      <td>Uygun fiyat ve hızlı kargolama işimizi kolayla...</td>\n",
       "    </tr>\n",
       "    <tr>\n",
       "      <th>3</th>\n",
       "      <td>2021-10-19</td>\n",
       "      <td>5</td>\n",
       "      <td>fiyatına göre gayet iyi. pahalı modellerden al...</td>\n",
       "    </tr>\n",
       "    <tr>\n",
       "      <th>4</th>\n",
       "      <td>2022-03-23</td>\n",
       "      <td>5</td>\n",
       "      <td>Çok iyi</td>\n",
       "    </tr>\n",
       "  </tbody>\n",
       "</table>\n",
       "</div>"
      ],
      "text/plain": [
       "        tarih derece                                              yorum\n",
       "0  2022-04-09      5                        Sorunsuz ulaştı teşekkürler\n",
       "1  2022-02-19      5                              Beklediğim gibi güzel\n",
       "2  2021-08-16      5  Uygun fiyat ve hızlı kargolama işimizi kolayla...\n",
       "3  2021-10-19      5  fiyatına göre gayet iyi. pahalı modellerden al...\n",
       "4  2022-03-23      5                                            Çok iyi"
      ]
     },
     "execution_count": 4,
     "metadata": {},
     "output_type": "execute_result"
    }
   ],
   "source": [
    "df.head()"
   ]
  },
  {
   "cell_type": "code",
   "execution_count": 5,
   "id": "f5f36ad9-438a-4737-9553-926c1b00d45c",
   "metadata": {},
   "outputs": [
    {
     "name": "stdout",
     "output_type": "stream",
     "text": [
      "<class 'pandas.core.frame.DataFrame'>\n",
      "RangeIndex: 4355 entries, 0 to 4354\n",
      "Data columns (total 3 columns):\n",
      " #   Column  Non-Null Count  Dtype \n",
      "---  ------  --------------  ----- \n",
      " 0   tarih   4355 non-null   object\n",
      " 1   derece  4355 non-null   object\n",
      " 2   yorum   4355 non-null   object\n",
      "dtypes: object(3)\n",
      "memory usage: 102.2+ KB\n"
     ]
    }
   ],
   "source": [
    "df.info()"
   ]
  },
  {
   "cell_type": "code",
   "execution_count": 6,
   "id": "aa1dad72-3fd2-4cd0-a1db-667db8c66729",
   "metadata": {},
   "outputs": [],
   "source": [
    "from pathlib import Path  \n",
    "filepath = Path('hb_yorumlar8.csv')  \n",
    "df.to_csv(filepath, index = False, sep = ',')"
   ]
  },
  {
   "cell_type": "code",
   "execution_count": null,
   "id": "ea863bc9-3eea-4b28-8650-a463b8e71622",
   "metadata": {},
   "outputs": [],
   "source": []
  }
 ],
 "metadata": {
  "kernelspec": {
   "display_name": "Python 3 (ipykernel)",
   "language": "python",
   "name": "python3"
  },
  "language_info": {
   "codemirror_mode": {
    "name": "ipython",
    "version": 3
   },
   "file_extension": ".py",
   "mimetype": "text/x-python",
   "name": "python",
   "nbconvert_exporter": "python",
   "pygments_lexer": "ipython3",
   "version": "3.8.10"
  }
 },
 "nbformat": 4,
 "nbformat_minor": 5
}
