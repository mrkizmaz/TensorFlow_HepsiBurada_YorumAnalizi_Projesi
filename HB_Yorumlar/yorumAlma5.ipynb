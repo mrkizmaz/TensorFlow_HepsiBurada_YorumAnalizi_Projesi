{
 "cells": [
  {
   "cell_type": "code",
   "execution_count": 1,
   "id": "3b12e8f6-398c-41a2-8f80-7e9bd5170c3e",
   "metadata": {},
   "outputs": [
    {
     "name": "stdout",
     "output_type": "stream",
     "text": [
      "İşlemler yapılandırılıyor. Lütfen bekleyiniz...\n",
      "Tüm işlemler başarılı bir şekilde tamamlandı.\n"
     ]
    }
   ],
   "source": [
    "# 2000-2500 arası ürünün yorumlarını alma islemi\n",
    "\n",
    "import re \n",
    "import requests\n",
    "import json\n",
    "import pandas as pd\n",
    "import numpy as np\n",
    "import time\n",
    "\n",
    "urunler = []\n",
    "with open(\"urunler.txt\", mode='r', encoding='utf-8') as file:\n",
    "    for line in file.readlines():\n",
    "        line = line.split('\\n')[0]\n",
    "        urunler.append(line)\n",
    "\n",
    "url = 'https://www.hepsiburada.com'\n",
    "headers = {'User-Agent': 'Mozilla/5.0'}\n",
    "\n",
    "yorumAra = '<span itemProp=\"description\">(.*?)</span>'\n",
    "tarihAra = '<span class=\"hermes-ReviewCard-module-3fj8Y\" itemProp=\"datePublished\" content=\"(.*?)\">'\n",
    "dereceAra = '<span itemProp=\"ratingValue\" content=\"(.*?)\"></span>'\n",
    "sayfalimitiAra = '<span class=\"hermes-PageHolder-module-1QoWq\">(.*?)</span>'\n",
    "\n",
    "yorumlar = []\n",
    "tarihler = []\n",
    "dereceler = []\n",
    "sayfaSayisi = 1 \n",
    "\n",
    "try:\n",
    "    print(\"İşlemler yapılandırılıyor. Lütfen bekleyiniz...\")\n",
    "    \n",
    "    for urun in urunler[2000:2500]:\n",
    "        yeniUrl = url + urun + '-yorumlari'\n",
    "    \n",
    "        for sayfa in range(sayfaSayisi):\n",
    "\n",
    "            yeniUrl2 = yeniUrl + '?sayfa=' + str(sayfa + 1)\n",
    "            session = requests.Session()\n",
    "            response = session.get(yeniUrl2, headers = headers).text\n",
    "\n",
    "            yorum_al = re.findall(yorumAra, response, re.MULTILINE | re.DOTALL)\n",
    "            tarih_al = re.findall(tarihAra, response)\n",
    "            derece_al = re.findall(dereceAra, response)\n",
    "\n",
    "            if len(yorum_al) > 0:\n",
    "                \n",
    "                yorumlar.append(yorum_al)\n",
    "                tarihler.append(tarih_al)\n",
    "                dereceler.append(derece_al)\n",
    "\n",
    "    print('Tüm işlemler başarılı bir şekilde tamamlandı.')\n",
    "except:\n",
    "    print(\"Bir hata oluştu. Hatayı kontrol ediniz!\")"
   ]
  },
  {
   "cell_type": "code",
   "execution_count": null,
   "id": "df4790bf-5923-41c8-9828-5903f3593320",
   "metadata": {},
   "outputs": [],
   "source": []
  },
  {
   "cell_type": "code",
   "execution_count": 2,
   "id": "6f9909d0-880b-4cfc-a9c9-90256f40f706",
   "metadata": {},
   "outputs": [],
   "source": [
    "tumYorumlar = []\n",
    "tumTarihler = []\n",
    "tumDereceler = []\n",
    "\n",
    "for i,j,k in zip(yorumlar, tarihler, dereceler):\n",
    "    for a in zip(i, j, k):\n",
    "        tumYorumlar.append(a[0])\n",
    "        tumTarihler.append(a[1])\n",
    "        tumDereceler.append(a[2])"
   ]
  },
  {
   "cell_type": "code",
   "execution_count": 3,
   "id": "59ed25da-cb83-4222-8e56-94fd114d639b",
   "metadata": {},
   "outputs": [],
   "source": [
    "df = pd.DataFrame({'tarih':tumTarihler, 'derece':tumDereceler, 'yorum':tumYorumlar})"
   ]
  },
  {
   "cell_type": "code",
   "execution_count": 4,
   "id": "29bcf136-3f0a-4736-9480-a833da9bf944",
   "metadata": {},
   "outputs": [
    {
     "data": {
      "text/html": [
       "<div>\n",
       "<style scoped>\n",
       "    .dataframe tbody tr th:only-of-type {\n",
       "        vertical-align: middle;\n",
       "    }\n",
       "\n",
       "    .dataframe tbody tr th {\n",
       "        vertical-align: top;\n",
       "    }\n",
       "\n",
       "    .dataframe thead th {\n",
       "        text-align: right;\n",
       "    }\n",
       "</style>\n",
       "<table border=\"1\" class=\"dataframe\">\n",
       "  <thead>\n",
       "    <tr style=\"text-align: right;\">\n",
       "      <th></th>\n",
       "      <th>tarih</th>\n",
       "      <th>derece</th>\n",
       "      <th>yorum</th>\n",
       "    </tr>\n",
       "  </thead>\n",
       "  <tbody>\n",
       "    <tr>\n",
       "      <th>0</th>\n",
       "      <td>2022-02-17</td>\n",
       "      <td>5</td>\n",
       "      <td>Derece yapan ogrencilerin tavsiyesi uzerine al...</td>\n",
       "    </tr>\n",
       "    <tr>\n",
       "      <th>1</th>\n",
       "      <td>2022-05-07</td>\n",
       "      <td>5</td>\n",
       "      <td>2 gün önce sipariş ettim bu arada elime ulaştı...</td>\n",
       "    </tr>\n",
       "    <tr>\n",
       "      <th>2</th>\n",
       "      <td>2022-02-23</td>\n",
       "      <td>5</td>\n",
       "      <td>Paketleme özenliydi kitap çok güzel teşekkürler</td>\n",
       "    </tr>\n",
       "    <tr>\n",
       "      <th>3</th>\n",
       "      <td>2022-03-10</td>\n",
       "      <td>5</td>\n",
       "      <td>YKS çalışırken almıştım kendime gerçekten çok ...</td>\n",
       "    </tr>\n",
       "    <tr>\n",
       "      <th>4</th>\n",
       "      <td>2022-02-17</td>\n",
       "      <td>5</td>\n",
       "      <td>Ürün hasarsız geldi. Yanında bir de ayt kimya ...</td>\n",
       "    </tr>\n",
       "  </tbody>\n",
       "</table>\n",
       "</div>"
      ],
      "text/plain": [
       "        tarih derece                                              yorum\n",
       "0  2022-02-17      5  Derece yapan ogrencilerin tavsiyesi uzerine al...\n",
       "1  2022-05-07      5  2 gün önce sipariş ettim bu arada elime ulaştı...\n",
       "2  2022-02-23      5    Paketleme özenliydi kitap çok güzel teşekkürler\n",
       "3  2022-03-10      5  YKS çalışırken almıştım kendime gerçekten çok ...\n",
       "4  2022-02-17      5  Ürün hasarsız geldi. Yanında bir de ayt kimya ..."
      ]
     },
     "execution_count": 4,
     "metadata": {},
     "output_type": "execute_result"
    }
   ],
   "source": [
    "df.head()"
   ]
  },
  {
   "cell_type": "code",
   "execution_count": 5,
   "id": "24670886-954e-447e-83e1-633b047929c5",
   "metadata": {},
   "outputs": [
    {
     "name": "stdout",
     "output_type": "stream",
     "text": [
      "<class 'pandas.core.frame.DataFrame'>\n",
      "RangeIndex: 3832 entries, 0 to 3831\n",
      "Data columns (total 3 columns):\n",
      " #   Column  Non-Null Count  Dtype \n",
      "---  ------  --------------  ----- \n",
      " 0   tarih   3832 non-null   object\n",
      " 1   derece  3832 non-null   object\n",
      " 2   yorum   3832 non-null   object\n",
      "dtypes: object(3)\n",
      "memory usage: 89.9+ KB\n"
     ]
    }
   ],
   "source": [
    "df.info()"
   ]
  },
  {
   "cell_type": "code",
   "execution_count": 6,
   "id": "8071ca12-3ef9-4759-a367-6c51887774a9",
   "metadata": {},
   "outputs": [],
   "source": [
    "from pathlib import Path  \n",
    "filepath = Path('HB_Yorumlar/hb_yorumlar5.csv')  \n",
    "df.to_csv(filepath, index = False, sep = ',')"
   ]
  },
  {
   "cell_type": "code",
   "execution_count": null,
   "id": "0617825b-5f03-45f9-8693-5746aac6197c",
   "metadata": {},
   "outputs": [],
   "source": []
  }
 ],
 "metadata": {
  "kernelspec": {
   "display_name": "Python 3 (ipykernel)",
   "language": "python",
   "name": "python3"
  },
  "language_info": {
   "codemirror_mode": {
    "name": "ipython",
    "version": 3
   },
   "file_extension": ".py",
   "mimetype": "text/x-python",
   "name": "python",
   "nbconvert_exporter": "python",
   "pygments_lexer": "ipython3",
   "version": "3.8.10"
  }
 },
 "nbformat": 4,
 "nbformat_minor": 5
}
