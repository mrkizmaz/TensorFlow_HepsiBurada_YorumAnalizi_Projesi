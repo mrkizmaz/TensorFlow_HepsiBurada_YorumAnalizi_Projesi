{
 "cells": [
  {
   "cell_type": "code",
   "execution_count": 1,
   "id": "59f9e2ae-b2f9-4597-98c9-53810f282a67",
   "metadata": {},
   "outputs": [
    {
     "name": "stdout",
     "output_type": "stream",
     "text": [
      "İşlemler yapılandırılıyor. Lütfen bekleyiniz...\n",
      "Tüm işlemler başarılı bir şekilde tamamlandı.\n"
     ]
    }
   ],
   "source": [
    "# 2000-2500 arası ürünün yorumlarını alma islemi\n",
    "\n",
    "import re \n",
    "import requests\n",
    "import json\n",
    "import pandas as pd\n",
    "import numpy as np\n",
    "import time\n",
    "\n",
    "urunler = []\n",
    "with open(\"urunler.txt\", mode='r', encoding='utf-8') as file:\n",
    "    for line in file.readlines():\n",
    "        line = line.split('\\n')[0]\n",
    "        urunler.append(line)\n",
    "\n",
    "url = 'https://www.hepsiburada.com'\n",
    "headers = {'User-Agent': 'Mozilla/5.0'}\n",
    "\n",
    "text = '<span class=\"hermes-ReviewCard-module-3fj8Y\" itemProp=\"datePublished\" content=\"(.*?)\">(.*?)<span itemProp=\"description\">(.*?)</span>(.*?)<span itemProp=\"ratingValue\" content=\"(.*?)\">'\n",
    "\n",
    "tarihler = []\n",
    "yorumlar = []\n",
    "puanlar = []\n",
    "sayfaSayisi = 1 \n",
    "\n",
    "try:\n",
    "    print(\"İşlemler yapılandırılıyor. Lütfen bekleyiniz...\")\n",
    "    \n",
    "    for urun in urunler[2000:2500]:\n",
    "        yeniUrl = url + urun + '-yorumlari'\n",
    "    \n",
    "        for sayfa in range(sayfaSayisi):\n",
    "\n",
    "            yeniUrl2 = yeniUrl + '?sayfa=' + str(sayfa + 1)\n",
    "            session = requests.Session()\n",
    "            response = session.get(yeniUrl2, headers = headers).text\n",
    "\n",
    "            genelArama = re.findall(text, response, re.MULTILINE | re.DOTALL)\n",
    "\n",
    "            if len(genelArama) > 0:\n",
    "                \n",
    "                for i in genelArama:\n",
    "                    tarihler.append(i[0])\n",
    "                    yorumlar.append(i[2])\n",
    "                    puanlar.append(i[4])\n",
    "                \n",
    "    time.sleep(3)\n",
    "    print('Tüm işlemler başarılı bir şekilde tamamlandı.')\n",
    "except:\n",
    "    print(\"Bir hata oluştu. Hatayı kontrol ediniz!\")"
   ]
  },
  {
   "cell_type": "code",
   "execution_count": 2,
   "id": "02d38052-27ec-4ecb-af34-125180bd6cc5",
   "metadata": {},
   "outputs": [
    {
     "data": {
      "text/plain": [
       "(3839, 3839, 3839)"
      ]
     },
     "execution_count": 2,
     "metadata": {},
     "output_type": "execute_result"
    }
   ],
   "source": [
    "len(tarihler), len(puanlar), len(yorumlar)"
   ]
  },
  {
   "cell_type": "code",
   "execution_count": 3,
   "id": "d6b300e4-27d8-471d-8e72-6068ee5ade91",
   "metadata": {},
   "outputs": [
    {
     "data": {
      "text/plain": [
       "['Derece yapan ogrencilerin tavsiyesi uzerine aldim. Bence sinava girecek her ogrencinin cozmesi gerekiyor. Icerisinde 10 farkli yayinin tyt denemesi var ve ek olarak 2021 tyt cikmis sorular da var. 2022 model ve yeni nesil sorulari icermesi bakimindan da cok yararli.',\n",
       " '2 gün önce sipariş ettim bu arada elime ulaştı soruları vs gayet güzel kargosu da hızlıydı',\n",
       " 'Paketleme özenliydi kitap çok güzel teşekkürler',\n",
       " 'YKS çalışırken almıştım kendime gerçekten çok güzel bir kaynak şimdi arkadaşıma aldım. Gönül rahatlığıyla sipariş edebilirsiniz. İyi dersler :&#039;)',\n",
       " 'Ürün hasarsız geldi. Yanında bir de ayt kimya test göndermişler teşekkürlerr']"
      ]
     },
     "execution_count": 3,
     "metadata": {},
     "output_type": "execute_result"
    }
   ],
   "source": [
    "yorumlar[0:5]"
   ]
  },
  {
   "cell_type": "code",
   "execution_count": 4,
   "id": "05b429a2-c4b4-4f60-89ae-c3a471f4d50a",
   "metadata": {},
   "outputs": [
    {
     "data": {
      "text/plain": [
       "['2022-02-17', '2022-05-07', '2022-02-23', '2022-03-10', '2022-02-17']"
      ]
     },
     "execution_count": 4,
     "metadata": {},
     "output_type": "execute_result"
    }
   ],
   "source": [
    "tarihler[0:5]"
   ]
  },
  {
   "cell_type": "code",
   "execution_count": 5,
   "id": "41428cd4-f70f-4536-8718-1e554b2db4be",
   "metadata": {},
   "outputs": [
    {
     "data": {
      "text/plain": [
       "['5', '5', '5', '5', '5']"
      ]
     },
     "execution_count": 5,
     "metadata": {},
     "output_type": "execute_result"
    }
   ],
   "source": [
    "puanlar[0:5]"
   ]
  },
  {
   "cell_type": "code",
   "execution_count": 6,
   "id": "e764f9a3-117f-49e2-b6e7-ff500e416edd",
   "metadata": {},
   "outputs": [],
   "source": [
    "df = pd.DataFrame({'tarih':tarihler, 'puan':puanlar, 'yorum':yorumlar})"
   ]
  },
  {
   "cell_type": "code",
   "execution_count": 7,
   "id": "fb1b3ba9-e9ac-4850-95cb-7bf122ac21cf",
   "metadata": {},
   "outputs": [
    {
     "data": {
      "text/html": [
       "<div>\n",
       "<style scoped>\n",
       "    .dataframe tbody tr th:only-of-type {\n",
       "        vertical-align: middle;\n",
       "    }\n",
       "\n",
       "    .dataframe tbody tr th {\n",
       "        vertical-align: top;\n",
       "    }\n",
       "\n",
       "    .dataframe thead th {\n",
       "        text-align: right;\n",
       "    }\n",
       "</style>\n",
       "<table border=\"1\" class=\"dataframe\">\n",
       "  <thead>\n",
       "    <tr style=\"text-align: right;\">\n",
       "      <th></th>\n",
       "      <th>tarih</th>\n",
       "      <th>puan</th>\n",
       "      <th>yorum</th>\n",
       "    </tr>\n",
       "  </thead>\n",
       "  <tbody>\n",
       "    <tr>\n",
       "      <th>0</th>\n",
       "      <td>2022-02-17</td>\n",
       "      <td>5</td>\n",
       "      <td>Derece yapan ogrencilerin tavsiyesi uzerine al...</td>\n",
       "    </tr>\n",
       "    <tr>\n",
       "      <th>1</th>\n",
       "      <td>2022-05-07</td>\n",
       "      <td>5</td>\n",
       "      <td>2 gün önce sipariş ettim bu arada elime ulaştı...</td>\n",
       "    </tr>\n",
       "    <tr>\n",
       "      <th>2</th>\n",
       "      <td>2022-02-23</td>\n",
       "      <td>5</td>\n",
       "      <td>Paketleme özenliydi kitap çok güzel teşekkürler</td>\n",
       "    </tr>\n",
       "    <tr>\n",
       "      <th>3</th>\n",
       "      <td>2022-03-10</td>\n",
       "      <td>5</td>\n",
       "      <td>YKS çalışırken almıştım kendime gerçekten çok ...</td>\n",
       "    </tr>\n",
       "    <tr>\n",
       "      <th>4</th>\n",
       "      <td>2022-02-17</td>\n",
       "      <td>5</td>\n",
       "      <td>Ürün hasarsız geldi. Yanında bir de ayt kimya ...</td>\n",
       "    </tr>\n",
       "  </tbody>\n",
       "</table>\n",
       "</div>"
      ],
      "text/plain": [
       "        tarih puan                                              yorum\n",
       "0  2022-02-17    5  Derece yapan ogrencilerin tavsiyesi uzerine al...\n",
       "1  2022-05-07    5  2 gün önce sipariş ettim bu arada elime ulaştı...\n",
       "2  2022-02-23    5    Paketleme özenliydi kitap çok güzel teşekkürler\n",
       "3  2022-03-10    5  YKS çalışırken almıştım kendime gerçekten çok ...\n",
       "4  2022-02-17    5  Ürün hasarsız geldi. Yanında bir de ayt kimya ..."
      ]
     },
     "execution_count": 7,
     "metadata": {},
     "output_type": "execute_result"
    }
   ],
   "source": [
    "df.head()"
   ]
  },
  {
   "cell_type": "code",
   "execution_count": 8,
   "id": "d38eb5bb-6fd0-4efc-8a18-5b7ccc12ff18",
   "metadata": {},
   "outputs": [
    {
     "name": "stdout",
     "output_type": "stream",
     "text": [
      "<class 'pandas.core.frame.DataFrame'>\n",
      "RangeIndex: 3839 entries, 0 to 3838\n",
      "Data columns (total 3 columns):\n",
      " #   Column  Non-Null Count  Dtype \n",
      "---  ------  --------------  ----- \n",
      " 0   tarih   3839 non-null   object\n",
      " 1   puan    3839 non-null   object\n",
      " 2   yorum   3839 non-null   object\n",
      "dtypes: object(3)\n",
      "memory usage: 90.1+ KB\n"
     ]
    }
   ],
   "source": [
    "df.info()"
   ]
  },
  {
   "cell_type": "code",
   "execution_count": 9,
   "id": "159cc6e5-a4c2-4e3a-965f-25d5ade56c79",
   "metadata": {},
   "outputs": [
    {
     "data": {
      "text/plain": [
       "5    3340\n",
       "4     333\n",
       "3      91\n",
       "1      57\n",
       "2      18\n",
       "Name: puan, dtype: int64"
      ]
     },
     "execution_count": 9,
     "metadata": {},
     "output_type": "execute_result"
    }
   ],
   "source": [
    "df.puan.value_counts()"
   ]
  },
  {
   "cell_type": "code",
   "execution_count": 10,
   "id": "b0016902-bfe0-4f57-986d-9bbf39abd3d8",
   "metadata": {},
   "outputs": [],
   "source": [
    "from pathlib import Path  \n",
    "filepath = Path('hb_yorumlar5.csv')  \n",
    "df.to_csv(filepath, index = False, sep = ',')"
   ]
  },
  {
   "cell_type": "code",
   "execution_count": null,
   "id": "6095b577-e164-4de0-9aed-7d45f7c1e322",
   "metadata": {},
   "outputs": [],
   "source": []
  }
 ],
 "metadata": {
  "kernelspec": {
   "display_name": "Python 3 (ipykernel)",
   "language": "python",
   "name": "python3"
  },
  "language_info": {
   "codemirror_mode": {
    "name": "ipython",
    "version": 3
   },
   "file_extension": ".py",
   "mimetype": "text/x-python",
   "name": "python",
   "nbconvert_exporter": "python",
   "pygments_lexer": "ipython3",
   "version": "3.8.10"
  }
 },
 "nbformat": 4,
 "nbformat_minor": 5
}
