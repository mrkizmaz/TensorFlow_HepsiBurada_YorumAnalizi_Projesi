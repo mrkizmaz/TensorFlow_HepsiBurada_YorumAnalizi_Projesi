{
 "cells": [
  {
   "cell_type": "code",
   "execution_count": 1,
   "id": "d9dc0462-efcc-480d-bb28-c2175b7fb4ed",
   "metadata": {},
   "outputs": [
    {
     "name": "stdout",
     "output_type": "stream",
     "text": [
      "İşlemler yapılandırılıyor. Lütfen bekleyiniz...\n",
      "Tüm işlemler başarılı bir şekilde tamamlandı.\n"
     ]
    }
   ],
   "source": [
    "# 2500-3000 arası ürünün yorumlarını alma islemi\n",
    "\n",
    "import re \n",
    "import requests\n",
    "import json\n",
    "import pandas as pd\n",
    "import numpy as np\n",
    "import time\n",
    "\n",
    "urunler = []\n",
    "with open(\"urunler.txt\", mode='r', encoding='utf-8') as file:\n",
    "    for line in file.readlines():\n",
    "        line = line.split('\\n')[0]\n",
    "        urunler.append(line)\n",
    "\n",
    "url = 'https://www.hepsiburada.com'\n",
    "headers = {'User-Agent': 'Mozilla/5.0'}\n",
    "\n",
    "text = '<span class=\"hermes-ReviewCard-module-3fj8Y\" itemProp=\"datePublished\" content=\"(.*?)\">(.*?)<span itemProp=\"description\">(.*?)</span>(.*?)<span itemProp=\"ratingValue\" content=\"(.*?)\">'\n",
    "\n",
    "tarihler = []\n",
    "yorumlar = []\n",
    "puanlar = []\n",
    "sayfaSayisi = 1 \n",
    "\n",
    "try:\n",
    "    print(\"İşlemler yapılandırılıyor. Lütfen bekleyiniz...\")\n",
    "    \n",
    "    for urun in urunler[2500:3000]:\n",
    "        yeniUrl = url + urun + '-yorumlari'\n",
    "    \n",
    "        for sayfa in range(sayfaSayisi):\n",
    "\n",
    "            yeniUrl2 = yeniUrl + '?sayfa=' + str(sayfa + 1)\n",
    "            session = requests.Session()\n",
    "            response = session.get(yeniUrl2, headers = headers).text\n",
    "\n",
    "            genelArama = re.findall(text, response, re.MULTILINE | re.DOTALL)\n",
    "\n",
    "            if len(genelArama) > 0:\n",
    "                \n",
    "                for i in genelArama:\n",
    "                    tarihler.append(i[0])\n",
    "                    yorumlar.append(i[2])\n",
    "                    puanlar.append(i[4])\n",
    "                \n",
    "    time.sleep(3)\n",
    "    print('Tüm işlemler başarılı bir şekilde tamamlandı.')\n",
    "except:\n",
    "    print(\"Bir hata oluştu. Hatayı kontrol ediniz!\")"
   ]
  },
  {
   "cell_type": "code",
   "execution_count": 2,
   "id": "44e779f7-8288-485f-af89-7172684f2e8d",
   "metadata": {},
   "outputs": [
    {
     "data": {
      "text/plain": [
       "(4012, 4012, 4012)"
      ]
     },
     "execution_count": 2,
     "metadata": {},
     "output_type": "execute_result"
    }
   ],
   "source": [
    "len(tarihler), len(puanlar), len(yorumlar)"
   ]
  },
  {
   "cell_type": "code",
   "execution_count": 3,
   "id": "4abbe138-971c-4812-bc7d-e720489a116f",
   "metadata": {},
   "outputs": [
    {
     "data": {
      "text/plain": [
       "['Renkli çıktı da renkler gayet canlı çıkıyor. Kutu içinden 3 büyük siyah ve 3 küçük renkli mürekkep çıkıyor. Mürekkeplerin dolumu, yazıcının kurulumu gayet basit. Bu marka yazıcının sosyal medyada videolari var. Onları izleyerek herşey daha basit oluyor. Uzun süre problem çıkarmadan kullanabilecek kalite de bir yazıcı.',\n",
       " 'Ürün ile birlikte gelen evraklar ile kurulumu basit ve kolay bir şekilde yapılabiliyor kurulum bittikten sonra 15 sn sonra baskı alınabilir fotoğraf baskısı gayet net ve güzel tavsiye ederim. Uygulama sayesinde ayrıca tarama yapıp telefona yüklüyor',\n",
       " 'Çok iyi bir yazıcı kurulumu mürekkebi koyması da hepsi çok kolay kitapçığı bakarak yaparsanız hiçbir sorun yaşamazsınız kurulumunu yaptıktan sonra wifi ye bağlanıp cihazları bağlayana kadar kısık seste bip sesi geliyor ama geçiyor 3 Adet renkli 70 ml tam dolduruyor tankını siyah olanda 135ml 3 Adet geliyor o da tam tankıyla aynı ml A4 kağıdına fotoğraf çıktısı aldım onda bile çok güzel çıktı bazı kişiler tam kuramamış sanırım sorun yaşamışlar yorumlarda okuduğum zaman ama hiçbir sorun yaşamadım kurulumu herşeyi çok kolaydı.',\n",
       " 'Kablosuz bağlantısı ile telefondan çikti ları alabiliyor olmamiz güzel üzerinde gelen mürekkep ler tankları ful dolduruyor üzerinden direk renkli ve siyah beyaz fotokobi çekebiliyor. Hp nin kendi kagitlarini kullanıyorum.',\n",
       " 'Kurulumu basit ve hızlı.Güzel tasarım.Kullanımı kolay smart tank sayesinde kartuş dolumlarından kurtulduk']"
      ]
     },
     "execution_count": 3,
     "metadata": {},
     "output_type": "execute_result"
    }
   ],
   "source": [
    "yorumlar[0:5]"
   ]
  },
  {
   "cell_type": "code",
   "execution_count": 4,
   "id": "8c189adf-9f7b-4a38-88f8-111e31f2fc7f",
   "metadata": {},
   "outputs": [
    {
     "data": {
      "text/plain": [
       "['2021-10-19', '2021-09-12', '2021-12-23', '2022-03-19', '2022-03-19']"
      ]
     },
     "execution_count": 4,
     "metadata": {},
     "output_type": "execute_result"
    }
   ],
   "source": [
    "tarihler[0:5]"
   ]
  },
  {
   "cell_type": "code",
   "execution_count": 5,
   "id": "8ad04434-d076-4d8e-88bc-419b877ed399",
   "metadata": {},
   "outputs": [
    {
     "data": {
      "text/plain": [
       "['5', '5', '5', '5', '5']"
      ]
     },
     "execution_count": 5,
     "metadata": {},
     "output_type": "execute_result"
    }
   ],
   "source": [
    "puanlar[0:5]"
   ]
  },
  {
   "cell_type": "code",
   "execution_count": 6,
   "id": "419c4978-5eb1-479d-a7a1-e84c2608c992",
   "metadata": {},
   "outputs": [],
   "source": [
    "df = pd.DataFrame({'tarih':tarihler, 'puan':puanlar, 'yorum':yorumlar})"
   ]
  },
  {
   "cell_type": "code",
   "execution_count": 7,
   "id": "aa6be4cd-955b-4689-9c93-01d709bc36ae",
   "metadata": {},
   "outputs": [
    {
     "data": {
      "text/html": [
       "<div>\n",
       "<style scoped>\n",
       "    .dataframe tbody tr th:only-of-type {\n",
       "        vertical-align: middle;\n",
       "    }\n",
       "\n",
       "    .dataframe tbody tr th {\n",
       "        vertical-align: top;\n",
       "    }\n",
       "\n",
       "    .dataframe thead th {\n",
       "        text-align: right;\n",
       "    }\n",
       "</style>\n",
       "<table border=\"1\" class=\"dataframe\">\n",
       "  <thead>\n",
       "    <tr style=\"text-align: right;\">\n",
       "      <th></th>\n",
       "      <th>tarih</th>\n",
       "      <th>puan</th>\n",
       "      <th>yorum</th>\n",
       "    </tr>\n",
       "  </thead>\n",
       "  <tbody>\n",
       "    <tr>\n",
       "      <th>0</th>\n",
       "      <td>2021-10-19</td>\n",
       "      <td>5</td>\n",
       "      <td>Renkli çıktı da renkler gayet canlı çıkıyor. K...</td>\n",
       "    </tr>\n",
       "    <tr>\n",
       "      <th>1</th>\n",
       "      <td>2021-09-12</td>\n",
       "      <td>5</td>\n",
       "      <td>Ürün ile birlikte gelen evraklar ile kurulumu ...</td>\n",
       "    </tr>\n",
       "    <tr>\n",
       "      <th>2</th>\n",
       "      <td>2021-12-23</td>\n",
       "      <td>5</td>\n",
       "      <td>Çok iyi bir yazıcı kurulumu mürekkebi koyması ...</td>\n",
       "    </tr>\n",
       "    <tr>\n",
       "      <th>3</th>\n",
       "      <td>2022-03-19</td>\n",
       "      <td>5</td>\n",
       "      <td>Kablosuz bağlantısı ile telefondan çikti ları ...</td>\n",
       "    </tr>\n",
       "    <tr>\n",
       "      <th>4</th>\n",
       "      <td>2022-03-19</td>\n",
       "      <td>5</td>\n",
       "      <td>Kurulumu basit ve hızlı.Güzel tasarım.Kullanım...</td>\n",
       "    </tr>\n",
       "  </tbody>\n",
       "</table>\n",
       "</div>"
      ],
      "text/plain": [
       "        tarih puan                                              yorum\n",
       "0  2021-10-19    5  Renkli çıktı da renkler gayet canlı çıkıyor. K...\n",
       "1  2021-09-12    5  Ürün ile birlikte gelen evraklar ile kurulumu ...\n",
       "2  2021-12-23    5  Çok iyi bir yazıcı kurulumu mürekkebi koyması ...\n",
       "3  2022-03-19    5  Kablosuz bağlantısı ile telefondan çikti ları ...\n",
       "4  2022-03-19    5  Kurulumu basit ve hızlı.Güzel tasarım.Kullanım..."
      ]
     },
     "execution_count": 7,
     "metadata": {},
     "output_type": "execute_result"
    }
   ],
   "source": [
    "df.head()"
   ]
  },
  {
   "cell_type": "code",
   "execution_count": 8,
   "id": "86cd17f3-c0a7-4a65-abb9-0210089835f2",
   "metadata": {},
   "outputs": [
    {
     "name": "stdout",
     "output_type": "stream",
     "text": [
      "<class 'pandas.core.frame.DataFrame'>\n",
      "RangeIndex: 4012 entries, 0 to 4011\n",
      "Data columns (total 3 columns):\n",
      " #   Column  Non-Null Count  Dtype \n",
      "---  ------  --------------  ----- \n",
      " 0   tarih   4012 non-null   object\n",
      " 1   puan    4012 non-null   object\n",
      " 2   yorum   4012 non-null   object\n",
      "dtypes: object(3)\n",
      "memory usage: 94.2+ KB\n"
     ]
    }
   ],
   "source": [
    "df.info()"
   ]
  },
  {
   "cell_type": "code",
   "execution_count": 9,
   "id": "752b1239-8bd7-44aa-b403-9722013475fd",
   "metadata": {},
   "outputs": [
    {
     "data": {
      "text/plain": [
       "5    3471\n",
       "4     356\n",
       "3      93\n",
       "1      73\n",
       "2      19\n",
       "Name: puan, dtype: int64"
      ]
     },
     "execution_count": 9,
     "metadata": {},
     "output_type": "execute_result"
    }
   ],
   "source": [
    "df.puan.value_counts()"
   ]
  },
  {
   "cell_type": "code",
   "execution_count": null,
   "id": "3377bbb1-67f6-43cb-be37-fb8677b99d2a",
   "metadata": {},
   "outputs": [],
   "source": []
  },
  {
   "cell_type": "code",
   "execution_count": 10,
   "id": "0ac82464-f37e-4429-a367-ba69e27af71a",
   "metadata": {},
   "outputs": [],
   "source": [
    "from pathlib import Path  \n",
    "filepath = Path('hb_yorumlar6.csv')  \n",
    "df.to_csv(filepath, index = False, sep = ',')"
   ]
  },
  {
   "cell_type": "code",
   "execution_count": null,
   "id": "94d58322-d606-4ac4-a698-54bc2fadb3c7",
   "metadata": {},
   "outputs": [],
   "source": []
  }
 ],
 "metadata": {
  "kernelspec": {
   "display_name": "Python 3 (ipykernel)",
   "language": "python",
   "name": "python3"
  },
  "language_info": {
   "codemirror_mode": {
    "name": "ipython",
    "version": 3
   },
   "file_extension": ".py",
   "mimetype": "text/x-python",
   "name": "python",
   "nbconvert_exporter": "python",
   "pygments_lexer": "ipython3",
   "version": "3.8.10"
  }
 },
 "nbformat": 4,
 "nbformat_minor": 5
}
