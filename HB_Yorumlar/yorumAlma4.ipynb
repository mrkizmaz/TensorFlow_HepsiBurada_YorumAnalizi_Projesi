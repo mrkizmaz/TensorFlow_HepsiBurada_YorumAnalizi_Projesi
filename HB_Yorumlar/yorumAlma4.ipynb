{
 "cells": [
  {
   "cell_type": "code",
   "execution_count": 1,
   "id": "4fb9ba21-b762-4ed3-b2e1-37f201ed1da8",
   "metadata": {},
   "outputs": [
    {
     "name": "stdout",
     "output_type": "stream",
     "text": [
      "İşlemler yapılandırılıyor. Lütfen bekleyiniz...\n",
      "Tüm işlemler başarılı bir şekilde tamamlandı.\n"
     ]
    }
   ],
   "source": [
    "# 1500-2000 arası ürünün yorumlarını alma islemi\n",
    "\n",
    "import re \n",
    "import requests\n",
    "import json\n",
    "import pandas as pd\n",
    "import numpy as np\n",
    "import time\n",
    "\n",
    "urunler = []\n",
    "with open(\"urunler.txt\", mode='r', encoding='utf-8') as file:\n",
    "    for line in file.readlines():\n",
    "        line = line.split('\\n')[0]\n",
    "        urunler.append(line)\n",
    "\n",
    "url = 'https://www.hepsiburada.com'\n",
    "headers = {'User-Agent': 'Mozilla/5.0'}\n",
    "\n",
    "text = '<span class=\"hermes-ReviewCard-module-3fj8Y\" itemProp=\"datePublished\" content=\"(.*?)\">(.*?)<span itemProp=\"description\">(.*?)</span>(.*?)<span itemProp=\"ratingValue\" content=\"(.*?)\">'\n",
    "\n",
    "tarihler = []\n",
    "yorumlar = []\n",
    "puanlar = []\n",
    "sayfaSayisi = 1 \n",
    "\n",
    "try:\n",
    "    print(\"İşlemler yapılandırılıyor. Lütfen bekleyiniz...\")\n",
    "    \n",
    "    for urun in urunler[1500:2000]:\n",
    "        yeniUrl = url + urun + '-yorumlari'\n",
    "    \n",
    "        for sayfa in range(sayfaSayisi):\n",
    "\n",
    "            yeniUrl2 = yeniUrl + '?sayfa=' + str(sayfa + 1)\n",
    "            session = requests.Session()\n",
    "            response = session.get(yeniUrl2, headers = headers).text\n",
    "\n",
    "            genelArama = re.findall(text, response, re.MULTILINE | re.DOTALL)\n",
    "\n",
    "            if len(genelArama) > 0:\n",
    "                \n",
    "                for i in genelArama:\n",
    "                    tarihler.append(i[0])\n",
    "                    yorumlar.append(i[2])\n",
    "                    puanlar.append(i[4])\n",
    "                \n",
    "    time.sleep(3)\n",
    "    print('Tüm işlemler başarılı bir şekilde tamamlandı.')\n",
    "except:\n",
    "    print(\"Bir hata oluştu. Hatayı kontrol ediniz!\")"
   ]
  },
  {
   "cell_type": "code",
   "execution_count": 2,
   "id": "faddde39-a60e-4119-8a73-caf2bec432e5",
   "metadata": {},
   "outputs": [
    {
     "data": {
      "text/plain": [
       "(3311, 3311, 3311)"
      ]
     },
     "execution_count": 2,
     "metadata": {},
     "output_type": "execute_result"
    }
   ],
   "source": [
    "len(tarihler), len(puanlar), len(yorumlar)"
   ]
  },
  {
   "cell_type": "code",
   "execution_count": 3,
   "id": "7fbb37d8-27e7-4c7a-a6f8-da8e41667582",
   "metadata": {},
   "outputs": [
    {
     "data": {
      "text/plain": [
       "['Gayet güzel bir ürün hızlı teslimat hemen çözmeye başladım sorulae kaliyeli benim hocam kalitesi',\n",
       " 'Teşekkürler hızlı kargo hepsi burada farkı',\n",
       " 'Çok iyi hazırlanmış denemeler',\n",
       " 'Herkesin sınava girmeden önce çözmesini tavsiye ediyorum. Sınav soruları dolaylarında güncel olarak hazırlandığı ortada.',\n",
       " 'Benim hocam yayınları harika']"
      ]
     },
     "execution_count": 3,
     "metadata": {},
     "output_type": "execute_result"
    }
   ],
   "source": [
    "yorumlar[0:5]"
   ]
  },
  {
   "cell_type": "code",
   "execution_count": 5,
   "id": "f1d30111-d034-4cdf-a30d-3290859867e6",
   "metadata": {},
   "outputs": [
    {
     "data": {
      "text/plain": [
       "['2022-04-25', '2022-01-18', '2022-02-03', '2022-01-27', '2022-04-11']"
      ]
     },
     "execution_count": 5,
     "metadata": {},
     "output_type": "execute_result"
    }
   ],
   "source": [
    "tarihler[0:5]"
   ]
  },
  {
   "cell_type": "code",
   "execution_count": 6,
   "id": "9d3245dd-d11f-4334-b49d-67eb477777a7",
   "metadata": {},
   "outputs": [
    {
     "data": {
      "text/plain": [
       "['5', '5', '5', '5', '5']"
      ]
     },
     "execution_count": 6,
     "metadata": {},
     "output_type": "execute_result"
    }
   ],
   "source": [
    "puanlar[0:5]"
   ]
  },
  {
   "cell_type": "code",
   "execution_count": 7,
   "id": "599b3840-506c-4fe1-a6e6-1019aeb100ea",
   "metadata": {},
   "outputs": [],
   "source": [
    "df = pd.DataFrame({'tarih':tarihler, 'puan':puanlar, 'yorum':yorumlar})"
   ]
  },
  {
   "cell_type": "code",
   "execution_count": 8,
   "id": "aef4217e-2064-44b8-bc9b-46d49dee5764",
   "metadata": {},
   "outputs": [
    {
     "data": {
      "text/html": [
       "<div>\n",
       "<style scoped>\n",
       "    .dataframe tbody tr th:only-of-type {\n",
       "        vertical-align: middle;\n",
       "    }\n",
       "\n",
       "    .dataframe tbody tr th {\n",
       "        vertical-align: top;\n",
       "    }\n",
       "\n",
       "    .dataframe thead th {\n",
       "        text-align: right;\n",
       "    }\n",
       "</style>\n",
       "<table border=\"1\" class=\"dataframe\">\n",
       "  <thead>\n",
       "    <tr style=\"text-align: right;\">\n",
       "      <th></th>\n",
       "      <th>tarih</th>\n",
       "      <th>puan</th>\n",
       "      <th>yorum</th>\n",
       "    </tr>\n",
       "  </thead>\n",
       "  <tbody>\n",
       "    <tr>\n",
       "      <th>0</th>\n",
       "      <td>2022-04-25</td>\n",
       "      <td>5</td>\n",
       "      <td>Gayet güzel bir ürün hızlı teslimat hemen çözm...</td>\n",
       "    </tr>\n",
       "    <tr>\n",
       "      <th>1</th>\n",
       "      <td>2022-01-18</td>\n",
       "      <td>5</td>\n",
       "      <td>Teşekkürler hızlı kargo hepsi burada farkı</td>\n",
       "    </tr>\n",
       "    <tr>\n",
       "      <th>2</th>\n",
       "      <td>2022-02-03</td>\n",
       "      <td>5</td>\n",
       "      <td>Çok iyi hazırlanmış denemeler</td>\n",
       "    </tr>\n",
       "    <tr>\n",
       "      <th>3</th>\n",
       "      <td>2022-01-27</td>\n",
       "      <td>5</td>\n",
       "      <td>Herkesin sınava girmeden önce çözmesini tavsiy...</td>\n",
       "    </tr>\n",
       "    <tr>\n",
       "      <th>4</th>\n",
       "      <td>2022-04-11</td>\n",
       "      <td>5</td>\n",
       "      <td>Benim hocam yayınları harika</td>\n",
       "    </tr>\n",
       "  </tbody>\n",
       "</table>\n",
       "</div>"
      ],
      "text/plain": [
       "        tarih puan                                              yorum\n",
       "0  2022-04-25    5  Gayet güzel bir ürün hızlı teslimat hemen çözm...\n",
       "1  2022-01-18    5         Teşekkürler hızlı kargo hepsi burada farkı\n",
       "2  2022-02-03    5                      Çok iyi hazırlanmış denemeler\n",
       "3  2022-01-27    5  Herkesin sınava girmeden önce çözmesini tavsiy...\n",
       "4  2022-04-11    5                       Benim hocam yayınları harika"
      ]
     },
     "execution_count": 8,
     "metadata": {},
     "output_type": "execute_result"
    }
   ],
   "source": [
    "df.head()"
   ]
  },
  {
   "cell_type": "code",
   "execution_count": 9,
   "id": "962e4601-f414-43ed-aaf5-46991e7f70ca",
   "metadata": {},
   "outputs": [
    {
     "name": "stdout",
     "output_type": "stream",
     "text": [
      "<class 'pandas.core.frame.DataFrame'>\n",
      "RangeIndex: 3311 entries, 0 to 3310\n",
      "Data columns (total 3 columns):\n",
      " #   Column  Non-Null Count  Dtype \n",
      "---  ------  --------------  ----- \n",
      " 0   tarih   3311 non-null   object\n",
      " 1   puan    3311 non-null   object\n",
      " 2   yorum   3311 non-null   object\n",
      "dtypes: object(3)\n",
      "memory usage: 77.7+ KB\n"
     ]
    }
   ],
   "source": [
    "df.info()"
   ]
  },
  {
   "cell_type": "code",
   "execution_count": 10,
   "id": "602667f4-3296-4e45-8032-53f1713513b0",
   "metadata": {},
   "outputs": [
    {
     "data": {
      "text/plain": [
       "5    2965\n",
       "4     205\n",
       "3      72\n",
       "1      61\n",
       "2       8\n",
       "Name: puan, dtype: int64"
      ]
     },
     "execution_count": 10,
     "metadata": {},
     "output_type": "execute_result"
    }
   ],
   "source": [
    "df.puan.value_counts()"
   ]
  },
  {
   "cell_type": "code",
   "execution_count": 11,
   "id": "0352d9d6-ed56-4538-896e-709209f9bcad",
   "metadata": {},
   "outputs": [],
   "source": [
    "from pathlib import Path  \n",
    "filepath = Path('hb_yorumlar4.csv')  \n",
    "df.to_csv(filepath, index = False, sep = ',')"
   ]
  },
  {
   "cell_type": "code",
   "execution_count": null,
   "id": "fc1c52a6-67a4-4a9c-b9a9-7bc5c79514e6",
   "metadata": {},
   "outputs": [],
   "source": []
  }
 ],
 "metadata": {
  "kernelspec": {
   "display_name": "Python 3 (ipykernel)",
   "language": "python",
   "name": "python3"
  },
  "language_info": {
   "codemirror_mode": {
    "name": "ipython",
    "version": 3
   },
   "file_extension": ".py",
   "mimetype": "text/x-python",
   "name": "python",
   "nbconvert_exporter": "python",
   "pygments_lexer": "ipython3",
   "version": "3.8.10"
  }
 },
 "nbformat": 4,
 "nbformat_minor": 5
}
