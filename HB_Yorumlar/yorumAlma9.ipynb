{
 "cells": [
  {
   "cell_type": "code",
   "execution_count": 181,
   "id": "db6af9e2-cb78-476e-bd7b-5c6f67852127",
   "metadata": {},
   "outputs": [
    {
     "name": "stdout",
     "output_type": "stream",
     "text": [
      "İşlemler yapılandırılıyor. Lütfen bekleyiniz...\n",
      "Tüm işlemler başarılı bir şekilde tamamlandı.\n"
     ]
    }
   ],
   "source": [
    "# 4000-4500 arası ürünün yorumlarını alma islemi\n",
    "\n",
    "import re \n",
    "import requests\n",
    "import json\n",
    "import pandas as pd\n",
    "import numpy as np\n",
    "import time\n",
    "\n",
    "urunler = []\n",
    "with open(\"urunler.txt\", mode='r', encoding='utf-8') as file:\n",
    "    for line in file.readlines():\n",
    "        line = line.split('\\n')[0]\n",
    "        urunler.append(line)\n",
    "\n",
    "url = 'https://www.hepsiburada.com'\n",
    "headers = {'User-Agent': 'Mozilla/5.0'}\n",
    "\n",
    "text = '<span class=\"hermes-ReviewCard-module-3fj8Y\" itemProp=\"datePublished\" content=\"(.*?)\">(.*?)<span itemProp=\"description\">(.*?)</span>(.*?)<span itemProp=\"ratingValue\" content=\"(.*?)\">'\n",
    "\n",
    "tarihler = []\n",
    "yorumlar = []\n",
    "puanlar = []\n",
    "sayfaSayisi = 1 \n",
    "\n",
    "try:\n",
    "    print(\"İşlemler yapılandırılıyor. Lütfen bekleyiniz...\")\n",
    "    \n",
    "    for urun in urunler[4000:4500]:\n",
    "        yeniUrl = url + urun + '-yorumlari'\n",
    "    \n",
    "        for sayfa in range(sayfaSayisi):\n",
    "\n",
    "            yeniUrl2 = yeniUrl + '?sayfa=' + str(sayfa + 1)\n",
    "            session = requests.Session()\n",
    "            response = session.get(yeniUrl2, headers = headers).text\n",
    "\n",
    "            genelArama = re.findall(text, response, re.MULTILINE | re.DOTALL)\n",
    "\n",
    "            if len(genelArama) > 0:\n",
    "                \n",
    "                for i in genelArama:\n",
    "                    tarihler.append(i[0])\n",
    "                    yorumlar.append(i[2])\n",
    "                    puanlar.append(i[4])\n",
    "                \n",
    "    time.sleep(3)\n",
    "    print('Tüm işlemler başarılı bir şekilde tamamlandı.')\n",
    "except:\n",
    "    print(\"Bir hata oluştu. Hatayı kontrol ediniz!\")"
   ]
  },
  {
   "cell_type": "code",
   "execution_count": 182,
   "id": "5c8ee74d-c224-45ea-a28a-d79ef1a2fcad",
   "metadata": {},
   "outputs": [
    {
     "data": {
      "text/plain": [
       "(3398, 3398, 3398)"
      ]
     },
     "execution_count": 182,
     "metadata": {},
     "output_type": "execute_result"
    }
   ],
   "source": [
    "len(tarihler), len(puanlar), len(yorumlar)"
   ]
  },
  {
   "cell_type": "code",
   "execution_count": null,
   "id": "388be377-2b42-4dfd-8c14-c57998174175",
   "metadata": {},
   "outputs": [],
   "source": []
  },
  {
   "cell_type": "code",
   "execution_count": 183,
   "id": "3c687f1d-2489-4e52-ad45-b754289d23cf",
   "metadata": {},
   "outputs": [],
   "source": [
    "df = pd.DataFrame({'tarih':tarihler, 'puan':puanlar, 'yorum':yorumlar})"
   ]
  },
  {
   "cell_type": "code",
   "execution_count": 184,
   "id": "b6081210-9b58-447a-9c61-6cbcbfa44288",
   "metadata": {},
   "outputs": [
    {
     "data": {
      "text/html": [
       "<div>\n",
       "<style scoped>\n",
       "    .dataframe tbody tr th:only-of-type {\n",
       "        vertical-align: middle;\n",
       "    }\n",
       "\n",
       "    .dataframe tbody tr th {\n",
       "        vertical-align: top;\n",
       "    }\n",
       "\n",
       "    .dataframe thead th {\n",
       "        text-align: right;\n",
       "    }\n",
       "</style>\n",
       "<table border=\"1\" class=\"dataframe\">\n",
       "  <thead>\n",
       "    <tr style=\"text-align: right;\">\n",
       "      <th></th>\n",
       "      <th>tarih</th>\n",
       "      <th>puan</th>\n",
       "      <th>yorum</th>\n",
       "    </tr>\n",
       "  </thead>\n",
       "  <tbody>\n",
       "    <tr>\n",
       "      <th>0</th>\n",
       "      <td>2021-05-04</td>\n",
       "      <td>4</td>\n",
       "      <td>Kargolama hızlıydı, fiyati gayet iyi kullandım...</td>\n",
       "    </tr>\n",
       "    <tr>\n",
       "      <th>1</th>\n",
       "      <td>2022-05-06</td>\n",
       "      <td>5</td>\n",
       "      <td>Bunu çoktan beri almak istiyorduk.aldım. güzel...</td>\n",
       "    </tr>\n",
       "    <tr>\n",
       "      <th>2</th>\n",
       "      <td>2020-05-11</td>\n",
       "      <td>5</td>\n",
       "      <td>İyi değil yani aldığımız gün kullanmaya hemen ...</td>\n",
       "    </tr>\n",
       "    <tr>\n",
       "      <th>3</th>\n",
       "      <td>2022-04-14</td>\n",
       "      <td>5</td>\n",
       "      <td>Ürün cok guzel motoru cok güçlü ayrica hafifce...</td>\n",
       "    </tr>\n",
       "    <tr>\n",
       "      <th>4</th>\n",
       "      <td>2022-05-07</td>\n",
       "      <td>5</td>\n",
       "      <td>Tam beklediğim gibi geldi fiyatı indirimdeyken...</td>\n",
       "    </tr>\n",
       "  </tbody>\n",
       "</table>\n",
       "</div>"
      ],
      "text/plain": [
       "        tarih puan                                              yorum\n",
       "0  2021-05-04    4  Kargolama hızlıydı, fiyati gayet iyi kullandım...\n",
       "1  2022-05-06    5  Bunu çoktan beri almak istiyorduk.aldım. güzel...\n",
       "2  2020-05-11    5  İyi değil yani aldığımız gün kullanmaya hemen ...\n",
       "3  2022-04-14    5  Ürün cok guzel motoru cok güçlü ayrica hafifce...\n",
       "4  2022-05-07    5  Tam beklediğim gibi geldi fiyatı indirimdeyken..."
      ]
     },
     "execution_count": 184,
     "metadata": {},
     "output_type": "execute_result"
    }
   ],
   "source": [
    "df.head()"
   ]
  },
  {
   "cell_type": "code",
   "execution_count": 185,
   "id": "4a32ca2b-c7e2-4531-8609-5a7eb6bdc422",
   "metadata": {},
   "outputs": [
    {
     "name": "stdout",
     "output_type": "stream",
     "text": [
      "<class 'pandas.core.frame.DataFrame'>\n",
      "RangeIndex: 3398 entries, 0 to 3397\n",
      "Data columns (total 3 columns):\n",
      " #   Column  Non-Null Count  Dtype \n",
      "---  ------  --------------  ----- \n",
      " 0   tarih   3398 non-null   object\n",
      " 1   puan    3398 non-null   object\n",
      " 2   yorum   3398 non-null   object\n",
      "dtypes: object(3)\n",
      "memory usage: 79.8+ KB\n"
     ]
    }
   ],
   "source": [
    "df.info()"
   ]
  },
  {
   "cell_type": "code",
   "execution_count": 186,
   "id": "f8b76ae8-0864-46c0-844c-84021d40cbae",
   "metadata": {},
   "outputs": [],
   "source": [
    "from pathlib import Path  \n",
    "filepath = Path('hb_yorumlar10.csv')  \n",
    "df.to_csv(filepath, index = False, sep = ',')"
   ]
  },
  {
   "cell_type": "code",
   "execution_count": null,
   "id": "ed786058-e123-4203-9c73-611e9909eabf",
   "metadata": {},
   "outputs": [],
   "source": []
  },
  {
   "cell_type": "code",
   "execution_count": 75,
   "id": "04219ced-93f1-43a9-9d29-5a2f59a8d1cf",
   "metadata": {},
   "outputs": [],
   "source": [
    "tumYorumlar = []\n",
    "tumTarihler = []\n",
    "tumDereceler = []\n",
    "\n",
    "for i,j,k in zip(yorumlar[122], tarihler[122], dereceler[122]):\n",
    "        tumYorumlar.append(i)\n",
    "        tumTarihler.append(j)\n",
    "        tumDereceler.append(k)"
   ]
  },
  {
   "cell_type": "code",
   "execution_count": 76,
   "id": "882a934c-b0ca-4443-a111-3980d81b42dd",
   "metadata": {},
   "outputs": [
    {
     "data": {
      "text/plain": [
       "(9, 9, 9)"
      ]
     },
     "execution_count": 76,
     "metadata": {},
     "output_type": "execute_result"
    }
   ],
   "source": [
    "len(tumYorumlar), len(tumTarihler), len(tumDereceler)"
   ]
  },
  {
   "cell_type": "code",
   "execution_count": 89,
   "id": "5165ec46-d2ec-485c-8415-b2feba3d4704",
   "metadata": {},
   "outputs": [],
   "source": [
    "newUrl = url + urunler[4122] + '?sayfa=1'"
   ]
  },
  {
   "cell_type": "code",
   "execution_count": 78,
   "id": "fdfe0c3a-cd6b-40c1-8928-6c67c004f59b",
   "metadata": {},
   "outputs": [
    {
     "data": {
      "text/plain": [
       "['Görünsün diye 5 yıldız verdim fiyatına iyi diye sakin almayin  çok pişman olursunuz eziyet üstüne eziyet 30 dk da tost mu olur ilk günden üstündeki simbo yazisi bile silindi simbo bilr değil simbo diye güvenip almayın sakin',\n",
       " 'Ürün bekledigimden büyük geldi gayet güzel görünüyor. Hediye olarak aldim umarım calismasinda da sorun cikmaz. Paketleme sağlam özenli,  kargo hızlıydı. Hepsiburada ya teşekkürler.',\n",
       " 'Ürün çok kaliteli değil kabul ediyorum ama diğer yorum yapanlar resmen gömmüş makineyi, bunu da hak etmiyor. Isı ölçer ile yaptığım ölçümde 1.dk 37.5⁰ ikinci dk sonu 90.0⁰ ve üçüncü dk sonunda tost yapmaya hazır hale geliyor. Ekmeği yakacak kadar ısıtmıyor ama tost yapmam da demiyor gayet güzel yapıyor. Bence bekarlar, öğrenciler veya iş yerinde sabah bir iki tost yapıp simit ısıtacaklar için ideal. Ev ve ailelere bir tık üst modelleri tavsiye ederim.',\n",
       " 'Bu ürünü 2.kez alışım ama bunda malesef ızgara yerlerinde birkaç aşınma vardı biraz daha dikkat edilebilirdi',\n",
       " 'Görünsün diye 5 yıldız verdim sakın almayın heryeri plastik hemen kırılacak bişey ısınma sorunu var sucuğu bile pişirmiyor kesinlikle tavsiye etmem ben pişmanım',\n",
       " 'Ürün gayet güzel başa çıksın diye 5 verdim normalde kargoyu kapıya kadar çıkarmaları gerekirken aşağıda bırakiyorlar 3. Katta olmamıza rağmen girişte bırakıyorlar kendilerini görmüyoruz bile dedigim gibi ürün güzel ama kargo şirketinden memnun değilim zaten rahatsızım o koca kutuyu 3. Kata kadar çıkarmak zorunda değilim kendilerini görmedigim halde telefonuma &#039;.....kişisine teslim edildi&#039; mesajı geliyor \\nDiyelim kargoyu başkası aldı o zaman sorumlusu biz oluyoruz',\n",
       " 'Urun kargolanmasi paketlemesi guzel ve hizli geldi izgarasi duruşu cok guzel tavsiye ederm',\n",
       " 'Urun cok guzel calismasinda sıkınti yok sizlere hayirli isler bol kazanclar dilerim',\n",
       " 'Teşekkürlar🙏🥰🙏']"
      ]
     },
     "execution_count": 78,
     "metadata": {},
     "output_type": "execute_result"
    }
   ],
   "source": [
    "tumYorumlar"
   ]
  },
  {
   "cell_type": "code",
   "execution_count": 79,
   "id": "71679fd2-79df-4c6d-b09a-e3cab8e9ffe6",
   "metadata": {},
   "outputs": [
    {
     "data": {
      "text/plain": [
       "['2018-02-11',\n",
       " '2021-08-11',\n",
       " '2022-01-22',\n",
       " '2021-11-13',\n",
       " '2022-04-17',\n",
       " '2019-04-11',\n",
       " '2022-03-31',\n",
       " '2021-10-08',\n",
       " '2021-11-13']"
      ]
     },
     "execution_count": 79,
     "metadata": {},
     "output_type": "execute_result"
    }
   ],
   "source": [
    "tumTarihler"
   ]
  },
  {
   "cell_type": "code",
   "execution_count": 80,
   "id": "ef74b967-31bf-47e1-9b9a-455b604a34ef",
   "metadata": {},
   "outputs": [
    {
     "data": {
      "text/plain": [
       "['5', '5', '5', '4', '4', '5', '5', '5', '5']"
      ]
     },
     "execution_count": 80,
     "metadata": {},
     "output_type": "execute_result"
    }
   ],
   "source": [
    "tumDereceler"
   ]
  },
  {
   "cell_type": "code",
   "execution_count": 81,
   "id": "b6e039f8-db89-4780-8dbc-f850ac285bbb",
   "metadata": {},
   "outputs": [],
   "source": [
    "data = pd.DataFrame({'tarih':tumTarihler, 'derece':tumDereceler, 'yorum':tumYorumlar})"
   ]
  },
  {
   "cell_type": "code",
   "execution_count": 82,
   "id": "7a736a91-4761-459e-b052-bb3f13ece095",
   "metadata": {},
   "outputs": [
    {
     "data": {
      "text/html": [
       "<div>\n",
       "<style scoped>\n",
       "    .dataframe tbody tr th:only-of-type {\n",
       "        vertical-align: middle;\n",
       "    }\n",
       "\n",
       "    .dataframe tbody tr th {\n",
       "        vertical-align: top;\n",
       "    }\n",
       "\n",
       "    .dataframe thead th {\n",
       "        text-align: right;\n",
       "    }\n",
       "</style>\n",
       "<table border=\"1\" class=\"dataframe\">\n",
       "  <thead>\n",
       "    <tr style=\"text-align: right;\">\n",
       "      <th></th>\n",
       "      <th>tarih</th>\n",
       "      <th>derece</th>\n",
       "      <th>yorum</th>\n",
       "    </tr>\n",
       "  </thead>\n",
       "  <tbody>\n",
       "    <tr>\n",
       "      <th>0</th>\n",
       "      <td>2018-02-11</td>\n",
       "      <td>5</td>\n",
       "      <td>Görünsün diye 5 yıldız verdim fiyatına iyi diy...</td>\n",
       "    </tr>\n",
       "    <tr>\n",
       "      <th>1</th>\n",
       "      <td>2021-08-11</td>\n",
       "      <td>5</td>\n",
       "      <td>Ürün bekledigimden büyük geldi gayet güzel gör...</td>\n",
       "    </tr>\n",
       "    <tr>\n",
       "      <th>2</th>\n",
       "      <td>2022-01-22</td>\n",
       "      <td>5</td>\n",
       "      <td>Ürün çok kaliteli değil kabul ediyorum ama diğ...</td>\n",
       "    </tr>\n",
       "    <tr>\n",
       "      <th>3</th>\n",
       "      <td>2021-11-13</td>\n",
       "      <td>4</td>\n",
       "      <td>Bu ürünü 2.kez alışım ama bunda malesef ızgara...</td>\n",
       "    </tr>\n",
       "    <tr>\n",
       "      <th>4</th>\n",
       "      <td>2022-04-17</td>\n",
       "      <td>4</td>\n",
       "      <td>Görünsün diye 5 yıldız verdim sakın almayın he...</td>\n",
       "    </tr>\n",
       "    <tr>\n",
       "      <th>5</th>\n",
       "      <td>2019-04-11</td>\n",
       "      <td>5</td>\n",
       "      <td>Ürün gayet güzel başa çıksın diye 5 verdim nor...</td>\n",
       "    </tr>\n",
       "    <tr>\n",
       "      <th>6</th>\n",
       "      <td>2022-03-31</td>\n",
       "      <td>5</td>\n",
       "      <td>Urun kargolanmasi paketlemesi guzel ve hizli g...</td>\n",
       "    </tr>\n",
       "    <tr>\n",
       "      <th>7</th>\n",
       "      <td>2021-10-08</td>\n",
       "      <td>5</td>\n",
       "      <td>Urun cok guzel calismasinda sıkınti yok sizler...</td>\n",
       "    </tr>\n",
       "    <tr>\n",
       "      <th>8</th>\n",
       "      <td>2021-11-13</td>\n",
       "      <td>5</td>\n",
       "      <td>Teşekkürlar🙏🥰🙏</td>\n",
       "    </tr>\n",
       "  </tbody>\n",
       "</table>\n",
       "</div>"
      ],
      "text/plain": [
       "        tarih derece                                              yorum\n",
       "0  2018-02-11      5  Görünsün diye 5 yıldız verdim fiyatına iyi diy...\n",
       "1  2021-08-11      5  Ürün bekledigimden büyük geldi gayet güzel gör...\n",
       "2  2022-01-22      5  Ürün çok kaliteli değil kabul ediyorum ama diğ...\n",
       "3  2021-11-13      4  Bu ürünü 2.kez alışım ama bunda malesef ızgara...\n",
       "4  2022-04-17      4  Görünsün diye 5 yıldız verdim sakın almayın he...\n",
       "5  2019-04-11      5  Ürün gayet güzel başa çıksın diye 5 verdim nor...\n",
       "6  2022-03-31      5  Urun kargolanmasi paketlemesi guzel ve hizli g...\n",
       "7  2021-10-08      5  Urun cok guzel calismasinda sıkınti yok sizler...\n",
       "8  2021-11-13      5                                     Teşekkürlar🙏🥰🙏"
      ]
     },
     "execution_count": 82,
     "metadata": {},
     "output_type": "execute_result"
    }
   ],
   "source": [
    "data"
   ]
  },
  {
   "cell_type": "code",
   "execution_count": 90,
   "id": "82efaa1c-0ba1-4f29-a36d-ceffa6e454eb",
   "metadata": {},
   "outputs": [
    {
     "data": {
      "text/plain": [
       "'https://www.hepsiburada.com/sinbo-ssm2536-cikabilir-plaka-tost-makinasi-ve-izgara-p-HBV00000570HU?sayfa=1'"
      ]
     },
     "execution_count": 90,
     "metadata": {},
     "output_type": "execute_result"
    }
   ],
   "source": [
    "newUrl"
   ]
  },
  {
   "cell_type": "code",
   "execution_count": 130,
   "id": "aeeb88d0-4935-47da-bd0c-4ce6dd99453c",
   "metadata": {},
   "outputs": [],
   "source": [
    "s = requests.Session()\n",
    "r = s.get(newUrl, headers = headers).text"
   ]
  },
  {
   "cell_type": "code",
   "execution_count": 131,
   "id": "2eee5a31-6115-4b21-9cfe-e261efb3daa2",
   "metadata": {},
   "outputs": [],
   "source": [
    "yorumAra = '<span itemProp=\"description\">(.*?)</span>'\n",
    "tarihAra = '<span class=\"hermes-ReviewCard-module-3fj8Y\" itemProp=\"datePublished\" content=\"(.*?)\">'\n",
    "dereceAra = '<span itemProp=\"ratingValue\" content=\"(.*?)\"></span>'"
   ]
  },
  {
   "cell_type": "code",
   "execution_count": 151,
   "id": "5d379bc5-6598-4cd3-a83d-549fead493ce",
   "metadata": {},
   "outputs": [],
   "source": [
    "text = '<span class=\"hermes-ReviewCard-module-3fj8Y\" itemProp=\"datePublished\" content=\"(.*?)\">(.*?)<span itemProp=\"description\">(.*?)</span>(.*?)<span itemProp=\"ratingValue\" content=\"(.*?)\">'"
   ]
  },
  {
   "cell_type": "code",
   "execution_count": 159,
   "id": "b7975445-a97d-4ef2-a29e-45fd0c26475e",
   "metadata": {},
   "outputs": [],
   "source": [
    "genelArama = re.findall(text, r, re.MULTILINE | re.DOTALL)"
   ]
  },
  {
   "cell_type": "code",
   "execution_count": 160,
   "id": "da95aa92-9507-4731-8af2-9bc62fec95aa",
   "metadata": {},
   "outputs": [
    {
     "data": {
      "text/plain": [
       "9"
      ]
     },
     "execution_count": 160,
     "metadata": {},
     "output_type": "execute_result"
    }
   ],
   "source": [
    "len(genelArama)"
   ]
  },
  {
   "cell_type": "code",
   "execution_count": 163,
   "id": "fa4eaf0d-f13f-4adb-8cd1-a3fe2cd61aa5",
   "metadata": {},
   "outputs": [],
   "source": [
    "tarih = re.findall(text, r, re.MULTILINE | re.DOTALL)[0][0]"
   ]
  },
  {
   "cell_type": "code",
   "execution_count": 166,
   "id": "805df31b-374f-4e00-8298-7b02d0f85d60",
   "metadata": {},
   "outputs": [],
   "source": [
    "yorum = re.findall(text, r, re.MULTILINE | re.DOTALL)[0][2]"
   ]
  },
  {
   "cell_type": "code",
   "execution_count": 169,
   "id": "e4c1dcce-0022-49a0-aeba-22ac3d6f3a28",
   "metadata": {},
   "outputs": [],
   "source": [
    "puan = re.findall(text, r, re.MULTILINE | re.DOTALL)[0][4]"
   ]
  },
  {
   "cell_type": "code",
   "execution_count": 174,
   "id": "0df555b0-9d4b-4e34-8af3-a51c489b687c",
   "metadata": {},
   "outputs": [],
   "source": [
    "tarihler = []\n",
    "yorumlar = []\n",
    "puanlar = []\n",
    "for i in genelArama:\n",
    "    tarihler.append(i[0])\n",
    "    yorumlar.append(i[2])\n",
    "    puanlar.append(i[4])"
   ]
  },
  {
   "cell_type": "code",
   "execution_count": 175,
   "id": "856b3d3e-0e57-46c7-9afd-8b33caa4fe17",
   "metadata": {},
   "outputs": [
    {
     "data": {
      "text/plain": [
       "['2018-02-11',\n",
       " '2021-08-11',\n",
       " '2022-01-22',\n",
       " '2021-11-13',\n",
       " '2022-04-17',\n",
       " '2022-03-31',\n",
       " '2021-10-08',\n",
       " '2021-11-13',\n",
       " '2022-01-20']"
      ]
     },
     "execution_count": 175,
     "metadata": {},
     "output_type": "execute_result"
    }
   ],
   "source": [
    "tarihler"
   ]
  },
  {
   "cell_type": "code",
   "execution_count": 176,
   "id": "ecbd0354-3029-4b05-b6fd-04d8282833d6",
   "metadata": {},
   "outputs": [
    {
     "data": {
      "text/plain": [
       "['Görünsün diye 5 yıldız verdim fiyatına iyi diye sakin almayin  çok pişman olursunuz eziyet üstüne eziyet 30 dk da tost mu olur ilk günden üstündeki simbo yazisi bile silindi simbo bilr değil simbo diye güvenip almayın sakin',\n",
       " 'Ürün bekledigimden büyük geldi gayet güzel görünüyor. Hediye olarak aldim umarım calismasinda da sorun cikmaz. Paketleme sağlam özenli,  kargo hızlıydı. Hepsiburada ya teşekkürler.',\n",
       " 'Ürün çok kaliteli değil kabul ediyorum ama diğer yorum yapanlar resmen gömmüş makineyi, bunu da hak etmiyor. Isı ölçer ile yaptığım ölçümde 1.dk 37.5⁰ ikinci dk sonu 90.0⁰ ve üçüncü dk sonunda tost yapmaya hazır hale geliyor. Ekmeği yakacak kadar ısıtmıyor ama tost yapmam da demiyor gayet güzel yapıyor. Bence bekarlar, öğrenciler veya iş yerinde sabah bir iki tost yapıp simit ısıtacaklar için ideal. Ev ve ailelere bir tık üst modelleri tavsiye ederim.',\n",
       " 'Bu ürünü 2.kez alışım ama bunda malesef ızgara yerlerinde birkaç aşınma vardı biraz daha dikkat edilebilirdi',\n",
       " 'Görünsün diye 5 yıldız verdim sakın almayın heryeri plastik hemen kırılacak bişey ısınma sorunu var sucuğu bile pişirmiyor kesinlikle tavsiye etmem ben pişmanım',\n",
       " 'Ürün gayet güzel başa çıksın diye 5 verdim normalde kargoyu kapıya kadar çıkarmaları gerekirken aşağıda bırakiyorlar 3. Katta olmamıza rağmen girişte bırakıyorlar kendilerini görmüyoruz bile dedigim gibi ürün güzel ama kargo şirketinden memnun değilim zaten rahatsızım o koca kutuyu 3. Kata kadar çıkarmak zorunda değilim kendilerini görmedigim halde telefonuma &#039;.....kişisine teslim edildi&#039; mesajı geliyor \\nDiyelim kargoyu başkası aldı o zaman sorumlusu biz oluyoruz',\n",
       " 'Urun kargolanmasi paketlemesi guzel ve hizli geldi izgarasi duruşu cok guzel tavsiye ederm',\n",
       " 'Urun cok guzel calismasinda sıkınti yok sizlere hayirli isler bol kazanclar dilerim',\n",
       " 'Teşekkürlar🙏🥰🙏']"
      ]
     },
     "execution_count": 176,
     "metadata": {},
     "output_type": "execute_result"
    }
   ],
   "source": [
    "yorumlar"
   ]
  },
  {
   "cell_type": "code",
   "execution_count": 177,
   "id": "be2e39ac-a924-478f-b993-17d5bbb2e42b",
   "metadata": {},
   "outputs": [
    {
     "data": {
      "text/plain": [
       "['5', '5', '5', '4', '5', '5', '5', '5', '5']"
      ]
     },
     "execution_count": 177,
     "metadata": {},
     "output_type": "execute_result"
    }
   ],
   "source": [
    "puanlar"
   ]
  },
  {
   "cell_type": "code",
   "execution_count": 178,
   "id": "e5fd1ecd-77f7-412b-8031-9ab17124b7ea",
   "metadata": {},
   "outputs": [],
   "source": [
    "data2 = pd.DataFrame({'tarih':tarihler, 'puan':puanlar, 'yorum':yorumlar})"
   ]
  },
  {
   "cell_type": "code",
   "execution_count": 179,
   "id": "8c29f7eb-5780-44b8-8e6d-4d0baa6b59d2",
   "metadata": {},
   "outputs": [
    {
     "data": {
      "text/html": [
       "<div>\n",
       "<style scoped>\n",
       "    .dataframe tbody tr th:only-of-type {\n",
       "        vertical-align: middle;\n",
       "    }\n",
       "\n",
       "    .dataframe tbody tr th {\n",
       "        vertical-align: top;\n",
       "    }\n",
       "\n",
       "    .dataframe thead th {\n",
       "        text-align: right;\n",
       "    }\n",
       "</style>\n",
       "<table border=\"1\" class=\"dataframe\">\n",
       "  <thead>\n",
       "    <tr style=\"text-align: right;\">\n",
       "      <th></th>\n",
       "      <th>tarih</th>\n",
       "      <th>puan</th>\n",
       "      <th>yorum</th>\n",
       "    </tr>\n",
       "  </thead>\n",
       "  <tbody>\n",
       "    <tr>\n",
       "      <th>0</th>\n",
       "      <td>2018-02-11</td>\n",
       "      <td>5</td>\n",
       "      <td>Görünsün diye 5 yıldız verdim fiyatına iyi diy...</td>\n",
       "    </tr>\n",
       "    <tr>\n",
       "      <th>1</th>\n",
       "      <td>2021-08-11</td>\n",
       "      <td>5</td>\n",
       "      <td>Ürün bekledigimden büyük geldi gayet güzel gör...</td>\n",
       "    </tr>\n",
       "    <tr>\n",
       "      <th>2</th>\n",
       "      <td>2022-01-22</td>\n",
       "      <td>5</td>\n",
       "      <td>Ürün çok kaliteli değil kabul ediyorum ama diğ...</td>\n",
       "    </tr>\n",
       "    <tr>\n",
       "      <th>3</th>\n",
       "      <td>2021-11-13</td>\n",
       "      <td>4</td>\n",
       "      <td>Bu ürünü 2.kez alışım ama bunda malesef ızgara...</td>\n",
       "    </tr>\n",
       "    <tr>\n",
       "      <th>4</th>\n",
       "      <td>2022-04-17</td>\n",
       "      <td>5</td>\n",
       "      <td>Görünsün diye 5 yıldız verdim sakın almayın he...</td>\n",
       "    </tr>\n",
       "    <tr>\n",
       "      <th>5</th>\n",
       "      <td>2022-03-31</td>\n",
       "      <td>5</td>\n",
       "      <td>Ürün gayet güzel başa çıksın diye 5 verdim nor...</td>\n",
       "    </tr>\n",
       "    <tr>\n",
       "      <th>6</th>\n",
       "      <td>2021-10-08</td>\n",
       "      <td>5</td>\n",
       "      <td>Urun kargolanmasi paketlemesi guzel ve hizli g...</td>\n",
       "    </tr>\n",
       "    <tr>\n",
       "      <th>7</th>\n",
       "      <td>2021-11-13</td>\n",
       "      <td>5</td>\n",
       "      <td>Urun cok guzel calismasinda sıkınti yok sizler...</td>\n",
       "    </tr>\n",
       "    <tr>\n",
       "      <th>8</th>\n",
       "      <td>2022-01-20</td>\n",
       "      <td>5</td>\n",
       "      <td>Teşekkürlar🙏🥰🙏</td>\n",
       "    </tr>\n",
       "  </tbody>\n",
       "</table>\n",
       "</div>"
      ],
      "text/plain": [
       "        tarih puan                                              yorum\n",
       "0  2018-02-11    5  Görünsün diye 5 yıldız verdim fiyatına iyi diy...\n",
       "1  2021-08-11    5  Ürün bekledigimden büyük geldi gayet güzel gör...\n",
       "2  2022-01-22    5  Ürün çok kaliteli değil kabul ediyorum ama diğ...\n",
       "3  2021-11-13    4  Bu ürünü 2.kez alışım ama bunda malesef ızgara...\n",
       "4  2022-04-17    5  Görünsün diye 5 yıldız verdim sakın almayın he...\n",
       "5  2022-03-31    5  Ürün gayet güzel başa çıksın diye 5 verdim nor...\n",
       "6  2021-10-08    5  Urun kargolanmasi paketlemesi guzel ve hizli g...\n",
       "7  2021-11-13    5  Urun cok guzel calismasinda sıkınti yok sizler...\n",
       "8  2022-01-20    5                                     Teşekkürlar🙏🥰🙏"
      ]
     },
     "execution_count": 179,
     "metadata": {},
     "output_type": "execute_result"
    }
   ],
   "source": [
    "data2"
   ]
  },
  {
   "cell_type": "code",
   "execution_count": 180,
   "id": "b49635c1-5414-490f-b3e6-2fbb462043ec",
   "metadata": {},
   "outputs": [
    {
     "data": {
      "text/html": [
       "<div>\n",
       "<style scoped>\n",
       "    .dataframe tbody tr th:only-of-type {\n",
       "        vertical-align: middle;\n",
       "    }\n",
       "\n",
       "    .dataframe tbody tr th {\n",
       "        vertical-align: top;\n",
       "    }\n",
       "\n",
       "    .dataframe thead th {\n",
       "        text-align: right;\n",
       "    }\n",
       "</style>\n",
       "<table border=\"1\" class=\"dataframe\">\n",
       "  <thead>\n",
       "    <tr style=\"text-align: right;\">\n",
       "      <th></th>\n",
       "      <th>tarih</th>\n",
       "      <th>derece</th>\n",
       "      <th>yorum</th>\n",
       "    </tr>\n",
       "  </thead>\n",
       "  <tbody>\n",
       "    <tr>\n",
       "      <th>0</th>\n",
       "      <td>2018-02-11</td>\n",
       "      <td>5</td>\n",
       "      <td>Görünsün diye 5 yıldız verdim fiyatına iyi diy...</td>\n",
       "    </tr>\n",
       "    <tr>\n",
       "      <th>1</th>\n",
       "      <td>2021-08-11</td>\n",
       "      <td>5</td>\n",
       "      <td>Ürün bekledigimden büyük geldi gayet güzel gör...</td>\n",
       "    </tr>\n",
       "    <tr>\n",
       "      <th>2</th>\n",
       "      <td>2022-01-22</td>\n",
       "      <td>5</td>\n",
       "      <td>Ürün çok kaliteli değil kabul ediyorum ama diğ...</td>\n",
       "    </tr>\n",
       "    <tr>\n",
       "      <th>3</th>\n",
       "      <td>2021-11-13</td>\n",
       "      <td>4</td>\n",
       "      <td>Bu ürünü 2.kez alışım ama bunda malesef ızgara...</td>\n",
       "    </tr>\n",
       "    <tr>\n",
       "      <th>4</th>\n",
       "      <td>2022-04-17</td>\n",
       "      <td>4</td>\n",
       "      <td>Görünsün diye 5 yıldız verdim sakın almayın he...</td>\n",
       "    </tr>\n",
       "    <tr>\n",
       "      <th>5</th>\n",
       "      <td>2019-04-11</td>\n",
       "      <td>5</td>\n",
       "      <td>Ürün gayet güzel başa çıksın diye 5 verdim nor...</td>\n",
       "    </tr>\n",
       "    <tr>\n",
       "      <th>6</th>\n",
       "      <td>2022-03-31</td>\n",
       "      <td>5</td>\n",
       "      <td>Urun kargolanmasi paketlemesi guzel ve hizli g...</td>\n",
       "    </tr>\n",
       "    <tr>\n",
       "      <th>7</th>\n",
       "      <td>2021-10-08</td>\n",
       "      <td>5</td>\n",
       "      <td>Urun cok guzel calismasinda sıkınti yok sizler...</td>\n",
       "    </tr>\n",
       "    <tr>\n",
       "      <th>8</th>\n",
       "      <td>2021-11-13</td>\n",
       "      <td>5</td>\n",
       "      <td>Teşekkürlar🙏🥰🙏</td>\n",
       "    </tr>\n",
       "  </tbody>\n",
       "</table>\n",
       "</div>"
      ],
      "text/plain": [
       "        tarih derece                                              yorum\n",
       "0  2018-02-11      5  Görünsün diye 5 yıldız verdim fiyatına iyi diy...\n",
       "1  2021-08-11      5  Ürün bekledigimden büyük geldi gayet güzel gör...\n",
       "2  2022-01-22      5  Ürün çok kaliteli değil kabul ediyorum ama diğ...\n",
       "3  2021-11-13      4  Bu ürünü 2.kez alışım ama bunda malesef ızgara...\n",
       "4  2022-04-17      4  Görünsün diye 5 yıldız verdim sakın almayın he...\n",
       "5  2019-04-11      5  Ürün gayet güzel başa çıksın diye 5 verdim nor...\n",
       "6  2022-03-31      5  Urun kargolanmasi paketlemesi guzel ve hizli g...\n",
       "7  2021-10-08      5  Urun cok guzel calismasinda sıkınti yok sizler...\n",
       "8  2021-11-13      5                                     Teşekkürlar🙏🥰🙏"
      ]
     },
     "execution_count": 180,
     "metadata": {},
     "output_type": "execute_result"
    }
   ],
   "source": [
    "data"
   ]
  },
  {
   "cell_type": "code",
   "execution_count": null,
   "id": "07cc73b0-7b67-463a-85e6-7fde652ee48b",
   "metadata": {},
   "outputs": [],
   "source": []
  }
 ],
 "metadata": {
  "kernelspec": {
   "display_name": "Python 3 (ipykernel)",
   "language": "python",
   "name": "python3"
  },
  "language_info": {
   "codemirror_mode": {
    "name": "ipython",
    "version": 3
   },
   "file_extension": ".py",
   "mimetype": "text/x-python",
   "name": "python",
   "nbconvert_exporter": "python",
   "pygments_lexer": "ipython3",
   "version": "3.8.10"
  }
 },
 "nbformat": 4,
 "nbformat_minor": 5
}
