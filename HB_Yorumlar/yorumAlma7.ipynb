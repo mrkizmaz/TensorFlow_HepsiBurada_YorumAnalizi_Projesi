{
 "cells": [
  {
   "cell_type": "code",
   "execution_count": 1,
   "id": "35e7655c-8e4a-40e7-9553-42a8c8041e46",
   "metadata": {},
   "outputs": [
    {
     "name": "stdout",
     "output_type": "stream",
     "text": [
      "İşlemler yapılandırılıyor. Lütfen bekleyiniz...\n",
      "Tüm işlemler başarılı bir şekilde tamamlandı.\n"
     ]
    }
   ],
   "source": [
    "# 3000-3500 arası ürünün yorumlarını alma islemi\n",
    "\n",
    "import re \n",
    "import requests\n",
    "import json\n",
    "import pandas as pd\n",
    "import numpy as np\n",
    "import time\n",
    "\n",
    "urunler = []\n",
    "with open(\"urunler.txt\", mode='r', encoding='utf-8') as file:\n",
    "    for line in file.readlines():\n",
    "        line = line.split('\\n')[0]\n",
    "        urunler.append(line)\n",
    "\n",
    "url = 'https://www.hepsiburada.com'\n",
    "headers = {'User-Agent': 'Mozilla/5.0'}\n",
    "\n",
    "text = '<span class=\"hermes-ReviewCard-module-3fj8Y\" itemProp=\"datePublished\" content=\"(.*?)\">(.*?)<span itemProp=\"description\">(.*?)</span>(.*?)<span itemProp=\"ratingValue\" content=\"(.*?)\">'\n",
    "\n",
    "tarihler = []\n",
    "yorumlar = []\n",
    "puanlar = []\n",
    "sayfaSayisi = 1 \n",
    "\n",
    "try:\n",
    "    print(\"İşlemler yapılandırılıyor. Lütfen bekleyiniz...\")\n",
    "    \n",
    "    for urun in urunler[3000:3500]:\n",
    "        yeniUrl = url + urun + '-yorumlari'\n",
    "    \n",
    "        for sayfa in range(sayfaSayisi):\n",
    "\n",
    "            yeniUrl2 = yeniUrl + '?sayfa=' + str(sayfa + 1)\n",
    "            session = requests.Session()\n",
    "            response = session.get(yeniUrl2, headers = headers).text\n",
    "\n",
    "            genelArama = re.findall(text, response, re.MULTILINE | re.DOTALL)\n",
    "\n",
    "            if len(genelArama) > 0:\n",
    "                \n",
    "                for i in genelArama:\n",
    "                    tarihler.append(i[0])\n",
    "                    yorumlar.append(i[2])\n",
    "                    puanlar.append(i[4])\n",
    "                \n",
    "    time.sleep(3)\n",
    "    print('Tüm işlemler başarılı bir şekilde tamamlandı.')\n",
    "except:\n",
    "    print(\"Bir hata oluştu. Hatayı kontrol ediniz!\")"
   ]
  },
  {
   "cell_type": "code",
   "execution_count": 2,
   "id": "76699c2b-3a86-4825-8eeb-a972d83c357d",
   "metadata": {},
   "outputs": [
    {
     "data": {
      "text/plain": [
       "(3919, 3919, 3919)"
      ]
     },
     "execution_count": 2,
     "metadata": {},
     "output_type": "execute_result"
    }
   ],
   "source": [
    "len(tarihler), len(puanlar), len(yorumlar)"
   ]
  },
  {
   "cell_type": "code",
   "execution_count": 3,
   "id": "5b4b675f-d00d-4620-be3c-60614d5dc3cb",
   "metadata": {},
   "outputs": [
    {
     "data": {
      "text/plain": [
       "['Yere doğru bakan sub, dengeli ve geniş midler harika ses veren bir ürün.Tek problem o kadar güçlü ki düşük sub seviyesinde bile cam kapı raf dolap bulunduğu odada ne varsa titretiyor, dolayısı ile harika dengeli bir müziği titreşen vınlayan vuran şeylerle beraber dinliyorsunuz.Bunu alacaksanız evde titreşen şeyleri de sıkıştırmak zorunda kalacaksınız.Apartman dairesi için kesinlikle uygun değil.',\n",
       " 'Öncelikle lavin bilişime teşekkür ediyorum.Kargo ile alakalı yardımcı oldular.Cihaza gelince apartman dairesinde kesinlikle son ses kullanılmak rahatsız edecektir.Açık hava da bahçemi ses tam doldurdu.Zaten harman kardon kullanıcısıyım,jbl hakikaten mükemmel bir cihaz yapmış.Beklentimi tamamen karşıladı.Projeksiyon cihazıma kablosuz bağladım ses senkronizasyonunda hiç bir gecikme yok mükemmel mükemmel mükemmel.',\n",
       " 'bugün elektronik marketlerden birinde deneme fırsatı buldum.ses efsane.yeri göğü inletiyor tabiri caizse.bass boost 2 kademe ve açınca rafları sallıyordu.parası olup kıyan olursa pişman olmaz.gerçekten harikaydı.uzunca süre başından ayrılamadım cihazın çok etkileyici bir ses deneyimiydi benim için.basslar tizler herşey tam kararındaydı.hiç biri diğerinin önünde değildi.',\n",
       " 'Her şeyiyle mükemmel. Ses kalitesi harika. Son sesi apartmanda deneme şansınız yok hatta yarı sesi bile apartman için çok ama çok fazla. Bass tiz dengesi çok güzel. Parasının hakkını veriyor.',\n",
       " 'beklediğimden kat ve kat daha iyi çıktı. 1100w olduğu için low bassları vuramaz sanıyordum ama kesinlikle yanılmışım. low bassları mükemmel vuruyor. bu ürünü almadan önce lg ol100 kullanıyordum. tizz konusunda lg biraz daha iyi ama bass konusunda jbl harika.']"
      ]
     },
     "execution_count": 3,
     "metadata": {},
     "output_type": "execute_result"
    }
   ],
   "source": [
    "yorumlar[0:5]"
   ]
  },
  {
   "cell_type": "code",
   "execution_count": 4,
   "id": "875956c6-0f09-4fb7-93ab-1dddb4a22cc6",
   "metadata": {},
   "outputs": [
    {
     "data": {
      "text/plain": [
       "['2020-02-05', '2022-04-18', '2019-11-30', '2021-04-21', '2021-11-11']"
      ]
     },
     "execution_count": 4,
     "metadata": {},
     "output_type": "execute_result"
    }
   ],
   "source": [
    "tarihler[0:5]"
   ]
  },
  {
   "cell_type": "code",
   "execution_count": 5,
   "id": "fb79da80-02f1-468c-8b54-edeaa3c61e10",
   "metadata": {},
   "outputs": [
    {
     "data": {
      "text/plain": [
       "['5', '5', '5', '5', '5']"
      ]
     },
     "execution_count": 5,
     "metadata": {},
     "output_type": "execute_result"
    }
   ],
   "source": [
    "puanlar[0:5]"
   ]
  },
  {
   "cell_type": "code",
   "execution_count": 6,
   "id": "8ee75b5c-b031-47a4-9b14-b4a6bd169ab5",
   "metadata": {},
   "outputs": [],
   "source": [
    "df = pd.DataFrame({'tarih':tarihler, 'puan':puanlar, 'yorum':yorumlar})"
   ]
  },
  {
   "cell_type": "code",
   "execution_count": 7,
   "id": "133ee6a1-92b0-45da-8195-2a9a90211642",
   "metadata": {},
   "outputs": [
    {
     "data": {
      "text/html": [
       "<div>\n",
       "<style scoped>\n",
       "    .dataframe tbody tr th:only-of-type {\n",
       "        vertical-align: middle;\n",
       "    }\n",
       "\n",
       "    .dataframe tbody tr th {\n",
       "        vertical-align: top;\n",
       "    }\n",
       "\n",
       "    .dataframe thead th {\n",
       "        text-align: right;\n",
       "    }\n",
       "</style>\n",
       "<table border=\"1\" class=\"dataframe\">\n",
       "  <thead>\n",
       "    <tr style=\"text-align: right;\">\n",
       "      <th></th>\n",
       "      <th>tarih</th>\n",
       "      <th>puan</th>\n",
       "      <th>yorum</th>\n",
       "    </tr>\n",
       "  </thead>\n",
       "  <tbody>\n",
       "    <tr>\n",
       "      <th>0</th>\n",
       "      <td>2020-02-05</td>\n",
       "      <td>5</td>\n",
       "      <td>Yere doğru bakan sub, dengeli ve geniş midler ...</td>\n",
       "    </tr>\n",
       "    <tr>\n",
       "      <th>1</th>\n",
       "      <td>2022-04-18</td>\n",
       "      <td>5</td>\n",
       "      <td>Öncelikle lavin bilişime teşekkür ediyorum.Kar...</td>\n",
       "    </tr>\n",
       "    <tr>\n",
       "      <th>2</th>\n",
       "      <td>2019-11-30</td>\n",
       "      <td>5</td>\n",
       "      <td>bugün elektronik marketlerden birinde deneme f...</td>\n",
       "    </tr>\n",
       "    <tr>\n",
       "      <th>3</th>\n",
       "      <td>2021-04-21</td>\n",
       "      <td>5</td>\n",
       "      <td>Her şeyiyle mükemmel. Ses kalitesi harika. Son...</td>\n",
       "    </tr>\n",
       "    <tr>\n",
       "      <th>4</th>\n",
       "      <td>2021-11-11</td>\n",
       "      <td>5</td>\n",
       "      <td>beklediğimden kat ve kat daha iyi çıktı. 1100w...</td>\n",
       "    </tr>\n",
       "  </tbody>\n",
       "</table>\n",
       "</div>"
      ],
      "text/plain": [
       "        tarih puan                                              yorum\n",
       "0  2020-02-05    5  Yere doğru bakan sub, dengeli ve geniş midler ...\n",
       "1  2022-04-18    5  Öncelikle lavin bilişime teşekkür ediyorum.Kar...\n",
       "2  2019-11-30    5  bugün elektronik marketlerden birinde deneme f...\n",
       "3  2021-04-21    5  Her şeyiyle mükemmel. Ses kalitesi harika. Son...\n",
       "4  2021-11-11    5  beklediğimden kat ve kat daha iyi çıktı. 1100w..."
      ]
     },
     "execution_count": 7,
     "metadata": {},
     "output_type": "execute_result"
    }
   ],
   "source": [
    "df.head()"
   ]
  },
  {
   "cell_type": "code",
   "execution_count": 8,
   "id": "79d57f71-81a6-419b-8d93-1364e1ff8655",
   "metadata": {},
   "outputs": [
    {
     "name": "stdout",
     "output_type": "stream",
     "text": [
      "<class 'pandas.core.frame.DataFrame'>\n",
      "RangeIndex: 3919 entries, 0 to 3918\n",
      "Data columns (total 3 columns):\n",
      " #   Column  Non-Null Count  Dtype \n",
      "---  ------  --------------  ----- \n",
      " 0   tarih   3919 non-null   object\n",
      " 1   puan    3919 non-null   object\n",
      " 2   yorum   3919 non-null   object\n",
      "dtypes: object(3)\n",
      "memory usage: 92.0+ KB\n"
     ]
    }
   ],
   "source": [
    "df.info()"
   ]
  },
  {
   "cell_type": "code",
   "execution_count": 9,
   "id": "aaa90a93-d8ec-45bb-b907-878da857faa2",
   "metadata": {},
   "outputs": [
    {
     "data": {
      "text/plain": [
       "5    3340\n",
       "4     372\n",
       "3      99\n",
       "1      81\n",
       "2      27\n",
       "Name: puan, dtype: int64"
      ]
     },
     "execution_count": 9,
     "metadata": {},
     "output_type": "execute_result"
    }
   ],
   "source": [
    "df.puan.value_counts()"
   ]
  },
  {
   "cell_type": "code",
   "execution_count": null,
   "id": "e30866cc-7dd9-4b07-85ae-13cd12f6e3c3",
   "metadata": {},
   "outputs": [],
   "source": []
  },
  {
   "cell_type": "code",
   "execution_count": 10,
   "id": "eaaa47e6-f155-443d-8ff8-1cc62b394b96",
   "metadata": {},
   "outputs": [],
   "source": [
    "from pathlib import Path  \n",
    "filepath = Path('hb_yorumlar7.csv')  \n",
    "df.to_csv(filepath, index = False, sep = ',')"
   ]
  },
  {
   "cell_type": "code",
   "execution_count": null,
   "id": "2214f048-e270-412a-9fe1-04e2f62c0221",
   "metadata": {},
   "outputs": [],
   "source": []
  }
 ],
 "metadata": {
  "kernelspec": {
   "display_name": "Python 3 (ipykernel)",
   "language": "python",
   "name": "python3"
  },
  "language_info": {
   "codemirror_mode": {
    "name": "ipython",
    "version": 3
   },
   "file_extension": ".py",
   "mimetype": "text/x-python",
   "name": "python",
   "nbconvert_exporter": "python",
   "pygments_lexer": "ipython3",
   "version": "3.8.10"
  }
 },
 "nbformat": 4,
 "nbformat_minor": 5
}
