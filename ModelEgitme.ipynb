{
 "cells": [
  {
   "cell_type": "markdown",
   "id": "22c906cb-ef69-433b-a663-20325fc088c6",
   "metadata": {},
   "source": [
    "# Toplanan verilerden model eğitme"
   ]
  },
  {
   "cell_type": "code",
   "execution_count": 2,
   "id": "dc8bbdf8-9820-4cb2-a132-a6aac4051ca0",
   "metadata": {},
   "outputs": [],
   "source": [
    "import numpy as np\n",
    "import pandas as pd\n",
    "import json\n",
    "\n",
    "from tensorflow.python.keras.models import Sequential\n",
    "from tensorflow.python.keras.layers import Dense, GRU, Embedding, CuDNNGRU, Dense\n",
    "from tensorflow.keras.optimizers import Adam"
   ]
  },
  {
   "cell_type": "code",
   "execution_count": 3,
   "id": "3b42e7e0-0617-4322-b85c-62d7c19b522f",
   "metadata": {},
   "outputs": [
    {
     "data": {
      "text/html": [
       "<div>\n",
       "<style scoped>\n",
       "    .dataframe tbody tr th:only-of-type {\n",
       "        vertical-align: middle;\n",
       "    }\n",
       "\n",
       "    .dataframe tbody tr th {\n",
       "        vertical-align: top;\n",
       "    }\n",
       "\n",
       "    .dataframe thead th {\n",
       "        text-align: right;\n",
       "    }\n",
       "</style>\n",
       "<table border=\"1\" class=\"dataframe\">\n",
       "  <thead>\n",
       "    <tr style=\"text-align: right;\">\n",
       "      <th></th>\n",
       "      <th>tarih</th>\n",
       "      <th>puan</th>\n",
       "      <th>yorum</th>\n",
       "      <th>yeni_yorum</th>\n",
       "    </tr>\n",
       "  </thead>\n",
       "  <tbody>\n",
       "    <tr>\n",
       "      <th>0</th>\n",
       "      <td>2021-10-19</td>\n",
       "      <td>5</td>\n",
       "      <td>Renkli çıktı da renkler gayet canlı çıkıyor. K...</td>\n",
       "      <td>renkli çıktı da renkler gayet canlı çıkıyor ku...</td>\n",
       "    </tr>\n",
       "    <tr>\n",
       "      <th>1</th>\n",
       "      <td>2021-09-12</td>\n",
       "      <td>5</td>\n",
       "      <td>Ürün ile birlikte gelen evraklar ile kurulumu ...</td>\n",
       "      <td>ürün ile birlikte gelen evraklar ile kurulumu ...</td>\n",
       "    </tr>\n",
       "    <tr>\n",
       "      <th>2</th>\n",
       "      <td>2021-12-23</td>\n",
       "      <td>5</td>\n",
       "      <td>Çok iyi bir yazıcı kurulumu mürekkebi koyması ...</td>\n",
       "      <td>çok iyi bir yazıcı kurulumu mürekkebi koyması ...</td>\n",
       "    </tr>\n",
       "    <tr>\n",
       "      <th>3</th>\n",
       "      <td>2022-03-19</td>\n",
       "      <td>5</td>\n",
       "      <td>Kablosuz bağlantısı ile telefondan çikti ları ...</td>\n",
       "      <td>kablosuz bağlantısı ile telefondan çikti ları ...</td>\n",
       "    </tr>\n",
       "    <tr>\n",
       "      <th>4</th>\n",
       "      <td>2022-03-19</td>\n",
       "      <td>5</td>\n",
       "      <td>Kurulumu basit ve hızlı.Güzel tasarım.Kullanım...</td>\n",
       "      <td>kurulumu basit ve hızlıgüzel tasarımkullanımı ...</td>\n",
       "    </tr>\n",
       "  </tbody>\n",
       "</table>\n",
       "</div>"
      ],
      "text/plain": [
       "        tarih  puan                                              yorum  \\\n",
       "0  2021-10-19     5  Renkli çıktı da renkler gayet canlı çıkıyor. K...   \n",
       "1  2021-09-12     5  Ürün ile birlikte gelen evraklar ile kurulumu ...   \n",
       "2  2021-12-23     5  Çok iyi bir yazıcı kurulumu mürekkebi koyması ...   \n",
       "3  2022-03-19     5  Kablosuz bağlantısı ile telefondan çikti ları ...   \n",
       "4  2022-03-19     5  Kurulumu basit ve hızlı.Güzel tasarım.Kullanım...   \n",
       "\n",
       "                                          yeni_yorum  \n",
       "0  renkli çıktı da renkler gayet canlı çıkıyor ku...  \n",
       "1  ürün ile birlikte gelen evraklar ile kurulumu ...  \n",
       "2  çok iyi bir yazıcı kurulumu mürekkebi koyması ...  \n",
       "3  kablosuz bağlantısı ile telefondan çikti ları ...  \n",
       "4  kurulumu basit ve hızlıgüzel tasarımkullanımı ...  "
      ]
     },
     "execution_count": 3,
     "metadata": {},
     "output_type": "execute_result"
    }
   ],
   "source": [
    "df = pd.read_csv('butunYorumlarSon.csv', sep = ',')\n",
    "df = df.dropna()\n",
    "df.head()"
   ]
  },
  {
   "cell_type": "code",
   "execution_count": 4,
   "id": "442fd28c-cc0e-4590-982a-6acbbd2017dc",
   "metadata": {},
   "outputs": [
    {
     "data": {
      "text/plain": [
       "5    28680\n",
       "4     3400\n",
       "3      969\n",
       "1      772\n",
       "2      231\n",
       "Name: puan, dtype: int64"
      ]
     },
     "execution_count": 4,
     "metadata": {},
     "output_type": "execute_result"
    }
   ],
   "source": [
    "df.puan.value_counts()"
   ]
  },
  {
   "cell_type": "code",
   "execution_count": 5,
   "id": "c8a3b301-c261-4b6c-a0e9-8e4f61d1c6ea",
   "metadata": {},
   "outputs": [],
   "source": [
    "# 1--> 0, 5 --> 1 \n",
    "df.loc[df.puan < 3, 'puan'] = 0\n",
    "df.loc[df.puan >= 4, 'puan'] = 1"
   ]
  },
  {
   "cell_type": "code",
   "execution_count": 6,
   "id": "23012b9a-cc82-4042-a3bb-fa7a4c4f71de",
   "metadata": {},
   "outputs": [
    {
     "data": {
      "text/plain": [
       "1    32080\n",
       "0     1003\n",
       "3      969\n",
       "Name: puan, dtype: int64"
      ]
     },
     "execution_count": 6,
     "metadata": {},
     "output_type": "execute_result"
    }
   ],
   "source": [
    "df.puan.value_counts()"
   ]
  },
  {
   "cell_type": "code",
   "execution_count": 7,
   "id": "f2a85bde-bd1e-4d20-b743-2f7d7bfa4c86",
   "metadata": {},
   "outputs": [],
   "source": [
    "df_0 = df[df['puan'] == 0]\n",
    "df_1 = df[df['puan'] == 1]"
   ]
  },
  {
   "cell_type": "code",
   "execution_count": 8,
   "id": "c7800e38-bd22-4ca0-9eda-0ce75975d7de",
   "metadata": {},
   "outputs": [],
   "source": [
    "df = pd.concat([df_0, df_1], ignore_index = True)"
   ]
  },
  {
   "cell_type": "code",
   "execution_count": 9,
   "id": "08094236-a8f0-417a-a910-f2f265c8eb94",
   "metadata": {},
   "outputs": [],
   "source": [
    "from sklearn.utils import shuffle"
   ]
  },
  {
   "cell_type": "code",
   "execution_count": 10,
   "id": "9bcb2b23-12da-4166-8aa2-c0f05bee6af3",
   "metadata": {},
   "outputs": [],
   "source": [
    "df = shuffle(df)"
   ]
  },
  {
   "cell_type": "code",
   "execution_count": 11,
   "id": "8d07ed90-65a5-4098-b56d-deef15ed88d5",
   "metadata": {},
   "outputs": [
    {
     "data": {
      "text/html": [
       "<div>\n",
       "<style scoped>\n",
       "    .dataframe tbody tr th:only-of-type {\n",
       "        vertical-align: middle;\n",
       "    }\n",
       "\n",
       "    .dataframe tbody tr th {\n",
       "        vertical-align: top;\n",
       "    }\n",
       "\n",
       "    .dataframe thead th {\n",
       "        text-align: right;\n",
       "    }\n",
       "</style>\n",
       "<table border=\"1\" class=\"dataframe\">\n",
       "  <thead>\n",
       "    <tr style=\"text-align: right;\">\n",
       "      <th></th>\n",
       "      <th>tarih</th>\n",
       "      <th>puan</th>\n",
       "      <th>yorum</th>\n",
       "      <th>yeni_yorum</th>\n",
       "    </tr>\n",
       "  </thead>\n",
       "  <tbody>\n",
       "    <tr>\n",
       "      <th>2606</th>\n",
       "      <td>2022-05-06</td>\n",
       "      <td>1</td>\n",
       "      <td>Cok pratik ve kaliteli. Gucu dusuk 2500maH. Fa...</td>\n",
       "      <td>cok pratik ve kaliteli gucu dusuk mah fakat te...</td>\n",
       "    </tr>\n",
       "    <tr>\n",
       "      <th>20784</th>\n",
       "      <td>2022-03-13</td>\n",
       "      <td>1</td>\n",
       "      <td>Başlangıç için gayet yeterli memnunum. Teşekkü...</td>\n",
       "      <td>başlangıç için gayet yeterli memnunum teşekkürler</td>\n",
       "    </tr>\n",
       "    <tr>\n",
       "      <th>27878</th>\n",
       "      <td>2022-05-06</td>\n",
       "      <td>1</td>\n",
       "      <td>hiçbir sorun yok sadece geç saatlerde alırsanı...</td>\n",
       "      <td>hiçbir sorun yok sadece geç saatlerde alırsanı...</td>\n",
       "    </tr>\n",
       "    <tr>\n",
       "      <th>31738</th>\n",
       "      <td>2022-03-01</td>\n",
       "      <td>1</td>\n",
       "      <td>Laptop oyun oynarken frlan fazla ısınmıyor diğ...</td>\n",
       "      <td>laptop oyun oynarken frlan fazla ısınmıyor diğ...</td>\n",
       "    </tr>\n",
       "    <tr>\n",
       "      <th>23817</th>\n",
       "      <td>2022-04-01</td>\n",
       "      <td>1</td>\n",
       "      <td>Ürünün kanal geçişleri güzel hızlı kasma donma...</td>\n",
       "      <td>ürünün kanal geçişleri güzel hızlı kasma donma...</td>\n",
       "    </tr>\n",
       "  </tbody>\n",
       "</table>\n",
       "</div>"
      ],
      "text/plain": [
       "            tarih  puan                                              yorum  \\\n",
       "2606   2022-05-06     1  Cok pratik ve kaliteli. Gucu dusuk 2500maH. Fa...   \n",
       "20784  2022-03-13     1  Başlangıç için gayet yeterli memnunum. Teşekkü...   \n",
       "27878  2022-05-06     1  hiçbir sorun yok sadece geç saatlerde alırsanı...   \n",
       "31738  2022-03-01     1  Laptop oyun oynarken frlan fazla ısınmıyor diğ...   \n",
       "23817  2022-04-01     1  Ürünün kanal geçişleri güzel hızlı kasma donma...   \n",
       "\n",
       "                                              yeni_yorum  \n",
       "2606   cok pratik ve kaliteli gucu dusuk mah fakat te...  \n",
       "20784  başlangıç için gayet yeterli memnunum teşekkürler  \n",
       "27878  hiçbir sorun yok sadece geç saatlerde alırsanı...  \n",
       "31738  laptop oyun oynarken frlan fazla ısınmıyor diğ...  \n",
       "23817  ürünün kanal geçişleri güzel hızlı kasma donma...  "
      ]
     },
     "execution_count": 11,
     "metadata": {},
     "output_type": "execute_result"
    }
   ],
   "source": [
    "df.head()"
   ]
  },
  {
   "cell_type": "code",
   "execution_count": 12,
   "id": "b11b515c-7455-4de6-96bc-c550e0eddaed",
   "metadata": {},
   "outputs": [],
   "source": [
    "target = df['puan'].values.tolist()\n",
    "data = df['yeni_yorum'].values.tolist()"
   ]
  },
  {
   "cell_type": "code",
   "execution_count": 13,
   "id": "10d082e3-c700-49cb-bb6c-1f3c32885de0",
   "metadata": {},
   "outputs": [
    {
     "data": {
      "text/plain": [
       "['cok pratik ve kaliteli gucu dusuk mah fakat telefona takip baska birşey için amacına uygun iphone i tam bir',\n",
       " 'başlangıç için gayet yeterli memnunum teşekkürler',\n",
       " 'hiçbir sorun yok sadece geç saatlerde alırsanız ürün yarına veya yarım saat sonra geliyor',\n",
       " 'laptop oyun oynarken frlan fazla ısınmıyor diğer geri kalan bütün islerimide görüyor güzel bir laptop rek sıkıntısı şarjı oda bu gibi güçlü ekran kartlı bir laptopa gore iyi',\n",
       " 'ürünün kanal geçişleri güzel hızlı kasma donma vs olmuyor fiyatına göre güzel bir ürün fp diye biliriz yanında akıllı kumanda var gayet kullanışlı bu fiyat aralığında arayan varsa tavsiye ederim']"
      ]
     },
     "execution_count": 13,
     "metadata": {},
     "output_type": "execute_result"
    }
   ],
   "source": [
    "data[0:5]"
   ]
  },
  {
   "cell_type": "code",
   "execution_count": 14,
   "id": "52a56706-da83-4270-a1ef-365645e82037",
   "metadata": {},
   "outputs": [],
   "source": [
    "cutoff = int(len(data) * 0.85)\n",
    "x_train, x_test = data[:cutoff], data[cutoff:]\n",
    "y_train, y_test = target[:cutoff], target[cutoff:]"
   ]
  },
  {
   "cell_type": "code",
   "execution_count": 15,
   "id": "e68ff0c4-f353-4145-a0b6-4199f3fe279f",
   "metadata": {},
   "outputs": [
    {
     "data": {
      "text/plain": [
       "28120"
      ]
     },
     "execution_count": 15,
     "metadata": {},
     "output_type": "execute_result"
    }
   ],
   "source": [
    "len(x_train)"
   ]
  },
  {
   "cell_type": "code",
   "execution_count": 16,
   "id": "0db000db-ec85-4df3-a608-e2d6ef82a5be",
   "metadata": {},
   "outputs": [
    {
     "data": {
      "text/plain": [
       "33083"
      ]
     },
     "execution_count": 16,
     "metadata": {},
     "output_type": "execute_result"
    }
   ],
   "source": [
    "len(data)"
   ]
  },
  {
   "cell_type": "code",
   "execution_count": 17,
   "id": "5c7681d7-ad25-4aa4-8594-43de23bddeea",
   "metadata": {},
   "outputs": [],
   "source": [
    "with open('tokenizer.json') as json_dosyasi:\n",
    "    json_tokenizer = json.load(json_dosyasi)"
   ]
  },
  {
   "cell_type": "code",
   "execution_count": 18,
   "id": "8d8d32f5-20ef-4c14-8f90-4fb2d1ff1597",
   "metadata": {},
   "outputs": [
    {
     "data": {
      "text/plain": [
       "183"
      ]
     },
     "execution_count": 18,
     "metadata": {},
     "output_type": "execute_result"
    }
   ],
   "source": [
    "json_tokenizer['süper']"
   ]
  },
  {
   "cell_type": "code",
   "execution_count": 19,
   "id": "c8433a12-f25c-4f5f-a446-989b43f9304a",
   "metadata": {},
   "outputs": [],
   "source": [
    "def tokenlestir(yorumListesi):\n",
    "    y_yorumlar = []\n",
    "    for yorum in yorumListesi:\n",
    "        y_yorum = []\n",
    "        for kelime in yorum.split():\n",
    "            if (len(y_yorum) < 50 and kelime in json_tokenizer):\n",
    "                y_yorum.append(json_tokenizer[kelime])\n",
    "                \n",
    "        if (len(y_yorum) < 50):\n",
    "            sifirlar = list(np.zeros(50 - len(y_yorum), dtype = int))\n",
    "            y_yorum = sifirlar + y_yorum\n",
    "            \n",
    "        y_yorumlar.append(y_yorum)\n",
    "    return np.array(y_yorumlar, dtype = np.dtype(np.int32))"
   ]
  },
  {
   "cell_type": "code",
   "execution_count": 20,
   "id": "2bb7e56e-ce55-40ae-b289-f08056d199eb",
   "metadata": {},
   "outputs": [],
   "source": [
    "egitim_kume = tokenlestir(x_train)"
   ]
  },
  {
   "cell_type": "code",
   "execution_count": 21,
   "id": "b66d4a47-ef75-4cba-b8de-ec59466e293b",
   "metadata": {},
   "outputs": [
    {
     "data": {
      "text/plain": [
       "'hiçbir sorun yok sadece geç saatlerde alırsanız ürün yarına veya yarım saat sonra geliyor'"
      ]
     },
     "execution_count": 21,
     "metadata": {},
     "output_type": "execute_result"
    }
   ],
   "source": [
    "x_train[2]"
   ]
  },
  {
   "cell_type": "code",
   "execution_count": 22,
   "id": "fc41c9f2-b01d-480b-948e-1b61c6da3801",
   "metadata": {},
   "outputs": [
    {
     "data": {
      "text/plain": [
       "array([   0,    0,    0,    0,    0,    0,    0,    0,    0,    0,    0,\n",
       "          0,    0,    0,    0,    0,    0,    0,    0,    0,    0,    0,\n",
       "          0,    0,    0,    0,    0,    0,  406, 5512,  893, 2444,    3,\n",
       "        533,    2,    7,  360,  793,  135,  171,  357,  932, 1779,  997,\n",
       "       1014,  164,   42,   48,  697, 3768], dtype=int32)"
      ]
     },
     "execution_count": 22,
     "metadata": {},
     "output_type": "execute_result"
    }
   ],
   "source": [
    "egitim_kume[22]"
   ]
  },
  {
   "cell_type": "code",
   "execution_count": 23,
   "id": "6890e051-b1f9-43ff-947b-02e4fd10ace7",
   "metadata": {},
   "outputs": [],
   "source": [
    "test_kume = tokenlestir(x_test)"
   ]
  },
  {
   "cell_type": "code",
   "execution_count": 24,
   "id": "73acaa5f-a06e-48c8-860b-1431d8770477",
   "metadata": {},
   "outputs": [
    {
     "data": {
      "text/plain": [
       "array([ 0,  0,  0,  0,  0,  0,  0,  0,  0,  0,  0,  0,  0,  0,  0,  0,  0,\n",
       "        0,  0,  0,  0,  0,  0,  0,  0,  0,  0,  0,  0,  0,  0,  0,  0,  0,\n",
       "        0,  0,  0,  0,  0,  0,  0,  0,  0,  0,  0,  0,  0,  0,  0, 25],\n",
       "      dtype=int32)"
      ]
     },
     "execution_count": 24,
     "metadata": {},
     "output_type": "execute_result"
    }
   ],
   "source": [
    "test_kume[12]"
   ]
  },
  {
   "cell_type": "code",
   "execution_count": 26,
   "id": "b20f54d2-80e3-4a83-8741-536e2912b002",
   "metadata": {},
   "outputs": [
    {
     "name": "stdout",
     "output_type": "stream",
     "text": [
      "Model: \"sequential_1\"\n",
      "_________________________________________________________________\n",
      "Layer (type)                 Output Shape              Param #   \n",
      "=================================================================\n",
      "embedding_layer (Embedding)  (None, 50, 50)            500050    \n",
      "_________________________________________________________________\n",
      "gru_3 (GRU)                  (None, 50, 16)            3216      \n",
      "_________________________________________________________________\n",
      "gru_4 (GRU)                  (None, 50, 8)             600       \n",
      "_________________________________________________________________\n",
      "gru_5 (GRU)                  (None, 4)                 156       \n",
      "_________________________________________________________________\n",
      "dense_1 (Dense)              (None, 1)                 5         \n",
      "=================================================================\n",
      "Total params: 504,027\n",
      "Trainable params: 504,027\n",
      "Non-trainable params: 0\n",
      "_________________________________________________________________\n"
     ]
    }
   ],
   "source": [
    "model = Sequential()\n",
    "\n",
    "embedding_size = 50\n",
    "\n",
    "model.add(Embedding(input_dim=10001,\n",
    "                    output_dim=embedding_size,\n",
    "                    input_length=50,\n",
    "                    name='embedding_layer'))\n",
    "\n",
    "model.add(GRU(units=16, return_sequences=True))\n",
    "model.add(GRU(units=8, return_sequences=True))\n",
    "model.add(GRU(units=4))\n",
    "model.add(Dense(1, activation='sigmoid'))\n",
    "\n",
    "model.compile(loss='binary_crossentropy', optimizer = 'adam', metrics=['accuracy'])\n",
    "\n",
    "model.summary()"
   ]
  },
  {
   "cell_type": "code",
   "execution_count": 27,
   "id": "2d8fe823-82c5-42e8-a986-2e270bcded43",
   "metadata": {},
   "outputs": [
    {
     "name": "stdout",
     "output_type": "stream",
     "text": [
      "Epoch 1/5\n",
      "220/220 [==============================] - 18s 63ms/step - loss: 0.2001 - accuracy: 0.9663\n",
      "Epoch 2/5\n",
      "220/220 [==============================] - 14s 65ms/step - loss: 0.1090 - accuracy: 0.9732\n",
      "Epoch 3/5\n",
      "220/220 [==============================] - 15s 69ms/step - loss: 0.0607 - accuracy: 0.9841\n",
      "Epoch 4/5\n",
      "220/220 [==============================] - 16s 72ms/step - loss: 0.0360 - accuracy: 0.9922\n",
      "Epoch 5/5\n",
      "220/220 [==============================] - 15s 69ms/step - loss: 0.0244 - accuracy: 0.9954\n"
     ]
    },
    {
     "data": {
      "text/plain": [
       "<tensorflow.python.keras.callbacks.History at 0x7f5c7dc8c2b0>"
      ]
     },
     "execution_count": 27,
     "metadata": {},
     "output_type": "execute_result"
    }
   ],
   "source": [
    "model.fit(egitim_kume, np.array(y_train), epochs = 5, batch_size = 128)"
   ]
  },
  {
   "cell_type": "code",
   "execution_count": 28,
   "id": "8f9483f6-4bd7-4937-bbc4-d30d5199d942",
   "metadata": {},
   "outputs": [
    {
     "name": "stdout",
     "output_type": "stream",
     "text": [
      "156/156 [==============================] - 2s 10ms/step - loss: 0.0825 - accuracy: 0.9813\n"
     ]
    },
    {
     "data": {
      "text/plain": [
       "[0.08246192336082458, 0.9812613129615784]"
      ]
     },
     "execution_count": 28,
     "metadata": {},
     "output_type": "execute_result"
    }
   ],
   "source": [
    "model.evaluate(test_kume, np.array(y_test))"
   ]
  },
  {
   "cell_type": "code",
   "execution_count": 29,
   "id": "1754b479-aad8-4fff-b147-3257e12e925a",
   "metadata": {},
   "outputs": [],
   "source": [
    "text1 = \"bu ürün çok iyi herkese tavsiye ederim\"\n",
    "text2 = \"kargo çok hızlı aynı gün elime geçti\"\n",
    "text3 = \"büyük bir hayal kırıklığı yaşadım bu ürün bu markaya yakışmamış\"\n",
    "text4 = \"gitar kursuna yeni başladım. ne almalıyım diye bakınırken Hepsiburada da bu ürünü gördüm. fiyatı ve hediyeleri ile birlikte çok iyi fiyat. siyah olmasıda benim için ayrı güzel.\"\n",
    "text5 = \"tasarımı harika ancak kargo çok geç geldi ve ürün açılmıştı tavsiye etmem\"\n",
    "text6 = \"hiç resimde gösterildiği gibi değil\"\n",
    "text7 = \"kötü yorumlar gözümü korkutmuştu ancak hiçbir sorun yaşamadım teşekkürler\"\n",
    "text8 = \"hiç bu kadar kötü bir satıcıya denk gelmemiştim ürünü geri iade ediyorum\"\n",
    "text9 = \"tam bir fiyat performans ürünü\"\n",
    "text10 = \"beklediğim gibi çıkmadı\"\n",
    "yazilar = [text1, text2, text3, text4, text5, text6, text7, text8, text9, text10]"
   ]
  },
  {
   "cell_type": "code",
   "execution_count": 30,
   "id": "a1a615c2-9c50-47c9-b236-10f0ca3700e5",
   "metadata": {},
   "outputs": [],
   "source": [
    "deneme_kume = tokenlestir(yazilar)"
   ]
  },
  {
   "cell_type": "code",
   "execution_count": 31,
   "id": "46738d6e-9371-4c17-b79b-6e3fc3e524ff",
   "metadata": {},
   "outputs": [],
   "source": [
    "sonuc = model.predict(deneme_kume)"
   ]
  },
  {
   "cell_type": "code",
   "execution_count": 32,
   "id": "9ab5c3ae-3a85-4744-8539-95740c977c0c",
   "metadata": {},
   "outputs": [
    {
     "data": {
      "text/plain": [
       "array([[0.9938488 ],\n",
       "       [0.99385595],\n",
       "       [0.02145937],\n",
       "       [0.99389243],\n",
       "       [0.9908788 ],\n",
       "       [0.21928486],\n",
       "       [0.9215251 ],\n",
       "       [0.38137335],\n",
       "       [0.9938058 ],\n",
       "       [0.39489505]], dtype=float32)"
      ]
     },
     "execution_count": 32,
     "metadata": {},
     "output_type": "execute_result"
    }
   ],
   "source": [
    "sonuc"
   ]
  },
  {
   "cell_type": "code",
   "execution_count": 33,
   "id": "9ab5e0a9-8daf-4ff8-aa26-0aa62ad2634c",
   "metadata": {},
   "outputs": [],
   "source": [
    "model.save('15may22.h5') # modeli kaydetme"
   ]
  },
  {
   "cell_type": "code",
   "execution_count": null,
   "id": "b650bb2f-7951-4747-b499-8a9e61ec8ef4",
   "metadata": {},
   "outputs": [],
   "source": []
  }
 ],
 "metadata": {
  "kernelspec": {
   "display_name": "Python 3 (ipykernel)",
   "language": "python",
   "name": "python3"
  },
  "language_info": {
   "codemirror_mode": {
    "name": "ipython",
    "version": 3
   },
   "file_extension": ".py",
   "mimetype": "text/x-python",
   "name": "python",
   "nbconvert_exporter": "python",
   "pygments_lexer": "ipython3",
   "version": "3.8.10"
  }
 },
 "nbformat": 4,
 "nbformat_minor": 5
}
