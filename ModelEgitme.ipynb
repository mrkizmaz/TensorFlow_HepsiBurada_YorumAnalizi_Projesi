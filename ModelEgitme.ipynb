{
 "cells": [
  {
   "cell_type": "markdown",
   "id": "22c906cb-ef69-433b-a663-20325fc088c6",
   "metadata": {},
   "source": [
    "# Toplanan verilerden model eğitme"
   ]
  },
  {
   "cell_type": "code",
   "execution_count": 2,
   "id": "dc8bbdf8-9820-4cb2-a132-a6aac4051ca0",
   "metadata": {},
   "outputs": [],
   "source": [
    "import numpy as np\n",
    "import pandas as pd\n",
    "import json\n",
    "\n",
    "from tensorflow.python.keras.models import Sequential\n",
    "from tensorflow.python.keras.layers import Dense, GRU, Embedding, CuDNNGRU\n",
    "from tensorflow.keras.optimizers import Adam"
   ]
  },
  {
   "cell_type": "code",
   "execution_count": 3,
   "id": "3b42e7e0-0617-4322-b85c-62d7c19b522f",
   "metadata": {},
   "outputs": [
    {
     "data": {
      "text/html": [
       "<div>\n",
       "<style scoped>\n",
       "    .dataframe tbody tr th:only-of-type {\n",
       "        vertical-align: middle;\n",
       "    }\n",
       "\n",
       "    .dataframe tbody tr th {\n",
       "        vertical-align: top;\n",
       "    }\n",
       "\n",
       "    .dataframe thead th {\n",
       "        text-align: right;\n",
       "    }\n",
       "</style>\n",
       "<table border=\"1\" class=\"dataframe\">\n",
       "  <thead>\n",
       "    <tr style=\"text-align: right;\">\n",
       "      <th></th>\n",
       "      <th>Unnamed: 0</th>\n",
       "      <th>tarih</th>\n",
       "      <th>puan</th>\n",
       "      <th>yorum</th>\n",
       "      <th>yeni_yorum</th>\n",
       "    </tr>\n",
       "  </thead>\n",
       "  <tbody>\n",
       "    <tr>\n",
       "      <th>0</th>\n",
       "      <td>0</td>\n",
       "      <td>2021-10-19</td>\n",
       "      <td>5</td>\n",
       "      <td>Renkli çıktı da renkler gayet canlı çıkıyor. K...</td>\n",
       "      <td>renkli çıktı renkler gayet canlı çıkıyor kutu ...</td>\n",
       "    </tr>\n",
       "    <tr>\n",
       "      <th>1</th>\n",
       "      <td>1</td>\n",
       "      <td>2021-09-12</td>\n",
       "      <td>5</td>\n",
       "      <td>Ürün ile birlikte gelen evraklar ile kurulumu ...</td>\n",
       "      <td>ürün birlikte gelen evraklar kurulumu basit ko...</td>\n",
       "    </tr>\n",
       "    <tr>\n",
       "      <th>2</th>\n",
       "      <td>2</td>\n",
       "      <td>2021-12-23</td>\n",
       "      <td>5</td>\n",
       "      <td>Çok iyi bir yazıcı kurulumu mürekkebi koyması ...</td>\n",
       "      <td>iyi bir yazıcı kurulumu mürekkebi koyması kola...</td>\n",
       "    </tr>\n",
       "    <tr>\n",
       "      <th>3</th>\n",
       "      <td>3</td>\n",
       "      <td>2022-03-19</td>\n",
       "      <td>5</td>\n",
       "      <td>Kablosuz bağlantısı ile telefondan çikti ları ...</td>\n",
       "      <td>kablosuz bağlantısı telefondan çikti ları alab...</td>\n",
       "    </tr>\n",
       "    <tr>\n",
       "      <th>4</th>\n",
       "      <td>4</td>\n",
       "      <td>2022-03-19</td>\n",
       "      <td>5</td>\n",
       "      <td>Kurulumu basit ve hızlı.Güzel tasarım.Kullanım...</td>\n",
       "      <td>kurulumu basit hızlıgüzel tasarımkullanımı kol...</td>\n",
       "    </tr>\n",
       "  </tbody>\n",
       "</table>\n",
       "</div>"
      ],
      "text/plain": [
       "   Unnamed: 0       tarih  puan  \\\n",
       "0           0  2021-10-19     5   \n",
       "1           1  2021-09-12     5   \n",
       "2           2  2021-12-23     5   \n",
       "3           3  2022-03-19     5   \n",
       "4           4  2022-03-19     5   \n",
       "\n",
       "                                               yorum  \\\n",
       "0  Renkli çıktı da renkler gayet canlı çıkıyor. K...   \n",
       "1  Ürün ile birlikte gelen evraklar ile kurulumu ...   \n",
       "2  Çok iyi bir yazıcı kurulumu mürekkebi koyması ...   \n",
       "3  Kablosuz bağlantısı ile telefondan çikti ları ...   \n",
       "4  Kurulumu basit ve hızlı.Güzel tasarım.Kullanım...   \n",
       "\n",
       "                                          yeni_yorum  \n",
       "0  renkli çıktı renkler gayet canlı çıkıyor kutu ...  \n",
       "1  ürün birlikte gelen evraklar kurulumu basit ko...  \n",
       "2  iyi bir yazıcı kurulumu mürekkebi koyması kola...  \n",
       "3  kablosuz bağlantısı telefondan çikti ları alab...  \n",
       "4  kurulumu basit hızlıgüzel tasarımkullanımı kol...  "
      ]
     },
     "execution_count": 3,
     "metadata": {},
     "output_type": "execute_result"
    }
   ],
   "source": [
    "df = pd.read_csv('butunYorumlarSon.csv', sep = ',')\n",
    "df.head()"
   ]
  },
  {
   "cell_type": "code",
   "execution_count": 4,
   "id": "7f01a9fb-e93c-4395-871e-118c3e4864d0",
   "metadata": {},
   "outputs": [],
   "source": [
    "df = df.dropna()"
   ]
  },
  {
   "cell_type": "code",
   "execution_count": 5,
   "id": "b11b515c-7455-4de6-96bc-c550e0eddaed",
   "metadata": {},
   "outputs": [],
   "source": [
    "target = df['puan'].values.tolist()\n",
    "data = df['yeni_yorum'].values.tolist()"
   ]
  },
  {
   "cell_type": "code",
   "execution_count": 6,
   "id": "10d082e3-c700-49cb-bb6c-1f3c32885de0",
   "metadata": {},
   "outputs": [
    {
     "data": {
      "text/plain": [
       "['renkli çıktı renkler gayet canlı çıkıyor kutu içinden büyük siyah küçük renkli mürekkep çıkıyor mürekkeplerin dolumu yazıcının kurulumu gayet basit marka yazıcının sosyal medyada videolari var onları izleyerek herşey basit oluyor uzun süre problem çıkarmadan kullanabilecek kalite bir yazıcı',\n",
       " 'ürün birlikte gelen evraklar kurulumu basit kolay bir şekilde yapılabiliyor kurulum bittikten sonra sn sonra baskı alınabilir fotoğraf baskısı gayet net güzel tavsiye ederim uygulama sayesinde ayrıca tarama yapıp telefona yüklüyor',\n",
       " 'iyi bir yazıcı kurulumu mürekkebi koyması kolay kitapçığı bakarak yaparsanız hiçbir sorun yaşamazsınız kurulumunu yaptıktan sonra wifi ye bağlanıp cihazları bağlayana kadar kısık seste bip sesi geliyor geçiyor adet renkli ml tam dolduruyor tankını siyah olanda ml adet geliyor tam tankıyla aynı ml a kağıdına fotoğraf çıktısı aldım onda bile güzel çıktı kişiler tam kuramamış sanırım sorun yaşamışlar yorumlarda okuduğum zaman hiçbir sorun yaşamadım kurulumu herşeyi kolaydı',\n",
       " 'kablosuz bağlantısı telefondan çikti ları alabiliyor olmamiz güzel üzerinde gelen mürekkep ler tankları ful dolduruyor üzerinden direk renkli siyah beyaz fotokobi çekebiliyor hp nin kendi kagitlarini kullanıyorum',\n",
       " 'kurulumu basit hızlıgüzel tasarımkullanımı kolay smart tank sayesinde kartuş dolumlarından kurtulduk']"
      ]
     },
     "execution_count": 6,
     "metadata": {},
     "output_type": "execute_result"
    }
   ],
   "source": [
    "data[0:5]"
   ]
  },
  {
   "cell_type": "code",
   "execution_count": 7,
   "id": "52a56706-da83-4270-a1ef-365645e82037",
   "metadata": {},
   "outputs": [],
   "source": [
    "cutoff = int(len(data) * 0.85)\n",
    "x_train, x_test = data[:cutoff], data[cutoff:]\n",
    "y_train, y_test = target[:cutoff], target[cutoff:]"
   ]
  },
  {
   "cell_type": "code",
   "execution_count": 8,
   "id": "e68ff0c4-f353-4145-a0b6-4199f3fe279f",
   "metadata": {},
   "outputs": [
    {
     "data": {
      "text/plain": [
       "28942"
      ]
     },
     "execution_count": 8,
     "metadata": {},
     "output_type": "execute_result"
    }
   ],
   "source": [
    "len(x_train)"
   ]
  },
  {
   "cell_type": "code",
   "execution_count": 9,
   "id": "0db000db-ec85-4df3-a608-e2d6ef82a5be",
   "metadata": {},
   "outputs": [
    {
     "data": {
      "text/plain": [
       "34050"
      ]
     },
     "execution_count": 9,
     "metadata": {},
     "output_type": "execute_result"
    }
   ],
   "source": [
    "len(data)"
   ]
  },
  {
   "cell_type": "code",
   "execution_count": 10,
   "id": "c29249b3-c23a-460a-96d9-1c75b95ee17d",
   "metadata": {},
   "outputs": [],
   "source": [
    "with open('tokenizer.txt','r') as f:\n",
    "    s = f.read()\n",
    "    s = s.replace(\"'\", '\"')"
   ]
  },
  {
   "cell_type": "code",
   "execution_count": 11,
   "id": "40c2aeca-082b-4cb3-bfba-ec914dd46059",
   "metadata": {},
   "outputs": [],
   "source": [
    "#s"
   ]
  },
  {
   "cell_type": "code",
   "execution_count": 12,
   "id": "5c7681d7-ad25-4aa4-8594-43de23bddeea",
   "metadata": {},
   "outputs": [],
   "source": [
    "with open('tokenizer.json') as json_dosyasi:\n",
    "    json_tokenizer = json.load(json_dosyasi)"
   ]
  },
  {
   "cell_type": "code",
   "execution_count": 16,
   "id": "8d8d32f5-20ef-4c14-8f90-4fb2d1ff1597",
   "metadata": {},
   "outputs": [
    {
     "data": {
      "text/plain": [
       "22"
      ]
     },
     "execution_count": 16,
     "metadata": {},
     "output_type": "execute_result"
    }
   ],
   "source": [
    "json_tokenizer['ben']"
   ]
  },
  {
   "cell_type": "code",
   "execution_count": 17,
   "id": "c8433a12-f25c-4f5f-a446-989b43f9304a",
   "metadata": {},
   "outputs": [],
   "source": [
    "def tokenlestir(yorumListesi):\n",
    "    y_yorumlar = []\n",
    "    for yorum in yorumListesi:\n",
    "        y_yorum = []\n",
    "        for kelime in yorum.split():\n",
    "            if (len(y_yorum) < 50 and kelime in json_tokenizer):\n",
    "                y_yorum.append(json_tokenizer[kelime])\n",
    "                \n",
    "        if (len(y_yorum) < 50):\n",
    "            sifirlar = list(np.zeros(50 - len(y_yorum), dtype = int))\n",
    "            y_yorum = sifirlar + y_yorum\n",
    "            \n",
    "        y_yorumlar.append(y_yorum)\n",
    "    return np.array(y_yorumlar, dtype = np.dtype(np.int32))"
   ]
  },
  {
   "cell_type": "code",
   "execution_count": 18,
   "id": "2bb7e56e-ce55-40ae-b289-f08056d199eb",
   "metadata": {},
   "outputs": [],
   "source": [
    "egitim_kume = tokenlestir(x_train)"
   ]
  },
  {
   "cell_type": "code",
   "execution_count": 20,
   "id": "fc41c9f2-b01d-480b-948e-1b61c6da3801",
   "metadata": {},
   "outputs": [
    {
     "data": {
      "text/plain": [
       "array([   0,    0,    0,    0,    0,    0,    0,    0,    0,    0,    0,\n",
       "          0,    0,    0,    0,    0,    0,    0,    0,    0,    0,    0,\n",
       "          0,    0,    0,    0, 4927, 6600,    6,    3,    1,    2, 2023,\n",
       "        311, 2490,  172,  277,  202,   43,    7,   22,    1,    2,   25,\n",
       "         32, 1451,   43,  768,    4,  447], dtype=int32)"
      ]
     },
     "execution_count": 20,
     "metadata": {},
     "output_type": "execute_result"
    }
   ],
   "source": [
    "egitim_kume[122]"
   ]
  },
  {
   "cell_type": "code",
   "execution_count": 21,
   "id": "6890e051-b1f9-43ff-947b-02e4fd10ace7",
   "metadata": {},
   "outputs": [],
   "source": [
    "test_kume = tokenlestir(x_test)"
   ]
  },
  {
   "cell_type": "code",
   "execution_count": 22,
   "id": "73acaa5f-a06e-48c8-860b-1431d8770477",
   "metadata": {},
   "outputs": [
    {
     "data": {
      "text/plain": [
       "array([   0,    0,    0,    0,    0,    0,    0,    0,    0,    0,    0,\n",
       "          0,    0,    0,    0,    0,    0,    0,    0,    0,    0,    0,\n",
       "          0,    0,    0,    0, 3086,   37,    1,   28, 7160, 4956,  297,\n",
       "       1871, 1362, 1108, 1871,  216,  216,  310,    1, 1736, 5065,   67,\n",
       "          1,   67,    1,   67,    1,  912], dtype=int32)"
      ]
     },
     "execution_count": 22,
     "metadata": {},
     "output_type": "execute_result"
    }
   ],
   "source": [
    "test_kume[122]"
   ]
  },
  {
   "cell_type": "code",
   "execution_count": null,
   "id": "b20f54d2-80e3-4a83-8741-536e2912b002",
   "metadata": {},
   "outputs": [],
   "source": [
    "model = Sequential()\n",
    "\n",
    "embedding_size = 50\n",
    "\n",
    "model.add(Embedding(input_dim=10001,\n",
    "                    output_dim=embedding_size,\n",
    "                    input_length=50,\n",
    "                    name='embedding_layer'))\n",
    "\n",
    "model.add(GRU(units=16, return_sequences=True))\n",
    "model.add(GRU(units=8, return_sequences=True))\n",
    "model.add(GRU(units=4))\n",
    "model.add(Dense(1, activation='sigmoid'))\n",
    "\n",
    "optimizer = Adam(lr=1e-3)\n",
    "\n",
    "model.compile(loss='binary_crossentropy',\n",
    "              optimizer=optimizer,\n",
    "              metrics=['accuracy'])\n",
    "\n",
    "model.summary()"
   ]
  },
  {
   "cell_type": "code",
   "execution_count": null,
   "id": "2d8fe823-82c5-42e8-a986-2e270bcded43",
   "metadata": {},
   "outputs": [],
   "source": []
  },
  {
   "cell_type": "code",
   "execution_count": null,
   "id": "fff57c2f-ca9d-4f8e-88be-2b45a10419a4",
   "metadata": {},
   "outputs": [],
   "source": []
  },
  {
   "cell_type": "code",
   "execution_count": null,
   "id": "8f9483f6-4bd7-4937-bbc4-d30d5199d942",
   "metadata": {},
   "outputs": [],
   "source": []
  },
  {
   "cell_type": "code",
   "execution_count": null,
   "id": "1754b479-aad8-4fff-b147-3257e12e925a",
   "metadata": {},
   "outputs": [],
   "source": []
  },
  {
   "cell_type": "code",
   "execution_count": null,
   "id": "a1a615c2-9c50-47c9-b236-10f0ca3700e5",
   "metadata": {},
   "outputs": [],
   "source": []
  },
  {
   "cell_type": "code",
   "execution_count": null,
   "id": "46738d6e-9371-4c17-b79b-6e3fc3e524ff",
   "metadata": {},
   "outputs": [],
   "source": []
  },
  {
   "cell_type": "code",
   "execution_count": null,
   "id": "91f57200-c8e1-4675-bc40-7074417ab327",
   "metadata": {},
   "outputs": [],
   "source": []
  },
  {
   "cell_type": "code",
   "execution_count": null,
   "id": "1407b6fd-aa99-4d7f-9e53-994735f513f1",
   "metadata": {},
   "outputs": [],
   "source": []
  },
  {
   "cell_type": "code",
   "execution_count": null,
   "id": "07a06530-dc49-4463-9ef6-ab4b238667cb",
   "metadata": {},
   "outputs": [],
   "source": []
  },
  {
   "cell_type": "code",
   "execution_count": null,
   "id": "eaa083d6-da68-4407-a88f-ec09ae04e544",
   "metadata": {},
   "outputs": [],
   "source": []
  },
  {
   "cell_type": "code",
   "execution_count": null,
   "id": "9b0c65b7-d24f-4a66-b973-70b13d4560eb",
   "metadata": {},
   "outputs": [],
   "source": []
  },
  {
   "cell_type": "code",
   "execution_count": null,
   "id": "d27a732e-59b6-428b-83bc-7cd72d363be9",
   "metadata": {},
   "outputs": [],
   "source": []
  }
 ],
 "metadata": {
  "kernelspec": {
   "display_name": "Python 3 (ipykernel)",
   "language": "python",
   "name": "python3"
  },
  "language_info": {
   "codemirror_mode": {
    "name": "ipython",
    "version": 3
   },
   "file_extension": ".py",
   "mimetype": "text/x-python",
   "name": "python",
   "nbconvert_exporter": "python",
   "pygments_lexer": "ipython3",
   "version": "3.8.10"
  }
 },
 "nbformat": 4,
 "nbformat_minor": 5
}
