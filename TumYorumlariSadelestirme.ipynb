{
 "cells": [
  {
   "cell_type": "code",
   "execution_count": 1,
   "id": "c52b8500-204f-4d74-aff0-40d4075a3830",
   "metadata": {},
   "outputs": [],
   "source": [
    "# Bütün yorum veri setlerini kullanarak yorumları sadeleştirme işlemi"
   ]
  },
  {
   "cell_type": "code",
   "execution_count": 2,
   "id": "2252b1fb-ec7b-40dd-9535-752dd0ed5a8c",
   "metadata": {},
   "outputs": [
    {
     "data": {
      "text/plain": [
       "['.ipynb_checkpoints',\n",
       " 'hb_yorumlar6.csv',\n",
       " 'hb_yorumlar3.csv',\n",
       " 'yorumAlma4.ipynb',\n",
       " 'hb_yorumlar8.csv',\n",
       " 'urunler.txt',\n",
       " 'hb_yorumlar9.csv',\n",
       " 'hb_yorumlar4.csv',\n",
       " 'yorumAlma9.ipynb',\n",
       " 'hb_yorumlar5.csv',\n",
       " 'yorumAlma5.ipynb',\n",
       " 'yorumAlma8.ipynb',\n",
       " 'hb_yorumlar2.csv',\n",
       " 'yorumAlma3.ipynb',\n",
       " 'hb_yorumlar7.csv',\n",
       " 'yorumAlma2.ipynb',\n",
       " 'hb_yorumlar1.csv',\n",
       " 'yorumAlma.ipynb',\n",
       " 'yorumAlma7.ipynb',\n",
       " 'yorumAlma6.ipynb',\n",
       " 'hb_yorumlar10.csv',\n",
       " 'yorumAlma10.ipynb']"
      ]
     },
     "execution_count": 2,
     "metadata": {},
     "output_type": "execute_result"
    }
   ],
   "source": [
    "import os \n",
    "os.listdir('HB_Yorumlar')"
   ]
  },
  {
   "cell_type": "code",
   "execution_count": 3,
   "id": "c604aeb1-f421-47b6-ae94-99f96afbc35f",
   "metadata": {},
   "outputs": [
    {
     "name": "stdout",
     "output_type": "stream",
     "text": [
      "hb_yorumlar6.csv\n",
      "hb_yorumlar3.csv\n",
      "hb_yorumlar8.csv\n",
      "hb_yorumlar9.csv\n",
      "hb_yorumlar4.csv\n",
      "hb_yorumlar5.csv\n",
      "hb_yorumlar2.csv\n",
      "hb_yorumlar7.csv\n",
      "hb_yorumlar1.csv\n",
      "hb_yorumlar10.csv\n"
     ]
    }
   ],
   "source": [
    "for i in os.listdir('HB_Yorumlar'):\n",
    "    if i.endswith('.csv'):\n",
    "        print(i)"
   ]
  },
  {
   "cell_type": "code",
   "execution_count": 4,
   "id": "00aafc3d-0cda-4c3d-94cb-851753aa8586",
   "metadata": {},
   "outputs": [],
   "source": [
    "def toplamYorumlar(data):\n",
    "    import pandas as pd\n",
    "    df = pd.read_csv(f'HB_Yorumlar/{data}', sep = ',')\n",
    "    yorumSayisi = df.shape[0]\n",
    "    return yorumSayisi"
   ]
  },
  {
   "cell_type": "code",
   "execution_count": 5,
   "id": "bbc99b59-557e-4fb9-90dd-75f01f86ae77",
   "metadata": {},
   "outputs": [
    {
     "name": "stdout",
     "output_type": "stream",
     "text": [
      "hb_yorumlar6.csv veri setinin yorum sayısı: 4012\n",
      "hb_yorumlar3.csv veri setinin yorum sayısı: 1738\n",
      "hb_yorumlar8.csv veri setinin yorum sayısı: 4365\n",
      "hb_yorumlar9.csv veri setinin yorum sayısı: 3400\n",
      "hb_yorumlar4.csv veri setinin yorum sayısı: 3311\n",
      "hb_yorumlar5.csv veri setinin yorum sayısı: 3839\n",
      "hb_yorumlar2.csv veri setinin yorum sayısı: 2862\n",
      "hb_yorumlar7.csv veri setinin yorum sayısı: 3919\n",
      "hb_yorumlar1.csv veri setinin yorum sayısı: 3631\n",
      "hb_yorumlar10.csv veri setinin yorum sayısı: 2990\n",
      "Toplam yorum sayısı: 34067\n"
     ]
    }
   ],
   "source": [
    "toplamYorumSayisi = 0\n",
    "for i in os.listdir('HB_Yorumlar'):\n",
    "    if i.endswith('.csv'):\n",
    "        yorumSayisi = toplamYorumlar(i)\n",
    "        toplamYorumSayisi += yorumSayisi\n",
    "        print(f'{i} veri setinin yorum sayısı: {yorumSayisi}')\n",
    "print(f'Toplam yorum sayısı: {toplamYorumSayisi}')"
   ]
  },
  {
   "cell_type": "code",
   "execution_count": null,
   "id": "b0a92f5e-e185-4f78-a799-9a379bda07d5",
   "metadata": {},
   "outputs": [],
   "source": []
  },
  {
   "cell_type": "code",
   "execution_count": 6,
   "id": "fe8fdcf9-f579-467f-952d-71e57ec36df5",
   "metadata": {},
   "outputs": [],
   "source": [
    "# tüm veri setleri birlestirme islemi\n",
    "import pandas as pd\n",
    "allDataSet = pd.DataFrame()\n",
    "for i in os.listdir('HB_Yorumlar'):\n",
    "    if i.endswith('.csv') and i.startswith('hb'):\n",
    "        data = pd.read_csv(f'HB_Yorumlar/{i}')\n",
    "        allDataSet = pd.concat([allDataSet, data], ignore_index = True)"
   ]
  },
  {
   "cell_type": "code",
   "execution_count": 7,
   "id": "522fbeae-e27a-48de-905c-cf1f61d517db",
   "metadata": {},
   "outputs": [
    {
     "data": {
      "text/html": [
       "<div>\n",
       "<style scoped>\n",
       "    .dataframe tbody tr th:only-of-type {\n",
       "        vertical-align: middle;\n",
       "    }\n",
       "\n",
       "    .dataframe tbody tr th {\n",
       "        vertical-align: top;\n",
       "    }\n",
       "\n",
       "    .dataframe thead th {\n",
       "        text-align: right;\n",
       "    }\n",
       "</style>\n",
       "<table border=\"1\" class=\"dataframe\">\n",
       "  <thead>\n",
       "    <tr style=\"text-align: right;\">\n",
       "      <th></th>\n",
       "      <th>tarih</th>\n",
       "      <th>puan</th>\n",
       "      <th>yorum</th>\n",
       "    </tr>\n",
       "  </thead>\n",
       "  <tbody>\n",
       "    <tr>\n",
       "      <th>0</th>\n",
       "      <td>2021-10-19</td>\n",
       "      <td>5</td>\n",
       "      <td>Renkli çıktı da renkler gayet canlı çıkıyor. K...</td>\n",
       "    </tr>\n",
       "    <tr>\n",
       "      <th>1</th>\n",
       "      <td>2021-09-12</td>\n",
       "      <td>5</td>\n",
       "      <td>Ürün ile birlikte gelen evraklar ile kurulumu ...</td>\n",
       "    </tr>\n",
       "    <tr>\n",
       "      <th>2</th>\n",
       "      <td>2021-12-23</td>\n",
       "      <td>5</td>\n",
       "      <td>Çok iyi bir yazıcı kurulumu mürekkebi koyması ...</td>\n",
       "    </tr>\n",
       "    <tr>\n",
       "      <th>3</th>\n",
       "      <td>2022-03-19</td>\n",
       "      <td>5</td>\n",
       "      <td>Kablosuz bağlantısı ile telefondan çikti ları ...</td>\n",
       "    </tr>\n",
       "    <tr>\n",
       "      <th>4</th>\n",
       "      <td>2022-03-19</td>\n",
       "      <td>5</td>\n",
       "      <td>Kurulumu basit ve hızlı.Güzel tasarım.Kullanım...</td>\n",
       "    </tr>\n",
       "    <tr>\n",
       "      <th>...</th>\n",
       "      <td>...</td>\n",
       "      <td>...</td>\n",
       "      <td>...</td>\n",
       "    </tr>\n",
       "    <tr>\n",
       "      <th>34062</th>\n",
       "      <td>2022-03-23</td>\n",
       "      <td>5</td>\n",
       "      <td>üründen memnun kaldım gayet iyi kargo paketlem...</td>\n",
       "    </tr>\n",
       "    <tr>\n",
       "      <th>34063</th>\n",
       "      <td>2022-03-22</td>\n",
       "      <td>5</td>\n",
       "      <td>Ürün güzel paketleme gayet iyiydi kutuların ol...</td>\n",
       "    </tr>\n",
       "    <tr>\n",
       "      <th>34064</th>\n",
       "      <td>2022-03-17</td>\n",
       "      <td>5</td>\n",
       "      <td>Gayet özenle paketlenmişti, hızlı teslimat. Bi...</td>\n",
       "    </tr>\n",
       "    <tr>\n",
       "      <th>34065</th>\n",
       "      <td>2022-05-09</td>\n",
       "      <td>5</td>\n",
       "      <td>Harika bir bilgisayar. Hızlıca teknik destek a...</td>\n",
       "    </tr>\n",
       "    <tr>\n",
       "      <th>34066</th>\n",
       "      <td>2022-03-11</td>\n",
       "      <td>5</td>\n",
       "      <td>Beklediğimden daha güzel geldi paketlenmesi öz...</td>\n",
       "    </tr>\n",
       "  </tbody>\n",
       "</table>\n",
       "<p>34067 rows × 3 columns</p>\n",
       "</div>"
      ],
      "text/plain": [
       "            tarih  puan                                              yorum\n",
       "0      2021-10-19     5  Renkli çıktı da renkler gayet canlı çıkıyor. K...\n",
       "1      2021-09-12     5  Ürün ile birlikte gelen evraklar ile kurulumu ...\n",
       "2      2021-12-23     5  Çok iyi bir yazıcı kurulumu mürekkebi koyması ...\n",
       "3      2022-03-19     5  Kablosuz bağlantısı ile telefondan çikti ları ...\n",
       "4      2022-03-19     5  Kurulumu basit ve hızlı.Güzel tasarım.Kullanım...\n",
       "...           ...   ...                                                ...\n",
       "34062  2022-03-23     5  üründen memnun kaldım gayet iyi kargo paketlem...\n",
       "34063  2022-03-22     5  Ürün güzel paketleme gayet iyiydi kutuların ol...\n",
       "34064  2022-03-17     5  Gayet özenle paketlenmişti, hızlı teslimat. Bi...\n",
       "34065  2022-05-09     5  Harika bir bilgisayar. Hızlıca teknik destek a...\n",
       "34066  2022-03-11     5  Beklediğimden daha güzel geldi paketlenmesi öz...\n",
       "\n",
       "[34067 rows x 3 columns]"
      ]
     },
     "execution_count": 7,
     "metadata": {},
     "output_type": "execute_result"
    }
   ],
   "source": [
    "allDataSet"
   ]
  },
  {
   "cell_type": "code",
   "execution_count": 8,
   "id": "162916f0-cf34-475a-9bd2-3f6ee445362e",
   "metadata": {},
   "outputs": [],
   "source": [
    "allDataSet.to_csv('butunYorumlar.csv', sep = ',', encoding = 'utf-8', index = False)"
   ]
  },
  {
   "cell_type": "code",
   "execution_count": null,
   "id": "b21ee3a6-a572-4358-8efc-4b97c7abad4d",
   "metadata": {},
   "outputs": [],
   "source": []
  },
  {
   "cell_type": "code",
   "execution_count": 12,
   "id": "21704a0d-2eb8-4acb-94ca-9d1c235e9ded",
   "metadata": {},
   "outputs": [],
   "source": [
    "def sadelestirme(dataSet):\n",
    "    \n",
    "    import pandas as pd\n",
    "    from nltk.corpus import stopwords\n",
    "    \n",
    "    import warnings\n",
    "    warnings.simplefilter(action='ignore', category=FutureWarning)\n",
    "    warnings.filterwarnings('ignore', category = UserWarning)\n",
    "    \n",
    "    data = pd.read_csv(f'{dataSet}', sep = ',')\n",
    "    \n",
    "    df = pd.DataFrame(data['yorum'])\n",
    "    \n",
    "    # büyük-kücük harf dönüsümü\n",
    "    df['yorum'] = df['yorum'].apply(lambda x: ' '.join(i.lower() for i in x.split()))\n",
    "    \n",
    "    # noktalama ve sayıların silinmesi\n",
    "    df['yorum'] = df['yorum'].str.replace(r'[^\\w\\s]', '')\n",
    "    df['yorum'] = df['yorum'].str.replace('\\d', '')\n",
    "    \n",
    "    # stopwordsların silinmesi\n",
    "    sw = stopwords.words('turkish')\n",
    "    df['yorum'] = df['yorum'].apply(lambda x: ' '.join(i for i in x.split() if i not in sw))\n",
    "    \n",
    "    # cöp kelimelerin silinmesi\n",
    "    sil = pd.Series(' '.join(df['yorum']).split()).value_counts()[-20000:] #sondan 20000\n",
    "    df['yorum'] = df['yorum'].apply(lambda x: ' '.join(i for i in x.split() if i not in sil))\n",
    "        \n",
    "    data['yeni_yorum'] = df['yorum']\n",
    "    return data"
   ]
  },
  {
   "cell_type": "code",
   "execution_count": 13,
   "id": "f8889891-b07e-4eaf-9099-513afc6f6b8f",
   "metadata": {},
   "outputs": [],
   "source": [
    "newData = sadelestirme('butunYorumlar.csv')"
   ]
  },
  {
   "cell_type": "code",
   "execution_count": 14,
   "id": "9470961e-da62-405e-8b33-9092e206fe6f",
   "metadata": {},
   "outputs": [
    {
     "data": {
      "text/html": [
       "<div>\n",
       "<style scoped>\n",
       "    .dataframe tbody tr th:only-of-type {\n",
       "        vertical-align: middle;\n",
       "    }\n",
       "\n",
       "    .dataframe tbody tr th {\n",
       "        vertical-align: top;\n",
       "    }\n",
       "\n",
       "    .dataframe thead th {\n",
       "        text-align: right;\n",
       "    }\n",
       "</style>\n",
       "<table border=\"1\" class=\"dataframe\">\n",
       "  <thead>\n",
       "    <tr style=\"text-align: right;\">\n",
       "      <th></th>\n",
       "      <th>tarih</th>\n",
       "      <th>puan</th>\n",
       "      <th>yorum</th>\n",
       "      <th>yeni_yorum</th>\n",
       "    </tr>\n",
       "  </thead>\n",
       "  <tbody>\n",
       "    <tr>\n",
       "      <th>0</th>\n",
       "      <td>2021-10-19</td>\n",
       "      <td>5</td>\n",
       "      <td>Renkli çıktı da renkler gayet canlı çıkıyor. K...</td>\n",
       "      <td>renkli çıktı renkler gayet canlı çıkıyor kutu ...</td>\n",
       "    </tr>\n",
       "    <tr>\n",
       "      <th>1</th>\n",
       "      <td>2021-09-12</td>\n",
       "      <td>5</td>\n",
       "      <td>Ürün ile birlikte gelen evraklar ile kurulumu ...</td>\n",
       "      <td>ürün birlikte gelen evraklar kurulumu basit ko...</td>\n",
       "    </tr>\n",
       "    <tr>\n",
       "      <th>2</th>\n",
       "      <td>2021-12-23</td>\n",
       "      <td>5</td>\n",
       "      <td>Çok iyi bir yazıcı kurulumu mürekkebi koyması ...</td>\n",
       "      <td>iyi bir yazıcı kurulumu mürekkebi koyması kola...</td>\n",
       "    </tr>\n",
       "    <tr>\n",
       "      <th>3</th>\n",
       "      <td>2022-03-19</td>\n",
       "      <td>5</td>\n",
       "      <td>Kablosuz bağlantısı ile telefondan çikti ları ...</td>\n",
       "      <td>kablosuz bağlantısı telefondan çikti ları alab...</td>\n",
       "    </tr>\n",
       "    <tr>\n",
       "      <th>4</th>\n",
       "      <td>2022-03-19</td>\n",
       "      <td>5</td>\n",
       "      <td>Kurulumu basit ve hızlı.Güzel tasarım.Kullanım...</td>\n",
       "      <td>kurulumu basit hızlıgüzel tasarımkullanımı kol...</td>\n",
       "    </tr>\n",
       "    <tr>\n",
       "      <th>...</th>\n",
       "      <td>...</td>\n",
       "      <td>...</td>\n",
       "      <td>...</td>\n",
       "      <td>...</td>\n",
       "    </tr>\n",
       "    <tr>\n",
       "      <th>34062</th>\n",
       "      <td>2022-03-23</td>\n",
       "      <td>5</td>\n",
       "      <td>üründen memnun kaldım gayet iyi kargo paketlem...</td>\n",
       "      <td>üründen memnun kaldım gayet iyi kargo paketlem...</td>\n",
       "    </tr>\n",
       "    <tr>\n",
       "      <th>34063</th>\n",
       "      <td>2022-03-22</td>\n",
       "      <td>5</td>\n",
       "      <td>Ürün güzel paketleme gayet iyiydi kutuların ol...</td>\n",
       "      <td>ürün güzel paketleme gayet iyiydi kutuların ol...</td>\n",
       "    </tr>\n",
       "    <tr>\n",
       "      <th>34064</th>\n",
       "      <td>2022-03-17</td>\n",
       "      <td>5</td>\n",
       "      <td>Gayet özenle paketlenmişti, hızlı teslimat. Bi...</td>\n",
       "      <td>gayet özenle paketlenmişti hızlı teslimat kura...</td>\n",
       "    </tr>\n",
       "    <tr>\n",
       "      <th>34065</th>\n",
       "      <td>2022-05-09</td>\n",
       "      <td>5</td>\n",
       "      <td>Harika bir bilgisayar. Hızlıca teknik destek a...</td>\n",
       "      <td>harika bir bilgisayar hızlıca teknik destek al...</td>\n",
       "    </tr>\n",
       "    <tr>\n",
       "      <th>34066</th>\n",
       "      <td>2022-03-11</td>\n",
       "      <td>5</td>\n",
       "      <td>Beklediğimden daha güzel geldi paketlenmesi öz...</td>\n",
       "      <td>beklediğimden güzel geldi paketlenmesi özenli ...</td>\n",
       "    </tr>\n",
       "  </tbody>\n",
       "</table>\n",
       "<p>34067 rows × 4 columns</p>\n",
       "</div>"
      ],
      "text/plain": [
       "            tarih  puan                                              yorum  \\\n",
       "0      2021-10-19     5  Renkli çıktı da renkler gayet canlı çıkıyor. K...   \n",
       "1      2021-09-12     5  Ürün ile birlikte gelen evraklar ile kurulumu ...   \n",
       "2      2021-12-23     5  Çok iyi bir yazıcı kurulumu mürekkebi koyması ...   \n",
       "3      2022-03-19     5  Kablosuz bağlantısı ile telefondan çikti ları ...   \n",
       "4      2022-03-19     5  Kurulumu basit ve hızlı.Güzel tasarım.Kullanım...   \n",
       "...           ...   ...                                                ...   \n",
       "34062  2022-03-23     5  üründen memnun kaldım gayet iyi kargo paketlem...   \n",
       "34063  2022-03-22     5  Ürün güzel paketleme gayet iyiydi kutuların ol...   \n",
       "34064  2022-03-17     5  Gayet özenle paketlenmişti, hızlı teslimat. Bi...   \n",
       "34065  2022-05-09     5  Harika bir bilgisayar. Hızlıca teknik destek a...   \n",
       "34066  2022-03-11     5  Beklediğimden daha güzel geldi paketlenmesi öz...   \n",
       "\n",
       "                                              yeni_yorum  \n",
       "0      renkli çıktı renkler gayet canlı çıkıyor kutu ...  \n",
       "1      ürün birlikte gelen evraklar kurulumu basit ko...  \n",
       "2      iyi bir yazıcı kurulumu mürekkebi koyması kola...  \n",
       "3      kablosuz bağlantısı telefondan çikti ları alab...  \n",
       "4      kurulumu basit hızlıgüzel tasarımkullanımı kol...  \n",
       "...                                                  ...  \n",
       "34062  üründen memnun kaldım gayet iyi kargo paketlem...  \n",
       "34063  ürün güzel paketleme gayet iyiydi kutuların ol...  \n",
       "34064  gayet özenle paketlenmişti hızlı teslimat kura...  \n",
       "34065  harika bir bilgisayar hızlıca teknik destek al...  \n",
       "34066  beklediğimden güzel geldi paketlenmesi özenli ...  \n",
       "\n",
       "[34067 rows x 4 columns]"
      ]
     },
     "execution_count": 14,
     "metadata": {},
     "output_type": "execute_result"
    }
   ],
   "source": [
    "newData"
   ]
  },
  {
   "cell_type": "code",
   "execution_count": 15,
   "id": "4ef2c30a-8e57-4164-b881-3992f12d5b11",
   "metadata": {},
   "outputs": [],
   "source": [
    "newData.to_csv('butunYorumlarSon.csv')"
   ]
  },
  {
   "cell_type": "code",
   "execution_count": 16,
   "id": "f46fec5c-2d4a-437e-b006-47c7656f7902",
   "metadata": {},
   "outputs": [
    {
     "data": {
      "text/plain": [
       "array([['Orjinal ürün, gayet hzlı kargo, teşekkürler.',\n",
       "        'orjinal ürün gayet hzlı kargo teşekkürler'],\n",
       "       ['Yok tamamı dolu değil falan boş şeyler bunlar bu satıcıdan 8 kere sipariş verdim birinde bile sorun yaşamadım.Tam dolu kartuş ve hızlı teslimat teşekkürler',\n",
       "        'yok tamamı dolu değil falan boş şeyler bunlar satıcıdan kere sipariş verdim birinde bile sorun yaşamadımtam dolu kartuş hızlı teslimat teşekkürler'],\n",
       "       ['Tam dolu orijinal', 'tam dolu orijinal'],\n",
       "       ['Akşam 17:04&#039;de sipariş verdim. Sabah 09.56&#039;da geldi. Süper hızlı, başarılı kargo. E474 için aldım, sorunsuz çalışıyor. Tek sorun resimde görüldüğü üzere tam dolu değil (%80).\\n\\nHepsiburada ve HepsiJET çalışanlarına teşekkür eder,\\nyeniyılda sağlıklı günler dilerim.',\n",
       "        'akşam sipariş verdim sabah geldi süper hızlı başarılı kargo e aldım sorunsuz çalışıyor tek sorun resimde görüldüğü üzere tam dolu değil hepsiburada hepsijet çalışanlarına teşekkür eder yeniyılda sağlıklı günler dilerim'],\n",
       "       ['Printer almadan önce bir kaetujla kaç adet bastığına bakmalısınız..diğerleri çokta önemli değil..bu kartuj ve bu printer önerdiğinden çok fazla basıyor',\n",
       "        'printer almadan önce bir kaetujla kaç adet bastığına bakmalısınızdiğerleri çokta önemli değilbu kartuj printer önerdiğinden fazla basıyor'],\n",
       "       ['Daha öncesinde kartusuma kendim dolum yapmıştım ve güzel güzel kullaniyordum fakat bir kaç dolumdan sonra kartusun ömrü bitiyor. Yenisini almaya karar verdim ve ürünü aldım. İlk günkü gibi oldu yazicim. Canon e464',\n",
       "        'öncesinde kartusuma kendim dolum yapmıştım güzel güzel kullaniyordum fakat bir kaç dolumdan sonra kartusun ömrü bitiyor yenisini almaya karar verdim ürünü aldım ilk günkü oldu yazicim canon e'],\n",
       "       ['Bir adet talep ettim ancak 3 adet geldi. Kul hakkından korktuğum için hemen iade talebi oluşturdum. İki ürünü geri göndereceğim. Ürünü taktım ve kusursuz yazdı. Teşekkürler.',\n",
       "        'bir adet talep ettim ancak adet geldi kul hakkından korktuğum hemen iade talebi oluşturdum iki ürünü geri göndereceğim ürünü taktım kusursuz yazdı teşekkürler'],\n",
       "       ['Güvenilir satıcı hızlı teslimat rahatlıkla tercih edebililrsiniz',\n",
       "        'güvenilir satıcı hızlı teslimat rahatlıkla tercih edebililrsiniz'],\n",
       "       ['Orijinal ve tam dolu kartuştu. Yazdırma kalitesini Taslak görünümü ayarlayınca daha çok sayfa yazdırır. Yaklaşık 500 sayfa çıktı aldım bu şekilde.',\n",
       "        'orijinal tam dolu kartuştu yazdırma kalitesini taslak görünümü ayarlayınca sayfa yazdırır yaklaşık sayfa çıktı aldım şekilde'],\n",
       "       ['Bandrollü Orjinal ürün , Canon kalitesi tartışılmaz . Sorunsuz kullanmaya başladım , ihtiyacınız varsa düşünmeden alın tavsiyemdir .',\n",
       "        'bandrollü orjinal ürün canon kalitesi tartışılmaz sorunsuz kullanmaya başladım ihtiyacınız varsa düşünmeden alın tavsiyemdir']],\n",
       "      dtype=object)"
      ]
     },
     "execution_count": 16,
     "metadata": {},
     "output_type": "execute_result"
    }
   ],
   "source": [
    "newData.iloc[200:210, 2:4].values"
   ]
  },
  {
   "cell_type": "code",
   "execution_count": null,
   "id": "ab01201f-afe3-46fa-b634-58791217d4d5",
   "metadata": {},
   "outputs": [],
   "source": []
  },
  {
   "cell_type": "code",
   "execution_count": 17,
   "id": "d36d508e-b0e9-41d3-aba1-1dac41fa6b96",
   "metadata": {},
   "outputs": [],
   "source": [
    "df = newData.copy()"
   ]
  },
  {
   "cell_type": "code",
   "execution_count": 18,
   "id": "7503af56-b6ca-4263-95ee-db3b0acb68eb",
   "metadata": {},
   "outputs": [
    {
     "data": {
      "text/plain": [
       "0        291\n",
       "1        230\n",
       "2        474\n",
       "3        212\n",
       "4        100\n",
       "        ... \n",
       "34062    119\n",
       "34063    159\n",
       "34064    168\n",
       "34065     92\n",
       "34066     89\n",
       "Name: yeni_yorum, Length: 34067, dtype: int64"
      ]
     },
     "execution_count": 18,
     "metadata": {},
     "output_type": "execute_result"
    }
   ],
   "source": [
    "df['yeni_yorum'].str.len() # yeni yorum harf sayısı"
   ]
  },
  {
   "cell_type": "code",
   "execution_count": 19,
   "id": "8ff350f9-2db4-4523-b06d-f7084c5cfc73",
   "metadata": {},
   "outputs": [
    {
     "data": {
      "text/plain": [
       "0        319\n",
       "1        248\n",
       "2        529\n",
       "3        221\n",
       "4        105\n",
       "        ... \n",
       "34062    123\n",
       "34063    164\n",
       "34064    176\n",
       "34065     94\n",
       "34066     95\n",
       "Name: yorum, Length: 34067, dtype: int64"
      ]
     },
     "execution_count": 19,
     "metadata": {},
     "output_type": "execute_result"
    }
   ],
   "source": [
    "df['yorum'].str.len() # harf sayısı"
   ]
  },
  {
   "cell_type": "code",
   "execution_count": 21,
   "id": "16736928-2f34-4b2f-a45d-dbd218820361",
   "metadata": {},
   "outputs": [
    {
     "data": {
      "text/plain": [
       "bir                26013\n",
       "ürün               12705\n",
       "güzel              10556\n",
       "iyi                 9971\n",
       "gayet               6385\n",
       "                   ...  \n",
       "sevdiklerinizin        1\n",
       "özelleştirip           1\n",
       "shiftdelete            1\n",
       "kullanmadın            1\n",
       "çözeceğimi             1\n",
       "Length: 56909, dtype: int64"
      ]
     },
     "execution_count": 21,
     "metadata": {},
     "output_type": "execute_result"
    }
   ],
   "source": [
    "pd.Series(' '.join(df['yeni_yorum']).split()).value_counts() # kelime sıklığı"
   ]
  },
  {
   "cell_type": "markdown",
   "id": "e7b7d600-a3c5-4ce0-a364-7f0c8fc3b185",
   "metadata": {},
   "source": [
    "### WordCloud"
   ]
  },
  {
   "cell_type": "code",
   "execution_count": 22,
   "id": "faddaf51-c2b5-40f1-83e7-8a2f4372ebe9",
   "metadata": {},
   "outputs": [],
   "source": [
    "import numpy as np\n",
    "import pandas as pd\n",
    "from os import path\n",
    "from PIL import Image\n",
    "from wordcloud import WordCloud, STOPWORDS, ImageColorGenerator\n",
    "import matplotlib.pyplot as plt"
   ]
  },
  {
   "cell_type": "code",
   "execution_count": 23,
   "id": "4e5b6587-1852-482b-b3d2-05dbe7ebe114",
   "metadata": {},
   "outputs": [],
   "source": [
    "text = ' '.join(i for i in df.yorum)"
   ]
  },
  {
   "cell_type": "code",
   "execution_count": 24,
   "id": "cd845b60-dc9b-47c9-86b6-4eee3b7eb0cd",
   "metadata": {},
   "outputs": [
    {
     "data": {
      "image/png": "[encoded data removed]",
      "text/plain": [
       "<Figure size 720x720 with 1 Axes>"
      ]
     },
     "metadata": {
      "needs_background": "light"
     },
     "output_type": "display_data"
    }
   ],
   "source": [
    "wc = WordCloud(max_font_size = 50,\n",
    "              background_color = 'white').generate(text)\n",
    "\n",
    "plt.figure(figsize = [10, 10])\n",
    "plt.imshow(wc, interpolation = 'bilinear')\n",
    "plt.axis('off')\n",
    "plt.show()"
   ]
  },
  {
   "cell_type": "code",
   "execution_count": null,
   "id": "4450e42b-1f16-4163-a0aa-09fbc349d39c",
   "metadata": {},
   "outputs": [],
   "source": []
  },
  {
   "cell_type": "markdown",
   "id": "d1d82959-fb58-45fb-b44a-1c3bbc40c275",
   "metadata": {},
   "source": [
    "### Sentiment Analizi"
   ]
  },
  {
   "cell_type": "code",
   "execution_count": 25,
   "id": "2e0863b3-f085-4927-b5b2-e8044543c690",
   "metadata": {},
   "outputs": [],
   "source": [
    "from textblob import TextBlob\n",
    "from sklearn import model_selection, preprocessing, linear_model, naive_bayes, metrics\n",
    "from sklearn.feature_extraction.text import TfidfVectorizer, CountVectorizer\n",
    "from sklearn import decomposition, ensemble\n",
    "\n",
    "import pandas, xgboost, numpy, textblob, string\n",
    "from pandas import MultiIndex, Int64Index\n",
    "\n",
    "import warnings\n",
    "warnings.filterwarnings(action = 'ignore', category = UserWarning)\n",
    "warnings.simplefilter(action = 'ignore', category = FutureWarning)"
   ]
  },
  {
   "cell_type": "code",
   "execution_count": 26,
   "id": "33df59ff-82ee-4a41-94cc-4b7d5b3550ae",
   "metadata": {},
   "outputs": [
    {
     "data": {
      "text/html": [
       "<div>\n",
       "<style scoped>\n",
       "    .dataframe tbody tr th:only-of-type {\n",
       "        vertical-align: middle;\n",
       "    }\n",
       "\n",
       "    .dataframe tbody tr th {\n",
       "        vertical-align: top;\n",
       "    }\n",
       "\n",
       "    .dataframe thead th {\n",
       "        text-align: right;\n",
       "    }\n",
       "</style>\n",
       "<table border=\"1\" class=\"dataframe\">\n",
       "  <thead>\n",
       "    <tr style=\"text-align: right;\">\n",
       "      <th></th>\n",
       "      <th>tarih</th>\n",
       "      <th>puan</th>\n",
       "      <th>yorum</th>\n",
       "      <th>yeni_yorum</th>\n",
       "    </tr>\n",
       "  </thead>\n",
       "  <tbody>\n",
       "    <tr>\n",
       "      <th>0</th>\n",
       "      <td>2021-10-19</td>\n",
       "      <td>5</td>\n",
       "      <td>Renkli çıktı da renkler gayet canlı çıkıyor. K...</td>\n",
       "      <td>renkli çıktı renkler gayet canlı çıkıyor kutu ...</td>\n",
       "    </tr>\n",
       "    <tr>\n",
       "      <th>1</th>\n",
       "      <td>2021-09-12</td>\n",
       "      <td>5</td>\n",
       "      <td>Ürün ile birlikte gelen evraklar ile kurulumu ...</td>\n",
       "      <td>ürün birlikte gelen evraklar kurulumu basit ko...</td>\n",
       "    </tr>\n",
       "    <tr>\n",
       "      <th>2</th>\n",
       "      <td>2021-12-23</td>\n",
       "      <td>5</td>\n",
       "      <td>Çok iyi bir yazıcı kurulumu mürekkebi koyması ...</td>\n",
       "      <td>iyi bir yazıcı kurulumu mürekkebi koyması kola...</td>\n",
       "    </tr>\n",
       "    <tr>\n",
       "      <th>3</th>\n",
       "      <td>2022-03-19</td>\n",
       "      <td>5</td>\n",
       "      <td>Kablosuz bağlantısı ile telefondan çikti ları ...</td>\n",
       "      <td>kablosuz bağlantısı telefondan çikti ları alab...</td>\n",
       "    </tr>\n",
       "    <tr>\n",
       "      <th>4</th>\n",
       "      <td>2022-03-19</td>\n",
       "      <td>5</td>\n",
       "      <td>Kurulumu basit ve hızlı.Güzel tasarım.Kullanım...</td>\n",
       "      <td>kurulumu basit hızlıgüzel tasarımkullanımı kol...</td>\n",
       "    </tr>\n",
       "  </tbody>\n",
       "</table>\n",
       "</div>"
      ],
      "text/plain": [
       "        tarih  puan                                              yorum  \\\n",
       "0  2021-10-19     5  Renkli çıktı da renkler gayet canlı çıkıyor. K...   \n",
       "1  2021-09-12     5  Ürün ile birlikte gelen evraklar ile kurulumu ...   \n",
       "2  2021-12-23     5  Çok iyi bir yazıcı kurulumu mürekkebi koyması ...   \n",
       "3  2022-03-19     5  Kablosuz bağlantısı ile telefondan çikti ları ...   \n",
       "4  2022-03-19     5  Kurulumu basit ve hızlı.Güzel tasarım.Kullanım...   \n",
       "\n",
       "                                          yeni_yorum  \n",
       "0  renkli çıktı renkler gayet canlı çıkıyor kutu ...  \n",
       "1  ürün birlikte gelen evraklar kurulumu basit ko...  \n",
       "2  iyi bir yazıcı kurulumu mürekkebi koyması kola...  \n",
       "3  kablosuz bağlantısı telefondan çikti ları alab...  \n",
       "4  kurulumu basit hızlıgüzel tasarımkullanımı kol...  "
      ]
     },
     "execution_count": 26,
     "metadata": {},
     "output_type": "execute_result"
    }
   ],
   "source": [
    "df.head()"
   ]
  },
  {
   "cell_type": "code",
   "execution_count": 27,
   "id": "43144846-826c-454f-a13b-15aa9eac42b8",
   "metadata": {},
   "outputs": [
    {
     "data": {
      "text/plain": [
       "5    28693\n",
       "4     3402\n",
       "3      969\n",
       "1      772\n",
       "2      231\n",
       "Name: puan, dtype: int64"
      ]
     },
     "execution_count": 27,
     "metadata": {},
     "output_type": "execute_result"
    }
   ],
   "source": [
    "df.puan.value_counts()"
   ]
  },
  {
   "cell_type": "code",
   "execution_count": 28,
   "id": "a8404662-d322-4ed0-894d-a7309fb6df09",
   "metadata": {},
   "outputs": [],
   "source": [
    "df.loc[df['puan'] < 4, 'puan'] = 1\n",
    "# df.loc[df['puan'] == 4, 'puan'] = 5"
   ]
  },
  {
   "cell_type": "code",
   "execution_count": 29,
   "id": "b271de10-8143-475d-8c3f-2e447bd01b6a",
   "metadata": {},
   "outputs": [
    {
     "data": {
      "text/plain": [
       "5    28693\n",
       "4     3402\n",
       "1     1972\n",
       "Name: puan, dtype: int64"
      ]
     },
     "execution_count": 29,
     "metadata": {},
     "output_type": "execute_result"
    }
   ],
   "source": [
    "df.puan.value_counts()"
   ]
  },
  {
   "cell_type": "code",
   "execution_count": 30,
   "id": "b9243cf6-ca65-42e8-b796-079370727107",
   "metadata": {},
   "outputs": [],
   "source": [
    "df_1 = df[df['puan'] == 1]\n",
    "df_5 = df[df['puan'] == 5]"
   ]
  },
  {
   "cell_type": "code",
   "execution_count": 31,
   "id": "e8ef2f46-a137-4a29-b4db-d6271a9e2527",
   "metadata": {},
   "outputs": [],
   "source": [
    "df = pd.concat([df_1, df_5], ignore_index = True)"
   ]
  },
  {
   "cell_type": "code",
   "execution_count": 32,
   "id": "afdbd6b5-0b94-45d9-ab3a-6b643b559bcd",
   "metadata": {},
   "outputs": [
    {
     "data": {
      "text/plain": [
       "5    28693\n",
       "1     1972\n",
       "Name: puan, dtype: int64"
      ]
     },
     "execution_count": 32,
     "metadata": {},
     "output_type": "execute_result"
    }
   ],
   "source": [
    "df.puan.value_counts()"
   ]
  },
  {
   "cell_type": "code",
   "execution_count": 33,
   "id": "23e5979a-226a-4b3b-bea6-c36ebf31d4f5",
   "metadata": {},
   "outputs": [],
   "source": [
    "df['puan'].replace(5, value = 'pozitif', inplace = True)\n",
    "df['puan'].replace(1, value = 'negatif', inplace = True)"
   ]
  },
  {
   "cell_type": "code",
   "execution_count": 34,
   "id": "d41d815a-7135-4938-9af7-e4ef6a9d5f09",
   "metadata": {},
   "outputs": [
    {
     "data": {
      "text/plain": [
       "pozitif    28693\n",
       "negatif     1972\n",
       "Name: puan, dtype: int64"
      ]
     },
     "execution_count": 34,
     "metadata": {},
     "output_type": "execute_result"
    }
   ],
   "source": [
    "df.puan.value_counts()"
   ]
  },
  {
   "cell_type": "markdown",
   "id": "d6320ed0-2a61-4c9d-af84-d6347276fc28",
   "metadata": {},
   "source": [
    "#### Değişken Mühendisliği"
   ]
  },
  {
   "cell_type": "code",
   "execution_count": 35,
   "id": "7f2c274b-a920-4822-9381-a9d10fad3a2b",
   "metadata": {},
   "outputs": [],
   "source": [
    "df = pd.DataFrame({'text':df['yeni_yorum'], 'label':df['puan']})"
   ]
  },
  {
   "cell_type": "code",
   "execution_count": 36,
   "id": "64159f0f-ee8a-4294-b4ff-8996eea4396a",
   "metadata": {},
   "outputs": [
    {
     "data": {
      "text/html": [
       "<div>\n",
       "<style scoped>\n",
       "    .dataframe tbody tr th:only-of-type {\n",
       "        vertical-align: middle;\n",
       "    }\n",
       "\n",
       "    .dataframe tbody tr th {\n",
       "        vertical-align: top;\n",
       "    }\n",
       "\n",
       "    .dataframe thead th {\n",
       "        text-align: right;\n",
       "    }\n",
       "</style>\n",
       "<table border=\"1\" class=\"dataframe\">\n",
       "  <thead>\n",
       "    <tr style=\"text-align: right;\">\n",
       "      <th></th>\n",
       "      <th>text</th>\n",
       "      <th>label</th>\n",
       "    </tr>\n",
       "  </thead>\n",
       "  <tbody>\n",
       "    <tr>\n",
       "      <th>0</th>\n",
       "      <td>ürün orijinal fakat kargo geç geldi</td>\n",
       "      <td>negatif</td>\n",
       "    </tr>\n",
       "    <tr>\n",
       "      <th>1</th>\n",
       "      <td>ürünü aldık iyi hoş ta ürün deli kartuş yiyor ...</td>\n",
       "      <td>negatif</td>\n",
       "    </tr>\n",
       "    <tr>\n",
       "      <th>2</th>\n",
       "      <td>saniyede fotokopi cekiyor baskıda yatay dikey ...</td>\n",
       "      <td>negatif</td>\n",
       "    </tr>\n",
       "    <tr>\n",
       "      <th>3</th>\n",
       "      <td>ürün orijinal fakat kargo geç geldi</td>\n",
       "      <td>negatif</td>\n",
       "    </tr>\n",
       "    <tr>\n",
       "      <th>4</th>\n",
       "      <td>siyah kartuş bozuk geldi</td>\n",
       "      <td>negatif</td>\n",
       "    </tr>\n",
       "  </tbody>\n",
       "</table>\n",
       "</div>"
      ],
      "text/plain": [
       "                                                text    label\n",
       "0                ürün orijinal fakat kargo geç geldi  negatif\n",
       "1  ürünü aldık iyi hoş ta ürün deli kartuş yiyor ...  negatif\n",
       "2  saniyede fotokopi cekiyor baskıda yatay dikey ...  negatif\n",
       "3                ürün orijinal fakat kargo geç geldi  negatif\n",
       "4                           siyah kartuş bozuk geldi  negatif"
      ]
     },
     "execution_count": 36,
     "metadata": {},
     "output_type": "execute_result"
    }
   ],
   "source": [
    "df.head()"
   ]
  },
  {
   "cell_type": "code",
   "execution_count": 37,
   "id": "a980c378-4701-42e9-86cf-d15e10531c76",
   "metadata": {},
   "outputs": [],
   "source": [
    "from sklearn.utils import shuffle"
   ]
  },
  {
   "cell_type": "code",
   "execution_count": 38,
   "id": "9e0543ce-36b8-431b-9c19-1a7b9ebe1ce7",
   "metadata": {},
   "outputs": [
    {
     "data": {
      "text/html": [
       "<div>\n",
       "<style scoped>\n",
       "    .dataframe tbody tr th:only-of-type {\n",
       "        vertical-align: middle;\n",
       "    }\n",
       "\n",
       "    .dataframe tbody tr th {\n",
       "        vertical-align: top;\n",
       "    }\n",
       "\n",
       "    .dataframe thead th {\n",
       "        text-align: right;\n",
       "    }\n",
       "</style>\n",
       "<table border=\"1\" class=\"dataframe\">\n",
       "  <thead>\n",
       "    <tr style=\"text-align: right;\">\n",
       "      <th></th>\n",
       "      <th>text</th>\n",
       "      <th>label</th>\n",
       "    </tr>\n",
       "  </thead>\n",
       "  <tbody>\n",
       "    <tr>\n",
       "      <th>11449</th>\n",
       "      <td>ürün sağlam bir şekilde elimize ulaştı güzel p...</td>\n",
       "      <td>pozitif</td>\n",
       "    </tr>\n",
       "    <tr>\n",
       "      <th>26277</th>\n",
       "      <td>kitap hasarsız hızlı bir şekilde elime ulaştı ...</td>\n",
       "      <td>pozitif</td>\n",
       "    </tr>\n",
       "    <tr>\n",
       "      <th>8099</th>\n",
       "      <td>ürün fonksiyonel bir cihaz haftalık günlük pro...</td>\n",
       "      <td>pozitif</td>\n",
       "    </tr>\n",
       "    <tr>\n",
       "      <th>6610</th>\n",
       "      <td>paketleme özenliydi renkler canlı içerikler gü...</td>\n",
       "      <td>pozitif</td>\n",
       "    </tr>\n",
       "    <tr>\n",
       "      <th>9590</th>\n",
       "      <td>mükemmel kaçıncı alışım hatırlamıyorum bile ke...</td>\n",
       "      <td>pozitif</td>\n",
       "    </tr>\n",
       "  </tbody>\n",
       "</table>\n",
       "</div>"
      ],
      "text/plain": [
       "                                                    text    label\n",
       "11449  ürün sağlam bir şekilde elimize ulaştı güzel p...  pozitif\n",
       "26277  kitap hasarsız hızlı bir şekilde elime ulaştı ...  pozitif\n",
       "8099   ürün fonksiyonel bir cihaz haftalık günlük pro...  pozitif\n",
       "6610   paketleme özenliydi renkler canlı içerikler gü...  pozitif\n",
       "9590   mükemmel kaçıncı alışım hatırlamıyorum bile ke...  pozitif"
      ]
     },
     "execution_count": 38,
     "metadata": {},
     "output_type": "execute_result"
    }
   ],
   "source": [
    "df = shuffle(df)\n",
    "df.head()"
   ]
  },
  {
   "cell_type": "code",
   "execution_count": 39,
   "id": "701c495a-b1bf-4853-b006-ca00f404d7f7",
   "metadata": {},
   "outputs": [],
   "source": [
    "Xtrain, Xtest, ytrain, ytest = model_selection.train_test_split(df['text'],\n",
    "                                                               df['label'],\n",
    "                                                               random_state = 1) "
   ]
  },
  {
   "cell_type": "code",
   "execution_count": 40,
   "id": "bfb6dd0a-4187-4730-9a07-6b2839f27f9b",
   "metadata": {},
   "outputs": [],
   "source": [
    "le = preprocessing.LabelEncoder()\n",
    "ytrain = le.fit_transform(ytrain)\n",
    "ytest = le.fit_transform(ytest)"
   ]
  },
  {
   "cell_type": "code",
   "execution_count": 41,
   "id": "d588e25a-1354-4db0-b067-983fe7b0d74c",
   "metadata": {},
   "outputs": [
    {
     "data": {
      "text/plain": [
       "CountVectorizer()"
      ]
     },
     "execution_count": 41,
     "metadata": {},
     "output_type": "execute_result"
    }
   ],
   "source": [
    "# count vectors\n",
    "vc = CountVectorizer().fit(Xtrain)\n",
    "vc"
   ]
  },
  {
   "cell_type": "code",
   "execution_count": 42,
   "id": "313aa7c8-7949-4d2c-bdb5-b0cdfd30c47b",
   "metadata": {},
   "outputs": [],
   "source": [
    "Xtrain_count = vc.transform(Xtrain)\n",
    "Xtest_count = vc.transform(Xtest)"
   ]
  },
  {
   "cell_type": "code",
   "execution_count": 43,
   "id": "409aca52-1997-491a-a910-0b391079c997",
   "metadata": {},
   "outputs": [
    {
     "data": {
      "text/plain": [
       "['__',\n",
       " '_artıları_',\n",
       " '_biz',\n",
       " '_eksileri_',\n",
       " '_her',\n",
       " '_migrisşokptt',\n",
       " '_temassız',\n",
       " 'aa',\n",
       " 'aaa',\n",
       " 'aaaa',\n",
       " 'aanca',\n",
       " 'ab',\n",
       " 'abalajlanmış',\n",
       " 'abartabileceğini',\n",
       " 'abartildigi',\n",
       " 'abartili',\n",
       " 'abartmalarıyla',\n",
       " 'abartmaya',\n",
       " 'abartmayalım',\n",
       " 'abartmislar']"
      ]
     },
     "execution_count": 43,
     "metadata": {},
     "output_type": "execute_result"
    }
   ],
   "source": [
    "vc.get_feature_names()[0:20]"
   ]
  },
  {
   "cell_type": "code",
   "execution_count": 48,
   "id": "1b1ec771-beea-47b4-a7cb-9f538520791a",
   "metadata": {},
   "outputs": [],
   "source": [
    "# Xtrain_count.toarray()"
   ]
  },
  {
   "cell_type": "markdown",
   "id": "f5e459d8-da92-4e25-b121-f5079c8671d4",
   "metadata": {},
   "source": [
    "#### TF-IDF"
   ]
  },
  {
   "cell_type": "code",
   "execution_count": 45,
   "id": "8ee5b988-a2ec-4a75-8c2d-b34c723451ca",
   "metadata": {},
   "outputs": [],
   "source": [
    "# word level\n",
    "tfidf_word_vc = TfidfVectorizer(analyzer = 'word').fit(Xtrain)\n",
    "Xtrain_tfidf_word = tfidf_word_vc.transform(Xtrain)\n",
    "Xtest_tfidf_word = tfidf_word_vc.transform(Xtest)"
   ]
  },
  {
   "cell_type": "code",
   "execution_count": 46,
   "id": "5287cd31-7ad2-4e86-9b34-7746f65e8134",
   "metadata": {},
   "outputs": [],
   "source": [
    "# n-gram level\n",
    "tfidf_ngram_vc = TfidfVectorizer(ngram_range = (2, 3)).fit(Xtrain)\n",
    "Xtrain_tfidf_ngram = tfidf_ngram_vc.transform(Xtrain)\n",
    "Xtest_tfidf_ngram = tfidf_ngram_vc.transform(Xtest)"
   ]
  },
  {
   "cell_type": "code",
   "execution_count": 47,
   "id": "777b20f6-bf31-40c3-97a4-26083e708864",
   "metadata": {},
   "outputs": [],
   "source": [
    "# char level\n",
    "tfidf_char_vc = TfidfVectorizer(analyzer = 'char').fit(Xtrain)\n",
    "Xtrain_tfidf_char = tfidf_char_vc.transform(Xtrain)\n",
    "Xtest_tfidf_char = tfidf_char_vc.transform(Xtest)"
   ]
  },
  {
   "cell_type": "markdown",
   "id": "3726f6a2-8776-4ed8-9710-d0b28a7b5a7b",
   "metadata": {},
   "source": [
    "* Logistic Regresyon"
   ]
  },
  {
   "cell_type": "code",
   "execution_count": 49,
   "id": "c5faf763-cc4f-419f-8469-26a343955084",
   "metadata": {},
   "outputs": [
    {
     "name": "stdout",
     "output_type": "stream",
     "text": [
      "Count Vectors dogruluk skoru: 0.9420889770936236\n"
     ]
    }
   ],
   "source": [
    "loj = linear_model.LogisticRegression()\n",
    "loj_model = loj.fit(Xtrain_count, ytrain)\n",
    "accuracy = model_selection.cross_val_score(loj_model,\n",
    "                                          Xtest_count,\n",
    "                                          ytest,\n",
    "                                          cv = 10).mean()\n",
    "\n",
    "print(f'Count Vectors dogruluk skoru: {accuracy}')"
   ]
  },
  {
   "cell_type": "code",
   "execution_count": null,
   "id": "4d8cf156-8521-4fb7-8a80-7f5f74d42c1a",
   "metadata": {},
   "outputs": [],
   "source": []
  },
  {
   "cell_type": "code",
   "execution_count": 50,
   "id": "2f81f196-a0bc-48da-a50b-2e8c8c36c902",
   "metadata": {},
   "outputs": [
    {
     "name": "stdout",
     "output_type": "stream",
     "text": [
      "Word-level TF-IDF dogruluk skoru: 0.934655042704784\n"
     ]
    }
   ],
   "source": [
    "loj = linear_model.LogisticRegression()\n",
    "loj_model = loj.fit(Xtrain_tfidf_word, ytrain)\n",
    "accuracy = model_selection.cross_val_score(loj_model,\n",
    "                                          Xtest_tfidf_word,\n",
    "                                          ytest,\n",
    "                                          cv = 10).mean()\n",
    "\n",
    "print(f'Word-level TF-IDF dogruluk skoru: {accuracy}')"
   ]
  },
  {
   "cell_type": "code",
   "execution_count": null,
   "id": "cd458167-538d-4912-bab4-7aaad402440d",
   "metadata": {},
   "outputs": [],
   "source": []
  },
  {
   "cell_type": "code",
   "execution_count": 51,
   "id": "1c27e80b-10ba-4e9f-b1d1-6f6311e40b04",
   "metadata": {},
   "outputs": [
    {
     "name": "stdout",
     "output_type": "stream",
     "text": [
      "N-gram TF-IDF dogruluk skoru: 0.9330899949278495\n"
     ]
    }
   ],
   "source": [
    "loj = linear_model.LogisticRegression()\n",
    "loj_model = loj.fit(Xtrain_tfidf_ngram, ytrain)\n",
    "accuracy = model_selection.cross_val_score(loj_model,\n",
    "                                          Xtest_tfidf_ngram,\n",
    "                                          ytest,\n",
    "                                          cv = 10).mean()\n",
    "\n",
    "print(f'N-gram TF-IDF dogruluk skoru: {accuracy}')"
   ]
  },
  {
   "cell_type": "code",
   "execution_count": null,
   "id": "e10ad67c-8417-4be8-9b00-095fe214548c",
   "metadata": {},
   "outputs": [],
   "source": []
  },
  {
   "cell_type": "code",
   "execution_count": 52,
   "id": "87081240-a93d-41d1-b2a1-891a7fe8df6d",
   "metadata": {},
   "outputs": [
    {
     "name": "stdout",
     "output_type": "stream",
     "text": [
      "Char-level TF-IDF dogruluk skoru: 0.9332205432307216\n"
     ]
    }
   ],
   "source": [
    "loj = linear_model.LogisticRegression()\n",
    "loj_model = loj.fit(Xtrain_tfidf_char, ytrain)\n",
    "accuracy = model_selection.cross_val_score(loj_model,\n",
    "                                          Xtest_tfidf_char,\n",
    "                                          ytest,\n",
    "                                          cv = 10).mean()\n",
    "print(f'Char-level TF-IDF dogruluk skoru: {accuracy}')"
   ]
  },
  {
   "cell_type": "code",
   "execution_count": null,
   "id": "6cb8a155-b715-4e72-abca-57e1cef30f20",
   "metadata": {},
   "outputs": [],
   "source": []
  },
  {
   "cell_type": "code",
   "execution_count": null,
   "id": "efb8aea7-5ab0-4083-bf7e-2c6f1323c138",
   "metadata": {},
   "outputs": [],
   "source": []
  }
 ],
 "metadata": {
  "kernelspec": {
   "display_name": "Python 3 (ipykernel)",
   "language": "python",
   "name": "python3"
  },
  "language_info": {
   "codemirror_mode": {
    "name": "ipython",
    "version": 3
   },
   "file_extension": ".py",
   "mimetype": "text/x-python",
   "name": "python",
   "nbconvert_exporter": "python",
   "pygments_lexer": "ipython3",
   "version": "3.8.10"
  }
 },
 "nbformat": 4,
 "nbformat_minor": 5
}
