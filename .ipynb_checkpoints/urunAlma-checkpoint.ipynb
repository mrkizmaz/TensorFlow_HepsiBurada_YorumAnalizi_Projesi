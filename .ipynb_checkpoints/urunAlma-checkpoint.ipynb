{
 "cells": [
  {
   "cell_type": "code",
   "execution_count": 1,
   "metadata": {},
   "outputs": [],
   "source": [
    "import re \n",
    "import requests\n",
    "import json\n",
    "import pandas as pd\n",
    "import numpy as np\n",
    "import time"
   ]
  },
  {
   "cell_type": "code",
   "execution_count": 2,
   "metadata": {},
   "outputs": [],
   "source": [
    "kategoriler = []\n",
    "with open(\"kategoriler_listesi.txt\", mode='r', encoding='utf-8') as file:\n",
    "    for line in file.readlines():\n",
    "        line = line.split('\\n')[0]\n",
    "        kategoriler.append(line)"
   ]
  },
  {
   "cell_type": "code",
   "execution_count": 3,
   "metadata": {},
   "outputs": [
    {
     "data": {
      "text/plain": [
       "['/kitaplar-c-2147483645',\n",
       " '/muzik-c-2147483641',\n",
       " '/drone-multikopter-c-60006033',\n",
       " '/hobi-eglence-urunleri-c-2147483605',\n",
       " '/filmler-c-2147483640']"
      ]
     },
     "execution_count": 3,
     "metadata": {},
     "output_type": "execute_result"
    }
   ],
   "source": [
    "kategoriler[0:5]"
   ]
  },
  {
   "cell_type": "code",
   "execution_count": 4,
   "metadata": {},
   "outputs": [],
   "source": [
    "url = 'https://www.hepsiburada.com'\n",
    "headers = {'User-Agent': 'Mozilla/5.0'}"
   ]
  },
  {
   "cell_type": "code",
   "execution_count": 26,
   "metadata": {
    "tags": []
   },
   "outputs": [
    {
     "name": "stdout",
     "output_type": "stream",
     "text": [
      "İşlemler yapılandırılıyor. Lütfen bekleyiniz...\n",
      "Tüm İşlemler başarıyla tamamalandı!\n"
     ]
    }
   ],
   "source": [
    "kategori_url = []\n",
    "kategori_liste = []\n",
    "kategori_kodu = []\n",
    "kategorialt_url = []\n",
    "urunler = []\n",
    "\n",
    "sayfa_sayisi = 1\n",
    "ara_url = \"com/(.*?)-c-(.*)\"\n",
    "ara_kod = '<a href=\"/(.*?)\" target=\"(.*?)\" title=\"(.*?)\" class=\"(.*?)\">'\n",
    "\n",
    "try:\n",
    "    print('İşlemler yapılandırılıyor. Lütfen bekleyiniz...')\n",
    "    for kate in kategoriler:\n",
    "        kateUrl = url + kate\n",
    "        kategori_url.append(kateUrl)\n",
    "        kategori = re.findall(ara_url, kateUrl)\n",
    "        if len(kategori) > 0:\n",
    "            kategori_liste.append(kategori[0][0])\n",
    "            kategori_kodu.append(int(kategori[0][1]))\n",
    "        else:\n",
    "            kategori = np.NaN\n",
    "            kategori_liste.append(kategori)\n",
    "            kategori_kodu.append(kategori)\n",
    "            \n",
    "        for sayfa in range(1, sayfa_sayisi + 1):\n",
    "            kate_altUrl = kateUrl + '?sayfa=' + str(sayfa)\n",
    "            kategorialt_url.append(kate_altUrl)\n",
    "            session = requests.Session()\n",
    "            response = session.get(kate_altUrl, headers = headers).text\n",
    "\n",
    "            if len(response) > 0:\n",
    "                urunler_text = re.findall(ara_kod, response)\n",
    "                for i in range(len(urunler_text)):\n",
    "                    urun = urunler_text[i][0]\n",
    "                    if len(urun) > 0:\n",
    "                        urunler.append('/' + urun)\n",
    "                    else:\n",
    "                        urun = np.NaN\n",
    "                        urunler.append(urun)\n",
    "       \n",
    "    time.sleep(3)\n",
    "    print('Tüm İşlemler başarıyla tamamalandı!')\n",
    "except:\n",
    "    print('Bir hata oluştu. İşlemler tamamlanamadı!')"
   ]
  },
  {
   "cell_type": "code",
   "execution_count": 30,
   "metadata": {},
   "outputs": [],
   "source": [
    "with open('urunler.txt', mode = 'w', encoding = 'utf-8') as file:\n",
    "    for line in urunler:\n",
    "        file.write(line + '\\n')"
   ]
  },
  {
   "cell_type": "code",
   "execution_count": null,
   "metadata": {},
   "outputs": [],
   "source": []
  },
  {
   "cell_type": "code",
   "execution_count": 22,
   "metadata": {},
   "outputs": [],
   "source": [
    "data = {'kategori': kategori_liste, 'kategori_kod': kategori_kodu}\n",
    "df = pd.DataFrame(data = data)"
   ]
  },
  {
   "cell_type": "code",
   "execution_count": 23,
   "metadata": {},
   "outputs": [
    {
     "data": {
      "text/html": [
       "<div>\n",
       "<style scoped>\n",
       "    .dataframe tbody tr th:only-of-type {\n",
       "        vertical-align: middle;\n",
       "    }\n",
       "\n",
       "    .dataframe tbody tr th {\n",
       "        vertical-align: top;\n",
       "    }\n",
       "\n",
       "    .dataframe thead th {\n",
       "        text-align: right;\n",
       "    }\n",
       "</style>\n",
       "<table border=\"1\" class=\"dataframe\">\n",
       "  <thead>\n",
       "    <tr style=\"text-align: right;\">\n",
       "      <th></th>\n",
       "      <th>kategori</th>\n",
       "      <th>kategori_kod</th>\n",
       "    </tr>\n",
       "  </thead>\n",
       "  <tbody>\n",
       "    <tr>\n",
       "      <th>0</th>\n",
       "      <td>kitaplar</td>\n",
       "      <td>2.147484e+09</td>\n",
       "    </tr>\n",
       "    <tr>\n",
       "      <th>1</th>\n",
       "      <td>muzik</td>\n",
       "      <td>2.147484e+09</td>\n",
       "    </tr>\n",
       "    <tr>\n",
       "      <th>2</th>\n",
       "      <td>drone-multikopter</td>\n",
       "      <td>6.000603e+07</td>\n",
       "    </tr>\n",
       "    <tr>\n",
       "      <th>3</th>\n",
       "      <td>hobi-eglence-urunleri</td>\n",
       "      <td>2.147484e+09</td>\n",
       "    </tr>\n",
       "    <tr>\n",
       "      <th>4</th>\n",
       "      <td>filmler</td>\n",
       "      <td>2.147484e+09</td>\n",
       "    </tr>\n",
       "  </tbody>\n",
       "</table>\n",
       "</div>"
      ],
      "text/plain": [
       "                kategori  kategori_kod\n",
       "0               kitaplar  2.147484e+09\n",
       "1                  muzik  2.147484e+09\n",
       "2      drone-multikopter  6.000603e+07\n",
       "3  hobi-eglence-urunleri  2.147484e+09\n",
       "4                filmler  2.147484e+09"
      ]
     },
     "execution_count": 23,
     "metadata": {},
     "output_type": "execute_result"
    }
   ],
   "source": [
    "df.head()"
   ]
  },
  {
   "cell_type": "code",
   "execution_count": 182,
   "metadata": {},
   "outputs": [],
   "source": [
    "df.to_csv('hb_kategori.csv')"
   ]
  },
  {
   "cell_type": "code",
   "execution_count": null,
   "metadata": {},
   "outputs": [],
   "source": []
  }
 ],
 "metadata": {
  "kernelspec": {
   "display_name": "Python 3 (ipykernel)",
   "language": "python",
   "name": "python3"
  },
  "language_info": {
   "codemirror_mode": {
    "name": "ipython",
    "version": 3
   },
   "file_extension": ".py",
   "mimetype": "text/x-python",
   "name": "python",
   "nbconvert_exporter": "python",
   "pygments_lexer": "ipython3",
   "version": "3.8.10"
  }
 },
 "nbformat": 4,
 "nbformat_minor": 4
}
