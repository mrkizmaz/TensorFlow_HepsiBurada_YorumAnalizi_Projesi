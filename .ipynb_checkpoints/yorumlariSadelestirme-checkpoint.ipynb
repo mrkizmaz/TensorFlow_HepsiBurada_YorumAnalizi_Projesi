{
 "cells": [
  {
   "cell_type": "markdown",
   "id": "844e98bb-d8d8-4753-9dd6-e8d8147e7a9a",
   "metadata": {},
   "source": [
    "## Örnek bir yorum veri setini inceleme"
   ]
  },
  {
   "cell_type": "code",
   "execution_count": 1,
   "id": "beabc1c4-8214-4ddf-88c0-ea66be34b4df",
   "metadata": {},
   "outputs": [],
   "source": [
    "import warnings\n",
    "warnings.simplefilter(action='ignore', category=FutureWarning)\n",
    "warnings.filterwarnings('ignore', category = UserWarning)"
   ]
  },
  {
   "cell_type": "code",
   "execution_count": 2,
   "id": "f8bcbdcd-700d-4f50-b549-3039d2356b0e",
   "metadata": {},
   "outputs": [],
   "source": [
    "import pandas as pd"
   ]
  },
  {
   "cell_type": "code",
   "execution_count": 3,
   "id": "7019e5b2-e879-4ff7-933f-cfe043f0c2f7",
   "metadata": {},
   "outputs": [],
   "source": [
    "data = pd.read_csv('HB_Yorumlar/hb_yorumlar1.csv', sep = ',')"
   ]
  },
  {
   "cell_type": "code",
   "execution_count": 4,
   "id": "a9d79e1d-9ed7-48f8-81eb-20743ce7ed12",
   "metadata": {},
   "outputs": [
    {
     "data": {
      "text/html": [
       "<div>\n",
       "<style scoped>\n",
       "    .dataframe tbody tr th:only-of-type {\n",
       "        vertical-align: middle;\n",
       "    }\n",
       "\n",
       "    .dataframe tbody tr th {\n",
       "        vertical-align: top;\n",
       "    }\n",
       "\n",
       "    .dataframe thead th {\n",
       "        text-align: right;\n",
       "    }\n",
       "</style>\n",
       "<table border=\"1\" class=\"dataframe\">\n",
       "  <thead>\n",
       "    <tr style=\"text-align: right;\">\n",
       "      <th></th>\n",
       "      <th>tarih</th>\n",
       "      <th>derece</th>\n",
       "      <th>yorum</th>\n",
       "    </tr>\n",
       "  </thead>\n",
       "  <tbody>\n",
       "    <tr>\n",
       "      <th>0</th>\n",
       "      <td>2022-05-09</td>\n",
       "      <td>5</td>\n",
       "      <td>Güzel bir anlatımı var, henüz başındayım inşal...</td>\n",
       "    </tr>\n",
       "    <tr>\n",
       "      <th>1</th>\n",
       "      <td>2022-04-28</td>\n",
       "      <td>5</td>\n",
       "      <td>Süreci özetlerken; bazı konuları ıskalamış old...</td>\n",
       "    </tr>\n",
       "    <tr>\n",
       "      <th>2</th>\n",
       "      <td>2022-05-05</td>\n",
       "      <td>5</td>\n",
       "      <td>Guzel tespıtler var. Yazarın yayınlarını ızley...</td>\n",
       "    </tr>\n",
       "    <tr>\n",
       "      <th>3</th>\n",
       "      <td>2022-05-01</td>\n",
       "      <td>5</td>\n",
       "      <td>Ürün hasarsız bir şekilde geldi hiçbir yerinde...</td>\n",
       "    </tr>\n",
       "    <tr>\n",
       "      <th>4</th>\n",
       "      <td>2022-05-05</td>\n",
       "      <td>5</td>\n",
       "      <td>Cildi çok güzel. Ön siparişten aldığım için bi...</td>\n",
       "    </tr>\n",
       "  </tbody>\n",
       "</table>\n",
       "</div>"
      ],
      "text/plain": [
       "        tarih  derece                                              yorum\n",
       "0  2022-05-09       5  Güzel bir anlatımı var, henüz başındayım inşal...\n",
       "1  2022-04-28       5  Süreci özetlerken; bazı konuları ıskalamış old...\n",
       "2  2022-05-05       5  Guzel tespıtler var. Yazarın yayınlarını ızley...\n",
       "3  2022-05-01       5  Ürün hasarsız bir şekilde geldi hiçbir yerinde...\n",
       "4  2022-05-05       5  Cildi çok güzel. Ön siparişten aldığım için bi..."
      ]
     },
     "execution_count": 4,
     "metadata": {},
     "output_type": "execute_result"
    }
   ],
   "source": [
    "data.head()"
   ]
  },
  {
   "cell_type": "code",
   "execution_count": 5,
   "id": "08492a89-7360-4e0e-992b-e5aa4adbf77f",
   "metadata": {},
   "outputs": [],
   "source": [
    "df = data['yorum']"
   ]
  },
  {
   "cell_type": "code",
   "execution_count": 6,
   "id": "2a2dcb29-4fcf-4f3c-8469-f35584bca2ea",
   "metadata": {},
   "outputs": [
    {
     "data": {
      "text/plain": [
       "0    Güzel bir anlatımı var, henüz başındayım inşal...\n",
       "1    Süreci özetlerken; bazı konuları ıskalamış old...\n",
       "2    Guzel tespıtler var. Yazarın yayınlarını ızley...\n",
       "3    Ürün hasarsız bir şekilde geldi hiçbir yerinde...\n",
       "4    Cildi çok güzel. Ön siparişten aldığım için bi...\n",
       "Name: yorum, dtype: object"
      ]
     },
     "execution_count": 6,
     "metadata": {},
     "output_type": "execute_result"
    }
   ],
   "source": [
    "df.head()"
   ]
  },
  {
   "cell_type": "code",
   "execution_count": 7,
   "id": "085aa04e-2a7b-406c-af9d-1dd6b89f872f",
   "metadata": {},
   "outputs": [],
   "source": [
    "df = pd.DataFrame(df)"
   ]
  },
  {
   "cell_type": "code",
   "execution_count": 8,
   "id": "5df1bfe6-3cc9-44e6-b92a-02e2f92c90f0",
   "metadata": {},
   "outputs": [
    {
     "data": {
      "text/html": [
       "<div>\n",
       "<style scoped>\n",
       "    .dataframe tbody tr th:only-of-type {\n",
       "        vertical-align: middle;\n",
       "    }\n",
       "\n",
       "    .dataframe tbody tr th {\n",
       "        vertical-align: top;\n",
       "    }\n",
       "\n",
       "    .dataframe thead th {\n",
       "        text-align: right;\n",
       "    }\n",
       "</style>\n",
       "<table border=\"1\" class=\"dataframe\">\n",
       "  <thead>\n",
       "    <tr style=\"text-align: right;\">\n",
       "      <th></th>\n",
       "      <th>yorum</th>\n",
       "    </tr>\n",
       "  </thead>\n",
       "  <tbody>\n",
       "    <tr>\n",
       "      <th>0</th>\n",
       "      <td>Güzel bir anlatımı var, henüz başındayım inşal...</td>\n",
       "    </tr>\n",
       "    <tr>\n",
       "      <th>1</th>\n",
       "      <td>Süreci özetlerken; bazı konuları ıskalamış old...</td>\n",
       "    </tr>\n",
       "    <tr>\n",
       "      <th>2</th>\n",
       "      <td>Guzel tespıtler var. Yazarın yayınlarını ızley...</td>\n",
       "    </tr>\n",
       "    <tr>\n",
       "      <th>3</th>\n",
       "      <td>Ürün hasarsız bir şekilde geldi hiçbir yerinde...</td>\n",
       "    </tr>\n",
       "    <tr>\n",
       "      <th>4</th>\n",
       "      <td>Cildi çok güzel. Ön siparişten aldığım için bi...</td>\n",
       "    </tr>\n",
       "  </tbody>\n",
       "</table>\n",
       "</div>"
      ],
      "text/plain": [
       "                                               yorum\n",
       "0  Güzel bir anlatımı var, henüz başındayım inşal...\n",
       "1  Süreci özetlerken; bazı konuları ıskalamış old...\n",
       "2  Guzel tespıtler var. Yazarın yayınlarını ızley...\n",
       "3  Ürün hasarsız bir şekilde geldi hiçbir yerinde...\n",
       "4  Cildi çok güzel. Ön siparişten aldığım için bi..."
      ]
     },
     "execution_count": 8,
     "metadata": {},
     "output_type": "execute_result"
    }
   ],
   "source": [
    "df.head()"
   ]
  },
  {
   "cell_type": "code",
   "execution_count": 9,
   "id": "aae46013-eb93-4173-affa-cc049f354667",
   "metadata": {},
   "outputs": [
    {
     "data": {
      "text/plain": [
       "'Bu çok hızlı elime geçti maile direk geldi diyenler nasıl geldi anlamıyorum tam 19 saat oldu gelen sadece reklam mailleri şaşırtıcı derecede hızlı evet anında parayı kestiler daha ortada cod mor yok ☺️☺️ hızınız için teşekkürler parayı çekme hızınız için'"
      ]
     },
     "execution_count": 9,
     "metadata": {},
     "output_type": "execute_result"
    }
   ],
   "source": [
    "df.yorum[1141]"
   ]
  },
  {
   "cell_type": "code",
   "execution_count": 10,
   "id": "09f5e2ec-315e-4a2c-8018-5d34b321ad59",
   "metadata": {},
   "outputs": [
    {
     "data": {
      "text/plain": [
       "'Siparişi verdik bir kaç dk içinde kod maile geldi roblox a yükledik yüklendi sonrası mı oğlusum 5 dk da bitirdi robuxlarını😍 satıcı güvenilir tavsiye olunur 👍'"
      ]
     },
     "execution_count": 10,
     "metadata": {},
     "output_type": "execute_result"
    }
   ],
   "source": [
    "df.yorum[1140]"
   ]
  },
  {
   "cell_type": "markdown",
   "id": "9cfe0a2f-bd71-4e45-8611-ad896ec55f77",
   "metadata": {},
   "source": [
    "### Büyük-küçük harf dönüsümü"
   ]
  },
  {
   "cell_type": "code",
   "execution_count": 11,
   "id": "a0376ff8-12b6-47a5-a933-77c16b78bb4c",
   "metadata": {},
   "outputs": [
    {
     "data": {
      "text/html": [
       "<div>\n",
       "<style scoped>\n",
       "    .dataframe tbody tr th:only-of-type {\n",
       "        vertical-align: middle;\n",
       "    }\n",
       "\n",
       "    .dataframe tbody tr th {\n",
       "        vertical-align: top;\n",
       "    }\n",
       "\n",
       "    .dataframe thead th {\n",
       "        text-align: right;\n",
       "    }\n",
       "</style>\n",
       "<table border=\"1\" class=\"dataframe\">\n",
       "  <thead>\n",
       "    <tr style=\"text-align: right;\">\n",
       "      <th></th>\n",
       "      <th>yorum</th>\n",
       "    </tr>\n",
       "  </thead>\n",
       "  <tbody>\n",
       "    <tr>\n",
       "      <th>0</th>\n",
       "      <td>Güzel bir anlatımı var, henüz başındayım inşal...</td>\n",
       "    </tr>\n",
       "    <tr>\n",
       "      <th>1</th>\n",
       "      <td>Süreci özetlerken; bazı konuları ıskalamış old...</td>\n",
       "    </tr>\n",
       "    <tr>\n",
       "      <th>2</th>\n",
       "      <td>Guzel tespıtler var. Yazarın yayınlarını ızley...</td>\n",
       "    </tr>\n",
       "    <tr>\n",
       "      <th>3</th>\n",
       "      <td>Ürün hasarsız bir şekilde geldi hiçbir yerinde...</td>\n",
       "    </tr>\n",
       "    <tr>\n",
       "      <th>4</th>\n",
       "      <td>Cildi çok güzel. Ön siparişten aldığım için bi...</td>\n",
       "    </tr>\n",
       "  </tbody>\n",
       "</table>\n",
       "</div>"
      ],
      "text/plain": [
       "                                               yorum\n",
       "0  Güzel bir anlatımı var, henüz başındayım inşal...\n",
       "1  Süreci özetlerken; bazı konuları ıskalamış old...\n",
       "2  Guzel tespıtler var. Yazarın yayınlarını ızley...\n",
       "3  Ürün hasarsız bir şekilde geldi hiçbir yerinde...\n",
       "4  Cildi çok güzel. Ön siparişten aldığım için bi..."
      ]
     },
     "execution_count": 11,
     "metadata": {},
     "output_type": "execute_result"
    }
   ],
   "source": [
    "dff = df.copy()\n",
    "dff.head()"
   ]
  },
  {
   "cell_type": "code",
   "execution_count": 12,
   "id": "ab7fbd91-1852-47c6-932a-bff287ce85eb",
   "metadata": {},
   "outputs": [],
   "source": [
    "dff = dff['yorum'].apply(lambda x: ' '.join(i.lower() for i in x.split()))"
   ]
  },
  {
   "cell_type": "code",
   "execution_count": 13,
   "id": "249ac2dc-d40c-4276-a135-27e4ac728686",
   "metadata": {},
   "outputs": [
    {
     "data": {
      "text/plain": [
       "'bu çok hızlı elime geçti maile direk geldi diyenler nasıl geldi anlamıyorum tam 19 saat oldu gelen sadece reklam mailleri şaşırtıcı derecede hızlı evet anında parayı kestiler daha ortada cod mor yok ☺️☺️ hızınız için teşekkürler parayı çekme hızınız için'"
      ]
     },
     "execution_count": 13,
     "metadata": {},
     "output_type": "execute_result"
    }
   ],
   "source": [
    "dff[1141]"
   ]
  },
  {
   "cell_type": "markdown",
   "id": "22c08e89-d755-4992-bb55-5c427cae169d",
   "metadata": {},
   "source": [
    "### Noktalama işaretlerinin ve sayıların silinmesi"
   ]
  },
  {
   "cell_type": "code",
   "execution_count": 14,
   "id": "5455dca0-2faf-4f12-a813-1623b13970c9",
   "metadata": {},
   "outputs": [
    {
     "data": {
      "text/plain": [
       "pandas.core.series.Series"
      ]
     },
     "execution_count": 14,
     "metadata": {},
     "output_type": "execute_result"
    }
   ],
   "source": [
    "type(dff)"
   ]
  },
  {
   "cell_type": "code",
   "execution_count": 15,
   "id": "82d2bd7b-5dfe-458c-bbc1-d570a9f08baf",
   "metadata": {},
   "outputs": [],
   "source": [
    "dff = dff.str.replace(r'[^\\w\\s]', '')"
   ]
  },
  {
   "cell_type": "code",
   "execution_count": 16,
   "id": "124e9f9b-d5bb-47de-98bd-1220b4057171",
   "metadata": {},
   "outputs": [],
   "source": [
    "dff = dff.str.replace('\\d', '')"
   ]
  },
  {
   "cell_type": "code",
   "execution_count": 17,
   "id": "2c745699-069f-449b-96a5-8edcc5be4697",
   "metadata": {},
   "outputs": [
    {
     "data": {
      "text/plain": [
       "'bu çok hızlı elime geçti maile direk geldi diyenler nasıl geldi anlamıyorum tam  saat oldu gelen sadece reklam mailleri şaşırtıcı derecede hızlı evet anında parayı kestiler daha ortada cod mor yok  hızınız için teşekkürler parayı çekme hızınız için'"
      ]
     },
     "execution_count": 17,
     "metadata": {},
     "output_type": "execute_result"
    }
   ],
   "source": [
    "dff[1141]"
   ]
  },
  {
   "cell_type": "code",
   "execution_count": 18,
   "id": "16ad7195-2cc5-401f-8095-756295dc2a18",
   "metadata": {},
   "outputs": [
    {
     "data": {
      "text/plain": [
       "'siparişi verdik bir kaç dk içinde kod maile geldi roblox a yükledik yüklendi sonrası mı oğlusum  dk da bitirdi robuxlarını satıcı güvenilir tavsiye olunur '"
      ]
     },
     "execution_count": 18,
     "metadata": {},
     "output_type": "execute_result"
    }
   ],
   "source": [
    "dff[1140]"
   ]
  },
  {
   "cell_type": "markdown",
   "id": "ad218abe-63ae-4c8a-8070-9da51f00a135",
   "metadata": {},
   "source": [
    "### Stopwords'ların (duraksama kelimeler) silinmesi"
   ]
  },
  {
   "cell_type": "code",
   "execution_count": 19,
   "id": "9943988f-96ec-40f6-a4f9-c310b4fb5e31",
   "metadata": {},
   "outputs": [],
   "source": [
    "dff = pd.DataFrame(dff)"
   ]
  },
  {
   "cell_type": "code",
   "execution_count": 20,
   "id": "5a002207-e1f7-419e-a4af-c5f20323308b",
   "metadata": {},
   "outputs": [
    {
     "data": {
      "text/html": [
       "<div>\n",
       "<style scoped>\n",
       "    .dataframe tbody tr th:only-of-type {\n",
       "        vertical-align: middle;\n",
       "    }\n",
       "\n",
       "    .dataframe tbody tr th {\n",
       "        vertical-align: top;\n",
       "    }\n",
       "\n",
       "    .dataframe thead th {\n",
       "        text-align: right;\n",
       "    }\n",
       "</style>\n",
       "<table border=\"1\" class=\"dataframe\">\n",
       "  <thead>\n",
       "    <tr style=\"text-align: right;\">\n",
       "      <th></th>\n",
       "      <th>yorum</th>\n",
       "    </tr>\n",
       "  </thead>\n",
       "  <tbody>\n",
       "    <tr>\n",
       "      <th>0</th>\n",
       "      <td>güzel bir anlatımı var henüz başındayım inşall...</td>\n",
       "    </tr>\n",
       "    <tr>\n",
       "      <th>1</th>\n",
       "      <td>süreci özetlerken bazı konuları ıskalamış oldu...</td>\n",
       "    </tr>\n",
       "    <tr>\n",
       "      <th>2</th>\n",
       "      <td>guzel tespıtler var yazarın yayınlarını ızleye...</td>\n",
       "    </tr>\n",
       "    <tr>\n",
       "      <th>3</th>\n",
       "      <td>ürün hasarsız bir şekilde geldi hiçbir yerinde...</td>\n",
       "    </tr>\n",
       "    <tr>\n",
       "      <th>4</th>\n",
       "      <td>cildi çok güzel ön siparişten aldığım için bir...</td>\n",
       "    </tr>\n",
       "  </tbody>\n",
       "</table>\n",
       "</div>"
      ],
      "text/plain": [
       "                                               yorum\n",
       "0  güzel bir anlatımı var henüz başındayım inşall...\n",
       "1  süreci özetlerken bazı konuları ıskalamış oldu...\n",
       "2  guzel tespıtler var yazarın yayınlarını ızleye...\n",
       "3  ürün hasarsız bir şekilde geldi hiçbir yerinde...\n",
       "4  cildi çok güzel ön siparişten aldığım için bir..."
      ]
     },
     "execution_count": 20,
     "metadata": {},
     "output_type": "execute_result"
    }
   ],
   "source": [
    "dff.head()"
   ]
  },
  {
   "cell_type": "code",
   "execution_count": 21,
   "id": "3ee37438-152a-4bc8-97c1-e6bbc52ff8ed",
   "metadata": {},
   "outputs": [],
   "source": [
    "from nltk.corpus import stopwords\n",
    "sw = stopwords.words('turkish')"
   ]
  },
  {
   "cell_type": "code",
   "execution_count": 22,
   "id": "5f162b3c-4bcf-4e2b-934c-bb416ebc895f",
   "metadata": {},
   "outputs": [
    {
     "data": {
      "text/plain": [
       "['acaba',\n",
       " 'ama',\n",
       " 'aslında',\n",
       " 'az',\n",
       " 'bazı',\n",
       " 'belki',\n",
       " 'biri',\n",
       " 'birkaç',\n",
       " 'birşey',\n",
       " 'biz',\n",
       " 'bu',\n",
       " 'çok',\n",
       " 'çünkü',\n",
       " 'da',\n",
       " 'daha',\n",
       " 'de',\n",
       " 'defa',\n",
       " 'diye',\n",
       " 'eğer',\n",
       " 'en',\n",
       " 'gibi',\n",
       " 'hem',\n",
       " 'hep',\n",
       " 'hepsi',\n",
       " 'her',\n",
       " 'hiç',\n",
       " 'için',\n",
       " 'ile',\n",
       " 'ise',\n",
       " 'kez',\n",
       " 'ki',\n",
       " 'kim',\n",
       " 'mı',\n",
       " 'mu',\n",
       " 'mü',\n",
       " 'nasıl',\n",
       " 'ne',\n",
       " 'neden',\n",
       " 'nerde',\n",
       " 'nerede',\n",
       " 'nereye',\n",
       " 'niçin',\n",
       " 'niye',\n",
       " 'o',\n",
       " 'sanki',\n",
       " 'şey',\n",
       " 'siz',\n",
       " 'şu',\n",
       " 'tüm',\n",
       " 've',\n",
       " 'veya',\n",
       " 'ya',\n",
       " 'yani']"
      ]
     },
     "execution_count": 22,
     "metadata": {},
     "output_type": "execute_result"
    }
   ],
   "source": [
    "sw"
   ]
  },
  {
   "cell_type": "code",
   "execution_count": 23,
   "id": "010c3134-ad70-45b4-8234-aa7e9332cce7",
   "metadata": {},
   "outputs": [],
   "source": [
    "dff = dff['yorum'].apply(lambda x: ' '.join(i for i in x.split() if i not in sw))"
   ]
  },
  {
   "cell_type": "code",
   "execution_count": 24,
   "id": "49a4c037-79e1-4bce-83e7-260e20d8e88a",
   "metadata": {},
   "outputs": [
    {
     "data": {
      "text/plain": [
       "0       güzel bir anlatımı var henüz başındayım inşall...\n",
       "1       süreci özetlerken konuları ıskalamış olduğunu ...\n",
       "2       guzel tespıtler var yazarın yayınlarını ızleye...\n",
       "3       ürün hasarsız bir şekilde geldi hiçbir yerinde...\n",
       "4       cildi güzel ön siparişten aldığım biraz bekled...\n",
       "                              ...                        \n",
       "3610        ürün gerçekten güzel tane pena kılıf hediyeli\n",
       "3611    ürün tertemiz kusursuz sağlam bir şekilde elim...\n",
       "3612    yamaha c klasik gitari siparis vermek konusund...\n",
       "3613    urun guzel pro urunlerin baslangici ancak gond...\n",
       "3614    memnun değilim bugün ürünü açtım hasarlı ürün ...\n",
       "Name: yorum, Length: 3615, dtype: object"
      ]
     },
     "execution_count": 24,
     "metadata": {},
     "output_type": "execute_result"
    }
   ],
   "source": [
    "dff"
   ]
  },
  {
   "cell_type": "code",
   "execution_count": 25,
   "id": "d9352970-93ce-42a2-814c-8dbbc8544ab1",
   "metadata": {},
   "outputs": [
    {
     "data": {
      "text/plain": [
       "0       Güzel bir anlatımı var, henüz başındayım inşal...\n",
       "1       Süreci özetlerken; bazı konuları ıskalamış old...\n",
       "2       Guzel tespıtler var. Yazarın yayınlarını ızley...\n",
       "3       Ürün hasarsız bir şekilde geldi hiçbir yerinde...\n",
       "4       Cildi çok güzel. Ön siparişten aldığım için bi...\n",
       "                              ...                        \n",
       "3610    Ürün gerçekten çok güzel, 2 tane pena ve kılıf...\n",
       "3611    Ürün tertemiz, kusursuz ve sağlam bir şekilde ...\n",
       "3612    Yamaha c40 klasik gitari siparis vermek konusu...\n",
       "3613    Urun guzel pro urunlerin baslangici ancak gond...\n",
       "3614    Hiç memnun değilim. Bugün ürünü açtım hasarlı ...\n",
       "Name: yorum, Length: 3615, dtype: object"
      ]
     },
     "execution_count": 25,
     "metadata": {},
     "output_type": "execute_result"
    }
   ],
   "source": [
    "df.yorum"
   ]
  },
  {
   "cell_type": "markdown",
   "id": "2e243b16-daa6-4cba-a576-ad650d5c3965",
   "metadata": {},
   "source": [
    "### Frekansı düsük olan kelimelerin silinmesi"
   ]
  },
  {
   "cell_type": "code",
   "execution_count": 26,
   "id": "43d8f076-defc-4dcc-baf8-620f4826eba6",
   "metadata": {},
   "outputs": [
    {
     "data": {
      "text/plain": [
       "pandas.core.series.Series"
      ]
     },
     "execution_count": 26,
     "metadata": {},
     "output_type": "execute_result"
    }
   ],
   "source": [
    "type(dff)"
   ]
  },
  {
   "cell_type": "code",
   "execution_count": 27,
   "id": "53362559-4fe1-4a0b-9935-a20e7da6a4c2",
   "metadata": {},
   "outputs": [],
   "source": [
    "dff = pd.DataFrame(dff)"
   ]
  },
  {
   "cell_type": "code",
   "execution_count": 28,
   "id": "f11a436c-679f-497b-bd6f-3a0491b5607b",
   "metadata": {},
   "outputs": [
    {
     "data": {
      "text/plain": [
       "bir             2241\n",
       "kitap            956\n",
       "güzel            930\n",
       "ederim           567\n",
       "iyi              550\n",
       "                ... \n",
       "jelatinliydi       1\n",
       "pahalıydı          1\n",
       "uygulamada         1\n",
       "ederiiiim          1\n",
       "gönderin           1\n",
       "Length: 14814, dtype: int64"
      ]
     },
     "execution_count": 28,
     "metadata": {},
     "output_type": "execute_result"
    }
   ],
   "source": [
    "pd.Series(' '.join(dff['yorum']).split()).value_counts()"
   ]
  },
  {
   "cell_type": "code",
   "execution_count": 29,
   "id": "35fffe78-2b44-47e5-80dc-e047c03f708c",
   "metadata": {},
   "outputs": [],
   "source": [
    "sil = pd.Series(' '.join(dff['yorum']).split()).value_counts()[-1000:] #sondan 100"
   ]
  },
  {
   "cell_type": "code",
   "execution_count": 30,
   "id": "294961ca-a298-4ba5-93fe-624a1427850f",
   "metadata": {},
   "outputs": [
    {
     "data": {
      "text/plain": [
       "yatır             1\n",
       "intenetten        1\n",
       "temmasız          1\n",
       "yüklediğinizde    1\n",
       "virüs             1\n",
       "                 ..\n",
       "jelatinliydi      1\n",
       "pahalıydı         1\n",
       "uygulamada        1\n",
       "ederiiiim         1\n",
       "gönderin          1\n",
       "Length: 1000, dtype: int64"
      ]
     },
     "execution_count": 30,
     "metadata": {},
     "output_type": "execute_result"
    }
   ],
   "source": [
    "sil"
   ]
  },
  {
   "cell_type": "code",
   "execution_count": 31,
   "id": "8e300eca-38f8-4623-9af5-b921d76eef3a",
   "metadata": {},
   "outputs": [],
   "source": [
    "dff = dff['yorum'].apply(lambda x: ' '.join(i for i in x.split() if i not in sil))"
   ]
  },
  {
   "cell_type": "code",
   "execution_count": 32,
   "id": "e40c8213-ddbb-4b39-a19e-e0f95aba5aaf",
   "metadata": {},
   "outputs": [
    {
     "data": {
      "text/plain": [
       "0     güzel bir anlatımı var henüz başındayım inşall...\n",
       "1     süreci özetlerken konuları ıskalamış olduğunu ...\n",
       "2     guzel tespıtler var yazarın yayınlarını ızleye...\n",
       "3     ürün hasarsız bir şekilde geldi hiçbir yerinde...\n",
       "4     cildi güzel ön siparişten aldığım biraz bekled...\n",
       "5     kızım aldımposter ayraçları eksiksiz geldikarg...\n",
       "6     kargolama süreci uzun sürsede beklemeye değerd...\n",
       "7                                           ilgi çekici\n",
       "8        kızım aldım beyza koç un kitaplarını beğeniyor\n",
       "9                                hızlı kargo doğru ürün\n",
       "10             günde hasarsız bir şekilde teslim edildi\n",
       "11                            harika geldi kitap harika\n",
       "12              güzel kargo başarılı satıcı teşekkürler\n",
       "13    zamanki yalnızca kargo poşetine koyup gönderdi...\n",
       "14    bir hayranı olarak polisiye tarzında olsa sevd...\n",
       "15    muhteşem paketleme hızlıca geldi hemen okumaya...\n",
       "16    henüz okumadım içerik yazarla alakalı değerlen...\n",
       "17                   king yüzyılın edebiyat mucizesidir\n",
       "18    hızlı sorunsuz bir şekilde geldi kısa sürede o...\n",
       "19                        hızlı hasarsız bir teslimattı\n",
       "Name: yorum, dtype: object"
      ]
     },
     "execution_count": 32,
     "metadata": {},
     "output_type": "execute_result"
    }
   ],
   "source": [
    "dff[0:20]"
   ]
  },
  {
   "cell_type": "code",
   "execution_count": 33,
   "id": "89ab7ca9-9627-423c-9ff6-2d7f1a2fefac",
   "metadata": {},
   "outputs": [
    {
     "data": {
      "text/plain": [
       "0     Güzel bir anlatımı var, henüz başındayım inşal...\n",
       "1     Süreci özetlerken; bazı konuları ıskalamış old...\n",
       "2     Guzel tespıtler var. Yazarın yayınlarını ızley...\n",
       "3     Ürün hasarsız bir şekilde geldi hiçbir yerinde...\n",
       "4     Cildi çok güzel. Ön siparişten aldığım için bi...\n",
       "5     Kızım için aldım.Poster ve ayraçları eksiksiz ...\n",
       "6     Kargolama süreci uzun sürsede beklemeye değerd...\n",
       "7                                       Çok ilgi çekici\n",
       "8     Kızım için aldım, Beyza Koç un kitaplarını çok...\n",
       "9                               Hızlı kargo doğru ürün.\n",
       "10           1 günde hasarsız bir şekilde teslim edildi\n",
       "11                           harika  geldi kitap harika\n",
       "12              Güzel kargo başarılı satıcı teşekkürler\n",
       "13    Her zamanki gibi yalnızca kargo poşetine koyup...\n",
       "14    Bir hayranı olarak polisiye tarzında olsa da s...\n",
       "15    Muhteşem paketleme ile hızlıca geldi. Hemen ok...\n",
       "16    Henüz okumadım ama içerik yazarla alakalı değe...\n",
       "17                King bu yüzyılın edebiyat mucizesidir\n",
       "18    Çok hızlı ve sorunsuz bir şekilde geldi. En kı...\n",
       "19                    Hızlı ve hasarsız bir teslimattı.\n",
       "Name: yorum, dtype: object"
      ]
     },
     "execution_count": 33,
     "metadata": {},
     "output_type": "execute_result"
    }
   ],
   "source": [
    "df.yorum.head(20)"
   ]
  },
  {
   "cell_type": "markdown",
   "id": "0d48a7a1-6e4f-4bdc-941c-3fe792b6bb3f",
   "metadata": {},
   "source": [
    "### Tokenization"
   ]
  },
  {
   "cell_type": "code",
   "execution_count": 34,
   "id": "0289b38c-2c12-4b5a-84d2-05196f19bc19",
   "metadata": {},
   "outputs": [],
   "source": [
    "import textblob\n",
    "from textblob import TextBlob"
   ]
  },
  {
   "cell_type": "code",
   "execution_count": 35,
   "id": "9d6d0da6-8d0d-47dd-a097-31b2f21fb331",
   "metadata": {},
   "outputs": [],
   "source": [
    "dff = pd.DataFrame(dff)"
   ]
  },
  {
   "cell_type": "code",
   "execution_count": 36,
   "id": "30d999ad-d635-48de-970b-0246fa3e082a",
   "metadata": {},
   "outputs": [
    {
     "data": {
      "text/plain": [
       "0       [güzel, bir, anlatımı, var, henüz, başındayım,...\n",
       "1       [süreci, özetlerken, konuları, ıskalamış, oldu...\n",
       "2       [guzel, tespıtler, var, yazarın, yayınlarını, ...\n",
       "3       [ürün, hasarsız, bir, şekilde, geldi, hiçbir, ...\n",
       "4       [cildi, güzel, ön, siparişten, aldığım, biraz,...\n",
       "                              ...                        \n",
       "3610    [ürün, gerçekten, güzel, tane, pena, kılıf, he...\n",
       "3611    [ürün, tertemiz, kusursuz, sağlam, bir, şekild...\n",
       "3612    [yamaha, c, klasik, gitari, siparis, vermek, k...\n",
       "3613    [urun, guzel, pro, urunlerin, baslangici, anca...\n",
       "3614    [memnun, değilim, bugün, ürünü, açtım, hasarlı...\n",
       "Name: yorum, Length: 3615, dtype: object"
      ]
     },
     "execution_count": 36,
     "metadata": {},
     "output_type": "execute_result"
    }
   ],
   "source": [
    "dff['yorum'].apply(lambda x: TextBlob(x).words)"
   ]
  },
  {
   "cell_type": "markdown",
   "id": "0c90fe06-ccc7-4e07-ad64-d5522e03bf2a",
   "metadata": {},
   "source": [
    "### Stemming"
   ]
  },
  {
   "cell_type": "code",
   "execution_count": 37,
   "id": "17044a7d-db4d-4a1d-b35f-4787a88acc3e",
   "metadata": {},
   "outputs": [],
   "source": [
    "from nltk.stem import PorterStemmer\n",
    "st = PorterStemmer()"
   ]
  },
  {
   "cell_type": "code",
   "execution_count": 38,
   "id": "50f3e9cb-f504-4762-93d8-b383b6a267b2",
   "metadata": {},
   "outputs": [
    {
     "data": {
      "text/plain": [
       "0       güzel bir anlatımı var henüz başındayım inşall...\n",
       "1       süreci özetlerken konuları ıskalamış olduğunu ...\n",
       "2       guzel tespıtler var yazarın yayınlarını ızleye...\n",
       "3       ürün hasarsız bir şekild geldi hiçbir yerind h...\n",
       "4       cildi güzel ön siparişten aldığım biraz bekled...\n",
       "                              ...                        \n",
       "3610           ürün gerçekten güzel tane pena kılıf hediy\n",
       "3611    ürün tertemiz kusursuz sağlam bir şekild elim ...\n",
       "3612    yamaha c klasik gitari sipari vermek konusunda...\n",
       "3613    urun guzel pro urunlerin baslangici ancak gond...\n",
       "3614    memnun değilim bugün ürünü açtım hasarlı ürün ...\n",
       "Name: yorum, Length: 3615, dtype: object"
      ]
     },
     "execution_count": 38,
     "metadata": {},
     "output_type": "execute_result"
    }
   ],
   "source": [
    "dff['yorum'].apply(lambda x: ' '.join([st.stem(word) for word in x.split()]))"
   ]
  },
  {
   "cell_type": "code",
   "execution_count": 39,
   "id": "63c11765-0237-4b92-9790-bb46d419f592",
   "metadata": {},
   "outputs": [
    {
     "data": {
      "text/plain": [
       "0       Güzel bir anlatımı var, henüz başındayım inşal...\n",
       "1       Süreci özetlerken; bazı konuları ıskalamış old...\n",
       "2       Guzel tespıtler var. Yazarın yayınlarını ızley...\n",
       "3       Ürün hasarsız bir şekilde geldi hiçbir yerinde...\n",
       "4       Cildi çok güzel. Ön siparişten aldığım için bi...\n",
       "                              ...                        \n",
       "3610    Ürün gerçekten çok güzel, 2 tane pena ve kılıf...\n",
       "3611    Ürün tertemiz, kusursuz ve sağlam bir şekilde ...\n",
       "3612    Yamaha c40 klasik gitari siparis vermek konusu...\n",
       "3613    Urun guzel pro urunlerin baslangici ancak gond...\n",
       "3614    Hiç memnun değilim. Bugün ürünü açtım hasarlı ...\n",
       "Name: yorum, Length: 3615, dtype: object"
      ]
     },
     "execution_count": 39,
     "metadata": {},
     "output_type": "execute_result"
    }
   ],
   "source": [
    "df.yorum"
   ]
  },
  {
   "cell_type": "code",
   "execution_count": 40,
   "id": "d309be56-8f0b-47fd-943c-6c760f206f48",
   "metadata": {},
   "outputs": [
    {
     "data": {
      "text/plain": [
       "'Siparişi verdik bir kaç dk içinde kod maile geldi roblox a yükledik yüklendi sonrası mı oğlusum 5 dk da bitirdi robuxlarını😍 satıcı güvenilir tavsiye olunur 👍'"
      ]
     },
     "execution_count": 40,
     "metadata": {},
     "output_type": "execute_result"
    }
   ],
   "source": [
    "df.yorum[1140]"
   ]
  },
  {
   "cell_type": "code",
   "execution_count": 41,
   "id": "753e4086-cd87-47a2-9dcf-08bfd1759abc",
   "metadata": {},
   "outputs": [
    {
     "data": {
      "text/plain": [
       "'siparişi verdik bir kaç dk içinde kod maile geldi roblox a yükledik yüklendi sonrası oğlusum dk bitirdi robuxlarını satıcı güvenilir tavsiye olunur'"
      ]
     },
     "execution_count": 41,
     "metadata": {},
     "output_type": "execute_result"
    }
   ],
   "source": [
    "dff.yorum[1140]"
   ]
  },
  {
   "cell_type": "markdown",
   "id": "17464795-8ebb-4f83-bf5a-d5af16303ef5",
   "metadata": {},
   "source": [
    "### Lemmatization"
   ]
  },
  {
   "cell_type": "code",
   "execution_count": 42,
   "id": "52d77e66-7a01-4f04-8e0e-02c3f42ab8b8",
   "metadata": {},
   "outputs": [],
   "source": [
    "from textblob import Word"
   ]
  },
  {
   "cell_type": "code",
   "execution_count": 43,
   "id": "874bcb29-e5d5-46f4-8406-31bc1f8100fa",
   "metadata": {},
   "outputs": [
    {
     "data": {
      "text/plain": [
       "pandas.core.frame.DataFrame"
      ]
     },
     "execution_count": 43,
     "metadata": {},
     "output_type": "execute_result"
    }
   ],
   "source": [
    "type(dff)"
   ]
  },
  {
   "cell_type": "code",
   "execution_count": 44,
   "id": "51de4b2b-b2f7-45fc-9163-2e987ff2de11",
   "metadata": {},
   "outputs": [],
   "source": [
    "dff = pd.DataFrame(dff)"
   ]
  },
  {
   "cell_type": "code",
   "execution_count": 45,
   "id": "cb654c75-48fc-45a9-90df-41a8a0c87f44",
   "metadata": {},
   "outputs": [],
   "source": [
    "dff = dff['yorum'].apply(lambda x: ' '.join([Word(word).lemmatize() for word in x.split()]))"
   ]
  },
  {
   "cell_type": "code",
   "execution_count": 46,
   "id": "21d5fab4-448a-42fc-ad58-b7bde29399a2",
   "metadata": {},
   "outputs": [
    {
     "data": {
      "text/plain": [
       "0     güzel bir anlatımı var henüz başındayım inşall...\n",
       "1     süreci özetlerken konuları ıskalamış olduğunu ...\n",
       "2     guzel tespıtler var yazarın yayınlarını ızleye...\n",
       "3     ürün hasarsız bir şekilde geldi hiçbir yerinde...\n",
       "4     cildi güzel ön siparişten aldığım biraz bekled...\n",
       "5     kızım aldımposter ayraçları eksiksiz geldikarg...\n",
       "6     kargolama süreci uzun sürsede beklemeye değerd...\n",
       "7                                           ilgi çekici\n",
       "8        kızım aldım beyza koç un kitaplarını beğeniyor\n",
       "9                                hızlı kargo doğru ürün\n",
       "10             günde hasarsız bir şekilde teslim edildi\n",
       "11                            harika geldi kitap harika\n",
       "12              güzel kargo başarılı satıcı teşekkürler\n",
       "13    zamanki yalnızca kargo poşetine koyup gönderdi...\n",
       "14    bir hayranı olarak polisiye tarzında olsa sevd...\n",
       "15    muhteşem paketleme hızlıca geldi hemen okumaya...\n",
       "16    henüz okumadım içerik yazarla alakalı değerlen...\n",
       "17                   king yüzyılın edebiyat mucizesidir\n",
       "18    hızlı sorunsuz bir şekilde geldi kısa sürede o...\n",
       "19                        hızlı hasarsız bir teslimattı\n",
       "20                                       hasarsız geldi\n",
       "21              ertesi gün elime ulaştı teşekkür ederim\n",
       "22               ürün elime sorunsuz ulaştı teşekkürler\n",
       "23                                     güvenilir satıcı\n",
       "24           hızlı kargo hızlı teslimat teşekkür ederim\n",
       "25      günde elime ulaştı hızlı gönderimtavsiye ederim\n",
       "26                    ürün elime iyi ulaştı teşekkürler\n",
       "27                   hızlı özenli paketleme teşekkürler\n",
       "28    kitap kalitesi beklentimi karşıladı fiyatiçeri...\n",
       "29    çocuklar anlaşılabilir bir dille yazılmış bayı...\n",
       "Name: yorum, dtype: object"
      ]
     },
     "execution_count": 46,
     "metadata": {},
     "output_type": "execute_result"
    }
   ],
   "source": [
    "dff[0:30] # son hal"
   ]
  },
  {
   "cell_type": "code",
   "execution_count": 47,
   "id": "29a322ce-1562-446e-b6c4-2e347e1de868",
   "metadata": {},
   "outputs": [
    {
     "data": {
      "text/plain": [
       "0     Güzel bir anlatımı var, henüz başındayım inşal...\n",
       "1     Süreci özetlerken; bazı konuları ıskalamış old...\n",
       "2     Guzel tespıtler var. Yazarın yayınlarını ızley...\n",
       "3     Ürün hasarsız bir şekilde geldi hiçbir yerinde...\n",
       "4     Cildi çok güzel. Ön siparişten aldığım için bi...\n",
       "5     Kızım için aldım.Poster ve ayraçları eksiksiz ...\n",
       "6     Kargolama süreci uzun sürsede beklemeye değerd...\n",
       "7                                       Çok ilgi çekici\n",
       "8     Kızım için aldım, Beyza Koç un kitaplarını çok...\n",
       "9                               Hızlı kargo doğru ürün.\n",
       "10           1 günde hasarsız bir şekilde teslim edildi\n",
       "11                           harika  geldi kitap harika\n",
       "12              Güzel kargo başarılı satıcı teşekkürler\n",
       "13    Her zamanki gibi yalnızca kargo poşetine koyup...\n",
       "14    Bir hayranı olarak polisiye tarzında olsa da s...\n",
       "15    Muhteşem paketleme ile hızlıca geldi. Hemen ok...\n",
       "16    Henüz okumadım ama içerik yazarla alakalı değe...\n",
       "17                King bu yüzyılın edebiyat mucizesidir\n",
       "18    Çok hızlı ve sorunsuz bir şekilde geldi. En kı...\n",
       "19                    Hızlı ve hasarsız bir teslimattı.\n",
       "20                                      Hasarsız geldi.\n",
       "21              Ertesi gün elime ulaştı teşekkür ederim\n",
       "22            Ürün elime sorunsuz ulaştı teşekkürler :)\n",
       "23                                     Güvenilir satıcı\n",
       "24           Hızlı kargo hızlı teslimat teşekkür ederim\n",
       "25    1 günde elime ulaştı. Hızlı gönderim.tavsiye e...\n",
       "26                Ürün elime çok iyi ulaştı teşekkürler\n",
       "27           Hızlı ve özenli paketleme için teşekkürler\n",
       "28    Kitap kalitesi beklentimi karşıladı.\\nFiyat-iç...\n",
       "29    Çocuklar için anlaşılabilir bir dille yazılmış...\n",
       "Name: yorum, dtype: object"
      ]
     },
     "execution_count": 47,
     "metadata": {},
     "output_type": "execute_result"
    }
   ],
   "source": [
    "df.yorum.head(30) # ilk hal"
   ]
  },
  {
   "cell_type": "code",
   "execution_count": 48,
   "id": "ad567d01-b856-40d8-a443-8111578479e8",
   "metadata": {},
   "outputs": [
    {
     "data": {
      "text/plain": [
       "'peygamberimizi anlatacak söz kelimeler yetmez kitapta unutmuş olduklarımız hatırlatılıyor bir bölümde allahtan başka tanrı yoktur yerine ilah yazılsaydı bana göre iyi olurdu'"
      ]
     },
     "execution_count": 48,
     "metadata": {},
     "output_type": "execute_result"
    }
   ],
   "source": [
    "dff[122]"
   ]
  },
  {
   "cell_type": "code",
   "execution_count": 49,
   "id": "2c21b8ac-e806-47f2-a46b-7c5d4e300ac8",
   "metadata": {},
   "outputs": [
    {
     "data": {
      "text/plain": [
       "'Peygamberimizi  anlatacak söz ve kelimeler  yetmez, bu kitapta unutmuş olduklarımız  hatırlatılıyor. Bir  bölümde Allahtan  başka tanrı yoktur  yerine, İlah yazılsaydı  bana göre daha iyi olurdu.'"
      ]
     },
     "execution_count": 49,
     "metadata": {},
     "output_type": "execute_result"
    }
   ],
   "source": [
    "df.yorum[122]"
   ]
  },
  {
   "cell_type": "code",
   "execution_count": null,
   "id": "b375dfc3-680e-4360-a5f7-413ee26bee77",
   "metadata": {},
   "outputs": [],
   "source": []
  },
  {
   "cell_type": "markdown",
   "id": "a3d57023-773d-4df1-ba15-ae2470e3fb4c",
   "metadata": {},
   "source": [
    "### Matematiksel işlemler ve Basit özellik çıkarımı"
   ]
  },
  {
   "cell_type": "code",
   "execution_count": 50,
   "id": "eea53cd4-adbe-4399-b5ea-8e206bddd46f",
   "metadata": {},
   "outputs": [
    {
     "data": {
      "text/plain": [
       "pandas.core.series.Series"
      ]
     },
     "execution_count": 50,
     "metadata": {},
     "output_type": "execute_result"
    }
   ],
   "source": [
    "type(dff)"
   ]
  },
  {
   "cell_type": "code",
   "execution_count": 51,
   "id": "363db8c2-ff48-47c0-8486-5e6d99d8f0bc",
   "metadata": {},
   "outputs": [],
   "source": [
    "dff = pd.DataFrame(dff)"
   ]
  },
  {
   "cell_type": "code",
   "execution_count": 52,
   "id": "e6fb6320-1504-4841-9b2d-798383fa90ff",
   "metadata": {},
   "outputs": [
    {
     "data": {
      "text/html": [
       "<div>\n",
       "<style scoped>\n",
       "    .dataframe tbody tr th:only-of-type {\n",
       "        vertical-align: middle;\n",
       "    }\n",
       "\n",
       "    .dataframe tbody tr th {\n",
       "        vertical-align: top;\n",
       "    }\n",
       "\n",
       "    .dataframe thead th {\n",
       "        text-align: right;\n",
       "    }\n",
       "</style>\n",
       "<table border=\"1\" class=\"dataframe\">\n",
       "  <thead>\n",
       "    <tr style=\"text-align: right;\">\n",
       "      <th></th>\n",
       "      <th>yorum</th>\n",
       "    </tr>\n",
       "  </thead>\n",
       "  <tbody>\n",
       "    <tr>\n",
       "      <th>0</th>\n",
       "      <td>güzel bir anlatımı var henüz başındayım inşall...</td>\n",
       "    </tr>\n",
       "    <tr>\n",
       "      <th>1</th>\n",
       "      <td>süreci özetlerken konuları ıskalamış olduğunu ...</td>\n",
       "    </tr>\n",
       "    <tr>\n",
       "      <th>2</th>\n",
       "      <td>guzel tespıtler var yazarın yayınlarını ızleye...</td>\n",
       "    </tr>\n",
       "    <tr>\n",
       "      <th>3</th>\n",
       "      <td>ürün hasarsız bir şekilde geldi hiçbir yerinde...</td>\n",
       "    </tr>\n",
       "    <tr>\n",
       "      <th>4</th>\n",
       "      <td>cildi güzel ön siparişten aldığım biraz bekled...</td>\n",
       "    </tr>\n",
       "  </tbody>\n",
       "</table>\n",
       "</div>"
      ],
      "text/plain": [
       "                                               yorum\n",
       "0  güzel bir anlatımı var henüz başındayım inşall...\n",
       "1  süreci özetlerken konuları ıskalamış olduğunu ...\n",
       "2  guzel tespıtler var yazarın yayınlarını ızleye...\n",
       "3  ürün hasarsız bir şekilde geldi hiçbir yerinde...\n",
       "4  cildi güzel ön siparişten aldığım biraz bekled..."
      ]
     },
     "execution_count": 52,
     "metadata": {},
     "output_type": "execute_result"
    }
   ],
   "source": [
    "dff.head()"
   ]
  },
  {
   "cell_type": "code",
   "execution_count": 53,
   "id": "51b967b9-bec8-4efe-8a60-316b0adbe8bb",
   "metadata": {},
   "outputs": [],
   "source": [
    "dff2 = dff.copy()"
   ]
  },
  {
   "cell_type": "code",
   "execution_count": 54,
   "id": "11b9b433-8524-4105-b719-e9a5b8d7726c",
   "metadata": {},
   "outputs": [
    {
     "data": {
      "text/plain": [
       "0        76\n",
       "1       262\n",
       "2       192\n",
       "3        58\n",
       "4       148\n",
       "       ... \n",
       "3610     45\n",
       "3611    148\n",
       "3612    214\n",
       "3613    129\n",
       "3614    150\n",
       "Name: yorum, Length: 3615, dtype: int64"
      ]
     },
     "execution_count": 54,
     "metadata": {},
     "output_type": "execute_result"
    }
   ],
   "source": [
    "dff2['yorum'].str.len() # harf sayısı"
   ]
  },
  {
   "cell_type": "code",
   "execution_count": 55,
   "id": "b7cf70af-6479-4f86-8257-28c31b5bf43b",
   "metadata": {},
   "outputs": [],
   "source": [
    "dff2['harfSayisi'] = dff2['yorum'].str.len()"
   ]
  },
  {
   "cell_type": "code",
   "execution_count": 56,
   "id": "7efe9994-0b7f-4ba1-ae02-18a6613bd953",
   "metadata": {},
   "outputs": [
    {
     "data": {
      "text/html": [
       "<div>\n",
       "<style scoped>\n",
       "    .dataframe tbody tr th:only-of-type {\n",
       "        vertical-align: middle;\n",
       "    }\n",
       "\n",
       "    .dataframe tbody tr th {\n",
       "        vertical-align: top;\n",
       "    }\n",
       "\n",
       "    .dataframe thead th {\n",
       "        text-align: right;\n",
       "    }\n",
       "</style>\n",
       "<table border=\"1\" class=\"dataframe\">\n",
       "  <thead>\n",
       "    <tr style=\"text-align: right;\">\n",
       "      <th></th>\n",
       "      <th>yorum</th>\n",
       "      <th>harfSayisi</th>\n",
       "    </tr>\n",
       "  </thead>\n",
       "  <tbody>\n",
       "    <tr>\n",
       "      <th>0</th>\n",
       "      <td>güzel bir anlatımı var henüz başındayım inşall...</td>\n",
       "      <td>76</td>\n",
       "    </tr>\n",
       "    <tr>\n",
       "      <th>1</th>\n",
       "      <td>süreci özetlerken konuları ıskalamış olduğunu ...</td>\n",
       "      <td>262</td>\n",
       "    </tr>\n",
       "    <tr>\n",
       "      <th>2</th>\n",
       "      <td>guzel tespıtler var yazarın yayınlarını ızleye...</td>\n",
       "      <td>192</td>\n",
       "    </tr>\n",
       "    <tr>\n",
       "      <th>3</th>\n",
       "      <td>ürün hasarsız bir şekilde geldi hiçbir yerinde...</td>\n",
       "      <td>58</td>\n",
       "    </tr>\n",
       "    <tr>\n",
       "      <th>4</th>\n",
       "      <td>cildi güzel ön siparişten aldığım biraz bekled...</td>\n",
       "      <td>148</td>\n",
       "    </tr>\n",
       "  </tbody>\n",
       "</table>\n",
       "</div>"
      ],
      "text/plain": [
       "                                               yorum  harfSayisi\n",
       "0  güzel bir anlatımı var henüz başındayım inşall...          76\n",
       "1  süreci özetlerken konuları ıskalamış olduğunu ...         262\n",
       "2  guzel tespıtler var yazarın yayınlarını ızleye...         192\n",
       "3  ürün hasarsız bir şekilde geldi hiçbir yerinde...          58\n",
       "4  cildi güzel ön siparişten aldığım biraz bekled...         148"
      ]
     },
     "execution_count": 56,
     "metadata": {},
     "output_type": "execute_result"
    }
   ],
   "source": [
    "dff2.head()"
   ]
  },
  {
   "cell_type": "code",
   "execution_count": 57,
   "id": "f62cdbbe-045c-4574-a88b-10337054c769",
   "metadata": {},
   "outputs": [
    {
     "data": {
      "text/plain": [
       "0       11\n",
       "1       29\n",
       "2       22\n",
       "3       10\n",
       "4       20\n",
       "        ..\n",
       "3610     7\n",
       "3611    19\n",
       "3612    29\n",
       "3613    21\n",
       "3614    20\n",
       "Name: yorum, Length: 3615, dtype: int64"
      ]
     },
     "execution_count": 57,
     "metadata": {},
     "output_type": "execute_result"
    }
   ],
   "source": [
    "dff2['yorum'].apply(lambda x: len(str(x).split())) # kelime sayısı"
   ]
  },
  {
   "cell_type": "code",
   "execution_count": 58,
   "id": "2fed7dcd-f3e0-4602-823f-1d4e1ba0d122",
   "metadata": {},
   "outputs": [],
   "source": [
    "dff2['kelimeSayisi'] = dff2['yorum'].apply(lambda x: len(str(x).split()))"
   ]
  },
  {
   "cell_type": "code",
   "execution_count": 59,
   "id": "1bc70408-ee0a-4503-96bb-8c24e5fc9984",
   "metadata": {},
   "outputs": [
    {
     "data": {
      "text/html": [
       "<div>\n",
       "<style scoped>\n",
       "    .dataframe tbody tr th:only-of-type {\n",
       "        vertical-align: middle;\n",
       "    }\n",
       "\n",
       "    .dataframe tbody tr th {\n",
       "        vertical-align: top;\n",
       "    }\n",
       "\n",
       "    .dataframe thead th {\n",
       "        text-align: right;\n",
       "    }\n",
       "</style>\n",
       "<table border=\"1\" class=\"dataframe\">\n",
       "  <thead>\n",
       "    <tr style=\"text-align: right;\">\n",
       "      <th></th>\n",
       "      <th>yorum</th>\n",
       "      <th>harfSayisi</th>\n",
       "      <th>kelimeSayisi</th>\n",
       "    </tr>\n",
       "  </thead>\n",
       "  <tbody>\n",
       "    <tr>\n",
       "      <th>0</th>\n",
       "      <td>güzel bir anlatımı var henüz başındayım inşall...</td>\n",
       "      <td>76</td>\n",
       "      <td>11</td>\n",
       "    </tr>\n",
       "    <tr>\n",
       "      <th>1</th>\n",
       "      <td>süreci özetlerken konuları ıskalamış olduğunu ...</td>\n",
       "      <td>262</td>\n",
       "      <td>29</td>\n",
       "    </tr>\n",
       "    <tr>\n",
       "      <th>2</th>\n",
       "      <td>guzel tespıtler var yazarın yayınlarını ızleye...</td>\n",
       "      <td>192</td>\n",
       "      <td>22</td>\n",
       "    </tr>\n",
       "    <tr>\n",
       "      <th>3</th>\n",
       "      <td>ürün hasarsız bir şekilde geldi hiçbir yerinde...</td>\n",
       "      <td>58</td>\n",
       "      <td>10</td>\n",
       "    </tr>\n",
       "    <tr>\n",
       "      <th>4</th>\n",
       "      <td>cildi güzel ön siparişten aldığım biraz bekled...</td>\n",
       "      <td>148</td>\n",
       "      <td>20</td>\n",
       "    </tr>\n",
       "  </tbody>\n",
       "</table>\n",
       "</div>"
      ],
      "text/plain": [
       "                                               yorum  harfSayisi  kelimeSayisi\n",
       "0  güzel bir anlatımı var henüz başındayım inşall...          76            11\n",
       "1  süreci özetlerken konuları ıskalamış olduğunu ...         262            29\n",
       "2  guzel tespıtler var yazarın yayınlarını ızleye...         192            22\n",
       "3  ürün hasarsız bir şekilde geldi hiçbir yerinde...          58            10\n",
       "4  cildi güzel ön siparişten aldığım biraz bekled...         148            20"
      ]
     },
     "execution_count": 59,
     "metadata": {},
     "output_type": "execute_result"
    }
   ],
   "source": [
    "dff2.head()"
   ]
  },
  {
   "cell_type": "code",
   "execution_count": 60,
   "id": "9e3c3994-c984-416e-a9b9-3acb49dfa879",
   "metadata": {},
   "outputs": [
    {
     "data": {
      "text/plain": [
       "'güzel bir anlatımı var henüz başındayım inşallah sonunda aynı fikirde olurum'"
      ]
     },
     "execution_count": 60,
     "metadata": {},
     "output_type": "execute_result"
    }
   ],
   "source": [
    "dff2.yorum[0]"
   ]
  },
  {
   "cell_type": "code",
   "execution_count": 61,
   "id": "5c8ba1f4-550b-4822-a018-4abee635f6df",
   "metadata": {},
   "outputs": [],
   "source": [
    "# özel karakteri yakalamak ve saydırmak"
   ]
  },
  {
   "cell_type": "code",
   "execution_count": 62,
   "id": "8a03fb9a-f19f-4df5-aeec-f025c7ba05b2",
   "metadata": {},
   "outputs": [
    {
     "data": {
      "text/plain": [
       "bir           2241\n",
       "kitap          956\n",
       "güzel          930\n",
       "ederim         567\n",
       "iyi            550\n",
       "              ... \n",
       "önümüzdeki       1\n",
       "yıldızlara       1\n",
       "merakım          1\n",
       "çarkı            1\n",
       "arkası           1\n",
       "Length: 13804, dtype: int64"
      ]
     },
     "execution_count": 62,
     "metadata": {},
     "output_type": "execute_result"
    }
   ],
   "source": [
    "pd.Series(' '.join(dff2['yorum']).split()).value_counts()"
   ]
  },
  {
   "cell_type": "code",
   "execution_count": 63,
   "id": "9c118339-d346-4685-9c34-a81a5633f5e2",
   "metadata": {},
   "outputs": [
    {
     "data": {
      "text/plain": [
       "0       1\n",
       "1       1\n",
       "2       0\n",
       "3       1\n",
       "4       1\n",
       "       ..\n",
       "3610    0\n",
       "3611    1\n",
       "3612    1\n",
       "3613    0\n",
       "3614    0\n",
       "Name: yorum, Length: 3615, dtype: int64"
      ]
     },
     "execution_count": 63,
     "metadata": {},
     "output_type": "execute_result"
    }
   ],
   "source": [
    "# bir kelimesi icin,\n",
    "dff2['yorum'].apply(lambda x: len([i for i in x.split()\n",
    "                                 if i.startswith('bir')]))"
   ]
  },
  {
   "cell_type": "code",
   "execution_count": 64,
   "id": "7d8952e2-1e95-47d0-9a3a-0d9b0c883b80",
   "metadata": {},
   "outputs": [],
   "source": [
    "dff2['bir_kelimeSayisi'] = dff2['yorum'].apply(lambda x: len([i for i in x.split()\n",
    "                                 if i.startswith('bir')]))"
   ]
  },
  {
   "cell_type": "code",
   "execution_count": 65,
   "id": "f0866d94-30c5-4aef-86b6-1a256bb692ce",
   "metadata": {},
   "outputs": [
    {
     "data": {
      "text/html": [
       "<div>\n",
       "<style scoped>\n",
       "    .dataframe tbody tr th:only-of-type {\n",
       "        vertical-align: middle;\n",
       "    }\n",
       "\n",
       "    .dataframe tbody tr th {\n",
       "        vertical-align: top;\n",
       "    }\n",
       "\n",
       "    .dataframe thead th {\n",
       "        text-align: right;\n",
       "    }\n",
       "</style>\n",
       "<table border=\"1\" class=\"dataframe\">\n",
       "  <thead>\n",
       "    <tr style=\"text-align: right;\">\n",
       "      <th></th>\n",
       "      <th>yorum</th>\n",
       "      <th>harfSayisi</th>\n",
       "      <th>kelimeSayisi</th>\n",
       "      <th>bir_kelimeSayisi</th>\n",
       "    </tr>\n",
       "  </thead>\n",
       "  <tbody>\n",
       "    <tr>\n",
       "      <th>0</th>\n",
       "      <td>güzel bir anlatımı var henüz başındayım inşall...</td>\n",
       "      <td>76</td>\n",
       "      <td>11</td>\n",
       "      <td>1</td>\n",
       "    </tr>\n",
       "    <tr>\n",
       "      <th>1</th>\n",
       "      <td>süreci özetlerken konuları ıskalamış olduğunu ...</td>\n",
       "      <td>262</td>\n",
       "      <td>29</td>\n",
       "      <td>1</td>\n",
       "    </tr>\n",
       "    <tr>\n",
       "      <th>2</th>\n",
       "      <td>guzel tespıtler var yazarın yayınlarını ızleye...</td>\n",
       "      <td>192</td>\n",
       "      <td>22</td>\n",
       "      <td>0</td>\n",
       "    </tr>\n",
       "    <tr>\n",
       "      <th>3</th>\n",
       "      <td>ürün hasarsız bir şekilde geldi hiçbir yerinde...</td>\n",
       "      <td>58</td>\n",
       "      <td>10</td>\n",
       "      <td>1</td>\n",
       "    </tr>\n",
       "    <tr>\n",
       "      <th>4</th>\n",
       "      <td>cildi güzel ön siparişten aldığım biraz bekled...</td>\n",
       "      <td>148</td>\n",
       "      <td>20</td>\n",
       "      <td>1</td>\n",
       "    </tr>\n",
       "  </tbody>\n",
       "</table>\n",
       "</div>"
      ],
      "text/plain": [
       "                                               yorum  harfSayisi  \\\n",
       "0  güzel bir anlatımı var henüz başındayım inşall...          76   \n",
       "1  süreci özetlerken konuları ıskalamış olduğunu ...         262   \n",
       "2  guzel tespıtler var yazarın yayınlarını ızleye...         192   \n",
       "3  ürün hasarsız bir şekilde geldi hiçbir yerinde...          58   \n",
       "4  cildi güzel ön siparişten aldığım biraz bekled...         148   \n",
       "\n",
       "   kelimeSayisi  bir_kelimeSayisi  \n",
       "0            11                 1  \n",
       "1            29                 1  \n",
       "2            22                 0  \n",
       "3            10                 1  \n",
       "4            20                 1  "
      ]
     },
     "execution_count": 65,
     "metadata": {},
     "output_type": "execute_result"
    }
   ],
   "source": [
    "dff2.head()"
   ]
  },
  {
   "cell_type": "code",
   "execution_count": 66,
   "id": "0b346054-54d4-4c3c-b57e-58c257a6c407",
   "metadata": {},
   "outputs": [
    {
     "data": {
      "text/html": [
       "<div>\n",
       "<style scoped>\n",
       "    .dataframe tbody tr th:only-of-type {\n",
       "        vertical-align: middle;\n",
       "    }\n",
       "\n",
       "    .dataframe tbody tr th {\n",
       "        vertical-align: top;\n",
       "    }\n",
       "\n",
       "    .dataframe thead th {\n",
       "        text-align: right;\n",
       "    }\n",
       "</style>\n",
       "<table border=\"1\" class=\"dataframe\">\n",
       "  <thead>\n",
       "    <tr style=\"text-align: right;\">\n",
       "      <th></th>\n",
       "      <th>yorum</th>\n",
       "    </tr>\n",
       "  </thead>\n",
       "  <tbody>\n",
       "    <tr>\n",
       "      <th>0</th>\n",
       "      <td>güzel bir anlatımı var henüz başındayım inşall...</td>\n",
       "    </tr>\n",
       "    <tr>\n",
       "      <th>1</th>\n",
       "      <td>süreci özetlerken konuları ıskalamış olduğunu ...</td>\n",
       "    </tr>\n",
       "    <tr>\n",
       "      <th>2</th>\n",
       "      <td>guzel tespıtler var yazarın yayınlarını ızleye...</td>\n",
       "    </tr>\n",
       "    <tr>\n",
       "      <th>3</th>\n",
       "      <td>ürün hasarsız bir şekilde geldi hiçbir yerinde...</td>\n",
       "    </tr>\n",
       "    <tr>\n",
       "      <th>4</th>\n",
       "      <td>cildi güzel ön siparişten aldığım biraz bekled...</td>\n",
       "    </tr>\n",
       "  </tbody>\n",
       "</table>\n",
       "</div>"
      ],
      "text/plain": [
       "                                               yorum\n",
       "0  güzel bir anlatımı var henüz başındayım inşall...\n",
       "1  süreci özetlerken konuları ıskalamış olduğunu ...\n",
       "2  guzel tespıtler var yazarın yayınlarını ızleye...\n",
       "3  ürün hasarsız bir şekilde geldi hiçbir yerinde...\n",
       "4  cildi güzel ön siparişten aldığım biraz bekled..."
      ]
     },
     "execution_count": 66,
     "metadata": {},
     "output_type": "execute_result"
    }
   ],
   "source": [
    "dff.head()"
   ]
  },
  {
   "cell_type": "markdown",
   "id": "fa152958-36e3-4546-9b99-bb08c69e7db1",
   "metadata": {},
   "source": [
    "### WordCloud"
   ]
  },
  {
   "cell_type": "code",
   "execution_count": 67,
   "id": "fed3e250-fe1b-45d1-8924-c35b66927cee",
   "metadata": {},
   "outputs": [],
   "source": [
    "import numpy as np\n",
    "import pandas as pd\n",
    "from os import path\n",
    "from PIL import Image\n",
    "from wordcloud import WordCloud, STOPWORDS, ImageColorGenerator\n",
    "import matplotlib.pyplot as plt"
   ]
  },
  {
   "cell_type": "code",
   "execution_count": 68,
   "id": "06ee272c-31f6-4dc0-b50a-8ee15d64fadf",
   "metadata": {},
   "outputs": [],
   "source": [
    "text = ' '.join(i for i in dff.yorum)"
   ]
  },
  {
   "cell_type": "code",
   "execution_count": 69,
   "id": "ae750b87-9474-47c2-a771-474922829594",
   "metadata": {},
   "outputs": [
    {
     "data": {
      "image/png": "[encoded data removed]",
      "text/plain": [
       "<Figure size 720x720 with 1 Axes>"
      ]
     },
     "metadata": {
      "needs_background": "light"
     },
     "output_type": "display_data"
    }
   ],
   "source": [
    "wc = WordCloud(max_font_size = 50,\n",
    "              background_color = 'white').generate(text)\n",
    "\n",
    "plt.figure(figsize = [10, 10])\n",
    "plt.imshow(wc, interpolation = 'bilinear')\n",
    "plt.axis('off')\n",
    "plt.show()"
   ]
  },
  {
   "cell_type": "code",
   "execution_count": 70,
   "id": "f7c89f4f-0b50-44b6-8b15-d653da847cc1",
   "metadata": {},
   "outputs": [
    {
     "data": {
      "text/plain": [
       "array([[[246, 146,  32],\n",
       "        [246, 146,  32],\n",
       "        [246, 146,  32],\n",
       "        ...,\n",
       "        [246, 146,  32],\n",
       "        [246, 146,  32],\n",
       "        [246, 146,  32]],\n",
       "\n",
       "       [[246, 146,  32],\n",
       "        [246, 146,  32],\n",
       "        [246, 146,  32],\n",
       "        ...,\n",
       "        [246, 146,  32],\n",
       "        [246, 146,  32],\n",
       "        [246, 146,  32]],\n",
       "\n",
       "       [[246, 146,  32],\n",
       "        [246, 146,  32],\n",
       "        [246, 146,  32],\n",
       "        ...,\n",
       "        [246, 146,  32],\n",
       "        [246, 146,  32],\n",
       "        [246, 146,  32]],\n",
       "\n",
       "       ...,\n",
       "\n",
       "       [[246, 146,  32],\n",
       "        [246, 146,  32],\n",
       "        [246, 146,  32],\n",
       "        ...,\n",
       "        [246, 146,  32],\n",
       "        [246, 146,  32],\n",
       "        [246, 146,  32]],\n",
       "\n",
       "       [[246, 146,  32],\n",
       "        [246, 146,  32],\n",
       "        [246, 146,  32],\n",
       "        ...,\n",
       "        [246, 146,  32],\n",
       "        [246, 146,  32],\n",
       "        [246, 146,  32]],\n",
       "\n",
       "       [[246, 146,  32],\n",
       "        [246, 146,  32],\n",
       "        [246, 146,  32],\n",
       "        ...,\n",
       "        [246, 146,  32],\n",
       "        [246, 146,  32],\n",
       "        [246, 146,  32]]], dtype=uint8)"
      ]
     },
     "execution_count": 70,
     "metadata": {},
     "output_type": "execute_result"
    }
   ],
   "source": [
    "mask = np.array(Image.open('hb.png'))\n",
    "mask"
   ]
  },
  {
   "cell_type": "code",
   "execution_count": 71,
   "id": "f038cf65-955a-495e-9423-3995d58bb2f1",
   "metadata": {},
   "outputs": [
    {
     "data": {
      "image/png": "[encoded data removed]",
      "text/plain": [
       "<Figure size 720x720 with 1 Axes>"
      ]
     },
     "metadata": {
      "needs_background": "light"
     },
     "output_type": "display_data"
    }
   ],
   "source": [
    "wc = WordCloud(background_color = 'white',\n",
    "              mask = mask,\n",
    "              contour_width = 3)\n",
    "\n",
    "wc.generate(text)\n",
    "wc.to_file('hb.jpg')\n",
    "\n",
    "plt.figure(figsize = [10, 10])\n",
    "plt.imshow(wc, interpolation = 'bilinear')\n",
    "plt.axis('off')\n",
    "plt.show()"
   ]
  },
  {
   "cell_type": "code",
   "execution_count": null,
   "id": "d4ef5bbe-036c-4868-8db8-77fe92aed977",
   "metadata": {},
   "outputs": [],
   "source": []
  },
  {
   "cell_type": "markdown",
   "id": "ca21d27d-82ba-40d6-bbce-f113ae20428c",
   "metadata": {},
   "source": [
    "## Sentiment Analizi ve Sınıflandırma Modelleri"
   ]
  },
  {
   "cell_type": "code",
   "execution_count": 72,
   "id": "6a03aefe-91a2-46a2-baf1-1f8f76475b42",
   "metadata": {},
   "outputs": [],
   "source": [
    "from textblob import TextBlob\n",
    "from sklearn import model_selection, preprocessing, linear_model, naive_bayes, metrics\n",
    "from sklearn.feature_extraction.text import TfidfVectorizer, CountVectorizer\n",
    "from sklearn import decomposition, ensemble\n",
    "\n",
    "import pandas, xgboost, numpy, textblob, string\n",
    "from pandas import MultiIndex, Int64Index\n",
    "\n",
    "import warnings\n",
    "warnings.filterwarnings(action = 'ignore', category = UserWarning)\n",
    "warnings.simplefilter(action = 'ignore', category = FutureWarning)"
   ]
  },
  {
   "cell_type": "code",
   "execution_count": 73,
   "id": "198845c1-e1a9-4434-a406-292daa90dea8",
   "metadata": {},
   "outputs": [
    {
     "data": {
      "text/html": [
       "<div>\n",
       "<style scoped>\n",
       "    .dataframe tbody tr th:only-of-type {\n",
       "        vertical-align: middle;\n",
       "    }\n",
       "\n",
       "    .dataframe tbody tr th {\n",
       "        vertical-align: top;\n",
       "    }\n",
       "\n",
       "    .dataframe thead th {\n",
       "        text-align: right;\n",
       "    }\n",
       "</style>\n",
       "<table border=\"1\" class=\"dataframe\">\n",
       "  <thead>\n",
       "    <tr style=\"text-align: right;\">\n",
       "      <th></th>\n",
       "      <th>yorum</th>\n",
       "    </tr>\n",
       "  </thead>\n",
       "  <tbody>\n",
       "    <tr>\n",
       "      <th>0</th>\n",
       "      <td>güzel bir anlatımı var henüz başındayım inşall...</td>\n",
       "    </tr>\n",
       "    <tr>\n",
       "      <th>1</th>\n",
       "      <td>süreci özetlerken konuları ıskalamış olduğunu ...</td>\n",
       "    </tr>\n",
       "    <tr>\n",
       "      <th>2</th>\n",
       "      <td>guzel tespıtler var yazarın yayınlarını ızleye...</td>\n",
       "    </tr>\n",
       "    <tr>\n",
       "      <th>3</th>\n",
       "      <td>ürün hasarsız bir şekilde geldi hiçbir yerinde...</td>\n",
       "    </tr>\n",
       "    <tr>\n",
       "      <th>4</th>\n",
       "      <td>cildi güzel ön siparişten aldığım biraz bekled...</td>\n",
       "    </tr>\n",
       "  </tbody>\n",
       "</table>\n",
       "</div>"
      ],
      "text/plain": [
       "                                               yorum\n",
       "0  güzel bir anlatımı var henüz başındayım inşall...\n",
       "1  süreci özetlerken konuları ıskalamış olduğunu ...\n",
       "2  guzel tespıtler var yazarın yayınlarını ızleye...\n",
       "3  ürün hasarsız bir şekilde geldi hiçbir yerinde...\n",
       "4  cildi güzel ön siparişten aldığım biraz bekled..."
      ]
     },
     "execution_count": 73,
     "metadata": {},
     "output_type": "execute_result"
    }
   ],
   "source": [
    "dff.head()"
   ]
  },
  {
   "cell_type": "code",
   "execution_count": 74,
   "id": "97460c00-1334-48c7-bb0a-18349f38fa77",
   "metadata": {},
   "outputs": [
    {
     "data": {
      "text/html": [
       "<div>\n",
       "<style scoped>\n",
       "    .dataframe tbody tr th:only-of-type {\n",
       "        vertical-align: middle;\n",
       "    }\n",
       "\n",
       "    .dataframe tbody tr th {\n",
       "        vertical-align: top;\n",
       "    }\n",
       "\n",
       "    .dataframe thead th {\n",
       "        text-align: right;\n",
       "    }\n",
       "</style>\n",
       "<table border=\"1\" class=\"dataframe\">\n",
       "  <thead>\n",
       "    <tr style=\"text-align: right;\">\n",
       "      <th></th>\n",
       "      <th>tarih</th>\n",
       "      <th>derece</th>\n",
       "      <th>yorum</th>\n",
       "    </tr>\n",
       "  </thead>\n",
       "  <tbody>\n",
       "    <tr>\n",
       "      <th>0</th>\n",
       "      <td>2022-05-09</td>\n",
       "      <td>5</td>\n",
       "      <td>Güzel bir anlatımı var, henüz başındayım inşal...</td>\n",
       "    </tr>\n",
       "    <tr>\n",
       "      <th>1</th>\n",
       "      <td>2022-04-28</td>\n",
       "      <td>5</td>\n",
       "      <td>Süreci özetlerken; bazı konuları ıskalamış old...</td>\n",
       "    </tr>\n",
       "    <tr>\n",
       "      <th>2</th>\n",
       "      <td>2022-05-05</td>\n",
       "      <td>5</td>\n",
       "      <td>Guzel tespıtler var. Yazarın yayınlarını ızley...</td>\n",
       "    </tr>\n",
       "    <tr>\n",
       "      <th>3</th>\n",
       "      <td>2022-05-01</td>\n",
       "      <td>5</td>\n",
       "      <td>Ürün hasarsız bir şekilde geldi hiçbir yerinde...</td>\n",
       "    </tr>\n",
       "    <tr>\n",
       "      <th>4</th>\n",
       "      <td>2022-05-05</td>\n",
       "      <td>5</td>\n",
       "      <td>Cildi çok güzel. Ön siparişten aldığım için bi...</td>\n",
       "    </tr>\n",
       "  </tbody>\n",
       "</table>\n",
       "</div>"
      ],
      "text/plain": [
       "        tarih  derece                                              yorum\n",
       "0  2022-05-09       5  Güzel bir anlatımı var, henüz başındayım inşal...\n",
       "1  2022-04-28       5  Süreci özetlerken; bazı konuları ıskalamış old...\n",
       "2  2022-05-05       5  Guzel tespıtler var. Yazarın yayınlarını ızley...\n",
       "3  2022-05-01       5  Ürün hasarsız bir şekilde geldi hiçbir yerinde...\n",
       "4  2022-05-05       5  Cildi çok güzel. Ön siparişten aldığım için bi..."
      ]
     },
     "execution_count": 74,
     "metadata": {},
     "output_type": "execute_result"
    }
   ],
   "source": [
    "data.head()"
   ]
  },
  {
   "cell_type": "code",
   "execution_count": 75,
   "id": "5f240830-3eb8-408d-8e95-c4c3a08ef07f",
   "metadata": {},
   "outputs": [
    {
     "data": {
      "text/plain": [
       "((3615, 3), (3615, 1))"
      ]
     },
     "execution_count": 75,
     "metadata": {},
     "output_type": "execute_result"
    }
   ],
   "source": [
    "data.shape, dff.shape"
   ]
  },
  {
   "cell_type": "code",
   "execution_count": 76,
   "id": "c88c7857-af6d-402e-9528-9d93f46b009f",
   "metadata": {},
   "outputs": [],
   "source": [
    "dataSet = pd.DataFrame({'yorum':dff['yorum'], 'puan':data['derece']})"
   ]
  },
  {
   "cell_type": "code",
   "execution_count": 77,
   "id": "2d3020ff-7481-49f8-87c3-b7b381f39955",
   "metadata": {},
   "outputs": [
    {
     "data": {
      "text/html": [
       "<div>\n",
       "<style scoped>\n",
       "    .dataframe tbody tr th:only-of-type {\n",
       "        vertical-align: middle;\n",
       "    }\n",
       "\n",
       "    .dataframe tbody tr th {\n",
       "        vertical-align: top;\n",
       "    }\n",
       "\n",
       "    .dataframe thead th {\n",
       "        text-align: right;\n",
       "    }\n",
       "</style>\n",
       "<table border=\"1\" class=\"dataframe\">\n",
       "  <thead>\n",
       "    <tr style=\"text-align: right;\">\n",
       "      <th></th>\n",
       "      <th>yorum</th>\n",
       "      <th>puan</th>\n",
       "    </tr>\n",
       "  </thead>\n",
       "  <tbody>\n",
       "    <tr>\n",
       "      <th>0</th>\n",
       "      <td>güzel bir anlatımı var henüz başındayım inşall...</td>\n",
       "      <td>5</td>\n",
       "    </tr>\n",
       "    <tr>\n",
       "      <th>1</th>\n",
       "      <td>süreci özetlerken konuları ıskalamış olduğunu ...</td>\n",
       "      <td>5</td>\n",
       "    </tr>\n",
       "    <tr>\n",
       "      <th>2</th>\n",
       "      <td>guzel tespıtler var yazarın yayınlarını ızleye...</td>\n",
       "      <td>5</td>\n",
       "    </tr>\n",
       "    <tr>\n",
       "      <th>3</th>\n",
       "      <td>ürün hasarsız bir şekilde geldi hiçbir yerinde...</td>\n",
       "      <td>5</td>\n",
       "    </tr>\n",
       "    <tr>\n",
       "      <th>4</th>\n",
       "      <td>cildi güzel ön siparişten aldığım biraz bekled...</td>\n",
       "      <td>5</td>\n",
       "    </tr>\n",
       "  </tbody>\n",
       "</table>\n",
       "</div>"
      ],
      "text/plain": [
       "                                               yorum  puan\n",
       "0  güzel bir anlatımı var henüz başındayım inşall...     5\n",
       "1  süreci özetlerken konuları ıskalamış olduğunu ...     5\n",
       "2  guzel tespıtler var yazarın yayınlarını ızleye...     5\n",
       "3  ürün hasarsız bir şekilde geldi hiçbir yerinde...     5\n",
       "4  cildi güzel ön siparişten aldığım biraz bekled...     5"
      ]
     },
     "execution_count": 77,
     "metadata": {},
     "output_type": "execute_result"
    }
   ],
   "source": [
    "dataSet.head()"
   ]
  },
  {
   "cell_type": "code",
   "execution_count": 78,
   "id": "7caa0a99-eded-4f26-82d3-1bca5ec494ee",
   "metadata": {},
   "outputs": [
    {
     "data": {
      "text/plain": [
       "5    3156\n",
       "4     278\n",
       "3      81\n",
       "1      76\n",
       "2      24\n",
       "Name: puan, dtype: int64"
      ]
     },
     "execution_count": 78,
     "metadata": {},
     "output_type": "execute_result"
    }
   ],
   "source": [
    "dataSet.puan.value_counts()"
   ]
  },
  {
   "cell_type": "code",
   "execution_count": 79,
   "id": "3575eebf-c276-497a-a0cc-b4537a8df60f",
   "metadata": {},
   "outputs": [],
   "source": [
    "dataSet.loc[dataSet['puan'] < 4, 'puan'] = 1\n",
    "dataSet.loc[dataSet['puan'] == 4, 'puan'] = 5"
   ]
  },
  {
   "cell_type": "code",
   "execution_count": 80,
   "id": "0525d871-a3ee-45cf-bf39-4547a4527df0",
   "metadata": {},
   "outputs": [
    {
     "data": {
      "text/plain": [
       "5    3434\n",
       "1     181\n",
       "Name: puan, dtype: int64"
      ]
     },
     "execution_count": 80,
     "metadata": {},
     "output_type": "execute_result"
    }
   ],
   "source": [
    "dataSet.puan.value_counts()"
   ]
  },
  {
   "cell_type": "code",
   "execution_count": 81,
   "id": "1f04c0f3-cb34-4aa2-a67b-0d8d3765a6b5",
   "metadata": {},
   "outputs": [],
   "source": [
    "dataSet['puan'].replace(5, value = 'pozitif', inplace = True)\n",
    "dataSet['puan'].replace(1, value = 'negatif', inplace = True)"
   ]
  },
  {
   "cell_type": "code",
   "execution_count": 82,
   "id": "961fb73b-884e-4042-9629-2a62415ae2d1",
   "metadata": {},
   "outputs": [
    {
     "data": {
      "text/plain": [
       "pozitif    3434\n",
       "negatif     181\n",
       "Name: puan, dtype: int64"
      ]
     },
     "execution_count": 82,
     "metadata": {},
     "output_type": "execute_result"
    }
   ],
   "source": [
    "dataSet.puan.value_counts()"
   ]
  },
  {
   "cell_type": "code",
   "execution_count": 83,
   "id": "9da02dec-7bfc-4e1b-a4c5-f1b4b9304af1",
   "metadata": {},
   "outputs": [],
   "source": [
    "df = pd.DataFrame({'text':dataSet['yorum'], 'label':dataSet['puan']})"
   ]
  },
  {
   "cell_type": "code",
   "execution_count": 84,
   "id": "f1a88698-2786-4191-8edf-b45068e1fb23",
   "metadata": {},
   "outputs": [
    {
     "data": {
      "text/html": [
       "<div>\n",
       "<style scoped>\n",
       "    .dataframe tbody tr th:only-of-type {\n",
       "        vertical-align: middle;\n",
       "    }\n",
       "\n",
       "    .dataframe tbody tr th {\n",
       "        vertical-align: top;\n",
       "    }\n",
       "\n",
       "    .dataframe thead th {\n",
       "        text-align: right;\n",
       "    }\n",
       "</style>\n",
       "<table border=\"1\" class=\"dataframe\">\n",
       "  <thead>\n",
       "    <tr style=\"text-align: right;\">\n",
       "      <th></th>\n",
       "      <th>text</th>\n",
       "      <th>label</th>\n",
       "    </tr>\n",
       "  </thead>\n",
       "  <tbody>\n",
       "    <tr>\n",
       "      <th>0</th>\n",
       "      <td>güzel bir anlatımı var henüz başındayım inşall...</td>\n",
       "      <td>pozitif</td>\n",
       "    </tr>\n",
       "    <tr>\n",
       "      <th>1</th>\n",
       "      <td>süreci özetlerken konuları ıskalamış olduğunu ...</td>\n",
       "      <td>pozitif</td>\n",
       "    </tr>\n",
       "    <tr>\n",
       "      <th>2</th>\n",
       "      <td>guzel tespıtler var yazarın yayınlarını ızleye...</td>\n",
       "      <td>pozitif</td>\n",
       "    </tr>\n",
       "    <tr>\n",
       "      <th>3</th>\n",
       "      <td>ürün hasarsız bir şekilde geldi hiçbir yerinde...</td>\n",
       "      <td>pozitif</td>\n",
       "    </tr>\n",
       "    <tr>\n",
       "      <th>4</th>\n",
       "      <td>cildi güzel ön siparişten aldığım biraz bekled...</td>\n",
       "      <td>pozitif</td>\n",
       "    </tr>\n",
       "  </tbody>\n",
       "</table>\n",
       "</div>"
      ],
      "text/plain": [
       "                                                text    label\n",
       "0  güzel bir anlatımı var henüz başındayım inşall...  pozitif\n",
       "1  süreci özetlerken konuları ıskalamış olduğunu ...  pozitif\n",
       "2  guzel tespıtler var yazarın yayınlarını ızleye...  pozitif\n",
       "3  ürün hasarsız bir şekilde geldi hiçbir yerinde...  pozitif\n",
       "4  cildi güzel ön siparişten aldığım biraz bekled...  pozitif"
      ]
     },
     "execution_count": 84,
     "metadata": {},
     "output_type": "execute_result"
    }
   ],
   "source": [
    "df.head()"
   ]
  },
  {
   "cell_type": "markdown",
   "id": "51bb1358-045a-4ff7-b817-eac159c497e5",
   "metadata": {},
   "source": [
    "### Değişken mühendisligi"
   ]
  },
  {
   "cell_type": "code",
   "execution_count": 85,
   "id": "3ba91c18-6e8a-40a8-b5c9-9f3294ea1ee9",
   "metadata": {},
   "outputs": [],
   "source": [
    "from sklearn.utils import shuffle"
   ]
  },
  {
   "cell_type": "code",
   "execution_count": 86,
   "id": "0b675e9a-259f-4421-bace-442edf8165df",
   "metadata": {},
   "outputs": [
    {
     "data": {
      "text/html": [
       "<div>\n",
       "<style scoped>\n",
       "    .dataframe tbody tr th:only-of-type {\n",
       "        vertical-align: middle;\n",
       "    }\n",
       "\n",
       "    .dataframe tbody tr th {\n",
       "        vertical-align: top;\n",
       "    }\n",
       "\n",
       "    .dataframe thead th {\n",
       "        text-align: right;\n",
       "    }\n",
       "</style>\n",
       "<table border=\"1\" class=\"dataframe\">\n",
       "  <thead>\n",
       "    <tr style=\"text-align: right;\">\n",
       "      <th></th>\n",
       "      <th>text</th>\n",
       "      <th>label</th>\n",
       "    </tr>\n",
       "  </thead>\n",
       "  <tbody>\n",
       "    <tr>\n",
       "      <th>3024</th>\n",
       "      <td>güzel</td>\n",
       "      <td>negatif</td>\n",
       "    </tr>\n",
       "    <tr>\n",
       "      <th>583</th>\n",
       "      <td>ürün ezilmiş olduğundan iç içe geçmiyor instag...</td>\n",
       "      <td>pozitif</td>\n",
       "    </tr>\n",
       "    <tr>\n",
       "      <th>1648</th>\n",
       "      <td>ankarada yıllardır süregelen talanı yazma cesa...</td>\n",
       "      <td>pozitif</td>\n",
       "    </tr>\n",
       "    <tr>\n",
       "      <th>1995</th>\n",
       "      <td>mübarek üç aylarda okumak mükemmel bir kitap</td>\n",
       "      <td>pozitif</td>\n",
       "    </tr>\n",
       "    <tr>\n",
       "      <th>3408</th>\n",
       "      <td>dun basladim okumaya kitabi cok guzel kargom h...</td>\n",
       "      <td>pozitif</td>\n",
       "    </tr>\n",
       "  </tbody>\n",
       "</table>\n",
       "</div>"
      ],
      "text/plain": [
       "                                                   text    label\n",
       "3024                                              güzel  negatif\n",
       "583   ürün ezilmiş olduğundan iç içe geçmiyor instag...  pozitif\n",
       "1648  ankarada yıllardır süregelen talanı yazma cesa...  pozitif\n",
       "1995       mübarek üç aylarda okumak mükemmel bir kitap  pozitif\n",
       "3408  dun basladim okumaya kitabi cok guzel kargom h...  pozitif"
      ]
     },
     "execution_count": 86,
     "metadata": {},
     "output_type": "execute_result"
    }
   ],
   "source": [
    "df = shuffle(df)\n",
    "df.head()"
   ]
  },
  {
   "cell_type": "code",
   "execution_count": 87,
   "id": "fa39ab5f-7e19-4c6a-b81c-18735d581f97",
   "metadata": {},
   "outputs": [],
   "source": [
    "Xtrain, Xtest, ytrain, ytest = model_selection.train_test_split(df['text'],\n",
    "                                                               df['label'],\n",
    "                                                               random_state = 1) "
   ]
  },
  {
   "cell_type": "code",
   "execution_count": 88,
   "id": "d89be112-6c58-48cf-98b4-f8d58594dd99",
   "metadata": {},
   "outputs": [],
   "source": [
    "le = preprocessing.LabelEncoder()\n",
    "ytrain = le.fit_transform(ytrain)\n",
    "ytest = le.fit_transform(ytest)"
   ]
  },
  {
   "cell_type": "code",
   "execution_count": 89,
   "id": "17f66ab6-69c7-4ac6-9ecf-39922bff308a",
   "metadata": {},
   "outputs": [
    {
     "data": {
      "text/plain": [
       "CountVectorizer()"
      ]
     },
     "execution_count": 89,
     "metadata": {},
     "output_type": "execute_result"
    }
   ],
   "source": [
    "# count vectors\n",
    "vc = CountVectorizer().fit(Xtrain)\n",
    "vc"
   ]
  },
  {
   "cell_type": "code",
   "execution_count": 90,
   "id": "4121cd86-a6a7-4ff6-9719-6acca1c681e0",
   "metadata": {},
   "outputs": [],
   "source": [
    "Xtrain_count = vc.transform(Xtrain)\n",
    "Xtest_count = vc.transform(Xtest)"
   ]
  },
  {
   "cell_type": "code",
   "execution_count": 91,
   "id": "fd97394e-8b9b-40c1-bbd2-b48cd23123e4",
   "metadata": {},
   "outputs": [
    {
     "data": {
      "text/plain": [
       "['abalajlanmış',\n",
       " 'abartmalarıyla',\n",
       " 'abartmış',\n",
       " 'abarttın',\n",
       " 'abartılan',\n",
       " 'abartıldığını',\n",
       " 'abartısız',\n",
       " 'abdest',\n",
       " 'abdestini',\n",
       " 'abim',\n",
       " 'abimizdi',\n",
       " 'abiquot',\n",
       " 'ablama',\n",
       " 'abonelik',\n",
       " 'acayip',\n",
       " 'acele',\n",
       " 'acemi',\n",
       " 'acemiliğini',\n",
       " 'acemiyim',\n",
       " 'acikcasi']"
      ]
     },
     "execution_count": 91,
     "metadata": {},
     "output_type": "execute_result"
    }
   ],
   "source": [
    "vc.get_feature_names()[0:20]"
   ]
  },
  {
   "cell_type": "code",
   "execution_count": 92,
   "id": "9f4de095-0ceb-4a18-ae17-2c1bf8902039",
   "metadata": {},
   "outputs": [
    {
     "data": {
      "text/plain": [
       "array([[0, 0, 0, ..., 0, 0, 0],\n",
       "       [0, 0, 0, ..., 0, 0, 0],\n",
       "       [0, 0, 0, ..., 0, 0, 0],\n",
       "       ...,\n",
       "       [0, 0, 0, ..., 0, 0, 0],\n",
       "       [0, 0, 0, ..., 0, 0, 0],\n",
       "       [0, 0, 0, ..., 0, 0, 0]])"
      ]
     },
     "execution_count": 92,
     "metadata": {},
     "output_type": "execute_result"
    }
   ],
   "source": [
    "Xtrain_count.toarray()"
   ]
  },
  {
   "cell_type": "markdown",
   "id": "69be7b07-17e3-4282-8c4e-f16f7a9a583d",
   "metadata": {},
   "source": [
    "### TF-IDF"
   ]
  },
  {
   "cell_type": "code",
   "execution_count": 93,
   "id": "002854c7-d4c6-4aab-b23e-c73ad9ab8aad",
   "metadata": {},
   "outputs": [],
   "source": [
    "# word level\n",
    "tfidf_word_vc = TfidfVectorizer(analyzer = 'word').fit(Xtrain)\n",
    "Xtrain_tfidf_word = tfidf_word_vc.transform(Xtrain)\n",
    "Xtest_tfidf_word = tfidf_word_vc.transform(Xtest)"
   ]
  },
  {
   "cell_type": "code",
   "execution_count": 94,
   "id": "c9183fbf-e73f-4277-82d3-7b797d361656",
   "metadata": {},
   "outputs": [],
   "source": [
    "# n-gram level\n",
    "tfidf_ngram_vc = TfidfVectorizer(ngram_range = (2, 3)).fit(Xtrain)\n",
    "Xtrain_tfidf_ngram = tfidf_ngram_vc.transform(Xtrain)\n",
    "Xtest_tfidf_ngram = tfidf_ngram_vc.transform(Xtest)"
   ]
  },
  {
   "cell_type": "code",
   "execution_count": 95,
   "id": "8a6e470c-de22-4cd7-89d8-7ed6f84e80e4",
   "metadata": {},
   "outputs": [],
   "source": [
    "# char level\n",
    "tfidf_char_vc = TfidfVectorizer(analyzer = 'char').fit(Xtrain)\n",
    "Xtrain_tfidf_char = tfidf_char_vc.transform(Xtrain)\n",
    "Xtest_tfidf_char = tfidf_char_vc.transform(Xtest)"
   ]
  },
  {
   "cell_type": "markdown",
   "id": "9ce659b6-1314-48ac-b472-2f683c981803",
   "metadata": {},
   "source": [
    "### Makine Öğrenmesi ve Sentiment Analizi"
   ]
  },
  {
   "cell_type": "markdown",
   "id": "178724a6-d00a-4e2c-9f1e-48bf037f51a8",
   "metadata": {},
   "source": [
    "* Logistic Regresyon"
   ]
  },
  {
   "cell_type": "code",
   "execution_count": 96,
   "id": "2ae7395c-84e0-484c-8e0c-3975fc4eacd7",
   "metadata": {},
   "outputs": [
    {
     "name": "stdout",
     "output_type": "stream",
     "text": [
      "Count Vectors dogruluk skoru: 0.9601953601953601\n"
     ]
    }
   ],
   "source": [
    "loj = linear_model.LogisticRegression()\n",
    "loj_model = loj.fit(Xtrain_count, ytrain)\n",
    "accuracy = model_selection.cross_val_score(loj_model,\n",
    "                                          Xtest_count,\n",
    "                                          ytest,\n",
    "                                          cv = 10).mean()\n",
    "\n",
    "print(f'Count Vectors dogruluk skoru: {accuracy}')"
   ]
  },
  {
   "cell_type": "code",
   "execution_count": 97,
   "id": "1aa714f7-7a25-457d-b8f5-9e192e20a669",
   "metadata": {},
   "outputs": [
    {
     "name": "stdout",
     "output_type": "stream",
     "text": [
      "Word-level TF-IDF dogruluk skoru: 0.9601953601953601\n"
     ]
    }
   ],
   "source": [
    "loj = linear_model.LogisticRegression()\n",
    "loj_model = loj.fit(Xtrain_tfidf_word, ytrain)\n",
    "accuracy = model_selection.cross_val_score(loj_model,\n",
    "                                          Xtest_tfidf_word,\n",
    "                                          ytest,\n",
    "                                          cv = 10).mean()\n",
    "\n",
    "print(f'Word-level TF-IDF dogruluk skoru: {accuracy}')"
   ]
  },
  {
   "cell_type": "code",
   "execution_count": 98,
   "id": "0496ddab-f87f-4a52-9409-7cd589b170d1",
   "metadata": {},
   "outputs": [
    {
     "name": "stdout",
     "output_type": "stream",
     "text": [
      "N-gram TF-IDF dogruluk skoru: 0.9601953601953601\n"
     ]
    }
   ],
   "source": [
    "loj = linear_model.LogisticRegression()\n",
    "loj_model = loj.fit(Xtrain_tfidf_ngram, ytrain)\n",
    "accuracy = model_selection.cross_val_score(loj_model,\n",
    "                                          Xtest_tfidf_ngram,\n",
    "                                          ytest,\n",
    "                                          cv = 10).mean()\n",
    "\n",
    "print(f'N-gram TF-IDF dogruluk skoru: {accuracy}')"
   ]
  },
  {
   "cell_type": "code",
   "execution_count": 99,
   "id": "25159864-9098-4eaf-aabc-874220afc7ee",
   "metadata": {},
   "outputs": [
    {
     "name": "stdout",
     "output_type": "stream",
     "text": [
      "Char-level TF-IDF dogruluk skoru: 0.9601953601953601\n"
     ]
    }
   ],
   "source": [
    "loj = linear_model.LogisticRegression()\n",
    "loj_model = loj.fit(Xtrain_tfidf_char, ytrain)\n",
    "accuracy = model_selection.cross_val_score(loj_model,\n",
    "                                          Xtest_tfidf_char,\n",
    "                                          ytest,\n",
    "                                          cv = 10).mean()\n",
    "print(f'Char-level TF-IDF dogruluk skoru: {accuracy}')"
   ]
  },
  {
   "cell_type": "markdown",
   "id": "ab67d599-c74e-4e76-b530-688b37b77b44",
   "metadata": {},
   "source": [
    "* Niave Bayes"
   ]
  },
  {
   "cell_type": "code",
   "execution_count": 100,
   "id": "faefe9d0-6003-4a84-8fd0-3d6fbc453bed",
   "metadata": {},
   "outputs": [
    {
     "name": "stdout",
     "output_type": "stream",
     "text": [
      "Count Vectors Doğruluk Oranı: 0.9601953601953601\n"
     ]
    }
   ],
   "source": [
    "nb = naive_bayes.MultinomialNB()\n",
    "nb_model = nb.fit(Xtrain_count, ytrain)\n",
    "accuracy = model_selection.cross_val_score(nb_model,\n",
    "                                          Xtest_count,\n",
    "                                          ytest,\n",
    "                                          cv = 10).mean()\n",
    "\n",
    "print(f'Count Vectors Doğruluk Oranı: {accuracy}')"
   ]
  },
  {
   "cell_type": "code",
   "execution_count": 101,
   "id": "c53cb721-4480-48cb-a009-15d8829bf037",
   "metadata": {},
   "outputs": [
    {
     "name": "stdout",
     "output_type": "stream",
     "text": [
      "Word-level TF-IDF dogruluk skoru: 0.9601953601953601\n"
     ]
    }
   ],
   "source": [
    "nb = naive_bayes.MultinomialNB()\n",
    "nb_model = nb.fit(Xtrain_tfidf_word, ytrain)\n",
    "accuracy = model_selection.cross_val_score(nb_model,\n",
    "                                          Xtest_tfidf_word,\n",
    "                                          ytest,\n",
    "                                          cv = 10).mean()\n",
    "\n",
    "print(f'Word-level TF-IDF dogruluk skoru: {accuracy}')"
   ]
  },
  {
   "cell_type": "code",
   "execution_count": 102,
   "id": "46f85cf5-5dc0-4b68-837e-6e1113e51206",
   "metadata": {},
   "outputs": [
    {
     "name": "stdout",
     "output_type": "stream",
     "text": [
      "N-gram TF-IDF dogruluk skoru: 0.9601953601953601\n"
     ]
    }
   ],
   "source": [
    "nb = naive_bayes.MultinomialNB()\n",
    "nb_model = nb.fit(Xtrain_tfidf_ngram, ytrain)\n",
    "accuracy = model_selection.cross_val_score(nb_model,\n",
    "                                          Xtest_tfidf_ngram,\n",
    "                                          ytest,\n",
    "                                          cv = 10).mean()\n",
    "\n",
    "print(f'N-gram TF-IDF dogruluk skoru: {accuracy}')"
   ]
  },
  {
   "cell_type": "code",
   "execution_count": 103,
   "id": "d4e8f4a2-a6a5-4028-9bd8-906a1a182876",
   "metadata": {},
   "outputs": [
    {
     "name": "stdout",
     "output_type": "stream",
     "text": [
      "Char-level TF-IDF dogruluk skoru: 0.9601953601953601\n"
     ]
    }
   ],
   "source": [
    "nb = naive_bayes.MultinomialNB()\n",
    "nb_model = nb.fit(Xtrain_tfidf_char, ytrain)\n",
    "accuracy = model_selection.cross_val_score(nb_model,\n",
    "                                          Xtest_tfidf_char,\n",
    "                                          ytest,\n",
    "                                          cv = 10).mean()\n",
    "\n",
    "print(f'Char-level TF-IDF dogruluk skoru: {accuracy}')"
   ]
  },
  {
   "cell_type": "markdown",
   "id": "13de75ac-a27d-4fed-80f7-7b737bb0e07d",
   "metadata": {},
   "source": [
    "* Random Forests"
   ]
  },
  {
   "cell_type": "code",
   "execution_count": 104,
   "id": "7de663bd-7080-4e03-b96f-76e777d5c855",
   "metadata": {},
   "outputs": [
    {
     "name": "stdout",
     "output_type": "stream",
     "text": [
      "Count Vectors Doğruluk Oranı: 0.957985347985348\n"
     ]
    }
   ],
   "source": [
    "rf = ensemble.RandomForestClassifier()\n",
    "rf_model = rf.fit(Xtrain_count, ytrain)\n",
    "accuracy = model_selection.cross_val_score(rf_model,\n",
    "                                          Xtest_count,\n",
    "                                          ytest,\n",
    "                                          cv = 10).mean()\n",
    "\n",
    "print(f'Count Vectors Doğruluk Oranı: {accuracy}')"
   ]
  },
  {
   "cell_type": "code",
   "execution_count": 105,
   "id": "316404b7-5bb7-4802-9174-61a8f1911e59",
   "metadata": {},
   "outputs": [
    {
     "name": "stdout",
     "output_type": "stream",
     "text": [
      "Word-level TF-IDF dogruluk skoru: 0.9601953601953601\n"
     ]
    }
   ],
   "source": [
    "rf = ensemble.RandomForestClassifier()\n",
    "rf_model = rf.fit(Xtrain_tfidf_word, ytrain)\n",
    "accuracy = model_selection.cross_val_score(rf_model,\n",
    "                                          Xtest_tfidf_word,\n",
    "                                          ytest,\n",
    "                                          cv = 10).mean()\n",
    "\n",
    "print(f'Word-level TF-IDF dogruluk skoru: {accuracy}')"
   ]
  },
  {
   "cell_type": "code",
   "execution_count": 106,
   "id": "332e2716-3c45-44ea-8428-dd1802166a83",
   "metadata": {},
   "outputs": [
    {
     "name": "stdout",
     "output_type": "stream",
     "text": [
      "Ngram-level TF-IDF dogruluk skoru: 0.9601831501831501\n"
     ]
    }
   ],
   "source": [
    "rf = ensemble.RandomForestClassifier()\n",
    "rf_model = rf.fit(Xtrain_tfidf_ngram, ytrain)\n",
    "accuracy = model_selection.cross_val_score(rf_model,\n",
    "                                          Xtest_tfidf_ngram,\n",
    "                                          ytest,\n",
    "                                          cv = 10).mean()\n",
    "\n",
    "print(f'Ngram-level TF-IDF dogruluk skoru: {accuracy}')"
   ]
  },
  {
   "cell_type": "code",
   "execution_count": 107,
   "id": "b9d529ec-b98b-469b-b103-a69a92bf1587",
   "metadata": {},
   "outputs": [
    {
     "name": "stdout",
     "output_type": "stream",
     "text": [
      "Char-level TF-IDF dogruluk skoru: 0.959096459096459\n"
     ]
    }
   ],
   "source": [
    "rf = ensemble.RandomForestClassifier()\n",
    "rf_model = rf.fit(Xtrain_tfidf_char, ytrain)\n",
    "accuracy = model_selection.cross_val_score(rf_model,\n",
    "                                          Xtest_tfidf_char,\n",
    "                                          ytest,\n",
    "                                          cv = 10).mean()\n",
    "\n",
    "print(f'Char-level TF-IDF dogruluk skoru: {accuracy}')"
   ]
  },
  {
   "cell_type": "markdown",
   "id": "6d87bdce-fb1d-4d83-b90f-708e951f5e46",
   "metadata": {},
   "source": [
    "* XGBoost"
   ]
  },
  {
   "cell_type": "code",
   "execution_count": 108,
   "id": "8cb83f3c-42e7-4ad8-b02c-749b5b593be5",
   "metadata": {},
   "outputs": [
    {
     "name": "stdout",
     "output_type": "stream",
     "text": [
      "[21:46:02] WARNING: ../src/learner.cc:1115: Starting in XGBoost 1.3.0, the default evaluation metric used with the objective 'binary:logistic' was changed from 'error' to 'logloss'. Explicitly set eval_metric if you'd like to restore the old behavior.\n",
      "[21:46:02] WARNING: ../src/learner.cc:1115: Starting in XGBoost 1.3.0, the default evaluation metric used with the objective 'binary:logistic' was changed from 'error' to 'logloss'. Explicitly set eval_metric if you'd like to restore the old behavior.\n",
      "[21:46:02] WARNING: ../src/learner.cc:1115: Starting in XGBoost 1.3.0, the default evaluation metric used with the objective 'binary:logistic' was changed from 'error' to 'logloss'. Explicitly set eval_metric if you'd like to restore the old behavior.\n",
      "[21:46:03] WARNING: ../src/learner.cc:1115: Starting in XGBoost 1.3.0, the default evaluation metric used with the objective 'binary:logistic' was changed from 'error' to 'logloss'. Explicitly set eval_metric if you'd like to restore the old behavior.\n",
      "[21:46:03] WARNING: ../src/learner.cc:1115: Starting in XGBoost 1.3.0, the default evaluation metric used with the objective 'binary:logistic' was changed from 'error' to 'logloss'. Explicitly set eval_metric if you'd like to restore the old behavior.\n",
      "[21:46:03] WARNING: ../src/learner.cc:1115: Starting in XGBoost 1.3.0, the default evaluation metric used with the objective 'binary:logistic' was changed from 'error' to 'logloss'. Explicitly set eval_metric if you'd like to restore the old behavior.\n",
      "[21:46:03] WARNING: ../src/learner.cc:1115: Starting in XGBoost 1.3.0, the default evaluation metric used with the objective 'binary:logistic' was changed from 'error' to 'logloss'. Explicitly set eval_metric if you'd like to restore the old behavior.\n",
      "[21:46:03] WARNING: ../src/learner.cc:1115: Starting in XGBoost 1.3.0, the default evaluation metric used with the objective 'binary:logistic' was changed from 'error' to 'logloss'. Explicitly set eval_metric if you'd like to restore the old behavior.\n",
      "[21:46:04] WARNING: ../src/learner.cc:1115: Starting in XGBoost 1.3.0, the default evaluation metric used with the objective 'binary:logistic' was changed from 'error' to 'logloss'. Explicitly set eval_metric if you'd like to restore the old behavior.\n",
      "[21:46:04] WARNING: ../src/learner.cc:1115: Starting in XGBoost 1.3.0, the default evaluation metric used with the objective 'binary:logistic' was changed from 'error' to 'logloss'. Explicitly set eval_metric if you'd like to restore the old behavior.\n",
      "[21:46:04] WARNING: ../src/learner.cc:1115: Starting in XGBoost 1.3.0, the default evaluation metric used with the objective 'binary:logistic' was changed from 'error' to 'logloss'. Explicitly set eval_metric if you'd like to restore the old behavior.\n",
      "Count Vectors Doğruluk Oranı: 0.957985347985348\n"
     ]
    }
   ],
   "source": [
    "xgb = xgboost.XGBClassifier()\n",
    "xgb_model = xgb.fit(Xtrain_count, ytrain)\n",
    "accuracy = model_selection.cross_val_score(xgb_model,\n",
    "                                          Xtest_count,\n",
    "                                          ytest,\n",
    "                                          cv = 10).mean()\n",
    "\n",
    "print(f'Count Vectors Doğruluk Oranı: {accuracy}')"
   ]
  },
  {
   "cell_type": "code",
   "execution_count": 109,
   "id": "2ea9ab14-3803-457d-9460-ce0b29e8fdd1",
   "metadata": {},
   "outputs": [
    {
     "name": "stdout",
     "output_type": "stream",
     "text": [
      "[21:46:04] WARNING: ../src/learner.cc:1115: Starting in XGBoost 1.3.0, the default evaluation metric used with the objective 'binary:logistic' was changed from 'error' to 'logloss'. Explicitly set eval_metric if you'd like to restore the old behavior.\n",
      "[21:46:05] WARNING: ../src/learner.cc:1115: Starting in XGBoost 1.3.0, the default evaluation metric used with the objective 'binary:logistic' was changed from 'error' to 'logloss'. Explicitly set eval_metric if you'd like to restore the old behavior.\n",
      "[21:46:05] WARNING: ../src/learner.cc:1115: Starting in XGBoost 1.3.0, the default evaluation metric used with the objective 'binary:logistic' was changed from 'error' to 'logloss'. Explicitly set eval_metric if you'd like to restore the old behavior.\n",
      "[21:46:05] WARNING: ../src/learner.cc:1115: Starting in XGBoost 1.3.0, the default evaluation metric used with the objective 'binary:logistic' was changed from 'error' to 'logloss'. Explicitly set eval_metric if you'd like to restore the old behavior.\n",
      "[21:46:05] WARNING: ../src/learner.cc:1115: Starting in XGBoost 1.3.0, the default evaluation metric used with the objective 'binary:logistic' was changed from 'error' to 'logloss'. Explicitly set eval_metric if you'd like to restore the old behavior.\n",
      "[21:46:06] WARNING: ../src/learner.cc:1115: Starting in XGBoost 1.3.0, the default evaluation metric used with the objective 'binary:logistic' was changed from 'error' to 'logloss'. Explicitly set eval_metric if you'd like to restore the old behavior.\n",
      "[21:46:06] WARNING: ../src/learner.cc:1115: Starting in XGBoost 1.3.0, the default evaluation metric used with the objective 'binary:logistic' was changed from 'error' to 'logloss'. Explicitly set eval_metric if you'd like to restore the old behavior.\n",
      "[21:46:06] WARNING: ../src/learner.cc:1115: Starting in XGBoost 1.3.0, the default evaluation metric used with the objective 'binary:logistic' was changed from 'error' to 'logloss'. Explicitly set eval_metric if you'd like to restore the old behavior.\n",
      "[21:46:06] WARNING: ../src/learner.cc:1115: Starting in XGBoost 1.3.0, the default evaluation metric used with the objective 'binary:logistic' was changed from 'error' to 'logloss'. Explicitly set eval_metric if you'd like to restore the old behavior.\n",
      "[21:46:06] WARNING: ../src/learner.cc:1115: Starting in XGBoost 1.3.0, the default evaluation metric used with the objective 'binary:logistic' was changed from 'error' to 'logloss'. Explicitly set eval_metric if you'd like to restore the old behavior.\n",
      "[21:46:07] WARNING: ../src/learner.cc:1115: Starting in XGBoost 1.3.0, the default evaluation metric used with the objective 'binary:logistic' was changed from 'error' to 'logloss'. Explicitly set eval_metric if you'd like to restore the old behavior.\n",
      "Word-level TF-IDF dogruluk skoru: 0.957985347985348\n"
     ]
    }
   ],
   "source": [
    "xgb = xgboost.XGBClassifier()\n",
    "xgb_model = xgb.fit(Xtrain_tfidf_word, ytrain)\n",
    "accuracy = model_selection.cross_val_score(xgb_model,\n",
    "                                          Xtest_tfidf_word,\n",
    "                                          ytest,\n",
    "                                          cv = 10).mean()\n",
    "\n",
    "print(f'Word-level TF-IDF dogruluk skoru: {accuracy}')"
   ]
  },
  {
   "cell_type": "code",
   "execution_count": 110,
   "id": "bf0accfe-6e44-489e-92ed-449b2357e49e",
   "metadata": {},
   "outputs": [
    {
     "name": "stdout",
     "output_type": "stream",
     "text": [
      "[21:46:07] WARNING: ../src/learner.cc:1115: Starting in XGBoost 1.3.0, the default evaluation metric used with the objective 'binary:logistic' was changed from 'error' to 'logloss'. Explicitly set eval_metric if you'd like to restore the old behavior.\n",
      "[21:46:09] WARNING: ../src/learner.cc:1115: Starting in XGBoost 1.3.0, the default evaluation metric used with the objective 'binary:logistic' was changed from 'error' to 'logloss'. Explicitly set eval_metric if you'd like to restore the old behavior.\n",
      "[21:46:09] WARNING: ../src/learner.cc:1115: Starting in XGBoost 1.3.0, the default evaluation metric used with the objective 'binary:logistic' was changed from 'error' to 'logloss'. Explicitly set eval_metric if you'd like to restore the old behavior.\n",
      "[21:46:10] WARNING: ../src/learner.cc:1115: Starting in XGBoost 1.3.0, the default evaluation metric used with the objective 'binary:logistic' was changed from 'error' to 'logloss'. Explicitly set eval_metric if you'd like to restore the old behavior.\n",
      "[21:46:10] WARNING: ../src/learner.cc:1115: Starting in XGBoost 1.3.0, the default evaluation metric used with the objective 'binary:logistic' was changed from 'error' to 'logloss'. Explicitly set eval_metric if you'd like to restore the old behavior.\n",
      "[21:46:11] WARNING: ../src/learner.cc:1115: Starting in XGBoost 1.3.0, the default evaluation metric used with the objective 'binary:logistic' was changed from 'error' to 'logloss'. Explicitly set eval_metric if you'd like to restore the old behavior.\n",
      "[21:46:11] WARNING: ../src/learner.cc:1115: Starting in XGBoost 1.3.0, the default evaluation metric used with the objective 'binary:logistic' was changed from 'error' to 'logloss'. Explicitly set eval_metric if you'd like to restore the old behavior.\n",
      "[21:46:12] WARNING: ../src/learner.cc:1115: Starting in XGBoost 1.3.0, the default evaluation metric used with the objective 'binary:logistic' was changed from 'error' to 'logloss'. Explicitly set eval_metric if you'd like to restore the old behavior.\n",
      "[21:46:12] WARNING: ../src/learner.cc:1115: Starting in XGBoost 1.3.0, the default evaluation metric used with the objective 'binary:logistic' was changed from 'error' to 'logloss'. Explicitly set eval_metric if you'd like to restore the old behavior.\n",
      "[21:46:13] WARNING: ../src/learner.cc:1115: Starting in XGBoost 1.3.0, the default evaluation metric used with the objective 'binary:logistic' was changed from 'error' to 'logloss'. Explicitly set eval_metric if you'd like to restore the old behavior.\n",
      "[21:46:13] WARNING: ../src/learner.cc:1115: Starting in XGBoost 1.3.0, the default evaluation metric used with the objective 'binary:logistic' was changed from 'error' to 'logloss'. Explicitly set eval_metric if you'd like to restore the old behavior.\n",
      "Ngram-level TF-IDF dogruluk skoru: 0.959084249084249\n"
     ]
    }
   ],
   "source": [
    "xgb = xgboost.XGBClassifier()\n",
    "xgb_model = xgb.fit(Xtrain_tfidf_ngram, ytrain)\n",
    "accuracy = model_selection.cross_val_score(xgb_model,\n",
    "                                          Xtest_tfidf_ngram,\n",
    "                                          ytest,\n",
    "                                          cv = 10).mean()\n",
    "\n",
    "print(f'Ngram-level TF-IDF dogruluk skoru: {accuracy}')"
   ]
  },
  {
   "cell_type": "code",
   "execution_count": 111,
   "id": "29fbdbfd-5625-4213-b641-9ed5baa1e3b2",
   "metadata": {},
   "outputs": [
    {
     "name": "stdout",
     "output_type": "stream",
     "text": [
      "[21:46:14] WARNING: ../src/learner.cc:1115: Starting in XGBoost 1.3.0, the default evaluation metric used with the objective 'binary:logistic' was changed from 'error' to 'logloss'. Explicitly set eval_metric if you'd like to restore the old behavior.\n",
      "Char-level TF-IDF dogruluk skoru: 0.959096459096459\n"
     ]
    }
   ],
   "source": [
    "xgb = xgboost.XGBClassifier()\n",
    "xgb_model = xgb.fit(Xtrain_tfidf_char, ytrain)\n",
    "accuracy = model_selection.cross_val_score(rf_model,\n",
    "                                          Xtest_tfidf_char,\n",
    "                                          ytest,\n",
    "                                          cv = 10).mean()\n",
    "\n",
    "print(f'Char-level TF-IDF dogruluk skoru: {accuracy}')"
   ]
  },
  {
   "cell_type": "code",
   "execution_count": null,
   "id": "a0da6331-4dd2-4c56-9f98-d843797a8ef8",
   "metadata": {},
   "outputs": [],
   "source": []
  }
 ],
 "metadata": {
  "kernelspec": {
   "display_name": "Python 3 (ipykernel)",
   "language": "python",
   "name": "python3"
  },
  "language_info": {
   "codemirror_mode": {
    "name": "ipython",
    "version": 3
   },
   "file_extension": ".py",
   "mimetype": "text/x-python",
   "name": "python",
   "nbconvert_exporter": "python",
   "pygments_lexer": "ipython3",
   "version": "3.8.10"
  }
 },
 "nbformat": 4,
 "nbformat_minor": 5
}
