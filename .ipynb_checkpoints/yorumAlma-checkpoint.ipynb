{
 "cells": [
  {
   "cell_type": "code",
   "execution_count": 1,
   "id": "b8d53d8f-eb98-4f56-8ade-dff78ea18017",
   "metadata": {},
   "outputs": [],
   "source": [
    "import re \n",
    "import requests\n",
    "import json\n",
    "import pandas as pd\n",
    "import numpy as np\n",
    "import time"
   ]
  },
  {
   "cell_type": "code",
   "execution_count": 2,
   "id": "79471a62-8a03-420b-b416-c22c8255b32e",
   "metadata": {},
   "outputs": [],
   "source": [
    "urunler = []\n",
    "with open(\"urunler.txt\", mode='r', encoding='utf-8') as file:\n",
    "    for line in file.readlines():\n",
    "        line = line.split('\\n')[0]\n",
    "        urunler.append(line)"
   ]
  },
  {
   "cell_type": "code",
   "execution_count": 3,
   "id": "9381e107-1f7d-40e9-8769-0270dd36d1c4",
   "metadata": {},
   "outputs": [
    {
     "data": {
      "text/plain": [
       "['/yaklasan-kasirga-levent-gultekin-p-HBCV000022GJU2',\n",
       " '/enkaz-altindakiler-ciltli-beyza-alkoc-p-HBCV000023XJ69',\n",
       " '/60-li-yillarda-turkiye-sazli-cazli-sozluk-derya-bengi-p-HBCV00001PV7QW',\n",
       " '/billy-summers-stephen-king-p-HBCV000022O9A1',\n",
       " '/enkaz-altindakiler-beyza-alkoc-p-HBCV000023XJ6B']"
      ]
     },
     "execution_count": 3,
     "metadata": {},
     "output_type": "execute_result"
    }
   ],
   "source": [
    "urunler[0:5]"
   ]
  },
  {
   "cell_type": "code",
   "execution_count": 4,
   "id": "22f91f9b-11fd-4f03-a881-800e73b30b9c",
   "metadata": {},
   "outputs": [
    {
     "data": {
      "text/plain": [
       "17260"
      ]
     },
     "execution_count": 4,
     "metadata": {},
     "output_type": "execute_result"
    }
   ],
   "source": [
    "len(urunler)"
   ]
  },
  {
   "cell_type": "code",
   "execution_count": 5,
   "id": "f62e7297-cb89-4c5f-8429-aaced9e68e2a",
   "metadata": {},
   "outputs": [],
   "source": [
    "url = 'https://www.hepsiburada.com'\n",
    "headers = {'User-Agent': 'Mozilla/5.0'}"
   ]
  },
  {
   "cell_type": "code",
   "execution_count": 6,
   "id": "354fb21b-675a-4b28-99a1-7de872814ca9",
   "metadata": {},
   "outputs": [],
   "source": [
    "yorumAra = '<span itemProp=\"description\">(.*?)</span>'\n",
    "tarihAra = '<span class=\"hermes-ReviewCard-module-3fj8Y\" itemProp=\"datePublished\" content=\"(.*?)\">(.*?)</span>'\n",
    "dereceAra = '<span itemProp=\"ratingValue\" content=\"(.*?)\"></span>'"
   ]
  },
  {
   "cell_type": "code",
   "execution_count": 269,
   "id": "b5827b99-5153-425c-8bdc-f8784c9b8fa2",
   "metadata": {},
   "outputs": [
    {
     "name": "stdout",
     "output_type": "stream",
     "text": [
      "İşlemler yapılandırılıyor. Lütfen bekleyiniz...\n",
      "Tüm işlemler başarılı bir şekilde tamamlandı.\n"
     ]
    }
   ],
   "source": [
    "yorumlar = []\n",
    "tarihler = []\n",
    "dereceler = []\n",
    "sayfa_sayisi = 5\n",
    "\n",
    "try:\n",
    "    print(\"İşlemler yapılandırılıyor. Lütfen bekleyiniz...\")\n",
    "    for i in urunler[0:10]:\n",
    "        yeniUrl = url + i + '-yorumlari'\n",
    "        for sayfa in range(sayfa_sayisi):\n",
    "            yeniUrl2 = yeniUrl + '?sayfa=' + str(sayfa + 1)\n",
    "            session = requests.Session()\n",
    "            response = session.get(yeniUrl2, headers = headers).text\n",
    "            yorum_al = re.findall(yorumAra, response, re.MULTILINE | re.DOTALL)\n",
    "            tarih_al = re.findall(tarihAra, response, re.MULTILINE | re.DOTALL)\n",
    "            derece_al = re.findall(dereceAra, response, re.MULTILINE | re.DOTALL)\n",
    "            check = []\n",
    "            if len(yorum_al) > 0:\n",
    "                check.append(yorum_al)\n",
    "                yorumlar.append(yorum_al)\n",
    "                tarihler.append(tarih_al)\n",
    "                dereceler.append(derece_al)\n",
    "                if yorum_al == check[0]:\n",
    "                    break\n",
    "            elif len(str(derece_al)) > 0 or len(yorum_al) == []:\n",
    "                yorumlar.append(str(np.NaN))\n",
    "                tarihler.append(tarih_al)\n",
    "                dereceler.append(derece_al)\n",
    "                \n",
    "           \n",
    "    print('Tüm işlemler başarılı bir şekilde tamamlandı.')\n",
    "except:\n",
    "    print(\"Bir hata oluştu. Hatayı kontrol ediniz!\")"
   ]
  },
  {
   "cell_type": "code",
   "execution_count": 270,
   "id": "04379c77-c145-4d53-9a54-1ce4dd78cb9f",
   "metadata": {},
   "outputs": [
    {
     "data": {
      "text/plain": [
       "(22, 22, 22)"
      ]
     },
     "execution_count": 270,
     "metadata": {},
     "output_type": "execute_result"
    }
   ],
   "source": [
    "len(yorumlar), len(tarihler), len(dereceler)"
   ]
  },
  {
   "cell_type": "code",
   "execution_count": null,
   "id": "5f070bdf-f00d-453b-b828-4a6fabee693f",
   "metadata": {},
   "outputs": [],
   "source": []
  },
  {
   "cell_type": "code",
   "execution_count": 293,
   "id": "d1ddce0c-cda0-4b25-a6b5-57bd0e2b4c67",
   "metadata": {},
   "outputs": [
    {
     "data": {
      "text/plain": [
       "[['Süreci özetlerken; bazı konuları ıskalamış olduğunu düşünmekle birlikte, severek ve ilgiyle okuyorum. Tespitlerinin çoğuna katılıyorum. Konuşma ve yazma üslubu oldukça samimi ve akıcı. Okunmasını tavsiye ederim. Bazı yerlerin altını çizip, bu tespitleri arkadaşlarımla da paylaşmayı düşünüyorum.',\n",
       "  'Guzel tespıtler var. Yazarın yayınlarını ızleyenler ıcın anlattıklarından cok farklı degıl ama yazılı belgeye dokmus olması deneyımlerını ve fıkırlerını bence degerlı, desteklenmelı, alınmalı, okutulmalı'],\n",
       " ['Cildi çok güzel. Ön siparişten aldığım için biraz bekledim ama sonra hızlı geldi. Hasarsız. Daha önce wattpadte okumuştum ve basılınca da almak istedim. Bütün ayraçlarıda çıktı.',\n",
       "  'Kızım için aldım.Poster ve ayraçları eksiksiz geldi.Kargo hızı mükemmel.',\n",
       "  'Kargolama süreci uzun sürsede beklemeye değerdi hasarsız teslim aldım',\n",
       "  'Çok ilgi çekici',\n",
       "  'Kızım için aldım, Beyza Koç un kitaplarını çok beğeniyor',\n",
       "  'Kızım çok beğendi ,paketleme iyiydi.',\n",
       "  'Inanılmaz heyecanla beklediğimiz bir kitaptı kapağı cildi her tarafı çizik ezik olarak geldi tam bir hayal kırıklığı kitabi bi poşete kağıda sarmak çok zor olmasa gerek kargo poşetine koyup gönderilmiş çok yazık...'],\n",
       " 'nan',\n",
       " 'nan',\n",
       " 'nan']"
      ]
     },
     "execution_count": 293,
     "metadata": {},
     "output_type": "execute_result"
    }
   ],
   "source": [
    "yorumlar[0:5]"
   ]
  },
  {
   "cell_type": "code",
   "execution_count": 294,
   "id": "973ad24f-be42-49be-a770-590b61715490",
   "metadata": {},
   "outputs": [
    {
     "data": {
      "text/plain": [
       "[[('2022-04-28', '28 Nisan, Per'),\n",
       "  ('2022-05-05', '05 Mayıs, Per'),\n",
       "  ('2022-04-20', '20 Nisan, Çar'),\n",
       "  ('2022-04-25', '25 Nisan, Pts'),\n",
       "  ('2022-04-25', '25 Nisan, Pts'),\n",
       "  ('2022-04-25', '25 Nisan, Pts'),\n",
       "  ('2022-04-28', '28 Nisan, Per'),\n",
       "  ('2022-04-29', '29 Nisan, Cum'),\n",
       "  ('2022-04-29', '29 Nisan, Cum'),\n",
       "  ('2022-04-29', '29 Nisan, Cum')],\n",
       " [('2022-05-05', '05 Mayıs, Per'),\n",
       "  ('2022-04-29', '29 Nisan, Cum'),\n",
       "  ('2022-04-28', '28 Nisan, Per'),\n",
       "  ('2022-05-02', '02 Mayıs, Pts'),\n",
       "  ('2022-05-02', '02 Mayıs, Pts'),\n",
       "  ('2022-05-05', '05 Mayıs, Per'),\n",
       "  ('2022-04-28', '28 Nisan, Per'),\n",
       "  ('2022-05-02', '02 Mayıs, Pts'),\n",
       "  ('2022-05-03', '03 Mayıs, Sal'),\n",
       "  ('2022-04-30', '30 Nisan, Cts')],\n",
       " [],\n",
       " [],\n",
       " []]"
      ]
     },
     "execution_count": 294,
     "metadata": {},
     "output_type": "execute_result"
    }
   ],
   "source": [
    "tarihler[0:5]"
   ]
  },
  {
   "cell_type": "code",
   "execution_count": 295,
   "id": "53881f1d-a7f8-4e20-b060-1778aa8f0d57",
   "metadata": {},
   "outputs": [
    {
     "data": {
      "text/plain": [
       "[['5', '5', '5', '5', '5', '5', '5', '5', '5', '5'],\n",
       " ['5', '5', '5', '5', '5', '4', '1', '5', '5', '5'],\n",
       " [],\n",
       " [],\n",
       " []]"
      ]
     },
     "execution_count": 295,
     "metadata": {},
     "output_type": "execute_result"
    }
   ],
   "source": [
    "dereceler[0:5]"
   ]
  },
  {
   "cell_type": "code",
   "execution_count": null,
   "id": "99533808-052c-47ce-b37a-dad18cf98648",
   "metadata": {},
   "outputs": [],
   "source": []
  },
  {
   "cell_type": "code",
   "execution_count": null,
   "id": "73f4b1e2-dd32-4a9a-842a-6b3649b6bde5",
   "metadata": {},
   "outputs": [],
   "source": []
  },
  {
   "cell_type": "code",
   "execution_count": null,
   "id": "f3f6d365-0dd6-4538-bd8a-451fcb8332cd",
   "metadata": {},
   "outputs": [],
   "source": []
  },
  {
   "cell_type": "code",
   "execution_count": null,
   "id": "185416ca-30ac-41b6-b377-f8b12e736e1a",
   "metadata": {},
   "outputs": [],
   "source": []
  },
  {
   "cell_type": "code",
   "execution_count": null,
   "id": "514fae15-d0c8-4d97-80b2-4a7416c36332",
   "metadata": {},
   "outputs": [],
   "source": []
  },
  {
   "cell_type": "code",
   "execution_count": null,
   "id": "b00422c4-acbe-488a-b5c4-9acf66ef26d8",
   "metadata": {},
   "outputs": [],
   "source": []
  },
  {
   "cell_type": "code",
   "execution_count": null,
   "id": "53fda12c-fff2-4502-8679-882bea57c270",
   "metadata": {},
   "outputs": [],
   "source": []
  },
  {
   "cell_type": "code",
   "execution_count": 271,
   "id": "79eb0887-2865-43ca-8eac-e0687d069a94",
   "metadata": {},
   "outputs": [],
   "source": [
    "tum_yorumlar = []\n",
    "for i in yorumlar:\n",
    "    if i == 'nan':\n",
    "        tum_yorumlar.append(np.NaN)\n",
    "    for j in i:\n",
    "        if j.startswith('n') or j.startswith('a'):\n",
    "            continue\n",
    "        tum_yorumlar.append(j)"
   ]
  },
  {
   "cell_type": "code",
   "execution_count": 272,
   "id": "1fb89a88-cc75-49b1-b31b-c064c91a4f22",
   "metadata": {},
   "outputs": [
    {
     "data": {
      "text/plain": [
       "59"
      ]
     },
     "execution_count": 272,
     "metadata": {},
     "output_type": "execute_result"
    }
   ],
   "source": [
    "len(tum_yorumlar)"
   ]
  },
  {
   "cell_type": "code",
   "execution_count": 289,
   "id": "ed896690-9acc-4891-816f-dd85a5c04368",
   "metadata": {},
   "outputs": [],
   "source": [
    "tum_tarihler = []\n",
    "for i in tarihler:\n",
    "    if i == 'nan':\n",
    "        tum_tarihler.append(np.NaN)\n",
    "    for j in i:\n",
    "        if j[0].startswith('n') or j[0].startswith('a'):\n",
    "            continue\n",
    "        tum_tarihler.append(j[0])"
   ]
  },
  {
   "cell_type": "code",
   "execution_count": 290,
   "id": "033d3f78-316a-42e2-b766-e3b79ff719b1",
   "metadata": {},
   "outputs": [
    {
     "data": {
      "text/plain": [
       "69"
      ]
     },
     "execution_count": 290,
     "metadata": {},
     "output_type": "execute_result"
    }
   ],
   "source": [
    "len(tum_tarihler)"
   ]
  },
  {
   "cell_type": "code",
   "execution_count": 291,
   "id": "69a48e2c-3027-4293-8483-133b7a14efa0",
   "metadata": {},
   "outputs": [],
   "source": [
    "tum_dereceler = []\n",
    "for i in dereceler:\n",
    "    if i == 'nan':\n",
    "        tum_dereceler.append(np.NaN)\n",
    "    for j in i:\n",
    "        if j[0].startswith('n') or j[0].startswith('a'):\n",
    "            continue\n",
    "        tum_dereceler.append(j)"
   ]
  },
  {
   "cell_type": "code",
   "execution_count": 292,
   "id": "65a9e413-1863-4987-8f82-1850ec34221c",
   "metadata": {},
   "outputs": [
    {
     "data": {
      "text/plain": [
       "69"
      ]
     },
     "execution_count": 292,
     "metadata": {},
     "output_type": "execute_result"
    }
   ],
   "source": [
    "len(tum_dereceler)"
   ]
  },
  {
   "cell_type": "code",
   "execution_count": 277,
   "id": "b444fd06-5f04-47d5-a5b6-2a41f876b955",
   "metadata": {},
   "outputs": [
    {
     "data": {
      "text/plain": [
       "[['Süreci özetlerken; bazı konuları ıskalamış olduğunu düşünmekle birlikte, severek ve ilgiyle okuyorum. Tespitlerinin çoğuna katılıyorum. Konuşma ve yazma üslubu oldukça samimi ve akıcı. Okunmasını tavsiye ederim. Bazı yerlerin altını çizip, bu tespitleri arkadaşlarımla da paylaşmayı düşünüyorum.',\n",
       "  'Guzel tespıtler var. Yazarın yayınlarını ızleyenler ıcın anlattıklarından cok farklı degıl ama yazılı belgeye dokmus olması deneyımlerını ve fıkırlerını bence degerlı, desteklenmelı, alınmalı, okutulmalı'],\n",
       " ['Cildi çok güzel. Ön siparişten aldığım için biraz bekledim ama sonra hızlı geldi. Hasarsız. Daha önce wattpadte okumuştum ve basılınca da almak istedim. Bütün ayraçlarıda çıktı.',\n",
       "  'Kızım için aldım.Poster ve ayraçları eksiksiz geldi.Kargo hızı mükemmel.',\n",
       "  'Kargolama süreci uzun sürsede beklemeye değerdi hasarsız teslim aldım',\n",
       "  'Çok ilgi çekici',\n",
       "  'Kızım için aldım, Beyza Koç un kitaplarını çok beğeniyor',\n",
       "  'Kızım çok beğendi ,paketleme iyiydi.',\n",
       "  'Inanılmaz heyecanla beklediğimiz bir kitaptı kapağı cildi her tarafı çizik ezik olarak geldi tam bir hayal kırıklığı kitabi bi poşete kağıda sarmak çok zor olmasa gerek kargo poşetine koyup gönderilmiş çok yazık...'],\n",
       " 'nan',\n",
       " 'nan',\n",
       " 'nan',\n",
       " 'nan',\n",
       " 'nan',\n",
       " ['Her zamanki gibi yalnızca kargo poşetine koyup gönderdikleri için kitabım hasarlı geldi, değişimle uğraşmak istemediğim için bir şey yapmadım. Boş yere 1 hafta daha beklemem gerekecekti. Çoğu kişi de bu şekilde uğraşmıyor. Sanırım bunu bildikleri için bu konuda hiçbir şey yapmamaya devam ediyorlar.',\n",
       "  'Bir hayranı olarak polisiye tarzında olsa da sevdim bitmek üzere ama spoiler vermiyorum. Polisiye tarzı sevenlere öneririm.',\n",
       "  'Muhteşem paketleme ile hızlıca geldi. Hemen okumaya başladım. Hasarsızdı.',\n",
       "  'Henüz okumadım ama içerik yazarla alakalı değerlendirmedir zaten. Ben alışverişten memnun kaldım',\n",
       "  'Çok hızlı ve sorunsuz bir şekilde geldi. En kısa sürede okutacağım ❤️',\n",
       "  'Hızlı ve hasarsız bir teslimattı.',\n",
       "  'Yazarın yeni kitabı. Satıcı hemen gönderdi.',\n",
       "  'King bu yüzyılın edebiyat mucizesidir'],\n",
       " ['Güvenilir satıcı', 'Hızlı ve özenli paketleme için teşekkürler'],\n",
       " ['Kitap kalitesi beklentimi karşıladı.\\nFiyat-içerik olarak uygun\\nTeşekkürler Hepsiburada. Çok memnun kaldım.\\n4-5 yaz kiz çocuklarının ilgisini çekebilecek güzel resimleri olan bir bir kitap.',\n",
       "  'Çocuklar için anlaşılabilir bir dille yazılmış. Bayıldım.',\n",
       "  'Başarılı',\n",
       "  'İçeriği güzel ancak kitaplar çok ince ve çok az sayfası var, beklentinin biraz altında kaldı. Firmaya hediyesi için teşekkür ederim.',\n",
       "  'Düşündüğüm tarzda bir set değil. Daha çok kelimeler var. Her kitap sonunda soru cevap tarzında birşey yapilsaymis daha güzel olurdu.'],\n",
       " ['9 yaşında ki kızım için aldım önce ben okudum. Çocuğun eline al oku denecek gibi değil beraber okunmalı ya çocuk okuyacak biz dinleyeceğiz anlamadığı  yerde soru sormasına izin vererek yada biz okuyacağız ve bazı yerlerde bunu anlamamış olabilirsin deyip fazla detaya girmeden anlatmalıyız.kitabı çok faydalı buldum. Anne baba üreme organları ile bebeğin olduğu kısım çocukta anlaşılır bir anlatım olmamış. Bizim gibi tv nin internetin zararlarından koruyorak büyütülen çocuklar için anlatım yetersiz kalmış. Harici çok keyifli bir kitaptı. Bu zamanda her çocuğun bilmesi gereken konuları çocuğa endişe ve kaygı oluşturmadan öğrenmesini sağlayacak içeriğe sahip.',\n",
       "  'Bu kitabı 4 yaşındaki kızım için aldım henüz bir kısmını okuduk ama aşırı eğlenceli ve okuması keyifliydi. Kitabı elimizden bırakmak istemedik. Hem eğlendik hem de kızımı soru sorma ve sorgulamaya teşvik etti. Bu benim bedenim mutlaka alınıp okunması gereken bir kitap diye düşünüyorum.',\n",
       "  'Güzel kitap, resimleri de canlı. Beğendik.\\nDaha güzel kitaplarımız olmuştu. Ama fiyatına göre güzel kitap.\\nKitap kalitesi beklentimi karşıladı.\\nElimizden düşürmeden okuyacağınız güzel bir içeriğe sahip.',\n",
       "  'Evde vakit geçirme için harika bir yol.\\nÇocuğuma sorgulamayı ve araştırmayı öğrettiğini düşünüyorum. Tavsiye ederim.\\nİçindeki yazıların büyüklüğü ve resimler tam çocuğumun yaşına uygundu. Hikaye çok sürükleyici ve öğretici. Kolayca okuduk.',\n",
       "  'İçindeki yazıların büyüklüğü ve resimler tam çocuğumun yaşına uygundu. Hikaye çok sürükleyici ve öğretici. Kolayca okuduk.\\nTatili bol bol okuyarak geçiriyoruz.',\n",
       "  'Hem eğlendik hem öğrendik. Mutluyuz.\\nMükemmel bir kitap. Çok beğendik.\\nTatili bol bol okuyarak geçiriyoruz.\\n3 yasindaki oglum icin aldik her aksam ayni kitabi okuyoruz.\\nİçeriği dolu dolu ve geniş.',\n",
       "  'Resimler ve hikaye güzeldi.\\nAnlatımı çocuk gözünden bakıldığında harika.',\n",
       "  'Hatice hanımı tebrik ediyoruz güzel kitap çıkarmış',\n",
       "  'Ürün son derece başarılı bir şekilde yazılmış teşekkürler',\n",
       "  '11 yasımçnda kızım cok beğendi'],\n",
       " 'nan',\n",
       " 'nan',\n",
       " 'nan',\n",
       " 'nan',\n",
       " 'nan',\n",
       " ['Huşu Ağacı, Asude Bahçe ve serinin 3.sü olan Derviş Kelamı harika bir kitap her eve girmeli, herkes okumalı.Yazarın emeği için sonsuz teşekkürler.Herkese tavsiye ediyorum, yüreğe dokunan eşsiz bir kitap.',\n",
       "  'Serinin üçüncü ve son kitabı. Her satırın altını çizmek istedim. Bir yandan tek çırpıda okumak diğer yandan sindire sindire okumak istedim. Buraya yazmak istediklerime karakter yetmez. Kesinlikle okunması gereken kitap.',\n",
       "  'Henüz başlamadım ama serinin 1 ve 2 kitabını okumuştum. 3.sini sabırsızlıkla bekliyorum wn güzel bir ortamda sessiz sakin bir zamanda okuyacağım',\n",
       "  'İlk iki kıtabinida okumuştum yazarın tüm kitapları çok güzel huşu ağacı Asude bahçe simdide derviş dede konuk oldu evime çok şükür',\n",
       "  'Harika anlatımıyla yürekleri ferahlatacak okurken ruhinu dinlediğin bir kitap',\n",
       "  'Daha bugün elime ulaştı heyecanla beklediğim kitap ❤️',\n",
       "  'Güzel bir kitap',\n",
       "  'Yazarın emeğine sağlık',\n",
       "  'Sabırsızlıkla bekliyordum, hemen aldım',\n",
       "  'Kargo ve paketleme çok iyiydi.'],\n",
       " 'nan',\n",
       " 'nan',\n",
       " 'nan',\n",
       " 'nan',\n",
       " 'nan']"
      ]
     },
     "execution_count": 277,
     "metadata": {},
     "output_type": "execute_result"
    }
   ],
   "source": [
    "yorumlar"
   ]
  },
  {
   "cell_type": "code",
   "execution_count": null,
   "id": "e5d99afe-577f-4cf9-8bba-ea47a6bd78b0",
   "metadata": {},
   "outputs": [
    {
     "data": {
      "text/plain": [
       "['2022-04-28',\n",
       " '2022-05-05',\n",
       " '2022-04-20',\n",
       " '2022-04-25',\n",
       " '2022-04-25',\n",
       " '2022-04-25',\n",
       " '2022-04-28',\n",
       " '2022-04-29',\n",
       " '2022-04-29',\n",
       " '2022-04-29',\n",
       " '2022-05-05',\n",
       " '2022-04-29',\n",
       " '2022-04-28',\n",
       " '2022-05-02',\n",
       " '2022-05-02',\n",
       " '2022-05-05',\n",
       " '2022-04-28',\n",
       " '2022-05-02',\n",
       " '2022-05-03',\n",
       " '2022-04-30',\n",
       " nan,\n",
       " nan,\n",
       " nan,\n",
       " nan,\n",
       " nan,\n",
       " '2022-04-28',\n",
       " '2022-04-30',\n",
       " '2022-05-03',\n",
       " '2022-04-21',\n",
       " '2022-05-02',\n",
       " '2022-05-02',\n",
       " '2022-04-26',\n",
       " '2022-05-05',\n",
       " '2022-04-30',\n",
       " '2022-04-22',\n",
       " '2022-05-05',\n",
       " '2022-04-30',\n",
       " '2022-04-29',\n",
       " '2022-04-29',\n",
       " '2022-04-29',\n",
       " '2022-05-03',\n",
       " '2022-05-03',\n",
       " '2022-04-28',\n",
       " '2022-05-01',\n",
       " '2022-04-28',\n",
       " '2022-02-25',\n",
       " '2022-04-14',\n",
       " '2022-04-14',\n",
       " '2021-11-19',\n",
       " '2021-11-27',\n",
       " '2022-03-25',\n",
       " '2022-04-14',\n",
       " '2022-01-15',\n",
       " '2021-08-05',\n",
       " '2022-03-24',\n",
       " '2022-03-30',\n",
       " '2022-04-09',\n",
       " '2022-04-26',\n",
       " '2022-04-20',\n",
       " '2022-03-23',\n",
       " '2022-03-23',\n",
       " '2022-04-20',\n",
       " '2022-03-22',\n",
       " '2022-03-29',\n",
       " nan,\n",
       " nan,\n",
       " nan,\n",
       " nan,\n",
       " nan,\n",
       " '2022-04-19',\n",
       " '2022-04-27',\n",
       " '2022-04-21',\n",
       " '2022-04-15',\n",
       " '2022-04-19',\n",
       " '2022-04-15',\n",
       " '2022-04-22',\n",
       " '2022-04-25',\n",
       " '2022-05-02',\n",
       " '2022-05-01',\n",
       " nan,\n",
       " nan,\n",
       " nan,\n",
       " nan,\n",
       " nan]"
      ]
     },
     "execution_count": 282,
     "metadata": {},
     "output_type": "execute_result"
    }
   ],
   "source": []
  }
 ],
 "metadata": {
  "kernelspec": {
   "display_name": "Python 3 (ipykernel)",
   "language": "python",
   "name": "python3"
  },
  "language_info": {
   "codemirror_mode": {
    "name": "ipython",
    "version": 3
   },
   "file_extension": ".py",
   "mimetype": "text/x-python",
   "name": "python",
   "nbconvert_exporter": "python",
   "pygments_lexer": "ipython3",
   "version": "3.8.10"
  }
 },
 "nbformat": 4,
 "nbformat_minor": 5
}
