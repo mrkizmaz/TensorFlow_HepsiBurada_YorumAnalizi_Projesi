{
 "cells": [
  {
   "cell_type": "code",
   "execution_count": 1,
   "id": "c52b8500-204f-4d74-aff0-40d4075a3830",
   "metadata": {},
   "outputs": [],
   "source": [
    "# Bütün yorum veri setlerini kullanarak yorumları sadeleştirme işlemi"
   ]
  },
  {
   "cell_type": "code",
   "execution_count": 3,
   "id": "2252b1fb-ec7b-40dd-9535-752dd0ed5a8c",
   "metadata": {},
   "outputs": [
    {
     "data": {
      "text/plain": [
       "['.ipynb_checkpoints',\n",
       " 'hb_yorumlar6.csv',\n",
       " 'hb_yorumlar3.csv',\n",
       " 'yorumAlma4.ipynb',\n",
       " 'hb_yorumlar8.csv',\n",
       " 'urunler.txt',\n",
       " 'hb_yorumlar4.csv',\n",
       " 'yorumAlma9.ipynb',\n",
       " 'hb_yorumlar5.csv',\n",
       " 'yorumAlma5.ipynb',\n",
       " 'yorumAlma8.ipynb',\n",
       " 'hb_yorumlar2.csv',\n",
       " 'yorumAlma3.ipynb',\n",
       " 'hb_yorumlar7.csv',\n",
       " 'yorumAlma2.ipynb',\n",
       " 'hb_yorumlar1.csv',\n",
       " 'yorumAlma.ipynb',\n",
       " 'yorumAlma7.ipynb',\n",
       " 'yorumAlma6.ipynb']"
      ]
     },
     "execution_count": 3,
     "metadata": {},
     "output_type": "execute_result"
    }
   ],
   "source": [
    "import os \n",
    "\n",
    "os.listdir('HB_Yorumlar')"
   ]
  },
  {
   "cell_type": "code",
   "execution_count": 4,
   "id": "c604aeb1-f421-47b6-ae94-99f96afbc35f",
   "metadata": {},
   "outputs": [
    {
     "name": "stdout",
     "output_type": "stream",
     "text": [
      "hb_yorumlar6.csv\n",
      "hb_yorumlar3.csv\n",
      "hb_yorumlar8.csv\n",
      "hb_yorumlar4.csv\n",
      "hb_yorumlar5.csv\n",
      "hb_yorumlar2.csv\n",
      "hb_yorumlar7.csv\n",
      "hb_yorumlar1.csv\n"
     ]
    }
   ],
   "source": [
    "for i in os.listdir('HB_Yorumlar'):\n",
    "    if i.endswith('.csv'):\n",
    "        print(i)"
   ]
  },
  {
   "cell_type": "code",
   "execution_count": 19,
   "id": "00aafc3d-0cda-4c3d-94cb-851753aa8586",
   "metadata": {},
   "outputs": [],
   "source": [
    "def toplamYorumlar(data):\n",
    "    import pandas as pd\n",
    "    df = pd.read_csv(f'HB_Yorumlar/{data}', sep = ',')\n",
    "    yorumSayisi = df.shape[0]\n",
    "    return yorumSayisi"
   ]
  },
  {
   "cell_type": "code",
   "execution_count": 20,
   "id": "2dd19bc2-c6a7-4604-b2a4-c1a1b3746b90",
   "metadata": {},
   "outputs": [],
   "source": [
    "toplamYorumSayisi = 0\n",
    "for i in os.listdir('HB_Yorumlar'):\n",
    "    if i.endswith('.csv'):\n",
    "        a = toplamYorumlar(i)\n",
    "        toplamYorumSayisi += a"
   ]
  },
  {
   "cell_type": "code",
   "execution_count": 21,
   "id": "56347d34-4ae1-4fdf-bb40-e5c422f09528",
   "metadata": {},
   "outputs": [
    {
     "data": {
      "text/plain": [
       "34398"
      ]
     },
     "execution_count": 21,
     "metadata": {},
     "output_type": "execute_result"
    }
   ],
   "source": [
    "toplamYorumSayisi"
   ]
  },
  {
   "cell_type": "code",
   "execution_count": null,
   "id": "75b17f56-44b9-4d6a-8f4a-74a885397e20",
   "metadata": {},
   "outputs": [],
   "source": []
  }
 ],
 "metadata": {
  "kernelspec": {
   "display_name": "Python 3 (ipykernel)",
   "language": "python",
   "name": "python3"
  },
  "language_info": {
   "codemirror_mode": {
    "name": "ipython",
    "version": 3
   },
   "file_extension": ".py",
   "mimetype": "text/x-python",
   "name": "python",
   "nbconvert_exporter": "python",
   "pygments_lexer": "ipython3",
   "version": "3.8.10"
  }
 },
 "nbformat": 4,
 "nbformat_minor": 5
}
