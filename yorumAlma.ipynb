{
 "cells": [
  {
   "cell_type": "code",
   "execution_count": 1,
   "id": "b8d53d8f-eb98-4f56-8ade-dff78ea18017",
   "metadata": {},
   "outputs": [],
   "source": [
    "import re \n",
    "import requests\n",
    "import json\n",
    "import pandas as pd\n",
    "import numpy as np\n",
    "import time"
   ]
  },
  {
   "cell_type": "code",
   "execution_count": 2,
   "id": "79471a62-8a03-420b-b416-c22c8255b32e",
   "metadata": {},
   "outputs": [],
   "source": [
    "urunler = []\n",
    "with open(\"urunler.txt\", mode='r', encoding='utf-8') as file:\n",
    "    for line in file.readlines():\n",
    "        line = line.split('\\n')[0]\n",
    "        urunler.append(line)"
   ]
  },
  {
   "cell_type": "code",
   "execution_count": 3,
   "id": "9381e107-1f7d-40e9-8769-0270dd36d1c4",
   "metadata": {},
   "outputs": [
    {
     "data": {
      "text/plain": [
       "['/yaklasan-kasirga-levent-gultekin-p-HBCV000022GJU2',\n",
       " '/enkaz-altindakiler-ciltli-beyza-alkoc-p-HBCV000023XJ69',\n",
       " '/60-li-yillarda-turkiye-sazli-cazli-sozluk-derya-bengi-p-HBCV00001PV7QW',\n",
       " '/billy-summers-stephen-king-p-HBCV000022O9A1',\n",
       " '/enkaz-altindakiler-beyza-alkoc-p-HBCV000023XJ6B']"
      ]
     },
     "execution_count": 3,
     "metadata": {},
     "output_type": "execute_result"
    }
   ],
   "source": [
    "urunler[0:5]"
   ]
  },
  {
   "cell_type": "code",
   "execution_count": 4,
   "id": "22f91f9b-11fd-4f03-a881-800e73b30b9c",
   "metadata": {},
   "outputs": [
    {
     "data": {
      "text/plain": [
       "17260"
      ]
     },
     "execution_count": 4,
     "metadata": {},
     "output_type": "execute_result"
    }
   ],
   "source": [
    "len(urunler)"
   ]
  },
  {
   "cell_type": "code",
   "execution_count": 5,
   "id": "f62e7297-cb89-4c5f-8429-aaced9e68e2a",
   "metadata": {},
   "outputs": [],
   "source": [
    "url = 'https://www.hepsiburada.com'\n",
    "headers = {'User-Agent': 'Mozilla/5.0'}"
   ]
  },
  {
   "cell_type": "code",
   "execution_count": 6,
   "id": "354fb21b-675a-4b28-99a1-7de872814ca9",
   "metadata": {},
   "outputs": [],
   "source": [
    "yorumAra = '<span itemProp=\"description\">(.*?)</span>'\n",
    "tarihAra = '<span class=\"hermes-ReviewCard-module-3fj8Y\" itemProp=\"datePublished\" content=\"(.*?)\">(.*?)</span>'\n",
    "dereceAra = '<span itemProp=\"ratingValue\" content=\"(.*?)\"></span>'"
   ]
  },
  {
   "cell_type": "code",
   "execution_count": 7,
   "id": "b5827b99-5153-425c-8bdc-f8784c9b8fa2",
   "metadata": {},
   "outputs": [
    {
     "name": "stdout",
     "output_type": "stream",
     "text": [
      "İşlemler yapılandırılıyor. Lütfen bekleyiniz...\n",
      "Bir hata oluştu. Hatayı kontrol ediniz!\n"
     ]
    }
   ],
   "source": [
    "yorumlar = []\n",
    "tarihler = []\n",
    "dereceler = []\n",
    "sayfa_sayisi = 10\n",
    "\n",
    "try:\n",
    "    print(\"İşlemler yapılandırılıyor. Lütfen bekleyiniz...\")\n",
    "    for i in urunler:\n",
    "        yeniUrl = url + i + '-yorumlari'\n",
    "        for sayfa in range(sayfa_sayisi):\n",
    "            yeniUrl2 = yeniUrl + '?sayfa=' + str(sayfa + 1)\n",
    "            session = requests.Session()\n",
    "            response = session.get(yeniUrl2, headers = headers).text\n",
    "            yorum_al = re.findall(yorumAra, response, re.MULTILINE | re.DOTALL)\n",
    "            tarih_al = re.findall(tarihAra, response, re.MULTILINE | re.DOTALL)\n",
    "            derece_al = re.findall(dereceAra, response, re.MULTILINE | re.DOTALL)\n",
    "            check = []\n",
    "\n",
    "            if len(yorum_al) > 0:\n",
    "                check.append(yorum_al)\n",
    "                yorumlar.append(yorum_al)\n",
    "                tarihler.append(tarih_al)\n",
    "                dereceler.append(derece_al)\n",
    "                if yorum_al == check[0]:\n",
    "                    break\n",
    "                    \n",
    "            if len(str(derece_al)) > 0 or len(yorum_al) == []:\n",
    "                yorumlar.append(str(np.NaN))\n",
    "                tarihler.append(tarih_al)\n",
    "                dereceler.append(derece_al)\n",
    "                    \n",
    "    print('Tüm işlemler başarılı bir şekilde tamamlandı.')\n",
    "except:\n",
    "    print(\"Bir hata oluştu. Hatayı kontrol ediniz!\")"
   ]
  },
  {
   "cell_type": "code",
   "execution_count": 8,
   "id": "029e6da4-ee0c-489a-baad-7779dc1d72b9",
   "metadata": {},
   "outputs": [],
   "source": [
    "# islem cok uzun sürüyor, daha sonra tekrar calıstır!"
   ]
  },
  {
   "cell_type": "code",
   "execution_count": 9,
   "id": "04379c77-c145-4d53-9a54-1ce4dd78cb9f",
   "metadata": {},
   "outputs": [
    {
     "data": {
      "text/plain": [
       "(6000, 6000, 6000)"
      ]
     },
     "execution_count": 9,
     "metadata": {},
     "output_type": "execute_result"
    }
   ],
   "source": [
    "len(yorumlar), len(tarihler), len(dereceler)"
   ]
  },
  {
   "cell_type": "code",
   "execution_count": null,
   "id": "dfd284ef-e811-408f-a668-2d0a681f1735",
   "metadata": {},
   "outputs": [],
   "source": []
  },
  {
   "cell_type": "code",
   "execution_count": 10,
   "id": "79eb0887-2865-43ca-8eac-e0687d069a94",
   "metadata": {},
   "outputs": [],
   "source": [
    "tum_yorumlar = []\n",
    "for i in yorumlar:\n",
    "    if i == 'nan':\n",
    "        tum_yorumlar.append(np.NaN)\n",
    "    for j in i:\n",
    "        if j.startswith('n') or j.startswith('a'):\n",
    "            continue\n",
    "        tum_yorumlar.append(j)"
   ]
  },
  {
   "cell_type": "code",
   "execution_count": 11,
   "id": "1fb89a88-cc75-49b1-b31b-c064c91a4f22",
   "metadata": {},
   "outputs": [
    {
     "data": {
      "text/plain": [
       "13654"
      ]
     },
     "execution_count": 11,
     "metadata": {},
     "output_type": "execute_result"
    }
   ],
   "source": [
    "len(tum_yorumlar)"
   ]
  },
  {
   "cell_type": "code",
   "execution_count": 40,
   "id": "2eb6febf-a3ec-4da3-ae48-939c4115319c",
   "metadata": {},
   "outputs": [],
   "source": [
    "with open('hb_yorumlar.txt', 'w') as file:\n",
    "    for line in tum_yorumlar:\n",
    "        file.write(str(line) + '\\n')"
   ]
  },
  {
   "cell_type": "code",
   "execution_count": null,
   "id": "737e44e1-08d0-4c63-9c23-373943d63d54",
   "metadata": {},
   "outputs": [],
   "source": []
  },
  {
   "cell_type": "code",
   "execution_count": 32,
   "id": "ed896690-9acc-4891-816f-dd85a5c04368",
   "metadata": {},
   "outputs": [],
   "source": [
    "tum_tarihler = []\n",
    "for i in tarihler:\n",
    "    if i == 'nan':\n",
    "        tum_tarihler.append(np.NaN)\n",
    "    for j in i:\n",
    "        if j == []:\n",
    "            continue\n",
    "        tum_tarihler.append(j[0])"
   ]
  },
  {
   "cell_type": "code",
   "execution_count": 33,
   "id": "033d3f78-316a-42e2-b766-e3b79ff719b1",
   "metadata": {},
   "outputs": [
    {
     "data": {
      "text/plain": [
       "11643"
      ]
     },
     "execution_count": 33,
     "metadata": {},
     "output_type": "execute_result"
    }
   ],
   "source": [
    "len(tum_tarihler)"
   ]
  },
  {
   "cell_type": "code",
   "execution_count": 14,
   "id": "69a48e2c-3027-4293-8483-133b7a14efa0",
   "metadata": {},
   "outputs": [],
   "source": [
    "tum_dereceler = []\n",
    "for i in dereceler:\n",
    "    if i == 'nan':\n",
    "        tum_dereceler.append(np.NaN)\n",
    "    for j in i:\n",
    "        if j[0].startswith('n') or j[0].startswith('a'):\n",
    "            continue\n",
    "        tum_dereceler.append(j)"
   ]
  },
  {
   "cell_type": "code",
   "execution_count": 15,
   "id": "65a9e413-1863-4987-8f82-1850ec34221c",
   "metadata": {},
   "outputs": [
    {
     "data": {
      "text/plain": [
       "11643"
      ]
     },
     "execution_count": 15,
     "metadata": {},
     "output_type": "execute_result"
    }
   ],
   "source": [
    "len(tum_dereceler)"
   ]
  },
  {
   "cell_type": "code",
   "execution_count": null,
   "id": "dc3091cf-a5da-4336-9a03-de0e062552b9",
   "metadata": {},
   "outputs": [],
   "source": []
  },
  {
   "cell_type": "code",
   "execution_count": 28,
   "id": "6b23753b-04f2-415e-a5bb-0c7be432cf76",
   "metadata": {},
   "outputs": [
    {
     "data": {
      "text/plain": [
       "[['Süreci özetlerken; bazı konuları ıskalamış olduğunu düşünmekle birlikte, severek ve ilgiyle okuyorum. Tespitlerinin çoğuna katılıyorum. Konuşma ve yazma üslubu oldukça samimi ve akıcı. Okunmasını tavsiye ederim. Bazı yerlerin altını çizip, bu tespitleri arkadaşlarımla da paylaşmayı düşünüyorum.',\n",
       "  'Guzel tespıtler var. Yazarın yayınlarını ızleyenler ıcın anlattıklarından cok farklı degıl ama yazılı belgeye dokmus olması deneyımlerını ve fıkırlerını bence degerlı, desteklenmelı, alınmalı, okutulmalı'],\n",
       " ['Ürün hasarsız bir şekilde geldi hiçbir yerinde hasar vs yok',\n",
       "  'Cildi çok güzel. Ön siparişten aldığım için biraz bekledim ama sonra hızlı geldi. Hasarsız. Daha önce wattpadte okumuştum ve basılınca da almak istedim. Bütün ayraçlarıda çıktı.',\n",
       "  'Kızım için aldım.Poster ve ayraçları eksiksiz geldi.Kargo hızı mükemmel.',\n",
       "  'Kargolama süreci uzun sürsede beklemeye değerdi hasarsız teslim aldım',\n",
       "  'Çok ilgi çekici',\n",
       "  'Kızım için aldım, Beyza Koç un kitaplarını çok beğeniyor',\n",
       "  'Kızım çok beğendi ,paketleme iyiydi.',\n",
       "  'Inanılmaz heyecanla beklediğimiz bir kitaptı kapağı cildi her tarafı çizik ezik olarak geldi tam bir hayal kırıklığı kitabi bi poşete kağıda sarmak çok zor olmasa gerek kargo poşetine koyup gönderilmiş çok yazık...'],\n",
       " 'nan',\n",
       " 'nan',\n",
       " 'nan',\n",
       " 'nan',\n",
       " 'nan',\n",
       " 'nan',\n",
       " 'nan',\n",
       " 'nan']"
      ]
     },
     "execution_count": 28,
     "metadata": {},
     "output_type": "execute_result"
    }
   ],
   "source": [
    "yorumlar[0:10]"
   ]
  },
  {
   "cell_type": "code",
   "execution_count": 29,
   "id": "622ca89b-b1dd-4d31-896f-a6176311ab2a",
   "metadata": {},
   "outputs": [
    {
     "data": {
      "text/plain": [
       "[['5', '5', '5', '5', '5', '5', '5', '5', '5', '5'],\n",
       " ['5', '5', '5', '5', '5', '5', '4', '1', '5', '5'],\n",
       " [],\n",
       " [],\n",
       " [],\n",
       " [],\n",
       " [],\n",
       " [],\n",
       " [],\n",
       " []]"
      ]
     },
     "execution_count": 29,
     "metadata": {},
     "output_type": "execute_result"
    }
   ],
   "source": [
    "dereceler[0:10]"
   ]
  },
  {
   "cell_type": "code",
   "execution_count": 30,
   "id": "d813fd94-a6da-4d0c-adec-97d664cb9a9e",
   "metadata": {},
   "outputs": [
    {
     "data": {
      "text/plain": [
       "[[('2022-04-28', '28 Nisan, Per'),\n",
       "  ('2022-05-05', '05 Mayıs, Per'),\n",
       "  ('2022-04-20', '20 Nisan, Çar'),\n",
       "  ('2022-04-25', '25 Nisan, Pts'),\n",
       "  ('2022-04-25', '25 Nisan, Pts'),\n",
       "  ('2022-04-25', '25 Nisan, Pts'),\n",
       "  ('2022-04-28', '28 Nisan, Per'),\n",
       "  ('2022-04-29', '29 Nisan, Cum'),\n",
       "  ('2022-04-29', '29 Nisan, Cum'),\n",
       "  ('2022-04-29', '29 Nisan, Cum')],\n",
       " [('2022-05-01', '01 Mayıs, Paz'),\n",
       "  ('2022-05-05', '05 Mayıs, Per'),\n",
       "  ('2022-04-29', '29 Nisan, Cum'),\n",
       "  ('2022-04-28', '28 Nisan, Per'),\n",
       "  ('2022-05-02', '02 Mayıs, Pts'),\n",
       "  ('2022-05-02', '02 Mayıs, Pts'),\n",
       "  ('2022-05-05', '05 Mayıs, Per'),\n",
       "  ('2022-04-28', '28 Nisan, Per'),\n",
       "  ('2022-05-02', '02 Mayıs, Pts'),\n",
       "  ('2022-05-03', '03 Mayıs, Sal')],\n",
       " [],\n",
       " [],\n",
       " [],\n",
       " [],\n",
       " [],\n",
       " [],\n",
       " [],\n",
       " []]"
      ]
     },
     "execution_count": 30,
     "metadata": {},
     "output_type": "execute_result"
    }
   ],
   "source": [
    "tarihler[0:10]"
   ]
  },
  {
   "cell_type": "code",
   "execution_count": null,
   "id": "23909da4-33a2-4c5d-a273-22965a559b92",
   "metadata": {},
   "outputs": [],
   "source": []
  },
  {
   "cell_type": "code",
   "execution_count": null,
   "id": "2fd0eb72-78d1-417f-a4f3-6e4abc62bff0",
   "metadata": {},
   "outputs": [],
   "source": []
  },
  {
   "cell_type": "code",
   "execution_count": null,
   "id": "9b64660e-03da-449f-b298-73b63e0d8273",
   "metadata": {},
   "outputs": [],
   "source": []
  },
  {
   "cell_type": "code",
   "execution_count": null,
   "id": "c893669c-51b4-4021-b490-052c3ac35f9b",
   "metadata": {},
   "outputs": [],
   "source": []
  },
  {
   "cell_type": "code",
   "execution_count": null,
   "id": "0713137f-02e2-4958-9513-13f41636b1a0",
   "metadata": {},
   "outputs": [],
   "source": []
  },
  {
   "cell_type": "code",
   "execution_count": null,
   "id": "b2821339-ad96-447e-a0df-d33942e77d8e",
   "metadata": {},
   "outputs": [],
   "source": []
  },
  {
   "cell_type": "code",
   "execution_count": null,
   "id": "522db5e7-fdb3-4354-9d1a-ad1caf80a6d7",
   "metadata": {},
   "outputs": [],
   "source": []
  },
  {
   "cell_type": "code",
   "execution_count": null,
   "id": "d05d95de-8198-4e5b-a543-4959592f8e0c",
   "metadata": {},
   "outputs": [],
   "source": []
  },
  {
   "cell_type": "code",
   "execution_count": null,
   "id": "d5f9dc76-7bce-4045-a74e-71c2389f489e",
   "metadata": {},
   "outputs": [],
   "source": []
  }
 ],
 "metadata": {
  "kernelspec": {
   "display_name": "Python 3 (ipykernel)",
   "language": "python",
   "name": "python3"
  },
  "language_info": {
   "codemirror_mode": {
    "name": "ipython",
    "version": 3
   },
   "file_extension": ".py",
   "mimetype": "text/x-python",
   "name": "python",
   "nbconvert_exporter": "python",
   "pygments_lexer": "ipython3",
   "version": "3.8.10"
  }
 },
 "nbformat": 4,
 "nbformat_minor": 5
}
