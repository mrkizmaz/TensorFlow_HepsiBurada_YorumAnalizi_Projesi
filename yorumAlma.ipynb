{
 "cells": [
  {
   "cell_type": "code",
   "execution_count": 1,
   "id": "b8d53d8f-eb98-4f56-8ade-dff78ea18017",
   "metadata": {},
   "outputs": [],
   "source": [
    "import re \n",
    "import requests\n",
    "import json\n",
    "import pandas as pd\n",
    "import numpy as np\n",
    "import time"
   ]
  },
  {
   "cell_type": "code",
   "execution_count": 2,
   "id": "79471a62-8a03-420b-b416-c22c8255b32e",
   "metadata": {},
   "outputs": [],
   "source": [
    "urunler = []\n",
    "with open(\"urunler.txt\", mode='r', encoding='utf-8') as file:\n",
    "    for line in file.readlines():\n",
    "        line = line.split('\\n')[0]\n",
    "        urunler.append(line)"
   ]
  },
  {
   "cell_type": "code",
   "execution_count": 3,
   "id": "9381e107-1f7d-40e9-8769-0270dd36d1c4",
   "metadata": {},
   "outputs": [
    {
     "data": {
      "text/plain": [
       "['/yaklasan-kasirga-levent-gultekin-p-HBCV000022GJU2',\n",
       " '/enkaz-altindakiler-ciltli-beyza-alkoc-p-HBCV000023XJ69',\n",
       " '/60-li-yillarda-turkiye-sazli-cazli-sozluk-derya-bengi-p-HBCV00001PV7QW',\n",
       " '/billy-summers-stephen-king-p-HBCV000022O9A1',\n",
       " '/enkaz-altindakiler-beyza-alkoc-p-HBCV000023XJ6B']"
      ]
     },
     "execution_count": 3,
     "metadata": {},
     "output_type": "execute_result"
    }
   ],
   "source": [
    "urunler[0:5]"
   ]
  },
  {
   "cell_type": "code",
   "execution_count": 4,
   "id": "22f91f9b-11fd-4f03-a881-800e73b30b9c",
   "metadata": {},
   "outputs": [
    {
     "data": {
      "text/plain": [
       "17260"
      ]
     },
     "execution_count": 4,
     "metadata": {},
     "output_type": "execute_result"
    }
   ],
   "source": [
    "len(urunler)"
   ]
  },
  {
   "cell_type": "code",
   "execution_count": 5,
   "id": "f62e7297-cb89-4c5f-8429-aaced9e68e2a",
   "metadata": {},
   "outputs": [],
   "source": [
    "url = 'https://www.hepsiburada.com'\n",
    "headers = {'User-Agent': 'Mozilla/5.0'}"
   ]
  },
  {
   "cell_type": "code",
   "execution_count": 8,
   "id": "354fb21b-675a-4b28-99a1-7de872814ca9",
   "metadata": {},
   "outputs": [],
   "source": [
    "yorumAra = '<span itemProp=\"description\">(.*?)</span>'\n",
    "tarihAra = '<span class=\"hermes-ReviewCard-module-3fj8Y\" itemProp=\"datePublished\" content=\"(.*?)\">(.*?)</span>'\n",
    "dereceAra = '<span itemProp=\"ratingValue\" content=\"(.*?)\"></span>'"
   ]
  },
  {
   "cell_type": "code",
   "execution_count": 70,
   "id": "b5827b99-5153-425c-8bdc-f8784c9b8fa2",
   "metadata": {},
   "outputs": [
    {
     "name": "stdout",
     "output_type": "stream",
     "text": [
      "İşlemler yapılandırılıyor. Lütfen bekleyiniz...\n",
      "Tüm işlemler başarılı bir şekilde tamamlandı.\n"
     ]
    }
   ],
   "source": [
    "yorumlar = []\n",
    "tarihler = []\n",
    "dereceler = []\n",
    "sayfa_sayisi = 5\n",
    "\n",
    "try:\n",
    "    print(\"İşlemler yapılandırılıyor. Lütfen bekleyiniz...\")\n",
    "    for i in urunler[0:100]:\n",
    "        yeniUrl = url + i + '-yorumlari'\n",
    "        for sayfa in range(sayfa_sayisi):\n",
    "            yeniUrl2 = yeniUrl + '?sayfa=' + str(sayfa + 1)\n",
    "            session = requests.Session()\n",
    "            response = session.get(yeniUrl2, headers = headers).text\n",
    "            yorum_al = re.findall(yorumAra, response, re.MULTILINE | re.DOTALL)\n",
    "            tarih_al = re.findall(tarihAra, response, re.MULTILINE | re.DOTALL)\n",
    "            derece_al = re.findall(dereceAra, response, re.MULTILINE | re.DOTALL)\n",
    "            check = []\n",
    "            if len(yorum_al) > 0:\n",
    "                check.append(yorum_al)\n",
    "                yorumlar.append(yorum_al)\n",
    "                tarihler.append(tarih_al)\n",
    "                dereceler.append(derece_al)\n",
    "                if yorum_al == check[0]:\n",
    "                    break\n",
    "            elif len(derece_al) > 0 or len(yorum_al) == 0:\n",
    "                yorumlar.append(str(np.NaN))\n",
    "                tarihler.append(str(np.NaN))\n",
    "                dereceler.append(str(np.NaN))\n",
    "            else:\n",
    "                yorumlar.append(str(np.NaN))\n",
    "                tarihler.append(str(np.NaN))\n",
    "                dereceler.append(str(np.NaN))\n",
    "           \n",
    "    print('Tüm işlemler başarılı bir şekilde tamamlandı.')\n",
    "except:\n",
    "    print(\"Bir hata oluştu. Hatayı kontrol ediniz!\")"
   ]
  },
  {
   "cell_type": "code",
   "execution_count": 72,
   "id": "67e21e26-2756-464b-a115-0aaaebc816e0",
   "metadata": {},
   "outputs": [
    {
     "data": {
      "text/plain": [
       "[['Süreci özetlerken; bazı konuları ıskalamış olduğunu düşünmekle birlikte, severek ve ilgiyle okuyorum. Tespitlerinin çoğuna katılıyorum. Konuşma ve yazma üslubu oldukça samimi ve akıcı. Okunmasını tavsiye ederim. Bazı yerlerin altını çizip, bu tespitleri arkadaşlarımla da paylaşmayı düşünüyorum.',\n",
       "  'Guzel tespıtler var. Yazarın yayınlarını ızleyenler ıcın anlattıklarından cok farklı degıl ama yazılı belgeye dokmus olması deneyımlerını ve fıkırlerını bence degerlı, desteklenmelı, alınmalı, okutulmalı'],\n",
       " ['Cildi çok güzel. Ön siparişten aldığım için biraz bekledim ama sonra hızlı geldi. Hasarsız. Daha önce wattpadte okumuştum ve basılınca da almak istedim. Bütün ayraçlarıda çıktı.',\n",
       "  'Kızım için aldım.Poster ve ayraçları eksiksiz geldi.Kargo hızı mükemmel.',\n",
       "  'Kargolama süreci uzun sürsede beklemeye değerdi hasarsız teslim aldım',\n",
       "  'Çok ilgi çekici',\n",
       "  'Kızım için aldım, Beyza Koç un kitaplarını çok beğeniyor',\n",
       "  'Kızım çok beğendi ,paketleme iyiydi.',\n",
       "  'Inanılmaz heyecanla beklediğimiz bir kitaptı kapağı cildi her tarafı çizik ezik olarak geldi tam bir hayal kırıklığı kitabi bi poşete kağıda sarmak çok zor olmasa gerek kargo poşetine koyup gönderilmiş çok yazık...'],\n",
       " 'nan',\n",
       " 'nan',\n",
       " 'nan']"
      ]
     },
     "execution_count": 72,
     "metadata": {},
     "output_type": "execute_result"
    }
   ],
   "source": [
    "yorumlar[0:5]"
   ]
  },
  {
   "cell_type": "code",
   "execution_count": 73,
   "id": "363f7fda-e732-462b-a9f5-f4e0a129ca73",
   "metadata": {},
   "outputs": [
    {
     "data": {
      "text/plain": [
       "[[('2022-04-28', '28 Nisan, Per'),\n",
       "  ('2022-05-05', '05 Mayıs, Per'),\n",
       "  ('2022-04-20', '20 Nisan, Çar'),\n",
       "  ('2022-04-25', '25 Nisan, Pts'),\n",
       "  ('2022-04-25', '25 Nisan, Pts'),\n",
       "  ('2022-04-25', '25 Nisan, Pts'),\n",
       "  ('2022-04-28', '28 Nisan, Per'),\n",
       "  ('2022-04-29', '29 Nisan, Cum'),\n",
       "  ('2022-04-29', '29 Nisan, Cum'),\n",
       "  ('2022-04-29', '29 Nisan, Cum')],\n",
       " [('2022-05-05', '05 Mayıs, Per'),\n",
       "  ('2022-04-29', '29 Nisan, Cum'),\n",
       "  ('2022-04-28', '28 Nisan, Per'),\n",
       "  ('2022-05-02', '02 Mayıs, Pts'),\n",
       "  ('2022-05-02', '02 Mayıs, Pts'),\n",
       "  ('2022-05-05', '05 Mayıs, Per'),\n",
       "  ('2022-04-28', '28 Nisan, Per'),\n",
       "  ('2022-04-30', '30 Nisan, Cts'),\n",
       "  ('2022-05-03', '03 Mayıs, Sal'),\n",
       "  ('2022-05-02', '02 Mayıs, Pts')],\n",
       " 'nan',\n",
       " 'nan',\n",
       " 'nan']"
      ]
     },
     "execution_count": 73,
     "metadata": {},
     "output_type": "execute_result"
    }
   ],
   "source": [
    "tarihler[0:5]"
   ]
  },
  {
   "cell_type": "code",
   "execution_count": 75,
   "id": "c5051865-5ee4-4457-9b49-83bdccff39ac",
   "metadata": {},
   "outputs": [
    {
     "data": {
      "text/plain": [
       "[['5', '5', '5', '5', '5', '5', '5', '5', '5', '5'],\n",
       " ['5', '5', '5', '5', '5', '4', '1', '5', '5', '5'],\n",
       " 'nan',\n",
       " 'nan',\n",
       " 'nan']"
      ]
     },
     "execution_count": 75,
     "metadata": {},
     "output_type": "execute_result"
    }
   ],
   "source": [
    "dereceler[0:5]"
   ]
  },
  {
   "cell_type": "code",
   "execution_count": 76,
   "id": "04379c77-c145-4d53-9a54-1ce4dd78cb9f",
   "metadata": {},
   "outputs": [
    {
     "data": {
      "text/plain": [
       "(148, 148, 148)"
      ]
     },
     "execution_count": 76,
     "metadata": {},
     "output_type": "execute_result"
    }
   ],
   "source": [
    "len(yorumlar), len(tarihler), len(dereceler)"
   ]
  },
  {
   "cell_type": "code",
   "execution_count": null,
   "id": "79eb0887-2865-43ca-8eac-e0687d069a94",
   "metadata": {},
   "outputs": [],
   "source": []
  }
 ],
 "metadata": {
  "kernelspec": {
   "display_name": "Python 3 (ipykernel)",
   "language": "python",
   "name": "python3"
  },
  "language_info": {
   "codemirror_mode": {
    "name": "ipython",
    "version": 3
   },
   "file_extension": ".py",
   "mimetype": "text/x-python",
   "name": "python",
   "nbconvert_exporter": "python",
   "pygments_lexer": "ipython3",
   "version": "3.8.10"
  }
 },
 "nbformat": 4,
 "nbformat_minor": 5
}
